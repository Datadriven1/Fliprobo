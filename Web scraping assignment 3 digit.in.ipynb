{
 "cells": [
  {
   "cell_type": "code",
   "execution_count": 109,
   "metadata": {},
   "outputs": [
    {
     "name": "stdout",
     "output_type": "stream",
     "text": [
      "Requirement already satisfied: selenium in c:\\users\\bhupe\\anaconda3\\lib\\site-packages (3.141.0)\n",
      "Requirement already satisfied: urllib3 in c:\\users\\bhupe\\anaconda3\\lib\\site-packages (from selenium) (1.25.9)\n",
      "Requirement already satisfied: webdriver-manager in c:\\users\\bhupe\\anaconda3\\lib\\site-packages (3.3.0)\n",
      "Requirement already satisfied: configparser in c:\\users\\bhupe\\anaconda3\\lib\\site-packages (from webdriver-manager) (5.0.1)\n",
      "Requirement already satisfied: requests in c:\\users\\bhupe\\anaconda3\\lib\\site-packages (from webdriver-manager) (2.24.0)\n",
      "Requirement already satisfied: crayons in c:\\users\\bhupe\\anaconda3\\lib\\site-packages (from webdriver-manager) (0.4.0)\n",
      "Requirement already satisfied: certifi>=2017.4.17 in c:\\users\\bhupe\\anaconda3\\lib\\site-packages (from requests->webdriver-manager) (2020.6.20)\n",
      "Requirement already satisfied: chardet<4,>=3.0.2 in c:\\users\\bhupe\\anaconda3\\lib\\site-packages (from requests->webdriver-manager) (3.0.4)\n",
      "Requirement already satisfied: idna<3,>=2.5 in c:\\users\\bhupe\\anaconda3\\lib\\site-packages (from requests->webdriver-manager) (2.10)\n",
      "Requirement already satisfied: urllib3!=1.25.0,!=1.25.1,<1.26,>=1.21.1 in c:\\users\\bhupe\\anaconda3\\lib\\site-packages (from requests->webdriver-manager) (1.25.9)\n",
      "Requirement already satisfied: colorama in c:\\users\\bhupe\\anaconda3\\lib\\site-packages (from crayons->webdriver-manager) (0.4.3)\n"
     ]
    }
   ],
   "source": [
    "! pip install selenium\n",
    "import selenium\n",
    "import pandas as pd\n",
    "import numpy as np\n",
    "!pip install webdriver-manager\n",
    "from selenium import webdriver\n",
    "from webdriver_manager.chrome import ChromeDriverManager\n",
    "from selenium.webdriver.common.keys import Keys \n",
    "from selenium.common.exceptions import ElementClickInterceptedException\n",
    "from selenium.common.exceptions import StaleElementReferenceException, NoSuchElementException\n",
    "import warnings\n",
    "warnings.filterwarnings('ignore')"
   ]
  },
  {
   "cell_type": "code",
   "execution_count": 110,
   "metadata": {},
   "outputs": [
    {
     "name": "stderr",
     "output_type": "stream",
     "text": [
      "[WDM] - ====== WebDriver manager ======\n",
      "[WDM] - Current google-chrome version is 88.0.4324\n",
      "[WDM] - Get LATEST driver version for 88.0.4324\n"
     ]
    },
    {
     "name": "stdout",
     "output_type": "stream",
     "text": [
      "\n",
      "\n"
     ]
    },
    {
     "name": "stderr",
     "output_type": "stream",
     "text": [
      "[WDM] - Driver [C:\\Users\\bhupe\\.wdm\\drivers\\chromedriver\\win32\\88.0.4324.96\\chromedriver.exe] found in cache\n"
     ]
    }
   ],
   "source": [
    "driver=webdriver.Chrome(ChromeDriverManager().install())"
   ]
  },
  {
   "cell_type": "code",
   "execution_count": 111,
   "metadata": {},
   "outputs": [],
   "source": [
    "driver.get('https://www.digit.in/')"
   ]
  },
  {
   "cell_type": "code",
   "execution_count": 112,
   "metadata": {},
   "outputs": [],
   "source": [
    "button1=driver.find_element_by_xpath('/html/body/div[1]/div/div[4]/ul/li[4]/a')\n",
    "button1.click()"
   ]
  },
  {
   "cell_type": "code",
   "execution_count": 113,
   "metadata": {},
   "outputs": [],
   "source": [
    "button2=driver.find_element_by_xpath('/html/body/div[3]/div/div/div[3]/div[2]/ul/li[26]/a')\n",
    "button2.click()"
   ]
  },
  {
   "cell_type": "code",
   "execution_count": 114,
   "metadata": {},
   "outputs": [],
   "source": [
    "product_name=[]\n",
    "seller=[]\n",
    "price=[]\n",
    "OS=[]\n",
    "Display=[]\n",
    "Processor=[]\n",
    "Memory=[]\n",
    "Weight=[]\n",
    "Dimension=[]\n",
    "Graphics_Processor=[]\n",
    "Other_details=[]"
   ]
  },
  {
   "cell_type": "code",
   "execution_count": 115,
   "metadata": {},
   "outputs": [],
   "source": [
    "product_tag=driver.find_elements_by_xpath('//*[@id=\"summtable\"]/tbody/tr/td[1]')"
   ]
  },
  {
   "cell_type": "code",
   "execution_count": 116,
   "metadata": {},
   "outputs": [
    {
     "data": {
      "text/plain": [
       "['MSI GT76 TITAN DT 9SG',\n",
       " 'Alienware 17 Area-51m',\n",
       " 'HP Omen 15 2020',\n",
       " 'Asus Zephyrus G14']"
      ]
     },
     "execution_count": 116,
     "metadata": {},
     "output_type": "execute_result"
    }
   ],
   "source": [
    "for i in product_tag:\n",
    "    product=i.text\n",
    "    product_name.append(product)\n",
    "    \n",
    "product_name[:4]"
   ]
  },
  {
   "cell_type": "code",
   "execution_count": 117,
   "metadata": {},
   "outputs": [],
   "source": [
    "seller_tag=driver.find_elements_by_xpath('//td[@class=\"smmerchant\"]')"
   ]
  },
  {
   "cell_type": "code",
   "execution_count": 118,
   "metadata": {
    "scrolled": true
   },
   "outputs": [
    {
     "data": {
      "text/plain": [
       "['N/A', 'amazon', 'amazon', 'amazon']"
      ]
     },
     "execution_count": 118,
     "metadata": {},
     "output_type": "execute_result"
    }
   ],
   "source": [
    "for i in seller_tag:\n",
    "    seller1=i.text\n",
    "    seller.append(seller1)\n",
    "    \n",
    "seller[:4]"
   ]
  },
  {
   "cell_type": "code",
   "execution_count": 119,
   "metadata": {},
   "outputs": [],
   "source": [
    "price_tag=driver.find_elements_by_xpath('//td[@class=\"smprice\"]')"
   ]
  },
  {
   "cell_type": "code",
   "execution_count": 120,
   "metadata": {},
   "outputs": [
    {
     "data": {
      "text/plain": [
       "['₹379990', '₹489909', '₹114990', '₹164990']"
      ]
     },
     "execution_count": 120,
     "metadata": {},
     "output_type": "execute_result"
    }
   ],
   "source": [
    "for i in price_tag:\n",
    "    price1=i.text\n",
    "    price.append(price1)\n",
    "    \n",
    "price[:4]"
   ]
  },
  {
   "cell_type": "code",
   "execution_count": 121,
   "metadata": {},
   "outputs": [],
   "source": [
    "Other_details_tag=driver.find_elements_by_xpath('//div[@class=\"Section-center\"]/p')"
   ]
  },
  {
   "cell_type": "code",
   "execution_count": 122,
   "metadata": {},
   "outputs": [
    {
     "data": {
      "text/plain": [
       "['Sporting a desktop graphics Intel Core i9-9900K coupled with an RTX 2080, the MSI GT76 TITAN 9SG has the same configuration as the Alienware Area-51m. Both machines use massive power bricks which when plugged in trigger an automatic factory overclock of 32-33% for the processors. Even the graphics cards are the same RTX 2080 but MSI has a slightly higher base clock of 1575 MHz whereas the Alienware unit has that set to 1515 MHz. Boost clocks are also different with the MSI unit clocked at 1755 MHz and the Alienware at 1720 MHz. So performance wise, these two are nearly similar until you consider the next two important things in a computer, the RAM and the SSD boot drives. MSI’s gaming laptop has RAM clocked at 2666 MHz and uses two NVMe SSDs in RAID 0 for the boot drive.',\n",
       " 'The Alienware Area-51m was certainly the first of its kind to have the desktop grade Intel Core i9-9900K coupled with NVIDIA’s RTX 2080. However, as time goes by competitors brought similar configurations with slightly improved features. When powered on, the Area-51m automatically sets the processor to a 32% overclock which helps out with some video games and a lot more in high-compute tasks. The built-in Control Centre has made it even simpler to push the processor clocks higher should you need it.',\n",
       " 'The new HP Omen 15 comes in both 10th generation Intel core and AMD Ryzen 4000 flavours. The company offers the choice of high refresh rate displays going up to 144Hz and also GPU options going up to an Nvidia GeForce RTX 2070 Super Max-Q. You also get a significantly improved thermals management system that actually manages to keep the laptop super cool even under heavy loads.',\n",
       " 'The Asus Zephyrus G14 is a first-of-its-kind gaming laptop, featuring a high-power 8-core CPU in a 14-inch chassis. Powered by the AMD Ryzen 4000 series processors going all the way up to Ryzen 9 4900HS and an Nvidia GeForce RTX 2060, the AMD Zephyrus G14 is a perfect laptop for those kind of people who like to game and create, but put a priority on doing so using a light-weight machine.']"
      ]
     },
     "execution_count": 122,
     "metadata": {},
     "output_type": "execute_result"
    }
   ],
   "source": [
    "for i in Other_details_tag:\n",
    "    detail=i.text\n",
    "    Other_details.append(detail)\n",
    "    \n",
    "Other_details[:4]"
   ]
  },
  {
   "cell_type": "code",
   "execution_count": 123,
   "metadata": {},
   "outputs": [],
   "source": [
    "os_tag=driver.find_elements_by_xpath('//div[@class=\"Spcs-details\"]/table/tbody/tr[3]/td[3]')"
   ]
  },
  {
   "cell_type": "code",
   "execution_count": 124,
   "metadata": {},
   "outputs": [
    {
     "data": {
      "text/plain": [
       "['Windows 10 Pro', 'Windows 10 Pro', 'Windows 10 Home', 'Windows 10 Home']"
      ]
     },
     "execution_count": 124,
     "metadata": {},
     "output_type": "execute_result"
    }
   ],
   "source": [
    "for i in os_tag:\n",
    "    os=i.text\n",
    "    OS.append(os)\n",
    "    \n",
    "OS[:4]"
   ]
  },
  {
   "cell_type": "code",
   "execution_count": 125,
   "metadata": {},
   "outputs": [],
   "source": [
    "display_tag=driver.find_elements_by_xpath('//div[@class=\"Spcs-details\"]/table/tbody/tr[4]/td[3]')"
   ]
  },
  {
   "cell_type": "code",
   "execution_count": 126,
   "metadata": {
    "scrolled": true
   },
   "outputs": [
    {
     "data": {
      "text/plain": [
       "['17.3\" (UHD 3840x2160)',\n",
       " '17.3\" (FHD (1920 x 1080))',\n",
       " '15.6\" (1920 x 1080)',\n",
       " '14\" (1920 x 1080)']"
      ]
     },
     "execution_count": 126,
     "metadata": {},
     "output_type": "execute_result"
    }
   ],
   "source": [
    "for i in display_tag:\n",
    "    display=i.text\n",
    "    Display.append(display)\n",
    "    \n",
    "Display[:4]"
   ]
  },
  {
   "cell_type": "code",
   "execution_count": 127,
   "metadata": {},
   "outputs": [],
   "source": [
    "processor_tag=driver.find_elements_by_xpath('//div[@class=\"Spcs-details\"]/table/tbody/tr[5]/td[3]')"
   ]
  },
  {
   "cell_type": "code",
   "execution_count": 128,
   "metadata": {},
   "outputs": [
    {
     "data": {
      "text/plain": [
       "['Intel 9th Gen Core i9-9900K | 5000 MHz',\n",
       " 'Intel 9th Gen Core i9-9900K | 5000 MHz',\n",
       " 'Intel i7-10750H 10th Gen | 1.6GHz',\n",
       " 'AMD 3rd Generation Ryzen 9 | 3.3 GHz']"
      ]
     },
     "execution_count": 128,
     "metadata": {},
     "output_type": "execute_result"
    }
   ],
   "source": [
    "for i in processor_tag:\n",
    "    processor=i.text\n",
    "    Processor.append(processor)\n",
    "    \n",
    "Processor[:4]"
   ]
  },
  {
   "cell_type": "code",
   "execution_count": 129,
   "metadata": {},
   "outputs": [],
   "source": [
    "Memory_tag=driver.find_elements_by_xpath('//div[@class=\"Spcs-details\"]/table/tbody/tr[6]/td[3]')"
   ]
  },
  {
   "cell_type": "code",
   "execution_count": 130,
   "metadata": {},
   "outputs": [
    {
     "data": {
      "text/plain": [
       "['1 TB HDD/64 GBGB DDR4',\n",
       " '1 TB PCIe SSD/32GB DDR4',\n",
       " '512 GB SSD/16 GBGB DDR4',\n",
       " '1 TB SSD/16 GBGB DDR4']"
      ]
     },
     "execution_count": 130,
     "metadata": {},
     "output_type": "execute_result"
    }
   ],
   "source": [
    "for i in Memory_tag:\n",
    "    memory=i.text\n",
    "    Memory.append(memory)\n",
    "    \n",
    "Memory[:4]"
   ]
  },
  {
   "cell_type": "code",
   "execution_count": 131,
   "metadata": {},
   "outputs": [],
   "source": [
    "Weight_tag=driver.find_elements_by_xpath('//div[@class=\"Spcs-details\"]/table/tbody/tr[7]/td[3]')"
   ]
  },
  {
   "cell_type": "code",
   "execution_count": 132,
   "metadata": {},
   "outputs": [
    {
     "data": {
      "text/plain": [
       "['4.2 kg', '3.87 Kg', '5.40', '1.65']"
      ]
     },
     "execution_count": 132,
     "metadata": {},
     "output_type": "execute_result"
    }
   ],
   "source": [
    "for i in Weight_tag:\n",
    "    weight=i.text\n",
    "    Weight.append(weight)\n",
    "    \n",
    "Weight[:4]"
   ]
  },
  {
   "cell_type": "code",
   "execution_count": 133,
   "metadata": {},
   "outputs": [],
   "source": [
    "Dimension_tag=driver.find_elements_by_xpath('//div[@class=\"Spcs-details\"]/table/tbody/tr[8]/td[3]')"
   ]
  },
  {
   "cell_type": "code",
   "execution_count": 134,
   "metadata": {},
   "outputs": [
    {
     "data": {
      "text/plain": [
       "['397 x 330 x 33~42 mm',\n",
       " '42 mm x 402.6 mm x 319.14 mm',\n",
       " '14.09 x 9.44 x 0.89',\n",
       " '32.5 x 22.1 x 1.8']"
      ]
     },
     "execution_count": 134,
     "metadata": {},
     "output_type": "execute_result"
    }
   ],
   "source": [
    "for i in Dimension_tag:\n",
    "    dimension=i.text\n",
    "    Dimension.append(dimension)\n",
    "    \n",
    "Dimension[:4]"
   ]
  },
  {
   "cell_type": "code",
   "execution_count": 135,
   "metadata": {},
   "outputs": [],
   "source": [
    "Graphics_Processor_tag=driver.find_elements_by_xpath('//div[@class=\"Spcs-details\"]/table/tbody/tr[9]/td[3]')"
   ]
  },
  {
   "cell_type": "code",
   "execution_count": 136,
   "metadata": {
    "scrolled": true
   },
   "outputs": [
    {
     "data": {
      "text/plain": [
       "['NVIDIA GeForce RTX 2080',\n",
       " 'NVIDIA GeForce RTX 2080',\n",
       " 'Nvidia GeForce GTX 1650Ti',\n",
       " 'NVIDIA GeForce RTX 2060']"
      ]
     },
     "execution_count": 136,
     "metadata": {},
     "output_type": "execute_result"
    }
   ],
   "source": [
    "for i in Graphics_Processor_tag:\n",
    "    graphics=i.text\n",
    "    Graphics_Processor.append(graphics)\n",
    "    \n",
    "Graphics_Processor[:4]"
   ]
  },
  {
   "cell_type": "code",
   "execution_count": 137,
   "metadata": {},
   "outputs": [
    {
     "name": "stdout",
     "output_type": "stream",
     "text": [
      "10 10 10 10 10 10 10 10 10 10 10\n"
     ]
    }
   ],
   "source": [
    "print(len(product_name),len(seller),len(price),len(OS),len(Display),len(Processor),len(Memory),len(Weight),len(Dimension),len(Graphics_Processor),len(Other_details))"
   ]
  },
  {
   "cell_type": "code",
   "execution_count": 138,
   "metadata": {},
   "outputs": [],
   "source": [
    "gaming_laptops=pd.DataFrame({})\n",
    "gaming_laptops['product_name']=product_name\n",
    "gaming_laptops['seller']=seller\n",
    "gaming_laptops['price']=price\n",
    "gaming_laptops['OS']=OS\n",
    "gaming_laptops['Display']=Display\n",
    "gaming_laptops['Processor']=Processor\n",
    "gaming_laptops['Memory']=Memory\n",
    "gaming_laptops['Weight']=Weight\n",
    "gaming_laptops['Dimension']=Dimension\n",
    "gaming_laptops['Graphics_Processor']=Graphics_Processor\n",
    "gaming_laptops['Other_details']=Other_details"
   ]
  },
  {
   "cell_type": "code",
   "execution_count": 139,
   "metadata": {},
   "outputs": [
    {
     "data": {
      "text/html": [
       "<div>\n",
       "<style scoped>\n",
       "    .dataframe tbody tr th:only-of-type {\n",
       "        vertical-align: middle;\n",
       "    }\n",
       "\n",
       "    .dataframe tbody tr th {\n",
       "        vertical-align: top;\n",
       "    }\n",
       "\n",
       "    .dataframe thead th {\n",
       "        text-align: right;\n",
       "    }\n",
       "</style>\n",
       "<table border=\"1\" class=\"dataframe\">\n",
       "  <thead>\n",
       "    <tr style=\"text-align: right;\">\n",
       "      <th></th>\n",
       "      <th>product_name</th>\n",
       "      <th>seller</th>\n",
       "      <th>price</th>\n",
       "      <th>OS</th>\n",
       "      <th>Display</th>\n",
       "      <th>Processor</th>\n",
       "      <th>Memory</th>\n",
       "      <th>Weight</th>\n",
       "      <th>Dimension</th>\n",
       "      <th>Graphics_Processor</th>\n",
       "      <th>Other_details</th>\n",
       "    </tr>\n",
       "  </thead>\n",
       "  <tbody>\n",
       "    <tr>\n",
       "      <th>0</th>\n",
       "      <td>MSI GT76 TITAN DT 9SG</td>\n",
       "      <td>N/A</td>\n",
       "      <td>₹379990</td>\n",
       "      <td>Windows 10 Pro</td>\n",
       "      <td>17.3\" (UHD 3840x2160)</td>\n",
       "      <td>Intel 9th Gen Core i9-9900K | 5000 MHz</td>\n",
       "      <td>1 TB HDD/64 GBGB DDR4</td>\n",
       "      <td>4.2 kg</td>\n",
       "      <td>397 x 330 x 33~42 mm</td>\n",
       "      <td>NVIDIA GeForce RTX 2080</td>\n",
       "      <td>Sporting a desktop graphics Intel Core i9-9900...</td>\n",
       "    </tr>\n",
       "    <tr>\n",
       "      <th>1</th>\n",
       "      <td>Alienware 17 Area-51m</td>\n",
       "      <td>amazon</td>\n",
       "      <td>₹489909</td>\n",
       "      <td>Windows 10 Pro</td>\n",
       "      <td>17.3\" (FHD (1920 x 1080))</td>\n",
       "      <td>Intel 9th Gen Core i9-9900K | 5000 MHz</td>\n",
       "      <td>1 TB PCIe SSD/32GB DDR4</td>\n",
       "      <td>3.87 Kg</td>\n",
       "      <td>42 mm x 402.6 mm x 319.14 mm</td>\n",
       "      <td>NVIDIA GeForce RTX 2080</td>\n",
       "      <td>The Alienware Area-51m was certainly the first...</td>\n",
       "    </tr>\n",
       "    <tr>\n",
       "      <th>2</th>\n",
       "      <td>HP Omen 15 2020</td>\n",
       "      <td>amazon</td>\n",
       "      <td>₹114990</td>\n",
       "      <td>Windows 10 Home</td>\n",
       "      <td>15.6\" (1920 x 1080)</td>\n",
       "      <td>Intel i7-10750H 10th Gen | 1.6GHz</td>\n",
       "      <td>512 GB SSD/16 GBGB DDR4</td>\n",
       "      <td>5.40</td>\n",
       "      <td>14.09 x 9.44 x 0.89</td>\n",
       "      <td>Nvidia GeForce GTX 1650Ti</td>\n",
       "      <td>The new HP Omen 15 comes in both 10th generati...</td>\n",
       "    </tr>\n",
       "    <tr>\n",
       "      <th>3</th>\n",
       "      <td>Asus Zephyrus G14</td>\n",
       "      <td>amazon</td>\n",
       "      <td>₹164990</td>\n",
       "      <td>Windows 10 Home</td>\n",
       "      <td>14\" (1920 x 1080)</td>\n",
       "      <td>AMD 3rd Generation Ryzen 9 | 3.3 GHz</td>\n",
       "      <td>1 TB SSD/16 GBGB DDR4</td>\n",
       "      <td>1.65</td>\n",
       "      <td>32.5 x 22.1 x 1.8</td>\n",
       "      <td>NVIDIA GeForce RTX 2060</td>\n",
       "      <td>The Asus Zephyrus G14 is a first-of-its-kind g...</td>\n",
       "    </tr>\n",
       "    <tr>\n",
       "      <th>4</th>\n",
       "      <td>Lenovo Legion Y540</td>\n",
       "      <td>flipkart</td>\n",
       "      <td>₹79990</td>\n",
       "      <td>Windows 10 Home</td>\n",
       "      <td>15.6\" (1920 X 1080)</td>\n",
       "      <td>9th Generation Core Intel I7-9750H | 2.6 Ghz</td>\n",
       "      <td>1 TB SSD/8GB DDR4</td>\n",
       "      <td>2.3</td>\n",
       "      <td>365mm x 260mm x 25.9mm</td>\n",
       "      <td>NVIDIA® GeForce RTX™ 2060</td>\n",
       "      <td>The Lenovo Legion Y540 is powered by an Intel ...</td>\n",
       "    </tr>\n",
       "    <tr>\n",
       "      <th>5</th>\n",
       "      <td>Asus ROG Zephyrus G GA502</td>\n",
       "      <td>flipkart</td>\n",
       "      <td>₹79990</td>\n",
       "      <td>Windows 10 Home</td>\n",
       "      <td>15.6\" (1920 x 1080)</td>\n",
       "      <td>AMD Ryzen 7 Quad Core 3750H | 2.3 GHz</td>\n",
       "      <td>512 GB SSD/16GB DDR4</td>\n",
       "      <td>2.2</td>\n",
       "      <td>360 x 252 x 20.4</td>\n",
       "      <td>NVIDIA Geforce GTX 1660 Ti</td>\n",
       "      <td>The Ryzen 7 3750H powered Asus ROG Zephyrus G ...</td>\n",
       "    </tr>\n",
       "    <tr>\n",
       "      <th>6</th>\n",
       "      <td>Asus ROG Zephyrus S GX531</td>\n",
       "      <td>amazon</td>\n",
       "      <td>₹146000</td>\n",
       "      <td>Windows 10 Home</td>\n",
       "      <td>15.6\" (1920 X 1080)</td>\n",
       "      <td>9th Gen Intel Core i7-8750H | 2.2 GHz</td>\n",
       "      <td>512GB SSD/16 GBGB DDR4</td>\n",
       "      <td>2.1</td>\n",
       "      <td>360 (W) x 268 (D) x 15.35~16.15 (H) mm</td>\n",
       "      <td>NVIDIA® GeForce RTX™ 2070 (Max-Q)</td>\n",
       "      <td>The Asus Zephyrus S (GX531) manages to get a f...</td>\n",
       "    </tr>\n",
       "    <tr>\n",
       "      <th>7</th>\n",
       "      <td>MSI GT83VR 7RE Titan SLI</td>\n",
       "      <td>N/A</td>\n",
       "      <td>₹349990</td>\n",
       "      <td>Windows 10 Home 64 bit</td>\n",
       "      <td>18.4\" (1920 x 1080)</td>\n",
       "      <td>Intel CM238 Core i7-7820HK+CM238 7th Gen | 3.5GHz</td>\n",
       "      <td>1.5 TB SATA/64GB DDR4</td>\n",
       "      <td>5.5</td>\n",
       "      <td>458 x 339 x 69</td>\n",
       "      <td>Dual GTX1070</td>\n",
       "      <td>MSI does not have a dual GTX 1080 gaming lapto...</td>\n",
       "    </tr>\n",
       "    <tr>\n",
       "      <th>8</th>\n",
       "      <td>ASUS ROG ZEPHYRUS DUO 15</td>\n",
       "      <td>amazon</td>\n",
       "      <td>₹259990</td>\n",
       "      <td>Windows 10</td>\n",
       "      <td>15.6\" (3840 x 1100)</td>\n",
       "      <td>Intel Core i7 10th Gen 10875H | NA</td>\n",
       "      <td>512 GB SSD/4 GBGB DDR4</td>\n",
       "      <td>2.4</td>\n",
       "      <td>268.30 x 360.00 x 20.90</td>\n",
       "      <td>NVIDIA GeForce RTX 2070 Max-Q</td>\n",
       "      <td>The machine is powered by an Intel Core i7-108...</td>\n",
       "    </tr>\n",
       "    <tr>\n",
       "      <th>9</th>\n",
       "      <td>Dell G3</td>\n",
       "      <td>amazon</td>\n",
       "      <td>₹61990</td>\n",
       "      <td>Windows 10 Home Plus</td>\n",
       "      <td>15.6 MP | NA</td>\n",
       "      <td>8th Generation Intel® Core™ i7-8750H | NA</td>\n",
       "      <td>256 + 1 TB SSD + SATA/16GB DDR4</td>\n",
       "      <td>2.53</td>\n",
       "      <td>22.7 X 380 X 258</td>\n",
       "      <td>NVIDIA® GeForce® GTX</td>\n",
       "      <td>The Dell G3 is a capable entry-level gaming la...</td>\n",
       "    </tr>\n",
       "  </tbody>\n",
       "</table>\n",
       "</div>"
      ],
      "text/plain": [
       "                product_name    seller    price                      OS  \\\n",
       "0      MSI GT76 TITAN DT 9SG       N/A  ₹379990          Windows 10 Pro   \n",
       "1      Alienware 17 Area-51m    amazon  ₹489909          Windows 10 Pro   \n",
       "2            HP Omen 15 2020    amazon  ₹114990         Windows 10 Home   \n",
       "3          Asus Zephyrus G14    amazon  ₹164990         Windows 10 Home   \n",
       "4         Lenovo Legion Y540  flipkart   ₹79990         Windows 10 Home   \n",
       "5  Asus ROG Zephyrus G GA502  flipkart   ₹79990         Windows 10 Home   \n",
       "6  Asus ROG Zephyrus S GX531    amazon  ₹146000         Windows 10 Home   \n",
       "7   MSI GT83VR 7RE Titan SLI       N/A  ₹349990  Windows 10 Home 64 bit   \n",
       "8   ASUS ROG ZEPHYRUS DUO 15    amazon  ₹259990              Windows 10   \n",
       "9                    Dell G3    amazon   ₹61990    Windows 10 Home Plus   \n",
       "\n",
       "                     Display  \\\n",
       "0      17.3\" (UHD 3840x2160)   \n",
       "1  17.3\" (FHD (1920 x 1080))   \n",
       "2        15.6\" (1920 x 1080)   \n",
       "3          14\" (1920 x 1080)   \n",
       "4        15.6\" (1920 X 1080)   \n",
       "5        15.6\" (1920 x 1080)   \n",
       "6        15.6\" (1920 X 1080)   \n",
       "7        18.4\" (1920 x 1080)   \n",
       "8        15.6\" (3840 x 1100)   \n",
       "9               15.6 MP | NA   \n",
       "\n",
       "                                           Processor  \\\n",
       "0             Intel 9th Gen Core i9-9900K | 5000 MHz   \n",
       "1             Intel 9th Gen Core i9-9900K | 5000 MHz   \n",
       "2                  Intel i7-10750H 10th Gen | 1.6GHz   \n",
       "3               AMD 3rd Generation Ryzen 9 | 3.3 GHz   \n",
       "4       9th Generation Core Intel I7-9750H | 2.6 Ghz   \n",
       "5              AMD Ryzen 7 Quad Core 3750H | 2.3 GHz   \n",
       "6              9th Gen Intel Core i7-8750H | 2.2 GHz   \n",
       "7  Intel CM238 Core i7-7820HK+CM238 7th Gen | 3.5GHz   \n",
       "8                 Intel Core i7 10th Gen 10875H | NA   \n",
       "9          8th Generation Intel® Core™ i7-8750H | NA   \n",
       "\n",
       "                            Memory   Weight  \\\n",
       "0            1 TB HDD/64 GBGB DDR4   4.2 kg   \n",
       "1          1 TB PCIe SSD/32GB DDR4  3.87 Kg   \n",
       "2          512 GB SSD/16 GBGB DDR4     5.40   \n",
       "3            1 TB SSD/16 GBGB DDR4     1.65   \n",
       "4                1 TB SSD/8GB DDR4      2.3   \n",
       "5             512 GB SSD/16GB DDR4      2.2   \n",
       "6           512GB SSD/16 GBGB DDR4      2.1   \n",
       "7            1.5 TB SATA/64GB DDR4      5.5   \n",
       "8           512 GB SSD/4 GBGB DDR4      2.4   \n",
       "9  256 + 1 TB SSD + SATA/16GB DDR4     2.53   \n",
       "\n",
       "                                Dimension                 Graphics_Processor  \\\n",
       "0                    397 x 330 x 33~42 mm            NVIDIA GeForce RTX 2080   \n",
       "1            42 mm x 402.6 mm x 319.14 mm            NVIDIA GeForce RTX 2080   \n",
       "2                     14.09 x 9.44 x 0.89          Nvidia GeForce GTX 1650Ti   \n",
       "3                       32.5 x 22.1 x 1.8            NVIDIA GeForce RTX 2060   \n",
       "4                  365mm x 260mm x 25.9mm          NVIDIA® GeForce RTX™ 2060   \n",
       "5                        360 x 252 x 20.4         NVIDIA Geforce GTX 1660 Ti   \n",
       "6  360 (W) x 268 (D) x 15.35~16.15 (H) mm  NVIDIA® GeForce RTX™ 2070 (Max-Q)   \n",
       "7                          458 x 339 x 69                       Dual GTX1070   \n",
       "8                 268.30 x 360.00 x 20.90      NVIDIA GeForce RTX 2070 Max-Q   \n",
       "9                        22.7 X 380 X 258               NVIDIA® GeForce® GTX   \n",
       "\n",
       "                                       Other_details  \n",
       "0  Sporting a desktop graphics Intel Core i9-9900...  \n",
       "1  The Alienware Area-51m was certainly the first...  \n",
       "2  The new HP Omen 15 comes in both 10th generati...  \n",
       "3  The Asus Zephyrus G14 is a first-of-its-kind g...  \n",
       "4  The Lenovo Legion Y540 is powered by an Intel ...  \n",
       "5  The Ryzen 7 3750H powered Asus ROG Zephyrus G ...  \n",
       "6  The Asus Zephyrus S (GX531) manages to get a f...  \n",
       "7  MSI does not have a dual GTX 1080 gaming lapto...  \n",
       "8  The machine is powered by an Intel Core i7-108...  \n",
       "9  The Dell G3 is a capable entry-level gaming la...  "
      ]
     },
     "execution_count": 139,
     "metadata": {},
     "output_type": "execute_result"
    }
   ],
   "source": [
    "gaming_laptops"
   ]
  },
  {
   "cell_type": "code",
   "execution_count": null,
   "metadata": {},
   "outputs": [],
   "source": []
  }
 ],
 "metadata": {
  "kernelspec": {
   "display_name": "Python 3",
   "language": "python",
   "name": "python3"
  },
  "language_info": {
   "codemirror_mode": {
    "name": "ipython",
    "version": 3
   },
   "file_extension": ".py",
   "mimetype": "text/x-python",
   "name": "python",
   "nbconvert_exporter": "python",
   "pygments_lexer": "ipython3",
   "version": "3.8.3"
  }
 },
 "nbformat": 4,
 "nbformat_minor": 4
}
