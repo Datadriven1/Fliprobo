{
 "cells": [
  {
   "cell_type": "code",
   "execution_count": 175,
   "metadata": {},
   "outputs": [
    {
     "name": "stdout",
     "output_type": "stream",
     "text": [
      "Requirement already satisfied: selenium in c:\\users\\bhupe\\anaconda3\\lib\\site-packages (3.141.0)\n",
      "Requirement already satisfied: urllib3 in c:\\users\\bhupe\\anaconda3\\lib\\site-packages (from selenium) (1.25.9)\n",
      "Requirement already satisfied: webdriver-manager in c:\\users\\bhupe\\anaconda3\\lib\\site-packages (3.3.0)\n",
      "Requirement already satisfied: crayons in c:\\users\\bhupe\\anaconda3\\lib\\site-packages (from webdriver-manager) (0.4.0)\n",
      "Requirement already satisfied: requests in c:\\users\\bhupe\\anaconda3\\lib\\site-packages (from webdriver-manager) (2.24.0)\n",
      "Requirement already satisfied: configparser in c:\\users\\bhupe\\anaconda3\\lib\\site-packages (from webdriver-manager) (5.0.1)\n",
      "Requirement already satisfied: colorama in c:\\users\\bhupe\\anaconda3\\lib\\site-packages (from crayons->webdriver-manager) (0.4.3)\n",
      "Requirement already satisfied: certifi>=2017.4.17 in c:\\users\\bhupe\\anaconda3\\lib\\site-packages (from requests->webdriver-manager) (2020.6.20)\n",
      "Requirement already satisfied: chardet<4,>=3.0.2 in c:\\users\\bhupe\\anaconda3\\lib\\site-packages (from requests->webdriver-manager) (3.0.4)\n",
      "Requirement already satisfied: urllib3!=1.25.0,!=1.25.1,<1.26,>=1.21.1 in c:\\users\\bhupe\\anaconda3\\lib\\site-packages (from requests->webdriver-manager) (1.25.9)\n",
      "Requirement already satisfied: idna<3,>=2.5 in c:\\users\\bhupe\\anaconda3\\lib\\site-packages (from requests->webdriver-manager) (2.10)\n"
     ]
    }
   ],
   "source": [
    "! pip install selenium\n",
    "import selenium\n",
    "import pandas as pd\n",
    "import numpy as np\n",
    "!pip install webdriver-manager\n",
    "from selenium import webdriver\n",
    "from webdriver_manager.chrome import ChromeDriverManager\n",
    "from selenium.webdriver.common.keys import Keys \n",
    "from selenium.common.exceptions import ElementClickInterceptedException\n",
    "import warnings\n",
    "warnings.filterwarnings('ignore')"
   ]
  },
  {
   "cell_type": "code",
   "execution_count": 176,
   "metadata": {},
   "outputs": [
    {
     "name": "stderr",
     "output_type": "stream",
     "text": [
      "[WDM] - ====== WebDriver manager ======\n",
      "[WDM] - Current google-chrome version is 88.0.4324\n",
      "[WDM] - Get LATEST driver version for 88.0.4324\n",
      "[WDM] - Driver [C:\\Users\\bhupe\\.wdm\\drivers\\chromedriver\\win32\\88.0.4324.96\\chromedriver.exe] found in cache\n"
     ]
    },
    {
     "name": "stdout",
     "output_type": "stream",
     "text": [
      "\n",
      "\n"
     ]
    }
   ],
   "source": [
    "driver=webdriver.Chrome(ChromeDriverManager().install())"
   ]
  },
  {
   "cell_type": "code",
   "execution_count": 177,
   "metadata": {},
   "outputs": [],
   "source": [
    "driver.get('https://www.flipkart.com/')"
   ]
  },
  {
   "cell_type": "code",
   "execution_count": 178,
   "metadata": {},
   "outputs": [],
   "source": [
    "login=driver.find_element_by_xpath(\"//div[@class='_2QfC02']/button\")\n",
    "login.click()"
   ]
  },
  {
   "cell_type": "code",
   "execution_count": 179,
   "metadata": {},
   "outputs": [],
   "source": [
    "search_loc=driver.find_element_by_xpath(\"//input[@type='text']\")\n",
    "search_loc.send_keys('sneakers')"
   ]
  },
  {
   "cell_type": "code",
   "execution_count": 180,
   "metadata": {},
   "outputs": [],
   "source": [
    "button=driver.find_element_by_xpath(\"//button[@type='submit']\")\n",
    "button.click()"
   ]
  },
  {
   "cell_type": "code",
   "execution_count": 181,
   "metadata": {},
   "outputs": [],
   "source": [
    "url='https://www.flipkart.com/search?q=sneakers&otracker=search&otracker1=search&marketplace=FLIPKART&as-show=on&as=off'"
   ]
  },
  {
   "cell_type": "code",
   "execution_count": 182,
   "metadata": {},
   "outputs": [],
   "source": [
    "driver.get(url)"
   ]
  },
  {
   "cell_type": "code",
   "execution_count": 183,
   "metadata": {},
   "outputs": [],
   "source": [
    "Brand=[]\n",
    "Product_Description=[]\n",
    "Price=[]\n",
    "Discount=[]"
   ]
  },
  {
   "cell_type": "code",
   "execution_count": 184,
   "metadata": {},
   "outputs": [
    {
     "data": {
      "text/plain": [
       "[<selenium.webdriver.remote.webelement.WebElement (session=\"9c17d4dd9d7d8c9c299ca69690133606\", element=\"96340b1d-91c3-4f93-a028-7d8de1d400b3\")>,\n",
       " <selenium.webdriver.remote.webelement.WebElement (session=\"9c17d4dd9d7d8c9c299ca69690133606\", element=\"4e389f1f-9c18-4972-b4a0-135786d8ce22\")>,\n",
       " <selenium.webdriver.remote.webelement.WebElement (session=\"9c17d4dd9d7d8c9c299ca69690133606\", element=\"757c9f01-6060-4c6e-86f1-258c52a78337\")>,\n",
       " <selenium.webdriver.remote.webelement.WebElement (session=\"9c17d4dd9d7d8c9c299ca69690133606\", element=\"420ee46a-f37c-488c-8af7-d50f058638c7\")>]"
      ]
     },
     "execution_count": 184,
     "metadata": {},
     "output_type": "execute_result"
    }
   ],
   "source": [
    "brand_tags=driver.find_elements_by_xpath(\"//div[@class='_2WkVRV']\")\n",
    "brand_tags[0:4]"
   ]
  },
  {
   "cell_type": "code",
   "execution_count": 185,
   "metadata": {},
   "outputs": [
    {
     "data": {
      "text/plain": [
       "['Wildcraft', 'Robbie jones', 'Chevit', 'Robbie jones']"
      ]
     },
     "execution_count": 185,
     "metadata": {},
     "output_type": "execute_result"
    }
   ],
   "source": [
    "for i in brand_tags:\n",
    "    title=i.text\n",
    "    Brand.append(title)\n",
    "    \n",
    "Brand[0:4]  "
   ]
  },
  {
   "cell_type": "code",
   "execution_count": 186,
   "metadata": {},
   "outputs": [
    {
     "data": {
      "text/plain": [
       "[<selenium.webdriver.remote.webelement.WebElement (session=\"9c17d4dd9d7d8c9c299ca69690133606\", element=\"bc1f97e3-b250-42c7-abc6-a8746ebda0d6\")>,\n",
       " <selenium.webdriver.remote.webelement.WebElement (session=\"9c17d4dd9d7d8c9c299ca69690133606\", element=\"5916ce16-a4c7-47a5-814d-f7fb9b89c0f8\")>,\n",
       " <selenium.webdriver.remote.webelement.WebElement (session=\"9c17d4dd9d7d8c9c299ca69690133606\", element=\"fc60b14d-e91d-4656-98eb-98b44bb8d589\")>,\n",
       " <selenium.webdriver.remote.webelement.WebElement (session=\"9c17d4dd9d7d8c9c299ca69690133606\", element=\"a662532e-a10c-436d-bb29-193eee0efe9b\")>]"
      ]
     },
     "execution_count": 186,
     "metadata": {},
     "output_type": "execute_result"
    }
   ],
   "source": [
    "Product_Description1=driver.find_elements_by_xpath(\"//a[@class='IRpwTa']|//a[@class='IRpwTa _2-ICcC']\")\n",
    "Product_Description1[0:4]"
   ]
  },
  {
   "cell_type": "code",
   "execution_count": 187,
   "metadata": {},
   "outputs": [
    {
     "data": {
      "text/plain": [
       "['Nova Sneakers For Men',\n",
       " 'Casual Sneakers Shoes For Men Sneakers For Men',\n",
       " 'Combo Pack of 4 Casual Sneakers With Sneakers For Men',\n",
       " 'Casual Sneakers Shoes For Men Sneakers For Men']"
      ]
     },
     "execution_count": 187,
     "metadata": {},
     "output_type": "execute_result"
    }
   ],
   "source": [
    "for i in Product_Description1:\n",
    "    description=i.text\n",
    "    Product_Description.append(description)\n",
    "    \n",
    "Product_Description[0:4]"
   ]
  },
  {
   "cell_type": "code",
   "execution_count": 188,
   "metadata": {},
   "outputs": [
    {
     "data": {
      "text/plain": [
       "[<selenium.webdriver.remote.webelement.WebElement (session=\"9c17d4dd9d7d8c9c299ca69690133606\", element=\"ced4bb3b-b556-4f74-9b2f-da7b63891999\")>,\n",
       " <selenium.webdriver.remote.webelement.WebElement (session=\"9c17d4dd9d7d8c9c299ca69690133606\", element=\"4cfd3b47-6fe8-48c9-b079-2bd81f22ed3e\")>,\n",
       " <selenium.webdriver.remote.webelement.WebElement (session=\"9c17d4dd9d7d8c9c299ca69690133606\", element=\"d060705d-82d2-4bec-bfbf-33ab601b270d\")>,\n",
       " <selenium.webdriver.remote.webelement.WebElement (session=\"9c17d4dd9d7d8c9c299ca69690133606\", element=\"e8fc50f7-a8ca-4eb1-ad22-99faa7ac148e\")>]"
      ]
     },
     "execution_count": 188,
     "metadata": {},
     "output_type": "execute_result"
    }
   ],
   "source": [
    "price1=driver.find_elements_by_xpath(\"//div[@class='_30jeq3']\")\n",
    "price1[0:4]"
   ]
  },
  {
   "cell_type": "code",
   "execution_count": 189,
   "metadata": {},
   "outputs": [
    {
     "data": {
      "text/plain": [
       "[<selenium.webdriver.remote.webelement.WebElement (session=\"9c17d4dd9d7d8c9c299ca69690133606\", element=\"ced4bb3b-b556-4f74-9b2f-da7b63891999\")>,\n",
       " <selenium.webdriver.remote.webelement.WebElement (session=\"9c17d4dd9d7d8c9c299ca69690133606\", element=\"4cfd3b47-6fe8-48c9-b079-2bd81f22ed3e\")>,\n",
       " <selenium.webdriver.remote.webelement.WebElement (session=\"9c17d4dd9d7d8c9c299ca69690133606\", element=\"d060705d-82d2-4bec-bfbf-33ab601b270d\")>,\n",
       " <selenium.webdriver.remote.webelement.WebElement (session=\"9c17d4dd9d7d8c9c299ca69690133606\", element=\"e8fc50f7-a8ca-4eb1-ad22-99faa7ac148e\")>]"
      ]
     },
     "execution_count": 189,
     "metadata": {},
     "output_type": "execute_result"
    }
   ],
   "source": [
    "price1=driver.find_elements_by_xpath(\"//div[@class='_30jeq3']\")\n",
    "price1[0:4]"
   ]
  },
  {
   "cell_type": "code",
   "execution_count": 190,
   "metadata": {},
   "outputs": [
    {
     "data": {
      "text/plain": [
       "['₹1,740', '₹499', '₹449', '₹399']"
      ]
     },
     "execution_count": 190,
     "metadata": {},
     "output_type": "execute_result"
    }
   ],
   "source": [
    "for i in price1:\n",
    "    price=i.text\n",
    "    Price.append(price)\n",
    "    \n",
    "Price[0:4]  "
   ]
  },
  {
   "cell_type": "code",
   "execution_count": 191,
   "metadata": {},
   "outputs": [
    {
     "data": {
      "text/plain": [
       "[<selenium.webdriver.remote.webelement.WebElement (session=\"9c17d4dd9d7d8c9c299ca69690133606\", element=\"879adb17-1aef-440d-a1f8-79ceaab86530\")>,\n",
       " <selenium.webdriver.remote.webelement.WebElement (session=\"9c17d4dd9d7d8c9c299ca69690133606\", element=\"8911dc83-13ac-4f2b-b96b-344de8972918\")>,\n",
       " <selenium.webdriver.remote.webelement.WebElement (session=\"9c17d4dd9d7d8c9c299ca69690133606\", element=\"71f04d5c-4582-426d-8ea7-058a4402f12a\")>,\n",
       " <selenium.webdriver.remote.webelement.WebElement (session=\"9c17d4dd9d7d8c9c299ca69690133606\", element=\"553dde48-2579-40bd-80ce-894d631b95c7\")>]"
      ]
     },
     "execution_count": 191,
     "metadata": {},
     "output_type": "execute_result"
    }
   ],
   "source": [
    "discount_tag=driver.find_elements_by_xpath(\"//div[@class='_3Ay6Sb']/span[1]\")\n",
    "discount_tag[0:4]"
   ]
  },
  {
   "cell_type": "code",
   "execution_count": 192,
   "metadata": {},
   "outputs": [
    {
     "data": {
      "text/plain": [
       "['50% off', '50% off', '77% off', '60% off']"
      ]
     },
     "execution_count": 192,
     "metadata": {},
     "output_type": "execute_result"
    }
   ],
   "source": [
    "for i in discount_tag:\n",
    "    discount=i.text\n",
    "    Discount.append(discount)\n",
    "    \n",
    "Discount[0:4]  "
   ]
  },
  {
   "cell_type": "code",
   "execution_count": 193,
   "metadata": {},
   "outputs": [
    {
     "name": "stdout",
     "output_type": "stream",
     "text": [
      "40 40 40 39\n"
     ]
    }
   ],
   "source": [
    "print(len(Brand),len(Product_Description),len(Price),len(Discount))"
   ]
  },
  {
   "cell_type": "code",
   "execution_count": 194,
   "metadata": {},
   "outputs": [],
   "source": [
    "button=driver.find_element_by_xpath(\"//a[@class='_1LKTO3']/span[1]\")\n",
    "button.click()"
   ]
  },
  {
   "cell_type": "code",
   "execution_count": 195,
   "metadata": {},
   "outputs": [],
   "source": [
    "url='https://www.flipkart.com/search?q=sneakers&otracker=search&otracker1=search&marketplace=FLIPKART&as-show=on&as=off&page=2'"
   ]
  },
  {
   "cell_type": "code",
   "execution_count": 196,
   "metadata": {},
   "outputs": [],
   "source": [
    "driver.get(url)"
   ]
  },
  {
   "cell_type": "code",
   "execution_count": 197,
   "metadata": {},
   "outputs": [
    {
     "data": {
      "text/plain": [
       "[<selenium.webdriver.remote.webelement.WebElement (session=\"9c17d4dd9d7d8c9c299ca69690133606\", element=\"cf8ed2fd-8a23-4787-9647-e3b245c81f62\")>,\n",
       " <selenium.webdriver.remote.webelement.WebElement (session=\"9c17d4dd9d7d8c9c299ca69690133606\", element=\"02acb792-a8be-47ad-a0ed-c3fe74c939c0\")>,\n",
       " <selenium.webdriver.remote.webelement.WebElement (session=\"9c17d4dd9d7d8c9c299ca69690133606\", element=\"2d39c59e-82b9-43bf-8c71-1f20f4661287\")>,\n",
       " <selenium.webdriver.remote.webelement.WebElement (session=\"9c17d4dd9d7d8c9c299ca69690133606\", element=\"d923be7f-08ac-443b-8a5f-e18123406601\")>]"
      ]
     },
     "execution_count": 197,
     "metadata": {},
     "output_type": "execute_result"
    }
   ],
   "source": [
    "brand_tags=driver.find_elements_by_xpath(\"//div[@class='_2WkVRV']\")\n",
    "brand_tags[0:4]"
   ]
  },
  {
   "cell_type": "code",
   "execution_count": 198,
   "metadata": {},
   "outputs": [],
   "source": [
    "for i in brand_tags:\n",
    "    title=i.text\n",
    "    Brand.append(title)"
   ]
  },
  {
   "cell_type": "code",
   "execution_count": 199,
   "metadata": {},
   "outputs": [
    {
     "data": {
      "text/plain": [
       "[<selenium.webdriver.remote.webelement.WebElement (session=\"9c17d4dd9d7d8c9c299ca69690133606\", element=\"994cb245-5396-489e-9ae7-76a80c80b52c\")>,\n",
       " <selenium.webdriver.remote.webelement.WebElement (session=\"9c17d4dd9d7d8c9c299ca69690133606\", element=\"c3250e78-a3a9-4239-b9de-140a9679a587\")>,\n",
       " <selenium.webdriver.remote.webelement.WebElement (session=\"9c17d4dd9d7d8c9c299ca69690133606\", element=\"469dcb9c-9853-4ba5-9f1c-2b8f1cbd7248\")>,\n",
       " <selenium.webdriver.remote.webelement.WebElement (session=\"9c17d4dd9d7d8c9c299ca69690133606\", element=\"62f1277e-3f81-466c-996e-def9f80bd979\")>]"
      ]
     },
     "execution_count": 199,
     "metadata": {},
     "output_type": "execute_result"
    }
   ],
   "source": [
    "Product_Description1=driver.find_elements_by_xpath(\"//a[@class='IRpwTa']|//a[@class='IRpwTa _2-ICcC']\")\n",
    "Product_Description1[0:4]"
   ]
  },
  {
   "cell_type": "code",
   "execution_count": 200,
   "metadata": {},
   "outputs": [],
   "source": [
    "for i in Product_Description1:\n",
    "    description=i.text\n",
    "    Product_Description.append(description)"
   ]
  },
  {
   "cell_type": "code",
   "execution_count": 201,
   "metadata": {},
   "outputs": [
    {
     "data": {
      "text/plain": [
       "[<selenium.webdriver.remote.webelement.WebElement (session=\"9c17d4dd9d7d8c9c299ca69690133606\", element=\"26b70eb1-7228-4848-ba95-345eac153d38\")>,\n",
       " <selenium.webdriver.remote.webelement.WebElement (session=\"9c17d4dd9d7d8c9c299ca69690133606\", element=\"ce965361-24ae-4f87-9ab6-677a2df72ed7\")>,\n",
       " <selenium.webdriver.remote.webelement.WebElement (session=\"9c17d4dd9d7d8c9c299ca69690133606\", element=\"0b8809c0-0fc0-49c7-8636-6a6cb374ee86\")>,\n",
       " <selenium.webdriver.remote.webelement.WebElement (session=\"9c17d4dd9d7d8c9c299ca69690133606\", element=\"43ef9f0e-5922-469f-9f02-8ccfb63eedc0\")>]"
      ]
     },
     "execution_count": 201,
     "metadata": {},
     "output_type": "execute_result"
    }
   ],
   "source": [
    "price1=driver.find_elements_by_xpath(\"//div[@class='_30jeq3']\")\n",
    "price1[0:4]"
   ]
  },
  {
   "cell_type": "code",
   "execution_count": 202,
   "metadata": {},
   "outputs": [],
   "source": [
    "for i in price1:\n",
    "    price=i.text\n",
    "    Price.append(price)"
   ]
  },
  {
   "cell_type": "code",
   "execution_count": 203,
   "metadata": {},
   "outputs": [
    {
     "data": {
      "text/plain": [
       "[<selenium.webdriver.remote.webelement.WebElement (session=\"9c17d4dd9d7d8c9c299ca69690133606\", element=\"71b976b6-06a7-4c3f-b441-fd7458090ccf\")>,\n",
       " <selenium.webdriver.remote.webelement.WebElement (session=\"9c17d4dd9d7d8c9c299ca69690133606\", element=\"3d9e07cf-413d-4a35-a26f-1db61772b1e0\")>,\n",
       " <selenium.webdriver.remote.webelement.WebElement (session=\"9c17d4dd9d7d8c9c299ca69690133606\", element=\"ae3b913a-3ad7-4d7b-aeb5-c6d91975da44\")>,\n",
       " <selenium.webdriver.remote.webelement.WebElement (session=\"9c17d4dd9d7d8c9c299ca69690133606\", element=\"e7e52eb2-2183-4c74-a02c-b6dcc26f0c5f\")>]"
      ]
     },
     "execution_count": 203,
     "metadata": {},
     "output_type": "execute_result"
    }
   ],
   "source": [
    "discount_tag=driver.find_elements_by_xpath(\"//div[@class='_3Ay6Sb']/span[1]\")\n",
    "discount_tag[0:4]"
   ]
  },
  {
   "cell_type": "code",
   "execution_count": 204,
   "metadata": {},
   "outputs": [],
   "source": [
    "for i in discount_tag:\n",
    "    discount=i.text\n",
    "    Discount.append(discount)"
   ]
  },
  {
   "cell_type": "code",
   "execution_count": 205,
   "metadata": {},
   "outputs": [
    {
     "name": "stdout",
     "output_type": "stream",
     "text": [
      "80 80 80 79\n"
     ]
    }
   ],
   "source": [
    "print(len(Brand),len(Product_Description),len(Price),len(Discount))"
   ]
  },
  {
   "cell_type": "code",
   "execution_count": 206,
   "metadata": {},
   "outputs": [],
   "source": [
    "button=driver.find_element_by_xpath(\"//a[@class='_1LKTO3'][2]/span[1]\")\n",
    "button.click()"
   ]
  },
  {
   "cell_type": "code",
   "execution_count": 207,
   "metadata": {},
   "outputs": [],
   "source": [
    "url='https://www.flipkart.com/search?q=sneakers&otracker=search&otracker1=search&marketplace=FLIPKART&as-show=on&as=off&page=3'"
   ]
  },
  {
   "cell_type": "code",
   "execution_count": 208,
   "metadata": {},
   "outputs": [],
   "source": [
    "driver.get(url)"
   ]
  },
  {
   "cell_type": "code",
   "execution_count": 209,
   "metadata": {},
   "outputs": [
    {
     "data": {
      "text/plain": [
       "[<selenium.webdriver.remote.webelement.WebElement (session=\"9c17d4dd9d7d8c9c299ca69690133606\", element=\"b5588a80-63d9-4bb8-b0dd-1dffa714e780\")>,\n",
       " <selenium.webdriver.remote.webelement.WebElement (session=\"9c17d4dd9d7d8c9c299ca69690133606\", element=\"4eb724de-4183-4850-8d21-92adc9139177\")>,\n",
       " <selenium.webdriver.remote.webelement.WebElement (session=\"9c17d4dd9d7d8c9c299ca69690133606\", element=\"a252fcfc-5b9c-4d4f-8fa1-bebcd1af9c57\")>,\n",
       " <selenium.webdriver.remote.webelement.WebElement (session=\"9c17d4dd9d7d8c9c299ca69690133606\", element=\"2258226d-52bd-4d9d-a26b-270a6e828126\")>]"
      ]
     },
     "execution_count": 209,
     "metadata": {},
     "output_type": "execute_result"
    }
   ],
   "source": [
    "brand_tags=driver.find_elements_by_xpath(\"//div[@class='_2WkVRV']\")\n",
    "brand_tags[0:4]"
   ]
  },
  {
   "cell_type": "code",
   "execution_count": 210,
   "metadata": {},
   "outputs": [],
   "source": [
    "for i in brand_tags:\n",
    "    title=i.text\n",
    "    Brand.append(title)"
   ]
  },
  {
   "cell_type": "code",
   "execution_count": 211,
   "metadata": {},
   "outputs": [
    {
     "data": {
      "text/plain": [
       "[<selenium.webdriver.remote.webelement.WebElement (session=\"9c17d4dd9d7d8c9c299ca69690133606\", element=\"9fe538c2-f923-4e11-8f61-3ee29bb410b4\")>,\n",
       " <selenium.webdriver.remote.webelement.WebElement (session=\"9c17d4dd9d7d8c9c299ca69690133606\", element=\"412bf922-1b74-4b7b-954a-e55f1641e45e\")>,\n",
       " <selenium.webdriver.remote.webelement.WebElement (session=\"9c17d4dd9d7d8c9c299ca69690133606\", element=\"eb86799a-25ae-4078-8f04-4237a7d5e40a\")>,\n",
       " <selenium.webdriver.remote.webelement.WebElement (session=\"9c17d4dd9d7d8c9c299ca69690133606\", element=\"6ecdee28-136d-45d3-909f-0b63a6a7431c\")>]"
      ]
     },
     "execution_count": 211,
     "metadata": {},
     "output_type": "execute_result"
    }
   ],
   "source": [
    "Product_Description1=driver.find_elements_by_xpath(\"//a[@class='IRpwTa']|//a[@class='IRpwTa _2-ICcC']\")\n",
    "Product_Description1[0:4]"
   ]
  },
  {
   "cell_type": "code",
   "execution_count": 212,
   "metadata": {},
   "outputs": [],
   "source": [
    "for i in Product_Description1:\n",
    "    description=i.text\n",
    "    Product_Description.append(description)"
   ]
  },
  {
   "cell_type": "code",
   "execution_count": 213,
   "metadata": {},
   "outputs": [
    {
     "data": {
      "text/plain": [
       "[<selenium.webdriver.remote.webelement.WebElement (session=\"9c17d4dd9d7d8c9c299ca69690133606\", element=\"316ceb14-cae3-492e-bca1-0f71062b6d84\")>,\n",
       " <selenium.webdriver.remote.webelement.WebElement (session=\"9c17d4dd9d7d8c9c299ca69690133606\", element=\"cc4a42e1-fe01-4764-b144-9e2c7354a2d0\")>,\n",
       " <selenium.webdriver.remote.webelement.WebElement (session=\"9c17d4dd9d7d8c9c299ca69690133606\", element=\"4a2b63dd-cc44-4d2d-a937-9de484b95766\")>,\n",
       " <selenium.webdriver.remote.webelement.WebElement (session=\"9c17d4dd9d7d8c9c299ca69690133606\", element=\"8f5b2b9e-62d1-41c1-8e0a-441056a4285a\")>]"
      ]
     },
     "execution_count": 213,
     "metadata": {},
     "output_type": "execute_result"
    }
   ],
   "source": [
    "price1=driver.find_elements_by_xpath(\"//div[@class='_30jeq3']\")\n",
    "price1[0:4]"
   ]
  },
  {
   "cell_type": "code",
   "execution_count": 214,
   "metadata": {},
   "outputs": [],
   "source": [
    "for i in price1:\n",
    "    price=i.text\n",
    "    Price.append(price)"
   ]
  },
  {
   "cell_type": "code",
   "execution_count": 215,
   "metadata": {},
   "outputs": [
    {
     "data": {
      "text/plain": [
       "[<selenium.webdriver.remote.webelement.WebElement (session=\"9c17d4dd9d7d8c9c299ca69690133606\", element=\"d6b819b0-ff84-410b-b069-8d7193888b05\")>,\n",
       " <selenium.webdriver.remote.webelement.WebElement (session=\"9c17d4dd9d7d8c9c299ca69690133606\", element=\"736e7341-37da-4797-9945-a3331c8eccb9\")>,\n",
       " <selenium.webdriver.remote.webelement.WebElement (session=\"9c17d4dd9d7d8c9c299ca69690133606\", element=\"706d280c-6d08-4956-ae05-8dd265ad0a66\")>,\n",
       " <selenium.webdriver.remote.webelement.WebElement (session=\"9c17d4dd9d7d8c9c299ca69690133606\", element=\"ce43ea99-816d-4b02-a768-4a7cf02277bb\")>]"
      ]
     },
     "execution_count": 215,
     "metadata": {},
     "output_type": "execute_result"
    }
   ],
   "source": [
    "discount_tag=driver.find_elements_by_xpath(\"//div[@class='_3Ay6Sb']/span[1]\")\n",
    "discount_tag[0:4]"
   ]
  },
  {
   "cell_type": "code",
   "execution_count": 216,
   "metadata": {},
   "outputs": [],
   "source": [
    "for i in discount_tag:\n",
    "    discount=i.text\n",
    "    Discount.append(discount)"
   ]
  },
  {
   "cell_type": "code",
   "execution_count": 217,
   "metadata": {},
   "outputs": [
    {
     "name": "stdout",
     "output_type": "stream",
     "text": [
      "120 120 120 119\n"
     ]
    }
   ],
   "source": [
    "print(len(Brand),len(Product_Description),len(Price),len(Discount))"
   ]
  },
  {
   "cell_type": "code",
   "execution_count": 218,
   "metadata": {},
   "outputs": [],
   "source": [
    "sneakers=pd.DataFrame({})\n",
    "sneakers['Brand']=Brand[:100]\n",
    "sneakers['Product_Description']=Product_Description[:100]\n",
    "sneakers['Price']=Price[:100]\n",
    "sneakers['Discount']=Discount[:100]"
   ]
  },
  {
   "cell_type": "code",
   "execution_count": 219,
   "metadata": {},
   "outputs": [
    {
     "data": {
      "text/html": [
       "<div>\n",
       "<style scoped>\n",
       "    .dataframe tbody tr th:only-of-type {\n",
       "        vertical-align: middle;\n",
       "    }\n",
       "\n",
       "    .dataframe tbody tr th {\n",
       "        vertical-align: top;\n",
       "    }\n",
       "\n",
       "    .dataframe thead th {\n",
       "        text-align: right;\n",
       "    }\n",
       "</style>\n",
       "<table border=\"1\" class=\"dataframe\">\n",
       "  <thead>\n",
       "    <tr style=\"text-align: right;\">\n",
       "      <th></th>\n",
       "      <th>Brand</th>\n",
       "      <th>Product_Description</th>\n",
       "      <th>Price</th>\n",
       "      <th>Discount</th>\n",
       "    </tr>\n",
       "  </thead>\n",
       "  <tbody>\n",
       "    <tr>\n",
       "      <th>0</th>\n",
       "      <td>Wildcraft</td>\n",
       "      <td>Nova Sneakers For Men</td>\n",
       "      <td>₹1,740</td>\n",
       "      <td>50% off</td>\n",
       "    </tr>\n",
       "    <tr>\n",
       "      <th>1</th>\n",
       "      <td>Robbie jones</td>\n",
       "      <td>Casual Sneakers Shoes For Men Sneakers For Men</td>\n",
       "      <td>₹499</td>\n",
       "      <td>50% off</td>\n",
       "    </tr>\n",
       "    <tr>\n",
       "      <th>2</th>\n",
       "      <td>Chevit</td>\n",
       "      <td>Combo Pack of 4 Casual Sneakers With Sneakers ...</td>\n",
       "      <td>₹449</td>\n",
       "      <td>77% off</td>\n",
       "    </tr>\n",
       "    <tr>\n",
       "      <th>3</th>\n",
       "      <td>Robbie jones</td>\n",
       "      <td>Casual Sneakers Shoes For Men Sneakers For Men</td>\n",
       "      <td>₹399</td>\n",
       "      <td>60% off</td>\n",
       "    </tr>\n",
       "    <tr>\n",
       "      <th>4</th>\n",
       "      <td>World Wear Footwear</td>\n",
       "      <td>Combo Pack of 4 Latest Collection Stylish Casu...</td>\n",
       "      <td>₹474</td>\n",
       "      <td>76% off</td>\n",
       "    </tr>\n",
       "    <tr>\n",
       "      <th>...</th>\n",
       "      <td>...</td>\n",
       "      <td>...</td>\n",
       "      <td>...</td>\n",
       "      <td>...</td>\n",
       "    </tr>\n",
       "    <tr>\n",
       "      <th>95</th>\n",
       "      <td>QTSY</td>\n",
       "      <td>Stylish Design Sneakers Shoes Combo For Men &amp; ...</td>\n",
       "      <td>₹369</td>\n",
       "      <td>69% off</td>\n",
       "    </tr>\n",
       "    <tr>\n",
       "      <th>96</th>\n",
       "      <td>Chevit</td>\n",
       "      <td>Combo Pack of 5 Casual Sneakers With Sneakers ...</td>\n",
       "      <td>₹759</td>\n",
       "      <td>22% off</td>\n",
       "    </tr>\n",
       "    <tr>\n",
       "      <th>97</th>\n",
       "      <td>Chevit</td>\n",
       "      <td>Super 445 Fashion Sneakers For Men</td>\n",
       "      <td>₹389</td>\n",
       "      <td>75% off</td>\n",
       "    </tr>\n",
       "    <tr>\n",
       "      <th>98</th>\n",
       "      <td>Birde</td>\n",
       "      <td>Combo of 4 Sneakers For Men</td>\n",
       "      <td>₹499</td>\n",
       "      <td>50% off</td>\n",
       "    </tr>\n",
       "    <tr>\n",
       "      <th>99</th>\n",
       "      <td>Chevit</td>\n",
       "      <td>Lightweight Combo Pack of 02 Trendy Sneakers C...</td>\n",
       "      <td>₹499</td>\n",
       "      <td>75% off</td>\n",
       "    </tr>\n",
       "  </tbody>\n",
       "</table>\n",
       "<p>100 rows × 4 columns</p>\n",
       "</div>"
      ],
      "text/plain": [
       "                  Brand                                Product_Description  \\\n",
       "0             Wildcraft                              Nova Sneakers For Men   \n",
       "1          Robbie jones     Casual Sneakers Shoes For Men Sneakers For Men   \n",
       "2                Chevit  Combo Pack of 4 Casual Sneakers With Sneakers ...   \n",
       "3          Robbie jones     Casual Sneakers Shoes For Men Sneakers For Men   \n",
       "4   World Wear Footwear  Combo Pack of 4 Latest Collection Stylish Casu...   \n",
       "..                  ...                                                ...   \n",
       "95                 QTSY  Stylish Design Sneakers Shoes Combo For Men & ...   \n",
       "96               Chevit  Combo Pack of 5 Casual Sneakers With Sneakers ...   \n",
       "97               Chevit                 Super 445 Fashion Sneakers For Men   \n",
       "98                Birde                        Combo of 4 Sneakers For Men   \n",
       "99               Chevit  Lightweight Combo Pack of 02 Trendy Sneakers C...   \n",
       "\n",
       "     Price Discount  \n",
       "0   ₹1,740  50% off  \n",
       "1     ₹499  50% off  \n",
       "2     ₹449  77% off  \n",
       "3     ₹399  60% off  \n",
       "4     ₹474  76% off  \n",
       "..     ...      ...  \n",
       "95    ₹369  69% off  \n",
       "96    ₹759  22% off  \n",
       "97    ₹389  75% off  \n",
       "98    ₹499  50% off  \n",
       "99    ₹499  75% off  \n",
       "\n",
       "[100 rows x 4 columns]"
      ]
     },
     "execution_count": 219,
     "metadata": {},
     "output_type": "execute_result"
    }
   ],
   "source": [
    "sneakers"
   ]
  },
  {
   "cell_type": "code",
   "execution_count": null,
   "metadata": {},
   "outputs": [],
   "source": []
  }
 ],
 "metadata": {
  "kernelspec": {
   "display_name": "Python 3",
   "language": "python",
   "name": "python3"
  },
  "language_info": {
   "codemirror_mode": {
    "name": "ipython",
    "version": 3
   },
   "file_extension": ".py",
   "mimetype": "text/x-python",
   "name": "python",
   "nbconvert_exporter": "python",
   "pygments_lexer": "ipython3",
   "version": "3.8.3"
  }
 },
 "nbformat": 4,
 "nbformat_minor": 4
}
