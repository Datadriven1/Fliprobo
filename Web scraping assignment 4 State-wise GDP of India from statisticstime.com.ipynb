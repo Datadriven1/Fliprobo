{
 "cells": [
  {
   "cell_type": "code",
   "execution_count": 74,
   "metadata": {},
   "outputs": [
    {
     "name": "stdout",
     "output_type": "stream",
     "text": [
      "Requirement already satisfied: selenium in c:\\users\\bhupe\\anaconda3\\lib\\site-packages (3.141.0)\n",
      "Requirement already satisfied: urllib3 in c:\\users\\bhupe\\anaconda3\\lib\\site-packages (from selenium) (1.25.9)\n",
      "Requirement already satisfied: webdriver-manager in c:\\users\\bhupe\\anaconda3\\lib\\site-packages (3.3.0)\n",
      "Requirement already satisfied: crayons in c:\\users\\bhupe\\anaconda3\\lib\\site-packages (from webdriver-manager) (0.4.0)\n",
      "Requirement already satisfied: configparser in c:\\users\\bhupe\\anaconda3\\lib\\site-packages (from webdriver-manager) (5.0.1)\n",
      "Requirement already satisfied: requests in c:\\users\\bhupe\\anaconda3\\lib\\site-packages (from webdriver-manager) (2.24.0)\n",
      "Requirement already satisfied: colorama in c:\\users\\bhupe\\anaconda3\\lib\\site-packages (from crayons->webdriver-manager) (0.4.3)\n",
      "Requirement already satisfied: chardet<4,>=3.0.2 in c:\\users\\bhupe\\anaconda3\\lib\\site-packages (from requests->webdriver-manager) (3.0.4)\n",
      "Requirement already satisfied: idna<3,>=2.5 in c:\\users\\bhupe\\anaconda3\\lib\\site-packages (from requests->webdriver-manager) (2.10)\n",
      "Requirement already satisfied: certifi>=2017.4.17 in c:\\users\\bhupe\\anaconda3\\lib\\site-packages (from requests->webdriver-manager) (2020.6.20)\n",
      "Requirement already satisfied: urllib3!=1.25.0,!=1.25.1,<1.26,>=1.21.1 in c:\\users\\bhupe\\anaconda3\\lib\\site-packages (from requests->webdriver-manager) (1.25.9)\n"
     ]
    }
   ],
   "source": [
    "! pip install selenium\n",
    "import selenium\n",
    "import pandas as pd\n",
    "!pip install webdriver-manager\n",
    "from selenium import webdriver\n",
    "from webdriver_manager.chrome import ChromeDriverManager\n",
    "from selenium.webdriver.common.keys import Keys \n",
    "from selenium.common.exceptions import ElementClickInterceptedException\n",
    "from selenium.common.exceptions import StaleElementReferenceException, NoSuchElementException\n",
    "from selenium.common.exceptions import ElementNotInteractableException\n",
    "from selenium.webdriver.support import expected_conditions as EC\n",
    "from selenium.webdriver.support.ui import WebDriverWait\n",
    "from selenium.webdriver.common.by import By\n",
    "from selenium.webdriver.support import ui\n",
    "import warnings\n",
    "warnings.filterwarnings('ignore')\n",
    "import time"
   ]
  },
  {
   "cell_type": "code",
   "execution_count": 75,
   "metadata": {},
   "outputs": [
    {
     "name": "stderr",
     "output_type": "stream",
     "text": [
      "[WDM] - ====== WebDriver manager ======\n",
      "[WDM] - Current google-chrome version is 88.0.4324\n",
      "[WDM] - Get LATEST driver version for 88.0.4324\n"
     ]
    },
    {
     "name": "stdout",
     "output_type": "stream",
     "text": [
      "\n",
      "\n"
     ]
    },
    {
     "name": "stderr",
     "output_type": "stream",
     "text": [
      "[WDM] - Driver [C:\\Users\\bhupe\\.wdm\\drivers\\chromedriver\\win32\\88.0.4324.96\\chromedriver.exe] found in cache\n"
     ]
    }
   ],
   "source": [
    "driver=webdriver.Chrome(ChromeDriverManager().install())"
   ]
  },
  {
   "cell_type": "code",
   "execution_count": 76,
   "metadata": {},
   "outputs": [],
   "source": [
    "driver.get('http://statisticstimes.com/')"
   ]
  },
  {
   "cell_type": "code",
   "execution_count": 77,
   "metadata": {
    "scrolled": true
   },
   "outputs": [],
   "source": [
    "economy = ui.WebDriverWait(driver, 10).until(EC.element_to_be_clickable((By.XPATH, '//*[@id=\"top\"]/div[2]/div[2]/button')))\n",
    "element=driver.find_element_by_xpath('//*[@id=\"top\"]/div[2]/div[2]/div/a[3]')\n",
    "driver.get(element.get_attribute('href'))"
   ]
  },
  {
   "cell_type": "code",
   "execution_count": 78,
   "metadata": {
    "scrolled": true
   },
   "outputs": [],
   "source": [
    "state_gdp=driver.find_element_by_xpath('/html/body/div[2]/div[2]/div[2]/ul/li[1]/a')\n",
    "state_gdp.click()\n",
    "time.sleep(10)"
   ]
  },
  {
   "cell_type": "code",
   "execution_count": 79,
   "metadata": {},
   "outputs": [],
   "source": [
    "Rank=[]\n",
    "State=[]\n",
    "GSDP_19_20=[]\n",
    "GSDP_18_19=[]\n",
    "Share_2018=[]\n",
    "GDP_billion_dollar=[]"
   ]
  },
  {
   "cell_type": "code",
   "execution_count": 80,
   "metadata": {},
   "outputs": [
    {
     "data": {
      "text/plain": [
       "[<selenium.webdriver.remote.webelement.WebElement (session=\"b5572bc761ed2251d5c8c0deb9a501cd\", element=\"97390447-ffa8-4e0e-bb7e-45208c1c1846\")>,\n",
       " <selenium.webdriver.remote.webelement.WebElement (session=\"b5572bc761ed2251d5c8c0deb9a501cd\", element=\"ee984435-95f2-4236-85d0-909d36b46c9a\")>,\n",
       " <selenium.webdriver.remote.webelement.WebElement (session=\"b5572bc761ed2251d5c8c0deb9a501cd\", element=\"e4287a02-39cb-4a72-9e4b-c060795b1c23\")>,\n",
       " <selenium.webdriver.remote.webelement.WebElement (session=\"b5572bc761ed2251d5c8c0deb9a501cd\", element=\"85871ef3-532f-4025-9a57-97258138ca3b\")>]"
      ]
     },
     "execution_count": 80,
     "metadata": {},
     "output_type": "execute_result"
    }
   ],
   "source": [
    "rank_tag=driver.find_elements_by_xpath('//*[@id=\"table_id\"]/tbody/tr/td[1]')\n",
    "rank_tag[:4]"
   ]
  },
  {
   "cell_type": "code",
   "execution_count": 81,
   "metadata": {},
   "outputs": [
    {
     "data": {
      "text/plain": [
       "['1', '2', '3', '4']"
      ]
     },
     "execution_count": 81,
     "metadata": {},
     "output_type": "execute_result"
    }
   ],
   "source": [
    "for i in rank_tag:\n",
    "    rank=i.text\n",
    "    Rank.append(rank)\n",
    "    \n",
    "Rank[:4] "
   ]
  },
  {
   "cell_type": "code",
   "execution_count": 82,
   "metadata": {},
   "outputs": [
    {
     "data": {
      "text/plain": [
       "[<selenium.webdriver.remote.webelement.WebElement (session=\"b5572bc761ed2251d5c8c0deb9a501cd\", element=\"c96fa36b-f764-4fa5-8dd6-809148545616\")>,\n",
       " <selenium.webdriver.remote.webelement.WebElement (session=\"b5572bc761ed2251d5c8c0deb9a501cd\", element=\"c1da3bec-345d-4cc3-951f-54f2088945aa\")>,\n",
       " <selenium.webdriver.remote.webelement.WebElement (session=\"b5572bc761ed2251d5c8c0deb9a501cd\", element=\"d9d02757-e62d-4087-812a-a4d85aeef548\")>,\n",
       " <selenium.webdriver.remote.webelement.WebElement (session=\"b5572bc761ed2251d5c8c0deb9a501cd\", element=\"abebf65a-9d5a-4367-a7d7-04664e1a7332\")>]"
      ]
     },
     "execution_count": 82,
     "metadata": {},
     "output_type": "execute_result"
    }
   ],
   "source": [
    "state_tag=driver.find_elements_by_xpath('//*[@id=\"table_id\"]/tbody/tr/td[2]')\n",
    "state_tag[:4]"
   ]
  },
  {
   "cell_type": "code",
   "execution_count": 83,
   "metadata": {},
   "outputs": [
    {
     "data": {
      "text/plain": [
       "['Maharashtra', 'Tamil Nadu', 'Uttar Pradesh', 'Gujarat']"
      ]
     },
     "execution_count": 83,
     "metadata": {},
     "output_type": "execute_result"
    }
   ],
   "source": [
    "for i in state_tag:\n",
    "    state=i.text\n",
    "    State.append(state)\n",
    "    \n",
    "State[:4] "
   ]
  },
  {
   "cell_type": "code",
   "execution_count": 84,
   "metadata": {},
   "outputs": [
    {
     "data": {
      "text/plain": [
       "[<selenium.webdriver.remote.webelement.WebElement (session=\"b5572bc761ed2251d5c8c0deb9a501cd\", element=\"f0f25708-b821-4737-a076-a5f5197ee123\")>,\n",
       " <selenium.webdriver.remote.webelement.WebElement (session=\"b5572bc761ed2251d5c8c0deb9a501cd\", element=\"c9e5e434-668b-4847-ac95-7bc0e5eaf0ce\")>,\n",
       " <selenium.webdriver.remote.webelement.WebElement (session=\"b5572bc761ed2251d5c8c0deb9a501cd\", element=\"8e00c2c1-287a-4f9d-a418-38eaab745cd5\")>,\n",
       " <selenium.webdriver.remote.webelement.WebElement (session=\"b5572bc761ed2251d5c8c0deb9a501cd\", element=\"cde13f98-6744-48aa-aa89-82ef6b8516b5\")>]"
      ]
     },
     "execution_count": 84,
     "metadata": {},
     "output_type": "execute_result"
    }
   ],
   "source": [
    "GSDP_19_20_tag=driver.find_elements_by_xpath('//*[@id=\"table_id\"]/tbody/tr/td[3]')\n",
    "GSDP_19_20_tag[:4]"
   ]
  },
  {
   "cell_type": "code",
   "execution_count": 85,
   "metadata": {},
   "outputs": [
    {
     "data": {
      "text/plain": [
       "['-', '1,845,853', '1,687,818', '-']"
      ]
     },
     "execution_count": 85,
     "metadata": {},
     "output_type": "execute_result"
    }
   ],
   "source": [
    "for i in GSDP_19_20_tag:\n",
    "    gsdp=i.text\n",
    "    GSDP_19_20.append(gsdp)\n",
    "    \n",
    "GSDP_19_20[:4] "
   ]
  },
  {
   "cell_type": "code",
   "execution_count": 86,
   "metadata": {},
   "outputs": [
    {
     "data": {
      "text/plain": [
       "[<selenium.webdriver.remote.webelement.WebElement (session=\"b5572bc761ed2251d5c8c0deb9a501cd\", element=\"0aad3555-6e53-4b39-a079-f75d4a015598\")>,\n",
       " <selenium.webdriver.remote.webelement.WebElement (session=\"b5572bc761ed2251d5c8c0deb9a501cd\", element=\"3a0ecb8a-6835-43be-b7ec-32c2980ea143\")>,\n",
       " <selenium.webdriver.remote.webelement.WebElement (session=\"b5572bc761ed2251d5c8c0deb9a501cd\", element=\"74c0cfa5-509d-4d36-a116-e479832341ea\")>,\n",
       " <selenium.webdriver.remote.webelement.WebElement (session=\"b5572bc761ed2251d5c8c0deb9a501cd\", element=\"054db096-4c88-4d3d-9cc0-9b767e6e8eaa\")>]"
      ]
     },
     "execution_count": 86,
     "metadata": {},
     "output_type": "execute_result"
    }
   ],
   "source": [
    "GSDP_18_19_tagg=driver.find_elements_by_xpath('//*[@id=\"table_id\"]/tbody/tr/td[4]')\n",
    "GSDP_18_19_tagg[:4]"
   ]
  },
  {
   "cell_type": "code",
   "execution_count": 87,
   "metadata": {},
   "outputs": [
    {
     "data": {
      "text/plain": [
       "['2,632,792', '1,630,208', '1,584,764', '1,502,899']"
      ]
     },
     "execution_count": 87,
     "metadata": {},
     "output_type": "execute_result"
    }
   ],
   "source": [
    "for i in GSDP_18_19_tagg:\n",
    "    gsdp1=i.text\n",
    "    GSDP_18_19.append(gsdp1)\n",
    "    \n",
    "GSDP_18_19[:4] "
   ]
  },
  {
   "cell_type": "code",
   "execution_count": 88,
   "metadata": {},
   "outputs": [
    {
     "data": {
      "text/plain": [
       "[<selenium.webdriver.remote.webelement.WebElement (session=\"b5572bc761ed2251d5c8c0deb9a501cd\", element=\"bc71a057-6927-4ba0-a6f2-1e865f5eb1b2\")>,\n",
       " <selenium.webdriver.remote.webelement.WebElement (session=\"b5572bc761ed2251d5c8c0deb9a501cd\", element=\"318b1b71-57ae-4009-917c-d829f46147b6\")>,\n",
       " <selenium.webdriver.remote.webelement.WebElement (session=\"b5572bc761ed2251d5c8c0deb9a501cd\", element=\"46794ecc-3080-4e43-b14e-7529a201eaed\")>,\n",
       " <selenium.webdriver.remote.webelement.WebElement (session=\"b5572bc761ed2251d5c8c0deb9a501cd\", element=\"974a139a-8c38-4742-9528-95f6bada29ba\")>]"
      ]
     },
     "execution_count": 88,
     "metadata": {},
     "output_type": "execute_result"
    }
   ],
   "source": [
    "Share_2018_tag=driver.find_elements_by_xpath('//*[@id=\"table_id\"]/tbody/tr/td[5]')\n",
    "Share_2018_tag[:4]"
   ]
  },
  {
   "cell_type": "code",
   "execution_count": 89,
   "metadata": {},
   "outputs": [
    {
     "data": {
      "text/plain": [
       "['13.88%', '8.59%', '8.35%', '7.92%']"
      ]
     },
     "execution_count": 89,
     "metadata": {},
     "output_type": "execute_result"
    }
   ],
   "source": [
    "for i in Share_2018_tag:\n",
    "    share=i.text\n",
    "    Share_2018.append(share)\n",
    "    \n",
    "Share_2018[:4]"
   ]
  },
  {
   "cell_type": "code",
   "execution_count": 90,
   "metadata": {},
   "outputs": [
    {
     "data": {
      "text/plain": [
       "[<selenium.webdriver.remote.webelement.WebElement (session=\"b5572bc761ed2251d5c8c0deb9a501cd\", element=\"d0105619-70ba-49f1-bdee-8c36d0f065d7\")>,\n",
       " <selenium.webdriver.remote.webelement.WebElement (session=\"b5572bc761ed2251d5c8c0deb9a501cd\", element=\"cd8e1a3b-708c-4bcf-8bf6-f8e60d039242\")>,\n",
       " <selenium.webdriver.remote.webelement.WebElement (session=\"b5572bc761ed2251d5c8c0deb9a501cd\", element=\"147f7ee8-698c-4290-95d6-d8404cd30e92\")>,\n",
       " <selenium.webdriver.remote.webelement.WebElement (session=\"b5572bc761ed2251d5c8c0deb9a501cd\", element=\"95c0da37-ccda-4807-abe8-13c4f480cdde\")>]"
      ]
     },
     "execution_count": 90,
     "metadata": {},
     "output_type": "execute_result"
    }
   ],
   "source": [
    "GDP_tag=driver.find_elements_by_xpath('//*[@id=\"table_id\"]/tbody/tr/td[6]')\n",
    "GDP_tag[:4]"
   ]
  },
  {
   "cell_type": "code",
   "execution_count": 91,
   "metadata": {},
   "outputs": [
    {
     "data": {
      "text/plain": [
       "['398.145', '246.529', '239.656', '227.276']"
      ]
     },
     "execution_count": 91,
     "metadata": {},
     "output_type": "execute_result"
    }
   ],
   "source": [
    "for i in GDP_tag:\n",
    "    GDP=i.text\n",
    "    GDP_billion_dollar.append(GDP)\n",
    "    \n",
    "GDP_billion_dollar[:4]"
   ]
  },
  {
   "cell_type": "code",
   "execution_count": 92,
   "metadata": {},
   "outputs": [
    {
     "name": "stdout",
     "output_type": "stream",
     "text": [
      "33 33 33 33 33 33\n"
     ]
    }
   ],
   "source": [
    "print(len(Rank),len(State),len(GSDP_19_20),len(GSDP_18_19),len(Share_2018),len(GDP_billion_dollar))"
   ]
  },
  {
   "cell_type": "code",
   "execution_count": 93,
   "metadata": {},
   "outputs": [],
   "source": [
    "State_wise_GDP_of_India=pd.DataFrame({})\n",
    "State_wise_GDP_of_India['Rank']=Rank\n",
    "State_wise_GDP_of_India['State']=State\n",
    "State_wise_GDP_of_India['GSDP_19_20']=GSDP_19_20\n",
    "State_wise_GDP_of_India['GSDP_18_19']=GSDP_18_19\n",
    "State_wise_GDP_of_India['Share_2018']=Share_2018\n",
    "State_wise_GDP_of_India['GDP_billion_dollar']=GDP_billion_dollar"
   ]
  },
  {
   "cell_type": "code",
   "execution_count": 94,
   "metadata": {},
   "outputs": [
    {
     "data": {
      "text/html": [
       "<div>\n",
       "<style scoped>\n",
       "    .dataframe tbody tr th:only-of-type {\n",
       "        vertical-align: middle;\n",
       "    }\n",
       "\n",
       "    .dataframe tbody tr th {\n",
       "        vertical-align: top;\n",
       "    }\n",
       "\n",
       "    .dataframe thead th {\n",
       "        text-align: right;\n",
       "    }\n",
       "</style>\n",
       "<table border=\"1\" class=\"dataframe\">\n",
       "  <thead>\n",
       "    <tr style=\"text-align: right;\">\n",
       "      <th></th>\n",
       "      <th>Rank</th>\n",
       "      <th>State</th>\n",
       "      <th>GSDP_19_20</th>\n",
       "      <th>GSDP_18_19</th>\n",
       "      <th>Share_2018</th>\n",
       "      <th>GDP_billion_dollar</th>\n",
       "    </tr>\n",
       "  </thead>\n",
       "  <tbody>\n",
       "    <tr>\n",
       "      <th>0</th>\n",
       "      <td>1</td>\n",
       "      <td>Maharashtra</td>\n",
       "      <td>-</td>\n",
       "      <td>2,632,792</td>\n",
       "      <td>13.88%</td>\n",
       "      <td>398.145</td>\n",
       "    </tr>\n",
       "    <tr>\n",
       "      <th>1</th>\n",
       "      <td>2</td>\n",
       "      <td>Tamil Nadu</td>\n",
       "      <td>1,845,853</td>\n",
       "      <td>1,630,208</td>\n",
       "      <td>8.59%</td>\n",
       "      <td>246.529</td>\n",
       "    </tr>\n",
       "    <tr>\n",
       "      <th>2</th>\n",
       "      <td>3</td>\n",
       "      <td>Uttar Pradesh</td>\n",
       "      <td>1,687,818</td>\n",
       "      <td>1,584,764</td>\n",
       "      <td>8.35%</td>\n",
       "      <td>239.656</td>\n",
       "    </tr>\n",
       "    <tr>\n",
       "      <th>3</th>\n",
       "      <td>4</td>\n",
       "      <td>Gujarat</td>\n",
       "      <td>-</td>\n",
       "      <td>1,502,899</td>\n",
       "      <td>7.92%</td>\n",
       "      <td>227.276</td>\n",
       "    </tr>\n",
       "    <tr>\n",
       "      <th>4</th>\n",
       "      <td>5</td>\n",
       "      <td>Karnataka</td>\n",
       "      <td>1,631,977</td>\n",
       "      <td>1,493,127</td>\n",
       "      <td>7.87%</td>\n",
       "      <td>225.798</td>\n",
       "    </tr>\n",
       "    <tr>\n",
       "      <th>5</th>\n",
       "      <td>6</td>\n",
       "      <td>West Bengal</td>\n",
       "      <td>1,253,832</td>\n",
       "      <td>1,089,898</td>\n",
       "      <td>5.75%</td>\n",
       "      <td>164.820</td>\n",
       "    </tr>\n",
       "    <tr>\n",
       "      <th>6</th>\n",
       "      <td>7</td>\n",
       "      <td>Rajasthan</td>\n",
       "      <td>1,020,989</td>\n",
       "      <td>942,586</td>\n",
       "      <td>4.97%</td>\n",
       "      <td>142.543</td>\n",
       "    </tr>\n",
       "    <tr>\n",
       "      <th>7</th>\n",
       "      <td>8</td>\n",
       "      <td>Andhra Pradesh</td>\n",
       "      <td>972,782</td>\n",
       "      <td>862,957</td>\n",
       "      <td>4.55%</td>\n",
       "      <td>130.501</td>\n",
       "    </tr>\n",
       "    <tr>\n",
       "      <th>8</th>\n",
       "      <td>9</td>\n",
       "      <td>Telangana</td>\n",
       "      <td>969,604</td>\n",
       "      <td>861,031</td>\n",
       "      <td>4.54%</td>\n",
       "      <td>130.210</td>\n",
       "    </tr>\n",
       "    <tr>\n",
       "      <th>9</th>\n",
       "      <td>10</td>\n",
       "      <td>Madhya Pradesh</td>\n",
       "      <td>906,672</td>\n",
       "      <td>809,592</td>\n",
       "      <td>4.27%</td>\n",
       "      <td>122.431</td>\n",
       "    </tr>\n",
       "    <tr>\n",
       "      <th>10</th>\n",
       "      <td>11</td>\n",
       "      <td>Kerala</td>\n",
       "      <td>-</td>\n",
       "      <td>781,653</td>\n",
       "      <td>4.12%</td>\n",
       "      <td>118.206</td>\n",
       "    </tr>\n",
       "    <tr>\n",
       "      <th>11</th>\n",
       "      <td>12</td>\n",
       "      <td>Delhi</td>\n",
       "      <td>856,112</td>\n",
       "      <td>774,870</td>\n",
       "      <td>4.08%</td>\n",
       "      <td>117.180</td>\n",
       "    </tr>\n",
       "    <tr>\n",
       "      <th>12</th>\n",
       "      <td>13</td>\n",
       "      <td>Haryana</td>\n",
       "      <td>831,610</td>\n",
       "      <td>734,163</td>\n",
       "      <td>3.87%</td>\n",
       "      <td>111.024</td>\n",
       "    </tr>\n",
       "    <tr>\n",
       "      <th>13</th>\n",
       "      <td>14</td>\n",
       "      <td>Bihar</td>\n",
       "      <td>611,804</td>\n",
       "      <td>530,363</td>\n",
       "      <td>2.80%</td>\n",
       "      <td>80.204</td>\n",
       "    </tr>\n",
       "    <tr>\n",
       "      <th>14</th>\n",
       "      <td>15</td>\n",
       "      <td>Punjab</td>\n",
       "      <td>574,760</td>\n",
       "      <td>526,376</td>\n",
       "      <td>2.77%</td>\n",
       "      <td>79.601</td>\n",
       "    </tr>\n",
       "    <tr>\n",
       "      <th>15</th>\n",
       "      <td>16</td>\n",
       "      <td>Odisha</td>\n",
       "      <td>521,275</td>\n",
       "      <td>487,805</td>\n",
       "      <td>2.57%</td>\n",
       "      <td>73.768</td>\n",
       "    </tr>\n",
       "    <tr>\n",
       "      <th>16</th>\n",
       "      <td>17</td>\n",
       "      <td>Assam</td>\n",
       "      <td>-</td>\n",
       "      <td>315,881</td>\n",
       "      <td>1.67%</td>\n",
       "      <td>47.769</td>\n",
       "    </tr>\n",
       "    <tr>\n",
       "      <th>17</th>\n",
       "      <td>18</td>\n",
       "      <td>Chhattisgarh</td>\n",
       "      <td>329,180</td>\n",
       "      <td>304,063</td>\n",
       "      <td>1.60%</td>\n",
       "      <td>45.982</td>\n",
       "    </tr>\n",
       "    <tr>\n",
       "      <th>18</th>\n",
       "      <td>19</td>\n",
       "      <td>Jharkhand</td>\n",
       "      <td>328,598</td>\n",
       "      <td>297,204</td>\n",
       "      <td>1.57%</td>\n",
       "      <td>44.945</td>\n",
       "    </tr>\n",
       "    <tr>\n",
       "      <th>19</th>\n",
       "      <td>20</td>\n",
       "      <td>Uttarakhand</td>\n",
       "      <td>-</td>\n",
       "      <td>245,895</td>\n",
       "      <td>1.30%</td>\n",
       "      <td>37.186</td>\n",
       "    </tr>\n",
       "    <tr>\n",
       "      <th>20</th>\n",
       "      <td>21</td>\n",
       "      <td>Jammu &amp; Kashmir</td>\n",
       "      <td>-</td>\n",
       "      <td>155,956</td>\n",
       "      <td>0.82%</td>\n",
       "      <td>23.584</td>\n",
       "    </tr>\n",
       "    <tr>\n",
       "      <th>21</th>\n",
       "      <td>22</td>\n",
       "      <td>Himachal Pradesh</td>\n",
       "      <td>165,472</td>\n",
       "      <td>153,845</td>\n",
       "      <td>0.81%</td>\n",
       "      <td>23.265</td>\n",
       "    </tr>\n",
       "    <tr>\n",
       "      <th>22</th>\n",
       "      <td>23</td>\n",
       "      <td>Goa</td>\n",
       "      <td>80,449</td>\n",
       "      <td>73,170</td>\n",
       "      <td>0.39%</td>\n",
       "      <td>11.065</td>\n",
       "    </tr>\n",
       "    <tr>\n",
       "      <th>23</th>\n",
       "      <td>24</td>\n",
       "      <td>Tripura</td>\n",
       "      <td>55,984</td>\n",
       "      <td>49,845</td>\n",
       "      <td>0.26%</td>\n",
       "      <td>7.538</td>\n",
       "    </tr>\n",
       "    <tr>\n",
       "      <th>24</th>\n",
       "      <td>25</td>\n",
       "      <td>Chandigarh</td>\n",
       "      <td>-</td>\n",
       "      <td>42,114</td>\n",
       "      <td>0.22%</td>\n",
       "      <td>6.369</td>\n",
       "    </tr>\n",
       "    <tr>\n",
       "      <th>25</th>\n",
       "      <td>26</td>\n",
       "      <td>Puducherry</td>\n",
       "      <td>38,253</td>\n",
       "      <td>34,433</td>\n",
       "      <td>0.18%</td>\n",
       "      <td>5.207</td>\n",
       "    </tr>\n",
       "    <tr>\n",
       "      <th>26</th>\n",
       "      <td>27</td>\n",
       "      <td>Meghalaya</td>\n",
       "      <td>36,572</td>\n",
       "      <td>33,481</td>\n",
       "      <td>0.18%</td>\n",
       "      <td>5.063</td>\n",
       "    </tr>\n",
       "    <tr>\n",
       "      <th>27</th>\n",
       "      <td>28</td>\n",
       "      <td>Sikkim</td>\n",
       "      <td>32,496</td>\n",
       "      <td>28,723</td>\n",
       "      <td>0.15%</td>\n",
       "      <td>4.344</td>\n",
       "    </tr>\n",
       "    <tr>\n",
       "      <th>28</th>\n",
       "      <td>29</td>\n",
       "      <td>Manipur</td>\n",
       "      <td>31,790</td>\n",
       "      <td>27,870</td>\n",
       "      <td>0.15%</td>\n",
       "      <td>4.215</td>\n",
       "    </tr>\n",
       "    <tr>\n",
       "      <th>29</th>\n",
       "      <td>30</td>\n",
       "      <td>Nagaland</td>\n",
       "      <td>-</td>\n",
       "      <td>27,283</td>\n",
       "      <td>0.14%</td>\n",
       "      <td>4.126</td>\n",
       "    </tr>\n",
       "    <tr>\n",
       "      <th>30</th>\n",
       "      <td>31</td>\n",
       "      <td>Arunachal Pradesh</td>\n",
       "      <td>-</td>\n",
       "      <td>24,603</td>\n",
       "      <td>0.13%</td>\n",
       "      <td>3.721</td>\n",
       "    </tr>\n",
       "    <tr>\n",
       "      <th>31</th>\n",
       "      <td>32</td>\n",
       "      <td>Mizoram</td>\n",
       "      <td>26,503</td>\n",
       "      <td>22,287</td>\n",
       "      <td>0.12%</td>\n",
       "      <td>3.370</td>\n",
       "    </tr>\n",
       "    <tr>\n",
       "      <th>32</th>\n",
       "      <td>33</td>\n",
       "      <td>Andaman &amp; Nicobar Islands</td>\n",
       "      <td>-</td>\n",
       "      <td>-</td>\n",
       "      <td>-</td>\n",
       "      <td>-</td>\n",
       "    </tr>\n",
       "  </tbody>\n",
       "</table>\n",
       "</div>"
      ],
      "text/plain": [
       "   Rank                      State GSDP_19_20 GSDP_18_19 Share_2018  \\\n",
       "0     1                Maharashtra          -  2,632,792     13.88%   \n",
       "1     2                 Tamil Nadu  1,845,853  1,630,208      8.59%   \n",
       "2     3              Uttar Pradesh  1,687,818  1,584,764      8.35%   \n",
       "3     4                    Gujarat          -  1,502,899      7.92%   \n",
       "4     5                  Karnataka  1,631,977  1,493,127      7.87%   \n",
       "5     6                West Bengal  1,253,832  1,089,898      5.75%   \n",
       "6     7                  Rajasthan  1,020,989    942,586      4.97%   \n",
       "7     8             Andhra Pradesh    972,782    862,957      4.55%   \n",
       "8     9                  Telangana    969,604    861,031      4.54%   \n",
       "9    10             Madhya Pradesh    906,672    809,592      4.27%   \n",
       "10   11                     Kerala          -    781,653      4.12%   \n",
       "11   12                      Delhi    856,112    774,870      4.08%   \n",
       "12   13                    Haryana    831,610    734,163      3.87%   \n",
       "13   14                      Bihar    611,804    530,363      2.80%   \n",
       "14   15                     Punjab    574,760    526,376      2.77%   \n",
       "15   16                     Odisha    521,275    487,805      2.57%   \n",
       "16   17                      Assam          -    315,881      1.67%   \n",
       "17   18               Chhattisgarh    329,180    304,063      1.60%   \n",
       "18   19                  Jharkhand    328,598    297,204      1.57%   \n",
       "19   20                Uttarakhand          -    245,895      1.30%   \n",
       "20   21            Jammu & Kashmir          -    155,956      0.82%   \n",
       "21   22           Himachal Pradesh    165,472    153,845      0.81%   \n",
       "22   23                        Goa     80,449     73,170      0.39%   \n",
       "23   24                    Tripura     55,984     49,845      0.26%   \n",
       "24   25                 Chandigarh          -     42,114      0.22%   \n",
       "25   26                 Puducherry     38,253     34,433      0.18%   \n",
       "26   27                  Meghalaya     36,572     33,481      0.18%   \n",
       "27   28                     Sikkim     32,496     28,723      0.15%   \n",
       "28   29                    Manipur     31,790     27,870      0.15%   \n",
       "29   30                   Nagaland          -     27,283      0.14%   \n",
       "30   31          Arunachal Pradesh          -     24,603      0.13%   \n",
       "31   32                    Mizoram     26,503     22,287      0.12%   \n",
       "32   33  Andaman & Nicobar Islands          -          -          -   \n",
       "\n",
       "   GDP_billion_dollar  \n",
       "0             398.145  \n",
       "1             246.529  \n",
       "2             239.656  \n",
       "3             227.276  \n",
       "4             225.798  \n",
       "5             164.820  \n",
       "6             142.543  \n",
       "7             130.501  \n",
       "8             130.210  \n",
       "9             122.431  \n",
       "10            118.206  \n",
       "11            117.180  \n",
       "12            111.024  \n",
       "13             80.204  \n",
       "14             79.601  \n",
       "15             73.768  \n",
       "16             47.769  \n",
       "17             45.982  \n",
       "18             44.945  \n",
       "19             37.186  \n",
       "20             23.584  \n",
       "21             23.265  \n",
       "22             11.065  \n",
       "23              7.538  \n",
       "24              6.369  \n",
       "25              5.207  \n",
       "26              5.063  \n",
       "27              4.344  \n",
       "28              4.215  \n",
       "29              4.126  \n",
       "30              3.721  \n",
       "31              3.370  \n",
       "32                  -  "
      ]
     },
     "execution_count": 94,
     "metadata": {},
     "output_type": "execute_result"
    }
   ],
   "source": [
    "State_wise_GDP_of_India"
   ]
  },
  {
   "cell_type": "code",
   "execution_count": null,
   "metadata": {},
   "outputs": [],
   "source": []
  }
 ],
 "metadata": {
  "kernelspec": {
   "display_name": "Python 3",
   "language": "python",
   "name": "python3"
  },
  "language_info": {
   "codemirror_mode": {
    "name": "ipython",
    "version": 3
   },
   "file_extension": ".py",
   "mimetype": "text/x-python",
   "name": "python",
   "nbconvert_exporter": "python",
   "pygments_lexer": "ipython3",
   "version": "3.8.3"
  }
 },
 "nbformat": 4,
 "nbformat_minor": 4
}
