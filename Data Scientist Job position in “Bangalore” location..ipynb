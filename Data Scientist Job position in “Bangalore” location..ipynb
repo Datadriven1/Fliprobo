{
 "cells": [
  {
   "cell_type": "code",
   "execution_count": 59,
   "metadata": {},
   "outputs": [
    {
     "name": "stdout",
     "output_type": "stream",
     "text": [
      "Requirement already satisfied: selenium in c:\\users\\bhupe\\anaconda3\\lib\\site-packages (3.141.0)\n",
      "Requirement already satisfied: urllib3 in c:\\users\\bhupe\\anaconda3\\lib\\site-packages (from selenium) (1.25.9)\n",
      "Requirement already satisfied: webdriver-manager in c:\\users\\bhupe\\anaconda3\\lib\\site-packages (3.3.0)\n",
      "Requirement already satisfied: requests in c:\\users\\bhupe\\anaconda3\\lib\\site-packages (from webdriver-manager) (2.24.0)\n",
      "Requirement already satisfied: configparser in c:\\users\\bhupe\\anaconda3\\lib\\site-packages (from webdriver-manager) (5.0.1)\n",
      "Requirement already satisfied: crayons in c:\\users\\bhupe\\anaconda3\\lib\\site-packages (from webdriver-manager) (0.4.0)\n",
      "Requirement already satisfied: idna<3,>=2.5 in c:\\users\\bhupe\\anaconda3\\lib\\site-packages (from requests->webdriver-manager) (2.10)\n",
      "Requirement already satisfied: urllib3!=1.25.0,!=1.25.1,<1.26,>=1.21.1 in c:\\users\\bhupe\\anaconda3\\lib\\site-packages (from requests->webdriver-manager) (1.25.9)\n",
      "Requirement already satisfied: chardet<4,>=3.0.2 in c:\\users\\bhupe\\anaconda3\\lib\\site-packages (from requests->webdriver-manager) (3.0.4)\n",
      "Requirement already satisfied: certifi>=2017.4.17 in c:\\users\\bhupe\\anaconda3\\lib\\site-packages (from requests->webdriver-manager) (2020.6.20)\n",
      "Requirement already satisfied: colorama in c:\\users\\bhupe\\anaconda3\\lib\\site-packages (from crayons->webdriver-manager) (0.4.3)\n"
     ]
    }
   ],
   "source": [
    "! pip install selenium\n",
    "import selenium\n",
    "import pandas as pd\n",
    "import numpy as np\n",
    "!pip install webdriver-manager\n",
    "from selenium import webdriver\n",
    "from webdriver_manager.chrome import ChromeDriverManager\n",
    "from selenium.webdriver.common.keys import Keys \n",
    "from selenium.common.exceptions import ElementClickInterceptedException\n",
    "import warnings\n",
    "warnings.filterwarnings('ignore')"
   ]
  },
  {
   "cell_type": "code",
   "execution_count": 60,
   "metadata": {},
   "outputs": [
    {
     "name": "stderr",
     "output_type": "stream",
     "text": [
      "[WDM] - ====== WebDriver manager ======\n"
     ]
    },
    {
     "name": "stdout",
     "output_type": "stream",
     "text": [
      "\n",
      "\n"
     ]
    },
    {
     "name": "stderr",
     "output_type": "stream",
     "text": [
      "[WDM] - Current google-chrome version is 88.0.4324\n",
      "[WDM] - Get LATEST driver version for 88.0.4324\n",
      "[WDM] - Driver [C:\\Users\\bhupe\\.wdm\\drivers\\chromedriver\\win32\\88.0.4324.96\\chromedriver.exe] found in cache\n"
     ]
    }
   ],
   "source": [
    "driver=webdriver.Chrome(ChromeDriverManager().install())"
   ]
  },
  {
   "cell_type": "code",
   "execution_count": 61,
   "metadata": {},
   "outputs": [],
   "source": [
    "driver.get('https://www.naukri.com/')"
   ]
  },
  {
   "cell_type": "code",
   "execution_count": 62,
   "metadata": {},
   "outputs": [],
   "source": [
    "search_job=driver.find_element_by_id('qsb-keyword-sugg')\n",
    "search_job.send_keys('Data Scientist')\n",
    "search_loc=driver.find_element_by_xpath(\"//input[@id='qsb-location-sugg']\")\n",
    "search_loc.send_keys('Bangalore')"
   ]
  },
  {
   "cell_type": "code",
   "execution_count": 63,
   "metadata": {},
   "outputs": [],
   "source": [
    "search_btn=driver.find_element_by_xpath(\"//div[@class='search-btn']/button\")\n",
    "search_btn.click()"
   ]
  },
  {
   "cell_type": "code",
   "execution_count": 64,
   "metadata": {},
   "outputs": [],
   "source": [
    "url='https://www.naukri.com/data-scientist-jobs-in-bangalore?k=data%20scientist&l=bangalore'"
   ]
  },
  {
   "cell_type": "code",
   "execution_count": 65,
   "metadata": {},
   "outputs": [],
   "source": [
    "driver.get(url)"
   ]
  },
  {
   "cell_type": "code",
   "execution_count": 66,
   "metadata": {},
   "outputs": [],
   "source": [
    "job_titles=[]\n",
    "company_names=[]\n",
    "location_list=[]\n",
    "full_job_description=[]"
   ]
  },
  {
   "cell_type": "code",
   "execution_count": 67,
   "metadata": {},
   "outputs": [
    {
     "data": {
      "text/plain": [
       "[<selenium.webdriver.remote.webelement.WebElement (session=\"9afee19d7f0eb5f530dc39bd4ce5da57\", element=\"938ba89f-a84c-4571-8866-c87f513b2b2f\")>,\n",
       " <selenium.webdriver.remote.webelement.WebElement (session=\"9afee19d7f0eb5f530dc39bd4ce5da57\", element=\"0aeb3d2a-e673-4f89-8582-ba7c0ad59018\")>,\n",
       " <selenium.webdriver.remote.webelement.WebElement (session=\"9afee19d7f0eb5f530dc39bd4ce5da57\", element=\"f2a42d2b-2c11-4e04-a384-697ec7f3e98e\")>,\n",
       " <selenium.webdriver.remote.webelement.WebElement (session=\"9afee19d7f0eb5f530dc39bd4ce5da57\", element=\"704f3f8d-bdac-4869-a0ab-80cf48dc0317\")>]"
      ]
     },
     "execution_count": 67,
     "metadata": {},
     "output_type": "execute_result"
    }
   ],
   "source": [
    "titles_tags=driver.find_elements_by_xpath(\"//a[@class='title fw500 ellipsis']\")\n",
    "titles_tags[0:4]"
   ]
  },
  {
   "cell_type": "code",
   "execution_count": 68,
   "metadata": {},
   "outputs": [
    {
     "data": {
      "text/plain": [
       "['Data Scientist - Python/ MATLAB/ Machine Learning Algorithms',\n",
       " 'Lead Data Scientist - Machine Learning/ Data Mining',\n",
       " 'Data Scientist - Machine Learning (Commerce BU)',\n",
       " 'Principal Data Scientist - Machine/Deep Learning - NLP/Tensorflow']"
      ]
     },
     "execution_count": 68,
     "metadata": {},
     "output_type": "execute_result"
    }
   ],
   "source": [
    "for i in titles_tags:\n",
    "    title=i.text\n",
    "    job_titles.append(title)\n",
    "    \n",
    "job_titles[0:4]  "
   ]
  },
  {
   "cell_type": "code",
   "execution_count": 69,
   "metadata": {},
   "outputs": [
    {
     "data": {
      "text/plain": [
       "[<selenium.webdriver.remote.webelement.WebElement (session=\"9afee19d7f0eb5f530dc39bd4ce5da57\", element=\"db072f3d-3159-4309-badc-89688de495a6\")>,\n",
       " <selenium.webdriver.remote.webelement.WebElement (session=\"9afee19d7f0eb5f530dc39bd4ce5da57\", element=\"bd1a552c-5848-40e4-a28b-143be252eab9\")>,\n",
       " <selenium.webdriver.remote.webelement.WebElement (session=\"9afee19d7f0eb5f530dc39bd4ce5da57\", element=\"bcdb30bd-9b67-4c95-b650-c8820c56bcbc\")>,\n",
       " <selenium.webdriver.remote.webelement.WebElement (session=\"9afee19d7f0eb5f530dc39bd4ce5da57\", element=\"7a324c4c-9cc8-4de0-a809-b70cb50ecbd4\")>]"
      ]
     },
     "execution_count": 69,
     "metadata": {},
     "output_type": "execute_result"
    }
   ],
   "source": [
    "companies_tags=driver.find_elements_by_xpath(\"//a[@class='subTitle ellipsis fleft']\")\n",
    "companies_tags[0:4]"
   ]
  },
  {
   "cell_type": "code",
   "execution_count": 70,
   "metadata": {},
   "outputs": [
    {
     "data": {
      "text/plain": [
       "['Wrackle Technologies Pvt Ltd',\n",
       " 'Wrackle Technologies Pvt Ltd',\n",
       " 'BLUE YONDER INDIA PRIVATE LIMITED',\n",
       " 'Fidius advisory']"
      ]
     },
     "execution_count": 70,
     "metadata": {},
     "output_type": "execute_result"
    }
   ],
   "source": [
    "for i in companies_tags:\n",
    "    company=i.text\n",
    "    company_names.append(company)\n",
    "    \n",
    "company_names[0:4]"
   ]
  },
  {
   "cell_type": "code",
   "execution_count": 71,
   "metadata": {},
   "outputs": [
    {
     "data": {
      "text/plain": [
       "[<selenium.webdriver.remote.webelement.WebElement (session=\"9afee19d7f0eb5f530dc39bd4ce5da57\", element=\"cde8dc31-fe5a-47db-95b7-4c73168c1b82\")>,\n",
       " <selenium.webdriver.remote.webelement.WebElement (session=\"9afee19d7f0eb5f530dc39bd4ce5da57\", element=\"cd38b3f6-64a1-4a33-8c59-2733c6cae968\")>,\n",
       " <selenium.webdriver.remote.webelement.WebElement (session=\"9afee19d7f0eb5f530dc39bd4ce5da57\", element=\"eab60ecd-b7a1-4177-bccc-c59dea41e1f0\")>,\n",
       " <selenium.webdriver.remote.webelement.WebElement (session=\"9afee19d7f0eb5f530dc39bd4ce5da57\", element=\"ed89f35b-8aa1-42ea-ac92-1f4c936678f0\")>]"
      ]
     },
     "execution_count": 71,
     "metadata": {},
     "output_type": "execute_result"
    }
   ],
   "source": [
    "location_tags=driver.find_elements_by_xpath(\"//li[@class='fleft grey-text br2 placeHolderLi location']/span[1]\")\n",
    "location_tags[0:4]"
   ]
  },
  {
   "cell_type": "code",
   "execution_count": 72,
   "metadata": {},
   "outputs": [
    {
     "data": {
      "text/plain": [
       "['Bengaluru', 'Bengaluru', 'Bengaluru', 'Bengaluru']"
      ]
     },
     "execution_count": 72,
     "metadata": {},
     "output_type": "execute_result"
    }
   ],
   "source": [
    "for i in location_tags:\n",
    "    location=i.text\n",
    "    location_list.append(location)\n",
    "    \n",
    "location_list[0:4]   "
   ]
  },
  {
   "cell_type": "code",
   "execution_count": 73,
   "metadata": {
    "scrolled": true
   },
   "outputs": [],
   "source": [
    "href1=[]\n",
    "\n",
    "for elem in titles_tags:\n",
    "    href = elem.get_attribute('href')\n",
    "    if href is not None:\n",
    "        href1.append(href)"
   ]
  },
  {
   "cell_type": "code",
   "execution_count": 74,
   "metadata": {
    "scrolled": true
   },
   "outputs": [
    {
     "data": {
      "text/plain": [
       "['https://www.naukri.com/job-listings-data-scientist-python-matlab-machine-learning-algorithms-wrackle-technologies-pvt-ltd-bengaluru-bangalore-3-to-8-years-080221905947?src=jobsearchDesk&sid=16131441910041023&xp=1&px=1',\n",
       " 'https://www.naukri.com/job-listings-lead-data-scientist-machine-learning-data-mining-wrackle-technologies-pvt-ltd-bengaluru-bangalore-6-to-11-years-080221900886?src=jobsearchDesk&sid=16131441910041023&xp=2&px=1',\n",
       " 'https://www.naukri.com/job-listings-data-scientist-machine-learning-commerce-bu-blue-yonder-india-private-limited-bengaluru-bangalore-4-to-6-years-010221901825?src=jobsearchDesk&sid=16131441910041023&xp=3&px=1',\n",
       " 'https://www.naukri.com/job-listings-principal-data-scientist-machine-deep-learning-nlp-tensorflow-fidius-advisory-bengaluru-bangalore-8-to-13-years-070720900498?src=jobsearchDesk&sid=16131441910041023&xp=4&px=1',\n",
       " 'https://www.naukri.com/job-listings-data-scientist-atos-syntel-private-limited-chennai-pune-mumbai-bengaluru-bangalore-12-to-18-years-220719001543?src=jobsearchDesk&sid=16131441910041023&xp=5&px=1',\n",
       " 'https://www.naukri.com/job-listings-opening-for-sr-data-scientist-tech-mahindra-tech-mahindra-ltd-pune-bengaluru-bangalore-12-to-20-years-100221001125?src=jobsearchDesk&sid=16131441910041023&xp=6&px=1',\n",
       " 'https://www.naukri.com/job-listings-opening-for-sr-data-scientist-tech-mahindra-tech-mahindra-ltd-pune-bengaluru-bangalore-12-to-20-years-090221006526?src=jobsearchDesk&sid=16131441910041023&xp=7&px=1',\n",
       " 'https://www.naukri.com/job-listings-senior-lead-data-scientist-tvs-credit-services-limited-chennai-pune-bengaluru-bangalore-3-to-8-years-261220002239?src=jobsearchDesk&sid=16131441910041023&xp=8&px=1',\n",
       " 'https://www.naukri.com/job-listings-senior-data-scientist-nlp-python-r-avi-consulting-llp-bengaluru-bangalore-hyderabad-secunderabad-4-to-9-years-081220907155?src=jobsearchDesk&sid=16131441910041023&xp=9&px=1',\n",
       " 'https://www.naukri.com/job-listings-senior-data-scientist-ces-it-ltd-cmmi-level-5-ces-ltd-chennai-pune-delhi-ncr-mumbai-bengaluru-bangalore-hyderabad-secunderabad-kolkata-2-to-7-years-151220006902?src=jobsearchDesk&sid=16131441910041023&xp=10&px=1']"
      ]
     },
     "execution_count": 74,
     "metadata": {},
     "output_type": "execute_result"
    }
   ],
   "source": [
    "href2=href1[0:10]\n",
    "href2"
   ]
  },
  {
   "cell_type": "code",
   "execution_count": 75,
   "metadata": {},
   "outputs": [],
   "source": [
    "for i in href2:\n",
    "    driver.get(i)\n",
    "    job3=driver.find_elements_by_xpath(\"//div[@class='dang-inner-html']\")\n",
    "    for j in job3:\n",
    "        dis=j.text.replace('\\n', '')\n",
    "    if dis==np.nan:\n",
    "        dis.fillna(method='ffill')\n",
    "    else:\n",
    "        full_job_description.append(dis)"
   ]
  },
  {
   "cell_type": "code",
   "execution_count": 76,
   "metadata": {
    "scrolled": true
   },
   "outputs": [
    {
     "data": {
      "text/plain": [
       "['Data Scientist - Data Mining/ Machine Learning/ Statistical AnalysisRequirements :- 3-9 years of strong experience in data mining, machine learning, and statistical analysis.- BS/MS/Ph.D. in Computer Science, Statistics, Applied Math, or related areas from Premier institutes ( only IITs / IISc / BITS / Top NITs or top US university should apply)- Ability to lead and deliver in a fast-paced start-up environment.- Fluency in tools such as Matlab, Python, etc.- Strong intuition for data and Keen aptitude on large scale data analysis- Excellent written and verbal communication skills.- Ability to collaborate across teams and strong interpersonal skills.',\n",
       " 'Roles and ResponsibilitiesRequirements :- 6-9 years of strong experience in data mining, machine learning and statistical analysis.- BS/ MS/ PhD in Computer Science, Statistics, Applied Math, or related areas from Premier institutes ( only IITs / IISc / BITS / Top NITs or top US university should apply)- Ability to lead and deliver in a fast-paced start-up environment.- Fluency in tools such as Python/ R/ Matlab etc.- Strong intuition for data and Keen aptitude on large scale data analysis- Excellent written and verbal communication skills.- Ability to collaborate across teams and strong interpersonal skills.',\n",
       " 'Roles and ResponsibilitiesRequirements :- 6-9 years of strong experience in data mining, machine learning and statistical analysis.- BS/ MS/ PhD in Computer Science, Statistics, Applied Math, or related areas from Premier institutes ( only IITs / IISc / BITS / Top NITs or top US university should apply)- Ability to lead and deliver in a fast-paced start-up environment.- Fluency in tools such as Python/ R/ Matlab etc.- Strong intuition for data and Keen aptitude on large scale data analysis- Excellent written and verbal communication skills.- Ability to collaborate across teams and strong interpersonal skills.',\n",
       " \"Job Description :- We are looking for a researcher who specializes in building personalization/recommender systems algorithm (ML APIs) for the applications mentioned above and work with our engineers to deploy them as scale.What you will do :- Apply your research expertise to build our ML-driven recommender system products, help us develop new solutions and unlock new directions, as well as analyse and optimise the systems we already. - You'll work closely with product teams and mentor them on best practices for modern ML, and keep the wider team informed on the state-of-the-art. In addition, you will be in a strategic position to influence future roadmaps for recommender system products.- Collaborate with a cross-functional agile team spanning user research, design, data science, product management, and engineering to build new product features that advance our mission to connect artists and fans in personalized and relevant ways.- Prototype new approaches and production-ize solutions at scale for our hundreds of thousands of active users. Help drive optimization, testing, and tools to improve quality.Requirements :- Master, Post-graduate or Ph.D. in computer science, machine learning, information retrieval, recommendation systems, natural language processing, statistics, math, engineering, operations research, or another quantitative discipline; or equivalent work experience.- Good theoretical grounding in core machine learning concepts and techniques.- Ability to perform comprehensive literature reviews and provide critical feedback on state-of-the-art solutions and how they may fit different operating constraints.- Experience with a number of ML techniques and frameworks, e.g. Natural Language Processing, Recommender Systems, sampling, linear regression, decision trees, SVMs, deep neural networks, etc.- Familiarity with one or more Deep learning software frameworks such as Tensorflow, PyTorch.\",\n",
       " 'Working experience in Artificial Intelligence, Python, R, Machine LearningExperience in data mining, Strong math skills (e.g. statistics, algebra)Strong programming skills in: R, Python and familiarity with Java, Scala, C - DB/NoSql - MongoDB, Neo4J, MySql. Cassandra, DynamoDB, RedshiftExperience on Hadoop Map reduce, Pig, Hive, Mahout and Apache Spark, H20Strong experience in Data warehousing, ETL, BI (e.g. Tableau, Power BI) and Data Visualization tools (matplotlib, D3.js, Plotly.js, Shiny etc)Experience with Deep Learning tools Tensorflow, Theano, Caffe etc. - Elastic Search, NLP background and Machine Learning PlatformsExperienced in deployment of High performance, Scalable Big Data Hadoop clusters and Web applications on cloud infrastructure (Azure, AWS, Bluemix etc)Experience in neural networks, regression, classification and clusteringDeep industry knowledge on any of the following: Banking, Insurance, Retail ManufacturingDeep understanding of Statistical algorithms: Linear and Non-Linear models, classification problem, optimization techniques, Market mix models, A/B Testing and campaign management, Feature ranking/selection techniques, supervised/unsupervised learning, Collaborative filtering, Apriori Market Basket analysis, SVM, Gradient boosting, Survival analysis etc.To help designing, innovating and building our next generation ML architectureFull time programming experience within an operation or technical department.Identify valuable data sources and automate collection processesUndertake pre-processing of structured and unstructured dataAnalyze large amounts of information to discover trends and patternsBuild predictive models and machine-learning algorithmsCombine models through ensemble modellingPresent information using data visualization techniquesPropose solutions and strategies to business challengesCollaborate with engineering and product development teamsMentor others in the use of AI/Machine Learning',\n",
       " 'Working experience in Artificial Intelligence, Python, R, Machine LearningExperience in data mining, Strong math skills (e.g. statistics, algebra)Strong programming skills in: R, Python and familiarity with Java, Scala, C - DB/NoSql - MongoDB, Neo4J, MySql. Cassandra, DynamoDB, RedshiftExperience on Hadoop Map reduce, Pig, Hive, Mahout and Apache Spark, H20Strong experience in Data warehousing, ETL, BI (e.g. Tableau, Power BI) and Data Visualization tools (matplotlib, D3.js, Plotly.js, Shiny etc)Experience with Deep Learning tools Tensorflow, Theano, Caffe etc. - Elastic Search, NLP background and Machine Learning PlatformsExperienced in deployment of High performance, Scalable Big Data Hadoop clusters and Web applications on cloud infrastructure (Azure, AWS, Bluemix etc)Experience in neural networks, regression, classification and clusteringDeep industry knowledge on any of the following: Banking, Insurance, Retail ManufacturingDeep understanding of Statistical algorithms: Linear and Non-Linear models, classification problem, optimization techniques, Market mix models, A/B Testing and campaign management, Feature ranking/selection techniques, supervised/unsupervised learning, Collaborative filtering, Apriori Market Basket analysis, SVM, Gradient boosting, Survival analysis etc.To help designing, innovating and building our next generation ML architectureFull time programming experience within an operation or technical department.Identify valuable data sources and automate collection processesUndertake pre-processing of structured and unstructured dataAnalyze large amounts of information to discover trends and patternsBuild predictive models and machine-learning algorithmsCombine models through ensemble modellingPresent information using data visualization techniquesPropose solutions and strategies to business challengesCollaborate with engineering and product development teamsMentor others in the use of AI/Machine Learning',\n",
       " 'Working experience in Artificial Intelligence, Python, R, Machine LearningExperience in data mining, Strong math skills (e.g. statistics, algebra)Strong programming skills in: R, Python and familiarity with Java, Scala, C - DB/NoSql - MongoDB, Neo4J, MySql. Cassandra, DynamoDB, RedshiftExperience on Hadoop Map reduce, Pig, Hive, Mahout and Apache Spark, H20Strong experience in Data warehousing, ETL, BI (e.g. Tableau, Power BI) and Data Visualization tools (matplotlib, D3.js, Plotly.js, Shiny etc)Experience with Deep Learning tools Tensorflow, Theano, Caffe etc. - Elastic Search, NLP background and Machine Learning PlatformsExperienced in deployment of High performance, Scalable Big Data Hadoop clusters and Web applications on cloud infrastructure (Azure, AWS, Bluemix etc)Experience in neural networks, regression, classification and clusteringDeep industry knowledge on any of the following: Banking, Insurance, Retail ManufacturingDeep understanding of Statistical algorithms: Linear and Non-Linear models, classification problem, optimization techniques, Market mix models, A/B Testing and campaign management, Feature ranking/selection techniques, supervised/unsupervised learning, Collaborative filtering, Apriori Market Basket analysis, SVM, Gradient boosting, Survival analysis etc.To help designing, innovating and building our next generation ML architectureFull time programming experience within an operation or technical department.Identify valuable data sources and automate collection processesUndertake pre-processing of structured and unstructured dataAnalyze large amounts of information to discover trends and patternsBuild predictive models and machine-learning algorithmsCombine models through ensemble modellingPresent information using data visualization techniquesPropose solutions and strategies to business challengesCollaborate with engineering and product development teamsMentor others in the use of AI/Machine Learning',\n",
       " 'Key ResponsibilitiesBe responsible for scaling our analytics capability across all internal disciplines and guide our strategic direction in regards to analyticsOrganize and analyze large, diverse data sets across multiple platformsIdentify key insights and leverage them to inform and influence product strategyTechnical Interactions with vendor or partners in technical capacity for scope/ approach & deliverable.Develops proof of concept to prove or disprove validity of conceptWorking with all parts of the business to identify analytical requirements and formalize an approach for reliable, relevant, accurate, efficient reporting on those requirementsDesigning and implementing advanced statistical testing for customized problem solvingDeliver concise verbal and written explanations of analyses to senior management that elevate findings into strategic recommendations.Desired Candidate ProfileQualifications:MTech / BE / BTech / MSc in CS or Stats or Maths, Operation Research, Statistics, Econometrics or in any quantitative fieldExperience:3+ Years experience in analytical domainFunctional Competencies:Excellent analytics, logical, problem solving and numerical skillsExperience in using PythonExperience in working with large data sets and big data systems (SQL, Hadoop, Hive, etc.)Keen aptitude for large-scale data analysis with a passion for identifying key insights from dataExpert working knowledge in various machine learning algorithms such XGBoost, SVM Etc.,Expertise in Data Mining, Statistical Analysis, Regression, Logistics Regression, Segmentation, Time Series Forecasting, Market Basket Analysis, Decision Tree, CHAID, Test Mining, Hypothesis Testing, A/B Testing and ModelingPreferable to haveExperience in Credit risk analytics, Fraud analyticsExperience in Collections analytics, NPAAnalytical experience in Vehicle lending business (Two wheeler, Tractor, Car, Commercial) and unsecured loans.Customer Acquisition',\n",
       " 'Roles and ResponsibilitiesSkill : NLP,Semantic model, NER model, Deep LearningNotice : who can join in a month maxJob description :- 5+ years of experience using analytical toolslanguages like Python & R on large scale data- Must have Semantic model & NER experience- Experience working with pre-trained models, awareness of state-of-art in embeddings and applicability for use cases- Experience on Deep Learning for Image processing, Video analytics will be a plus- Must have strong experience in NLPNLGNLU applications using any popular Deep learning frameworks like Open CV, PyTorch, Theano, Tensor Flow, Caffe. Should have implemented solutions for industry use cases.- Demonstrated ability to engage with client stakeholders at multiple levels and provide consultative solutioning across different domains- Deep knowledge of techniques such as Linear Regression, gradient descent, Logistic Regression, Forecasting, Cluster analysis, Decision trees, Linear Optimization, Text Mining etc.- Must have experience in doing POCs- Strong applied fundamentals in data management, parallel computing and distributed systems; experience in productionizing & retraining models- Ability to guide and mentor teams of associates on solution development and approaches- Broad knowledge of fundamentals and state-of-the-art in NLP and machine learning- Coding skills in one or more programming languages such as Python, Scala, Java, C, C++- Expert high level of understanding on language semantic concepts & data standardization- Proven track record of successful models and practical implementation- Hands-on experience with popular ML frameworks such as TensorFlow- Experience with application development practices at scale, from problem definition to deployment.- Familiarity with Cloud services such as AWS, SageMaker etc. is considered a plus- Develop and apply Statistical Modeling techniques (e.g. Bayesian models and deep neural networks), optimization methods, and other ML techniques to different applications- Knowledge in Machine Learning techniques in entity resolution, common speech products or text search domain',\n",
       " 'Roles and ResponsibilitiesMust have strong Python Programming SkillsStrong analytical & algorithm development skillsLogical and Analytical skills must be really strongMust have worked in DeepLearning Efforts - Especially computer vision.Must have experinece with Object Detection - Custom model training for Object detectionShould have experience with atleast one or more of these - Tensorflow, Keras, PyTorchPrimary Skills - Python + tensorflow - Keras / PyTorch, OpenCVPerks and BenefitsKindly share your resume to kandavelkumar.lakshmanan @cesltd.com']"
      ]
     },
     "execution_count": 76,
     "metadata": {},
     "output_type": "execute_result"
    }
   ],
   "source": [
    "full_job_description"
   ]
  },
  {
   "cell_type": "code",
   "execution_count": 77,
   "metadata": {},
   "outputs": [
    {
     "name": "stdout",
     "output_type": "stream",
     "text": [
      "20 20 20 10\n"
     ]
    }
   ],
   "source": [
    "print(len(job_titles),len(company_names),len(location_list),len(full_job_description))"
   ]
  },
  {
   "cell_type": "code",
   "execution_count": 78,
   "metadata": {},
   "outputs": [],
   "source": [
    "jobs=pd.DataFrame({})\n",
    "jobs['job_titles']=job_titles[:10]\n",
    "jobs['company_names']=company_names[:10]\n",
    "jobs['location_list']=location_list[:10]\n",
    "jobs['full_job_description']=full_job_description"
   ]
  },
  {
   "cell_type": "code",
   "execution_count": 79,
   "metadata": {},
   "outputs": [
    {
     "data": {
      "text/html": [
       "<div>\n",
       "<style scoped>\n",
       "    .dataframe tbody tr th:only-of-type {\n",
       "        vertical-align: middle;\n",
       "    }\n",
       "\n",
       "    .dataframe tbody tr th {\n",
       "        vertical-align: top;\n",
       "    }\n",
       "\n",
       "    .dataframe thead th {\n",
       "        text-align: right;\n",
       "    }\n",
       "</style>\n",
       "<table border=\"1\" class=\"dataframe\">\n",
       "  <thead>\n",
       "    <tr style=\"text-align: right;\">\n",
       "      <th></th>\n",
       "      <th>job_titles</th>\n",
       "      <th>company_names</th>\n",
       "      <th>location_list</th>\n",
       "      <th>full_job_description</th>\n",
       "    </tr>\n",
       "  </thead>\n",
       "  <tbody>\n",
       "    <tr>\n",
       "      <th>0</th>\n",
       "      <td>Data Scientist - Python/ MATLAB/ Machine Learn...</td>\n",
       "      <td>Wrackle Technologies Pvt Ltd</td>\n",
       "      <td>Bengaluru</td>\n",
       "      <td>Data Scientist - Data Mining/ Machine Learning...</td>\n",
       "    </tr>\n",
       "    <tr>\n",
       "      <th>1</th>\n",
       "      <td>Lead Data Scientist - Machine Learning/ Data M...</td>\n",
       "      <td>Wrackle Technologies Pvt Ltd</td>\n",
       "      <td>Bengaluru</td>\n",
       "      <td>Roles and ResponsibilitiesRequirements :- 6-9 ...</td>\n",
       "    </tr>\n",
       "    <tr>\n",
       "      <th>2</th>\n",
       "      <td>Data Scientist - Machine Learning (Commerce BU)</td>\n",
       "      <td>BLUE YONDER INDIA PRIVATE LIMITED</td>\n",
       "      <td>Bengaluru</td>\n",
       "      <td>Roles and ResponsibilitiesRequirements :- 6-9 ...</td>\n",
       "    </tr>\n",
       "    <tr>\n",
       "      <th>3</th>\n",
       "      <td>Principal Data Scientist - Machine/Deep Learni...</td>\n",
       "      <td>Fidius advisory</td>\n",
       "      <td>Bengaluru</td>\n",
       "      <td>Job Description :- We are looking for a resear...</td>\n",
       "    </tr>\n",
       "    <tr>\n",
       "      <th>4</th>\n",
       "      <td>Data Scientist</td>\n",
       "      <td>Atos Syntel Private Limited</td>\n",
       "      <td>Chennai, Pune, Mumbai, Bengaluru</td>\n",
       "      <td>Working experience in Artificial Intelligence,...</td>\n",
       "    </tr>\n",
       "    <tr>\n",
       "      <th>5</th>\n",
       "      <td>Opening For Sr. Data Scientist @ Tech Mahindra</td>\n",
       "      <td>Tech Mahindra Ltd.</td>\n",
       "      <td>Pune, Bengaluru</td>\n",
       "      <td>Working experience in Artificial Intelligence,...</td>\n",
       "    </tr>\n",
       "    <tr>\n",
       "      <th>6</th>\n",
       "      <td>Opening For Sr. Data Scientist @ Tech Mahindra</td>\n",
       "      <td>Tech Mahindra Ltd.</td>\n",
       "      <td>Pune, Bengaluru</td>\n",
       "      <td>Working experience in Artificial Intelligence,...</td>\n",
       "    </tr>\n",
       "    <tr>\n",
       "      <th>7</th>\n",
       "      <td>Senior / Lead Data Scientist</td>\n",
       "      <td>TVS CREDIT SERVICES LIMITED</td>\n",
       "      <td>Chennai, Pune, Bengaluru</td>\n",
       "      <td>Key ResponsibilitiesBe responsible for scaling...</td>\n",
       "    </tr>\n",
       "    <tr>\n",
       "      <th>8</th>\n",
       "      <td>Senior Data Scientist - NLP/ Python/ R</td>\n",
       "      <td>AVI Consulting LLP</td>\n",
       "      <td>Bengaluru, Hyderabad</td>\n",
       "      <td>Roles and ResponsibilitiesSkill : NLP,Semantic...</td>\n",
       "    </tr>\n",
       "    <tr>\n",
       "      <th>9</th>\n",
       "      <td>Senior Data Scientist | CES IT LTD | CMMI Level 5</td>\n",
       "      <td>CES Ltd.</td>\n",
       "      <td>Chennai, Pune, Delhi NCR, Mumbai, Bengaluru, H...</td>\n",
       "      <td>Roles and ResponsibilitiesMust have strong Pyt...</td>\n",
       "    </tr>\n",
       "  </tbody>\n",
       "</table>\n",
       "</div>"
      ],
      "text/plain": [
       "                                          job_titles  \\\n",
       "0  Data Scientist - Python/ MATLAB/ Machine Learn...   \n",
       "1  Lead Data Scientist - Machine Learning/ Data M...   \n",
       "2    Data Scientist - Machine Learning (Commerce BU)   \n",
       "3  Principal Data Scientist - Machine/Deep Learni...   \n",
       "4                                     Data Scientist   \n",
       "5     Opening For Sr. Data Scientist @ Tech Mahindra   \n",
       "6     Opening For Sr. Data Scientist @ Tech Mahindra   \n",
       "7                       Senior / Lead Data Scientist   \n",
       "8             Senior Data Scientist - NLP/ Python/ R   \n",
       "9  Senior Data Scientist | CES IT LTD | CMMI Level 5   \n",
       "\n",
       "                       company_names  \\\n",
       "0       Wrackle Technologies Pvt Ltd   \n",
       "1       Wrackle Technologies Pvt Ltd   \n",
       "2  BLUE YONDER INDIA PRIVATE LIMITED   \n",
       "3                    Fidius advisory   \n",
       "4        Atos Syntel Private Limited   \n",
       "5                 Tech Mahindra Ltd.   \n",
       "6                 Tech Mahindra Ltd.   \n",
       "7        TVS CREDIT SERVICES LIMITED   \n",
       "8                 AVI Consulting LLP   \n",
       "9                           CES Ltd.   \n",
       "\n",
       "                                       location_list  \\\n",
       "0                                          Bengaluru   \n",
       "1                                          Bengaluru   \n",
       "2                                          Bengaluru   \n",
       "3                                          Bengaluru   \n",
       "4                   Chennai, Pune, Mumbai, Bengaluru   \n",
       "5                                    Pune, Bengaluru   \n",
       "6                                    Pune, Bengaluru   \n",
       "7                           Chennai, Pune, Bengaluru   \n",
       "8                               Bengaluru, Hyderabad   \n",
       "9  Chennai, Pune, Delhi NCR, Mumbai, Bengaluru, H...   \n",
       "\n",
       "                                full_job_description  \n",
       "0  Data Scientist - Data Mining/ Machine Learning...  \n",
       "1  Roles and ResponsibilitiesRequirements :- 6-9 ...  \n",
       "2  Roles and ResponsibilitiesRequirements :- 6-9 ...  \n",
       "3  Job Description :- We are looking for a resear...  \n",
       "4  Working experience in Artificial Intelligence,...  \n",
       "5  Working experience in Artificial Intelligence,...  \n",
       "6  Working experience in Artificial Intelligence,...  \n",
       "7  Key ResponsibilitiesBe responsible for scaling...  \n",
       "8  Roles and ResponsibilitiesSkill : NLP,Semantic...  \n",
       "9  Roles and ResponsibilitiesMust have strong Pyt...  "
      ]
     },
     "execution_count": 79,
     "metadata": {},
     "output_type": "execute_result"
    }
   ],
   "source": [
    "jobs"
   ]
  },
  {
   "cell_type": "code",
   "execution_count": null,
   "metadata": {},
   "outputs": [],
   "source": []
  }
 ],
 "metadata": {
  "kernelspec": {
   "display_name": "Python 3",
   "language": "python",
   "name": "python3"
  },
  "language_info": {
   "codemirror_mode": {
    "name": "ipython",
    "version": 3
   },
   "file_extension": ".py",
   "mimetype": "text/x-python",
   "name": "python",
   "nbconvert_exporter": "python",
   "pygments_lexer": "ipython3",
   "version": "3.8.3"
  }
 },
 "nbformat": 4,
 "nbformat_minor": 4
}
