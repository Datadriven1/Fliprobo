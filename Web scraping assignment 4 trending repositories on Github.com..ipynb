{
 "cells": [
  {
   "cell_type": "code",
   "execution_count": 101,
   "metadata": {},
   "outputs": [
    {
     "name": "stdout",
     "output_type": "stream",
     "text": [
      "Requirement already satisfied: selenium in c:\\users\\bhupe\\anaconda3\\lib\\site-packages (3.141.0)\n",
      "Requirement already satisfied: urllib3 in c:\\users\\bhupe\\anaconda3\\lib\\site-packages (from selenium) (1.25.9)\n",
      "Requirement already satisfied: webdriver-manager in c:\\users\\bhupe\\anaconda3\\lib\\site-packages (3.3.0)\n",
      "Requirement already satisfied: configparser in c:\\users\\bhupe\\anaconda3\\lib\\site-packages (from webdriver-manager) (5.0.1)\n",
      "Requirement already satisfied: crayons in c:\\users\\bhupe\\anaconda3\\lib\\site-packages (from webdriver-manager) (0.4.0)\n",
      "Requirement already satisfied: requests in c:\\users\\bhupe\\anaconda3\\lib\\site-packages (from webdriver-manager) (2.24.0)\n",
      "Requirement already satisfied: colorama in c:\\users\\bhupe\\anaconda3\\lib\\site-packages (from crayons->webdriver-manager) (0.4.3)\n",
      "Requirement already satisfied: certifi>=2017.4.17 in c:\\users\\bhupe\\anaconda3\\lib\\site-packages (from requests->webdriver-manager) (2020.6.20)\n",
      "Requirement already satisfied: idna<3,>=2.5 in c:\\users\\bhupe\\anaconda3\\lib\\site-packages (from requests->webdriver-manager) (2.10)\n",
      "Requirement already satisfied: urllib3!=1.25.0,!=1.25.1,<1.26,>=1.21.1 in c:\\users\\bhupe\\anaconda3\\lib\\site-packages (from requests->webdriver-manager) (1.25.9)\n",
      "Requirement already satisfied: chardet<4,>=3.0.2 in c:\\users\\bhupe\\anaconda3\\lib\\site-packages (from requests->webdriver-manager) (3.0.4)\n"
     ]
    }
   ],
   "source": [
    "! pip install selenium\n",
    "import selenium\n",
    "import pandas as pd\n",
    "!pip install webdriver-manager\n",
    "from selenium import webdriver\n",
    "from webdriver_manager.chrome import ChromeDriverManager\n",
    "from selenium.webdriver.common.keys import Keys \n",
    "from selenium.common.exceptions import ElementClickInterceptedException\n",
    "from selenium.common.exceptions import StaleElementReferenceException, NoSuchElementException\n",
    "from selenium.common.exceptions import ElementNotInteractableException\n",
    "from selenium.webdriver.support import expected_conditions as EC\n",
    "from selenium.webdriver.support.ui import WebDriverWait\n",
    "from selenium.webdriver.common.by import By\n",
    "from selenium.webdriver.support import ui\n",
    "import warnings\n",
    "warnings.filterwarnings('ignore')\n",
    "import time"
   ]
  },
  {
   "cell_type": "code",
   "execution_count": 102,
   "metadata": {},
   "outputs": [
    {
     "name": "stderr",
     "output_type": "stream",
     "text": [
      "[WDM] - ====== WebDriver manager ======\n",
      "[WDM] - Current google-chrome version is 88.0.4324\n",
      "[WDM] - Get LATEST driver version for 88.0.4324\n"
     ]
    },
    {
     "name": "stdout",
     "output_type": "stream",
     "text": [
      "\n",
      "\n"
     ]
    },
    {
     "name": "stderr",
     "output_type": "stream",
     "text": [
      "[WDM] - Driver [C:\\Users\\bhupe\\.wdm\\drivers\\chromedriver\\win32\\88.0.4324.96\\chromedriver.exe] found in cache\n"
     ]
    }
   ],
   "source": [
    "driver=webdriver.Chrome(ChromeDriverManager().install())"
   ]
  },
  {
   "cell_type": "code",
   "execution_count": 103,
   "metadata": {},
   "outputs": [],
   "source": [
    "driver.get('https://github.com/')"
   ]
  },
  {
   "cell_type": "code",
   "execution_count": 104,
   "metadata": {},
   "outputs": [],
   "source": [
    "explore = ui.WebDriverWait(driver, 10).until(EC.element_to_be_clickable((By.XPATH, '/html/body/div[1]/header/div/div[2]/nav/ul/li[4]/details/summary')))\n",
    "trending=driver.find_element_by_xpath('/html/body/div[1]/header/div/div[2]/nav/ul/li[4]/details/div/ul[2]/li[3]/a')\n",
    "driver.get(trending.get_attribute('href'))"
   ]
  },
  {
   "cell_type": "code",
   "execution_count": 105,
   "metadata": {},
   "outputs": [],
   "source": [
    "Repository_title=[]\n",
    "Repository_description=[]\n",
    "Contributors_count=[]\n",
    "Language_used=[]"
   ]
  },
  {
   "cell_type": "code",
   "execution_count": 106,
   "metadata": {},
   "outputs": [
    {
     "data": {
      "text/plain": [
       "[<selenium.webdriver.remote.webelement.WebElement (session=\"3a4bb8d5dd6c6114ace0613f1519c580\", element=\"136e3e08-7f8a-4207-8581-a92b78af0d9b\")>,\n",
       " <selenium.webdriver.remote.webelement.WebElement (session=\"3a4bb8d5dd6c6114ace0613f1519c580\", element=\"37881644-3bfa-479e-8060-70307d42948c\")>,\n",
       " <selenium.webdriver.remote.webelement.WebElement (session=\"3a4bb8d5dd6c6114ace0613f1519c580\", element=\"b734d254-9b12-4794-9953-d3c899db185a\")>,\n",
       " <selenium.webdriver.remote.webelement.WebElement (session=\"3a4bb8d5dd6c6114ace0613f1519c580\", element=\"82640ea0-b907-413c-a68f-bb82d31bcb17\")>]"
      ]
     },
     "execution_count": 106,
     "metadata": {},
     "output_type": "execute_result"
    }
   ],
   "source": [
    "Repository_tag=driver.find_elements_by_xpath('/html/body/div[4]/main/div[3]/div/div[2]/article/h1/a')\n",
    "Repository_tag[:4]"
   ]
  },
  {
   "cell_type": "code",
   "execution_count": 107,
   "metadata": {},
   "outputs": [
    {
     "data": {
      "text/plain": [
       "['gskinnerTeam / flutter-folio',\n",
       " 'flutter / flutter',\n",
       " 'google / googletest',\n",
       " 'muguruzawang / jd_maotai_seckill']"
      ]
     },
     "execution_count": 107,
     "metadata": {},
     "output_type": "execute_result"
    }
   ],
   "source": [
    "for i in Repository_tag:\n",
    "    Repository=i.text\n",
    "    Repository_title.append(Repository)\n",
    "    \n",
    "Repository_title[:4]"
   ]
  },
  {
   "cell_type": "code",
   "execution_count": 108,
   "metadata": {},
   "outputs": [],
   "source": [
    "url=[]\n",
    "\n",
    "url_tag=driver.find_elements_by_xpath('/html/body/div[4]/main/div[3]/div/div[2]/article/h1/a')\n",
    "for i in url_tag:\n",
    "        url.append(i.get_attribute('href'))"
   ]
  },
  {
   "cell_type": "code",
   "execution_count": 109,
   "metadata": {},
   "outputs": [],
   "source": [
    "for j in url:\n",
    "        driver.get(j)\n",
    "        try:        \n",
    "            description_tag=driver.find_element_by_xpath('//*[@id=\"repo-content-pjax-container\"]/div/div[2]/div[2]/div/div[1]/div/p | //*[@id=\"repo-content-pjax-container\"]/div/div[2]/div[2]/div/div[1]/div/div[1]')\n",
    "            Repository_description.append(description_tag.text)\n",
    "        \n",
    "        except NoSuchElementException as e:\n",
    "            Repository_description.append(\"-\")\n",
    "            \n",
    "        try:        \n",
    "            Contributors_tag=driver.find_element_by_xpath('//*[@id=\"js-repo-pjax-container\"]/div[1]/div[1]/ul/li[3]/a[2]')\n",
    "            Contributors_count.append(Contributors_tag.text)\n",
    "        \n",
    "        except NoSuchElementException as e:\n",
    "            Contributors_count.append(\"-\")   \n",
    "            \n",
    "        try:        \n",
    "            Language_tag=driver.find_element_by_xpath('//*[@id=\"repo-content-pjax-container\"]/div/div[2]/div[2]/div/div[5]/div/ul/li/a/span[1]')\n",
    "            Language_used.append(Language_tag.text)\n",
    "        \n",
    "        except NoSuchElementException as e:\n",
    "            Language_used.append(\"-\")    "
   ]
  },
  {
   "cell_type": "code",
   "execution_count": 110,
   "metadata": {
    "scrolled": true
   },
   "outputs": [
    {
     "name": "stdout",
     "output_type": "stream",
     "text": [
      "25 25 25 25\n"
     ]
    }
   ],
   "source": [
    "print(len(Repository_title),len(Repository_description),len(Contributors_count),len(Language_used))"
   ]
  },
  {
   "cell_type": "code",
   "execution_count": 111,
   "metadata": {},
   "outputs": [],
   "source": [
    "trending_repositories=pd.DataFrame({})\n",
    "trending_repositories['Repository_title']=Repository_title\n",
    "trending_repositories['Repository_description']=Repository_description\n",
    "trending_repositories['Contributors_count']=Contributors_count\n",
    "trending_repositories['Language_used']=Language_used"
   ]
  },
  {
   "cell_type": "code",
   "execution_count": 112,
   "metadata": {},
   "outputs": [
    {
     "data": {
      "text/html": [
       "<div>\n",
       "<style scoped>\n",
       "    .dataframe tbody tr th:only-of-type {\n",
       "        vertical-align: middle;\n",
       "    }\n",
       "\n",
       "    .dataframe tbody tr th {\n",
       "        vertical-align: top;\n",
       "    }\n",
       "\n",
       "    .dataframe thead th {\n",
       "        text-align: right;\n",
       "    }\n",
       "</style>\n",
       "<table border=\"1\" class=\"dataframe\">\n",
       "  <thead>\n",
       "    <tr style=\"text-align: right;\">\n",
       "      <th></th>\n",
       "      <th>Repository_title</th>\n",
       "      <th>Repository_description</th>\n",
       "      <th>Contributors_count</th>\n",
       "      <th>Language_used</th>\n",
       "    </tr>\n",
       "  </thead>\n",
       "  <tbody>\n",
       "    <tr>\n",
       "      <th>0</th>\n",
       "      <td>gskinnerTeam / flutter-folio</td>\n",
       "      <td>A platform adaptive Flutter app for desktop, m...</td>\n",
       "      <td>144</td>\n",
       "      <td>-</td>\n",
       "    </tr>\n",
       "    <tr>\n",
       "      <th>1</th>\n",
       "      <td>flutter / flutter</td>\n",
       "      <td>Flutter makes it easy and fast to build beauti...</td>\n",
       "      <td>16.4k</td>\n",
       "      <td>-</td>\n",
       "    </tr>\n",
       "    <tr>\n",
       "      <th>2</th>\n",
       "      <td>google / googletest</td>\n",
       "      <td>Googletest - Google Testing and Mocking Framework</td>\n",
       "      <td>7.3k</td>\n",
       "      <td>-</td>\n",
       "    </tr>\n",
       "    <tr>\n",
       "      <th>3</th>\n",
       "      <td>muguruzawang / jd_maotai_seckill</td>\n",
       "      <td>优化版本的京东茅台抢购神器</td>\n",
       "      <td>4.3k</td>\n",
       "      <td>Python</td>\n",
       "    </tr>\n",
       "    <tr>\n",
       "      <th>4</th>\n",
       "      <td>dolthub / dolt</td>\n",
       "      <td>Dolt – It's Git for Data</td>\n",
       "      <td>86</td>\n",
       "      <td>Go</td>\n",
       "    </tr>\n",
       "    <tr>\n",
       "      <th>5</th>\n",
       "      <td>influxdata / influxdb</td>\n",
       "      <td>Scalable datastore for metrics, events, and re...</td>\n",
       "      <td>2.9k</td>\n",
       "      <td>-</td>\n",
       "    </tr>\n",
       "    <tr>\n",
       "      <th>6</th>\n",
       "      <td>aws / aws-sdk-go</td>\n",
       "      <td>AWS SDK for the Go programming language.</td>\n",
       "      <td>1.6k</td>\n",
       "      <td>-</td>\n",
       "    </tr>\n",
       "    <tr>\n",
       "      <th>7</th>\n",
       "      <td>Developer-Y / cs-video-courses</td>\n",
       "      <td>List of Computer Science courses with video le...</td>\n",
       "      <td>3k</td>\n",
       "      <td>-</td>\n",
       "    </tr>\n",
       "    <tr>\n",
       "      <th>8</th>\n",
       "      <td>52CV / CVPR-2021-Papers</td>\n",
       "      <td>No description, website, or topics provided.</td>\n",
       "      <td>20</td>\n",
       "      <td>-</td>\n",
       "    </tr>\n",
       "    <tr>\n",
       "      <th>9</th>\n",
       "      <td>sohamsshah / JavaScriptONLY</td>\n",
       "      <td>Knowledge Resource of core fundamentals of Jav...</td>\n",
       "      <td>57</td>\n",
       "      <td>JavaScript</td>\n",
       "    </tr>\n",
       "    <tr>\n",
       "      <th>10</th>\n",
       "      <td>adobe / brackets</td>\n",
       "      <td>An open source code editor for the web, writte...</td>\n",
       "      <td>6.9k</td>\n",
       "      <td>-</td>\n",
       "    </tr>\n",
       "    <tr>\n",
       "      <th>11</th>\n",
       "      <td>kilimchoi / engineering-blogs</td>\n",
       "      <td>A curated list of engineering blogs</td>\n",
       "      <td>281</td>\n",
       "      <td>-</td>\n",
       "    </tr>\n",
       "    <tr>\n",
       "      <th>12</th>\n",
       "      <td>microsoft / Web-Dev-For-Beginners</td>\n",
       "      <td>24 Lessons, 12 Weeks, Get Started as a Web Dev...</td>\n",
       "      <td>2.9k</td>\n",
       "      <td>-</td>\n",
       "    </tr>\n",
       "    <tr>\n",
       "      <th>13</th>\n",
       "      <td>tone-row / flowchart-fun</td>\n",
       "      <td>A small app for making quick flowcharts from t...</td>\n",
       "      <td>1.1k</td>\n",
       "      <td>-</td>\n",
       "    </tr>\n",
       "    <tr>\n",
       "      <th>14</th>\n",
       "      <td>dwisiswant0 / apkleaks</td>\n",
       "      <td>Scanning APK file for URIs, endpoints &amp; secrets.</td>\n",
       "      <td>603</td>\n",
       "      <td>-</td>\n",
       "    </tr>\n",
       "    <tr>\n",
       "      <th>15</th>\n",
       "      <td>nomi-sec / PoC-in-GitHub</td>\n",
       "      <td>📡 PoC auto collect from GitHub. ⚠️ Be careful ...</td>\n",
       "      <td>430</td>\n",
       "      <td>-</td>\n",
       "    </tr>\n",
       "    <tr>\n",
       "      <th>16</th>\n",
       "      <td>microsoft / Power-Fx</td>\n",
       "      <td>Power Fx low-code programming language</td>\n",
       "      <td>38</td>\n",
       "      <td>-</td>\n",
       "    </tr>\n",
       "    <tr>\n",
       "      <th>17</th>\n",
       "      <td>flutter / samples</td>\n",
       "      <td>A collection of Flutter examples and demos.</td>\n",
       "      <td>3.5k</td>\n",
       "      <td>-</td>\n",
       "    </tr>\n",
       "    <tr>\n",
       "      <th>18</th>\n",
       "      <td>yangshun / front-end-interview-handbook</td>\n",
       "      <td>🕸 No-bullshit answers to the famous h5bp \"Fron...</td>\n",
       "      <td>28k</td>\n",
       "      <td>JavaScript</td>\n",
       "    </tr>\n",
       "    <tr>\n",
       "      <th>19</th>\n",
       "      <td>AvrahamRaviv / Deep-Learning-in-Hebrew</td>\n",
       "      <td>ספר מלא בעברית בנושאים של למידת מכונה ולמידה ע...</td>\n",
       "      <td>12</td>\n",
       "      <td>-</td>\n",
       "    </tr>\n",
       "    <tr>\n",
       "      <th>20</th>\n",
       "      <td>git / git</td>\n",
       "      <td>Git Source Code Mirror - This is a publish-onl...</td>\n",
       "      <td>21k</td>\n",
       "      <td>C</td>\n",
       "    </tr>\n",
       "    <tr>\n",
       "      <th>21</th>\n",
       "      <td>google / material-design-icons</td>\n",
       "      <td>Material Design icons by Google</td>\n",
       "      <td>8.6k</td>\n",
       "      <td>-</td>\n",
       "    </tr>\n",
       "    <tr>\n",
       "      <th>22</th>\n",
       "      <td>dorarad / gansformer</td>\n",
       "      <td>Generative Adversarial Transformers</td>\n",
       "      <td>11</td>\n",
       "      <td>Python</td>\n",
       "    </tr>\n",
       "    <tr>\n",
       "      <th>23</th>\n",
       "      <td>trekhleb / javascript-algorithms</td>\n",
       "      <td>📝 Algorithms and data structures implemented i...</td>\n",
       "      <td>98.3k</td>\n",
       "      <td>-</td>\n",
       "    </tr>\n",
       "    <tr>\n",
       "      <th>24</th>\n",
       "      <td>dpaulson45 / HealthChecker</td>\n",
       "      <td>Exchange Server Performance Health Checker Script</td>\n",
       "      <td>32</td>\n",
       "      <td>PowerShell</td>\n",
       "    </tr>\n",
       "  </tbody>\n",
       "</table>\n",
       "</div>"
      ],
      "text/plain": [
       "                           Repository_title  \\\n",
       "0              gskinnerTeam / flutter-folio   \n",
       "1                         flutter / flutter   \n",
       "2                       google / googletest   \n",
       "3          muguruzawang / jd_maotai_seckill   \n",
       "4                            dolthub / dolt   \n",
       "5                     influxdata / influxdb   \n",
       "6                          aws / aws-sdk-go   \n",
       "7            Developer-Y / cs-video-courses   \n",
       "8                   52CV / CVPR-2021-Papers   \n",
       "9               sohamsshah / JavaScriptONLY   \n",
       "10                         adobe / brackets   \n",
       "11            kilimchoi / engineering-blogs   \n",
       "12        microsoft / Web-Dev-For-Beginners   \n",
       "13                 tone-row / flowchart-fun   \n",
       "14                   dwisiswant0 / apkleaks   \n",
       "15                 nomi-sec / PoC-in-GitHub   \n",
       "16                     microsoft / Power-Fx   \n",
       "17                        flutter / samples   \n",
       "18  yangshun / front-end-interview-handbook   \n",
       "19   AvrahamRaviv / Deep-Learning-in-Hebrew   \n",
       "20                                git / git   \n",
       "21           google / material-design-icons   \n",
       "22                     dorarad / gansformer   \n",
       "23         trekhleb / javascript-algorithms   \n",
       "24               dpaulson45 / HealthChecker   \n",
       "\n",
       "                               Repository_description Contributors_count  \\\n",
       "0   A platform adaptive Flutter app for desktop, m...                144   \n",
       "1   Flutter makes it easy and fast to build beauti...              16.4k   \n",
       "2   Googletest - Google Testing and Mocking Framework               7.3k   \n",
       "3                                       优化版本的京东茅台抢购神器               4.3k   \n",
       "4                            Dolt – It's Git for Data                 86   \n",
       "5   Scalable datastore for metrics, events, and re...               2.9k   \n",
       "6            AWS SDK for the Go programming language.               1.6k   \n",
       "7   List of Computer Science courses with video le...                 3k   \n",
       "8        No description, website, or topics provided.                 20   \n",
       "9   Knowledge Resource of core fundamentals of Jav...                 57   \n",
       "10  An open source code editor for the web, writte...               6.9k   \n",
       "11                A curated list of engineering blogs                281   \n",
       "12  24 Lessons, 12 Weeks, Get Started as a Web Dev...               2.9k   \n",
       "13  A small app for making quick flowcharts from t...               1.1k   \n",
       "14   Scanning APK file for URIs, endpoints & secrets.                603   \n",
       "15  📡 PoC auto collect from GitHub. ⚠️ Be careful ...                430   \n",
       "16             Power Fx low-code programming language                 38   \n",
       "17        A collection of Flutter examples and demos.               3.5k   \n",
       "18  🕸 No-bullshit answers to the famous h5bp \"Fron...                28k   \n",
       "19  ספר מלא בעברית בנושאים של למידת מכונה ולמידה ע...                 12   \n",
       "20  Git Source Code Mirror - This is a publish-onl...                21k   \n",
       "21                    Material Design icons by Google               8.6k   \n",
       "22                Generative Adversarial Transformers                 11   \n",
       "23  📝 Algorithms and data structures implemented i...              98.3k   \n",
       "24  Exchange Server Performance Health Checker Script                 32   \n",
       "\n",
       "   Language_used  \n",
       "0              -  \n",
       "1              -  \n",
       "2              -  \n",
       "3         Python  \n",
       "4             Go  \n",
       "5              -  \n",
       "6              -  \n",
       "7              -  \n",
       "8              -  \n",
       "9     JavaScript  \n",
       "10             -  \n",
       "11             -  \n",
       "12             -  \n",
       "13             -  \n",
       "14             -  \n",
       "15             -  \n",
       "16             -  \n",
       "17             -  \n",
       "18    JavaScript  \n",
       "19             -  \n",
       "20             C  \n",
       "21             -  \n",
       "22        Python  \n",
       "23             -  \n",
       "24    PowerShell  "
      ]
     },
     "execution_count": 112,
     "metadata": {},
     "output_type": "execute_result"
    }
   ],
   "source": [
    "trending_repositories"
   ]
  },
  {
   "cell_type": "code",
   "execution_count": null,
   "metadata": {},
   "outputs": [],
   "source": []
  }
 ],
 "metadata": {
  "kernelspec": {
   "display_name": "Python 3",
   "language": "python",
   "name": "python3"
  },
  "language_info": {
   "codemirror_mode": {
    "name": "ipython",
    "version": 3
   },
   "file_extension": ".py",
   "mimetype": "text/x-python",
   "name": "python",
   "nbconvert_exporter": "python",
   "pygments_lexer": "ipython3",
   "version": "3.8.3"
  }
 },
 "nbformat": 4,
 "nbformat_minor": 4
}
