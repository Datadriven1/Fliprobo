{
 "cells": [
  {
   "cell_type": "code",
   "execution_count": 168,
   "metadata": {},
   "outputs": [
    {
     "name": "stdout",
     "output_type": "stream",
     "text": [
      "Requirement already satisfied: selenium in c:\\users\\bhupe\\anaconda3\\lib\\site-packages (3.141.0)\n",
      "Requirement already satisfied: urllib3 in c:\\users\\bhupe\\anaconda3\\lib\\site-packages (from selenium) (1.25.9)\n",
      "Requirement already satisfied: webdriver-manager in c:\\users\\bhupe\\anaconda3\\lib\\site-packages (3.3.0)\n",
      "Requirement already satisfied: requests in c:\\users\\bhupe\\anaconda3\\lib\\site-packages (from webdriver-manager) (2.24.0)\n",
      "Requirement already satisfied: configparser in c:\\users\\bhupe\\anaconda3\\lib\\site-packages (from webdriver-manager) (5.0.1)\n",
      "Requirement already satisfied: crayons in c:\\users\\bhupe\\anaconda3\\lib\\site-packages (from webdriver-manager) (0.4.0)\n",
      "Requirement already satisfied: urllib3!=1.25.0,!=1.25.1,<1.26,>=1.21.1 in c:\\users\\bhupe\\anaconda3\\lib\\site-packages (from requests->webdriver-manager) (1.25.9)\n",
      "Requirement already satisfied: idna<3,>=2.5 in c:\\users\\bhupe\\anaconda3\\lib\\site-packages (from requests->webdriver-manager) (2.10)\n",
      "Requirement already satisfied: certifi>=2017.4.17 in c:\\users\\bhupe\\anaconda3\\lib\\site-packages (from requests->webdriver-manager) (2020.6.20)\n",
      "Requirement already satisfied: chardet<4,>=3.0.2 in c:\\users\\bhupe\\anaconda3\\lib\\site-packages (from requests->webdriver-manager) (3.0.4)\n",
      "Requirement already satisfied: colorama in c:\\users\\bhupe\\anaconda3\\lib\\site-packages (from crayons->webdriver-manager) (0.4.3)\n"
     ]
    }
   ],
   "source": [
    "! pip install selenium\n",
    "import selenium\n",
    "import pandas as pd\n",
    "!pip install webdriver-manager\n",
    "from selenium import webdriver\n",
    "from webdriver_manager.chrome import ChromeDriverManager\n",
    "from selenium.webdriver.common.keys import Keys \n",
    "from selenium.common.exceptions import ElementClickInterceptedException\n",
    "from selenium.common.exceptions import StaleElementReferenceException, NoSuchElementException\n",
    "from selenium.common.exceptions import ElementNotInteractableException\n",
    "from selenium.webdriver.support import expected_conditions as EC\n",
    "from selenium.webdriver.support.ui import WebDriverWait\n",
    "from selenium.webdriver.common.by import By\n",
    "from selenium.webdriver.support import ui\n",
    "import warnings\n",
    "warnings.filterwarnings('ignore')\n",
    "import time"
   ]
  },
  {
   "cell_type": "code",
   "execution_count": 169,
   "metadata": {},
   "outputs": [
    {
     "name": "stderr",
     "output_type": "stream",
     "text": [
      "[WDM] - ====== WebDriver manager ======\n",
      "[WDM] - Current google-chrome version is 88.0.4324\n",
      "[WDM] - Get LATEST driver version for 88.0.4324\n"
     ]
    },
    {
     "name": "stdout",
     "output_type": "stream",
     "text": [
      "\n",
      "\n"
     ]
    },
    {
     "name": "stderr",
     "output_type": "stream",
     "text": [
      "[WDM] - Driver [C:\\Users\\bhupe\\.wdm\\drivers\\chromedriver\\win32\\88.0.4324.96\\chromedriver.exe] found in cache\n"
     ]
    }
   ],
   "source": [
    "driver=webdriver.Chrome(ChromeDriverManager().install())"
   ]
  },
  {
   "cell_type": "code",
   "execution_count": 170,
   "metadata": {},
   "outputs": [],
   "source": [
    "driver.get('https://www.naukri.com/')"
   ]
  },
  {
   "cell_type": "code",
   "execution_count": 171,
   "metadata": {},
   "outputs": [],
   "source": [
    "recruiters=driver.find_element_by_xpath('//*[@id=\"root\"]/div[1]/div/ul[1]/li[2]/a')\n",
    "driver.get(recruiters.get_attribute('href'))"
   ]
  },
  {
   "cell_type": "code",
   "execution_count": 172,
   "metadata": {},
   "outputs": [],
   "source": [
    "search_job=driver.find_element_by_xpath('//*[@id=\"skill\"]/div[1]/div[2]/input')\n",
    "search_job.send_keys('Data science')\n",
    "search_btn=driver.find_element_by_xpath('//*[@id=\"qsbFormBtn\"]')\n",
    "search_btn.click()"
   ]
  },
  {
   "cell_type": "code",
   "execution_count": 173,
   "metadata": {},
   "outputs": [],
   "source": [
    "Name=[]\n",
    "Designation=[]\n",
    "Company=[]\n",
    "Skills_hire_for=[]\n",
    "Location=[]"
   ]
  },
  {
   "cell_type": "code",
   "execution_count": 174,
   "metadata": {
    "scrolled": true
   },
   "outputs": [
    {
     "name": "stdout",
     "output_type": "stream",
     "text": [
      "NoSuchElementException\n",
      "NoSuchElementException\n"
     ]
    }
   ],
   "source": [
    "start_page = 0\n",
    "end_page = 119\n",
    "urls = []\n",
    "for page in range(start_page,end_page+1):\n",
    "    try:\n",
    "        page_urls = driver.find_elements_by_xpath('//p[@class=\"highlightable\"]/a[1]')\n",
    "        \n",
    "        \n",
    "        for url in page_urls:\n",
    "            url = url.get_attribute('href')     \n",
    "            if url[0:4]=='http':                \n",
    "                urls.append(url)                \n",
    "        \n",
    "        # Moving to next page\n",
    "        nxt_button = driver.find_element_by_xpath('//div[@class=\"pagination\"]/button[1]')      \n",
    "        if nxt_button.text == 'Next':                                            \n",
    "            nxt_button.click()                                                    \n",
    "            time.sleep(2)\n",
    "            continue\n",
    "            \n",
    "        else:\n",
    "            nxt_button1=driver.find_element_by_xpath('//div[@class=\"pagination\"]/button[2]')\n",
    "            nxt_button1.click()\n",
    "            time.sleep(2)\n",
    "\n",
    "    except NoSuchElementException as e:                \n",
    "        print(\"NoSuchElementException\")"
   ]
  },
  {
   "cell_type": "code",
   "execution_count": 175,
   "metadata": {},
   "outputs": [
    {
     "name": "stdout",
     "output_type": "stream",
     "text": [
      "5909\n"
     ]
    }
   ],
   "source": [
    "print(len(urls))"
   ]
  },
  {
   "cell_type": "code",
   "execution_count": 176,
   "metadata": {},
   "outputs": [],
   "source": [
    "for i in urls:\n",
    "        driver.get(i)\n",
    "        try:                 \n",
    "            name=driver.find_element_by_xpath(\"/html/body/div[2]/div[1]/div[1]/div[2]/div[2]/h1\")\n",
    "            Name.append(name.text)\n",
    "        \n",
    "        except NoSuchElementException   as e:\n",
    "            Name.append(\"-\")\n",
    "                \n",
    "        try:                 \n",
    "            designation=driver.find_element_by_xpath(\"/html/body/div[2]/div[1]/div[1]/div[2]/div[3]\")\n",
    "            Designation.append(designation.text)\n",
    "        \n",
    "        except NoSuchElementException   as e:\n",
    "            Designation.append(\"-\")  \n",
    "            \n",
    "        try:    \n",
    "            company=driver.find_element_by_xpath(\"/html/body/div[2]/div[1]/div[1]/div[2]/div[4]/a\")\n",
    "            Company.append(company.text)\n",
    "        \n",
    "        except NoSuchElementException   as e:\n",
    "            Company.append(\"-\")    \n",
    "                \n",
    "        try:\n",
    "            skill=driver.find_element_by_xpath('//*[@id=\"skillInfo\"]/p[1]')      \n",
    "            Skills_hire_for.append(skill.text)\n",
    "        \n",
    "        except NoSuchElementException   as e:\n",
    "            Skills_hire_for.append(\"-\")\n",
    "                \n",
    "        try:                 \n",
    "            location=driver.find_element_by_xpath(\"/html/body/div[2]/div[1]/div[1]/div[2]/div[5]/a\")\n",
    "            Location.append(location.text)\n",
    "            \n",
    "        except NoSuchElementException as e:\n",
    "            Location.append(\"-\")"
   ]
  },
  {
   "cell_type": "code",
   "execution_count": 177,
   "metadata": {},
   "outputs": [
    {
     "name": "stdout",
     "output_type": "stream",
     "text": [
      "5909 5909 5909 5909 5909\n"
     ]
    }
   ],
   "source": [
    "print(len(Name),len(Designation),len(Company),len(Skills_hire_for),len(Location))"
   ]
  },
  {
   "cell_type": "code",
   "execution_count": 178,
   "metadata": {},
   "outputs": [],
   "source": [
    "Data_science_recruiters=pd.DataFrame({})\n",
    "Data_science_recruiters['Name']=Name\n",
    "Data_science_recruiters['Designation']=Designation\n",
    "Data_science_recruiters['Company']=Company\n",
    "Data_science_recruiters['Skills_hire_for']=Skills_hire_for\n",
    "Data_science_recruiters['Location']=Location"
   ]
  },
  {
   "cell_type": "code",
   "execution_count": 179,
   "metadata": {},
   "outputs": [
    {
     "data": {
      "text/html": [
       "<div>\n",
       "<style scoped>\n",
       "    .dataframe tbody tr th:only-of-type {\n",
       "        vertical-align: middle;\n",
       "    }\n",
       "\n",
       "    .dataframe tbody tr th {\n",
       "        vertical-align: top;\n",
       "    }\n",
       "\n",
       "    .dataframe thead th {\n",
       "        text-align: right;\n",
       "    }\n",
       "</style>\n",
       "<table border=\"1\" class=\"dataframe\">\n",
       "  <thead>\n",
       "    <tr style=\"text-align: right;\">\n",
       "      <th></th>\n",
       "      <th>Name</th>\n",
       "      <th>Designation</th>\n",
       "      <th>Company</th>\n",
       "      <th>Skills_hire_for</th>\n",
       "      <th>Location</th>\n",
       "    </tr>\n",
       "  </thead>\n",
       "  <tbody>\n",
       "    <tr>\n",
       "      <th>0</th>\n",
       "      <td>Aakash Harit</td>\n",
       "      <td>HR Manager</td>\n",
       "      <td>Data Science Network</td>\n",
       "      <td>Classic ASP Developer , Internet Marketing Pro...</td>\n",
       "      <td>Delhi</td>\n",
       "    </tr>\n",
       "    <tr>\n",
       "      <th>1</th>\n",
       "      <td>shravan Kumar Gaddam</td>\n",
       "      <td>Company Recruiter</td>\n",
       "      <td>Shore Infotech India Pvt. Ltd</td>\n",
       "      <td>.Net , Java , Data Science , Linux Administrat...</td>\n",
       "      <td>Hyderabad / Secunderabad</td>\n",
       "    </tr>\n",
       "    <tr>\n",
       "      <th>2</th>\n",
       "      <td>Talent Acquisition Executive</td>\n",
       "      <td>Recruitment Professional</td>\n",
       "      <td>XenonStack</td>\n",
       "      <td>Web Designing , html5 , Angular.js , seo , had...</td>\n",
       "      <td>Chandigarh</td>\n",
       "    </tr>\n",
       "    <tr>\n",
       "      <th>3</th>\n",
       "      <td>Anik Agrawal</td>\n",
       "      <td>Company Recruiter</td>\n",
       "      <td>Enerlytics Software Solutions Pvt Ltd</td>\n",
       "      <td>, Mean Stack , javascript , angularjs , mongod...</td>\n",
       "      <td>Ahmedabad</td>\n",
       "    </tr>\n",
       "    <tr>\n",
       "      <th>4</th>\n",
       "      <td>MARSIAN Technologies LLP</td>\n",
       "      <td>Company HR</td>\n",
       "      <td>MARSIAN Technologies LLP</td>\n",
       "      <td>Mid Level, Junior Level</td>\n",
       "      <td>Pune</td>\n",
       "    </tr>\n",
       "    <tr>\n",
       "      <th>...</th>\n",
       "      <td>...</td>\n",
       "      <td>...</td>\n",
       "      <td>...</td>\n",
       "      <td>...</td>\n",
       "      <td>...</td>\n",
       "    </tr>\n",
       "    <tr>\n",
       "      <th>5904</th>\n",
       "      <td>Vikas Tiwari</td>\n",
       "      <td>Tester</td>\n",
       "      <td>Accenture</td>\n",
       "      <td>-</td>\n",
       "      <td>Mumbai</td>\n",
       "    </tr>\n",
       "    <tr>\n",
       "      <th>5905</th>\n",
       "      <td>Faraaz Kharwa</td>\n",
       "      <td>Senior Manager</td>\n",
       "      <td>Netscribes (India) Pvt Ltd</td>\n",
       "      <td>-</td>\n",
       "      <td>Kolkata</td>\n",
       "    </tr>\n",
       "    <tr>\n",
       "      <th>5906</th>\n",
       "      <td>Ravi Manda</td>\n",
       "      <td>Sr. Talent Acquisition Recruiter</td>\n",
       "      <td>New York Global Consultants Pvt. Ltd.</td>\n",
       "      <td>-</td>\n",
       "      <td>Hyderabad / Secunderabad</td>\n",
       "    </tr>\n",
       "    <tr>\n",
       "      <th>5907</th>\n",
       "      <td>Ashish Dave</td>\n",
       "      <td>Sales Head-APAC</td>\n",
       "      <td>Cloudiway</td>\n",
       "      <td>-</td>\n",
       "      <td>Delhi</td>\n",
       "    </tr>\n",
       "    <tr>\n",
       "      <th>5908</th>\n",
       "      <td>Praveen Kumar</td>\n",
       "      <td>Lead Executive</td>\n",
       "      <td>Aricent Technologies (H) Limited</td>\n",
       "      <td>-</td>\n",
       "      <td>Bengaluru / Bangalore</td>\n",
       "    </tr>\n",
       "  </tbody>\n",
       "</table>\n",
       "<p>5909 rows × 5 columns</p>\n",
       "</div>"
      ],
      "text/plain": [
       "                              Name                       Designation  \\\n",
       "0                     Aakash Harit                        HR Manager   \n",
       "1             shravan Kumar Gaddam                 Company Recruiter   \n",
       "2     Talent Acquisition Executive          Recruitment Professional   \n",
       "3                     Anik Agrawal                 Company Recruiter   \n",
       "4         MARSIAN Technologies LLP                        Company HR   \n",
       "...                            ...                               ...   \n",
       "5904                  Vikas Tiwari                            Tester   \n",
       "5905                 Faraaz Kharwa                    Senior Manager   \n",
       "5906                    Ravi Manda  Sr. Talent Acquisition Recruiter   \n",
       "5907                   Ashish Dave                   Sales Head-APAC   \n",
       "5908                 Praveen Kumar                    Lead Executive   \n",
       "\n",
       "                                    Company  \\\n",
       "0                      Data Science Network   \n",
       "1             Shore Infotech India Pvt. Ltd   \n",
       "2                                XenonStack   \n",
       "3     Enerlytics Software Solutions Pvt Ltd   \n",
       "4                  MARSIAN Technologies LLP   \n",
       "...                                     ...   \n",
       "5904                              Accenture   \n",
       "5905             Netscribes (India) Pvt Ltd   \n",
       "5906  New York Global Consultants Pvt. Ltd.   \n",
       "5907                              Cloudiway   \n",
       "5908       Aricent Technologies (H) Limited   \n",
       "\n",
       "                                        Skills_hire_for  \\\n",
       "0     Classic ASP Developer , Internet Marketing Pro...   \n",
       "1     .Net , Java , Data Science , Linux Administrat...   \n",
       "2     Web Designing , html5 , Angular.js , seo , had...   \n",
       "3     , Mean Stack , javascript , angularjs , mongod...   \n",
       "4                               Mid Level, Junior Level   \n",
       "...                                                 ...   \n",
       "5904                                                  -   \n",
       "5905                                                  -   \n",
       "5906                                                  -   \n",
       "5907                                                  -   \n",
       "5908                                                  -   \n",
       "\n",
       "                      Location  \n",
       "0                        Delhi  \n",
       "1     Hyderabad / Secunderabad  \n",
       "2                   Chandigarh  \n",
       "3                    Ahmedabad  \n",
       "4                         Pune  \n",
       "...                        ...  \n",
       "5904                    Mumbai  \n",
       "5905                   Kolkata  \n",
       "5906  Hyderabad / Secunderabad  \n",
       "5907                     Delhi  \n",
       "5908     Bengaluru / Bangalore  \n",
       "\n",
       "[5909 rows x 5 columns]"
      ]
     },
     "execution_count": 179,
     "metadata": {},
     "output_type": "execute_result"
    }
   ],
   "source": [
    "Data_science_recruiters"
   ]
  },
  {
   "cell_type": "code",
   "execution_count": null,
   "metadata": {},
   "outputs": [],
   "source": []
  }
 ],
 "metadata": {
  "kernelspec": {
   "display_name": "Python 3",
   "language": "python",
   "name": "python3"
  },
  "language_info": {
   "codemirror_mode": {
    "name": "ipython",
    "version": 3
   },
   "file_extension": ".py",
   "mimetype": "text/x-python",
   "name": "python",
   "nbconvert_exporter": "python",
   "pygments_lexer": "ipython3",
   "version": "3.8.3"
  }
 },
 "nbformat": 4,
 "nbformat_minor": 4
}
