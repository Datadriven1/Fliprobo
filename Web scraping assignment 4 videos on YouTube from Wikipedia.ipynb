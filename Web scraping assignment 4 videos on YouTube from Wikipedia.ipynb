{
 "cells": [
  {
   "cell_type": "code",
   "execution_count": 163,
   "metadata": {},
   "outputs": [
    {
     "name": "stdout",
     "output_type": "stream",
     "text": [
      "Requirement already satisfied: selenium in c:\\users\\bhupe\\anaconda3\\lib\\site-packages (3.141.0)\n",
      "Requirement already satisfied: urllib3 in c:\\users\\bhupe\\anaconda3\\lib\\site-packages (from selenium) (1.25.9)\n",
      "Requirement already satisfied: webdriver-manager in c:\\users\\bhupe\\anaconda3\\lib\\site-packages (3.3.0)\n",
      "Requirement already satisfied: crayons in c:\\users\\bhupe\\anaconda3\\lib\\site-packages (from webdriver-manager) (0.4.0)\n",
      "Requirement already satisfied: requests in c:\\users\\bhupe\\anaconda3\\lib\\site-packages (from webdriver-manager) (2.24.0)\n",
      "Requirement already satisfied: configparser in c:\\users\\bhupe\\anaconda3\\lib\\site-packages (from webdriver-manager) (5.0.1)\n",
      "Requirement already satisfied: colorama in c:\\users\\bhupe\\anaconda3\\lib\\site-packages (from crayons->webdriver-manager) (0.4.3)\n",
      "Requirement already satisfied: certifi>=2017.4.17 in c:\\users\\bhupe\\anaconda3\\lib\\site-packages (from requests->webdriver-manager) (2020.6.20)\n",
      "Requirement already satisfied: chardet<4,>=3.0.2 in c:\\users\\bhupe\\anaconda3\\lib\\site-packages (from requests->webdriver-manager) (3.0.4)\n",
      "Requirement already satisfied: urllib3!=1.25.0,!=1.25.1,<1.26,>=1.21.1 in c:\\users\\bhupe\\anaconda3\\lib\\site-packages (from requests->webdriver-manager) (1.25.9)\n",
      "Requirement already satisfied: idna<3,>=2.5 in c:\\users\\bhupe\\anaconda3\\lib\\site-packages (from requests->webdriver-manager) (2.10)\n"
     ]
    }
   ],
   "source": [
    "! pip install selenium\n",
    "import selenium\n",
    "import pandas as pd\n",
    "import numpy as np\n",
    "!pip install webdriver-manager\n",
    "from selenium import webdriver\n",
    "from webdriver_manager.chrome import ChromeDriverManager\n",
    "from selenium.webdriver.common.keys import Keys \n",
    "from selenium.common.exceptions import ElementClickInterceptedException\n",
    "from selenium.common.exceptions import StaleElementReferenceException, NoSuchElementException\n",
    "import warnings\n",
    "warnings.filterwarnings('ignore')"
   ]
  },
  {
   "cell_type": "code",
   "execution_count": 164,
   "metadata": {},
   "outputs": [
    {
     "name": "stderr",
     "output_type": "stream",
     "text": [
      "[WDM] - ====== WebDriver manager ======\n",
      "[WDM] - Current google-chrome version is 88.0.4324\n",
      "[WDM] - Get LATEST driver version for 88.0.4324\n",
      "[WDM] - Driver [C:\\Users\\bhupe\\.wdm\\drivers\\chromedriver\\win32\\88.0.4324.96\\chromedriver.exe] found in cache\n"
     ]
    },
    {
     "name": "stdout",
     "output_type": "stream",
     "text": [
      "\n",
      "\n"
     ]
    }
   ],
   "source": [
    "driver=webdriver.Chrome(ChromeDriverManager().install())"
   ]
  },
  {
   "cell_type": "code",
   "execution_count": 165,
   "metadata": {},
   "outputs": [],
   "source": [
    "driver.get('https://en.wikipedia.org/wiki/List_of_most-viewed_YouTube_videos')"
   ]
  },
  {
   "cell_type": "code",
   "execution_count": 166,
   "metadata": {},
   "outputs": [],
   "source": [
    "Rank=[]\n",
    "Name=[]\n",
    "Artist=[]\n",
    "Upload_date=[]\n",
    "Views_billions=[]"
   ]
  },
  {
   "cell_type": "code",
   "execution_count": 167,
   "metadata": {
    "scrolled": true
   },
   "outputs": [
    {
     "data": {
      "text/plain": [
       "[<selenium.webdriver.remote.webelement.WebElement (session=\"87664c4b0b941c234d8d2259956872db\", element=\"132fc6d4-d3ee-498d-8c69-0de8a6991318\")>,\n",
       " <selenium.webdriver.remote.webelement.WebElement (session=\"87664c4b0b941c234d8d2259956872db\", element=\"ca14712d-863c-4325-ae8b-5db8fdc2d76a\")>,\n",
       " <selenium.webdriver.remote.webelement.WebElement (session=\"87664c4b0b941c234d8d2259956872db\", element=\"16b7f11e-49d0-42e8-891f-c6b75bda66b7\")>,\n",
       " <selenium.webdriver.remote.webelement.WebElement (session=\"87664c4b0b941c234d8d2259956872db\", element=\"282b0183-cd6e-449b-b938-e979c93e8e47\")>]"
      ]
     },
     "execution_count": 167,
     "metadata": {},
     "output_type": "execute_result"
    }
   ],
   "source": [
    "rank_tag=driver.find_elements_by_xpath('//*[@id=\"mw-content-text\"]/div[1]/table[3]/tbody/tr/td[1]')\n",
    "rank_tag[0:4]"
   ]
  },
  {
   "cell_type": "code",
   "execution_count": 168,
   "metadata": {},
   "outputs": [
    {
     "data": {
      "text/plain": [
       "['1.', '2.', '3.', '4.']"
      ]
     },
     "execution_count": 168,
     "metadata": {},
     "output_type": "execute_result"
    }
   ],
   "source": [
    "for i in rank_tag:\n",
    "    rank=i.text\n",
    "    Rank.append(rank)\n",
    "    \n",
    "Rank[0:4]"
   ]
  },
  {
   "cell_type": "code",
   "execution_count": 169,
   "metadata": {},
   "outputs": [
    {
     "data": {
      "text/plain": [
       "[<selenium.webdriver.remote.webelement.WebElement (session=\"87664c4b0b941c234d8d2259956872db\", element=\"b03da8fd-9dbd-4c19-9b05-77260f2d2119\")>,\n",
       " <selenium.webdriver.remote.webelement.WebElement (session=\"87664c4b0b941c234d8d2259956872db\", element=\"03bf7233-cb6d-4d3a-958d-13db78b3943f\")>,\n",
       " <selenium.webdriver.remote.webelement.WebElement (session=\"87664c4b0b941c234d8d2259956872db\", element=\"9dc36b23-1a3a-42d6-96e1-719c0855f868\")>,\n",
       " <selenium.webdriver.remote.webelement.WebElement (session=\"87664c4b0b941c234d8d2259956872db\", element=\"a5375b83-1031-4577-b3ff-81ce9598fdf7\")>]"
      ]
     },
     "execution_count": 169,
     "metadata": {},
     "output_type": "execute_result"
    }
   ],
   "source": [
    "name_tag=driver.find_elements_by_xpath('//*[@id=\"mw-content-text\"]/div[1]/table[3]/tbody/tr/td[2]/a | //*[@id=\"mw-content-text\"]/div[1]/table[3]/tbody/tr/td[2]/i/a | //*[@id=\"mw-content-text\"]/div[1]/table[3]/tbody/tr[9]/td[2] | //*[@id=\"mw-content-text\"]/div[1]/table[3]/tbody/tr[10]/td[2] | //*[@id=\"mw-content-text\"]/div[1]/table[3]/tbody/tr[11]/td[2]')\n",
    "name_tag[0:4]"
   ]
  },
  {
   "cell_type": "code",
   "execution_count": 170,
   "metadata": {},
   "outputs": [
    {
     "data": {
      "text/plain": [
       "['Baby Shark Dance', 'Despacito', 'Shape of You', 'See You Again']"
      ]
     },
     "execution_count": 170,
     "metadata": {},
     "output_type": "execute_result"
    }
   ],
   "source": [
    "for i in name_tag:\n",
    "    name=i.text\n",
    "    Name.append(name)\n",
    "    \n",
    "Name[:4]"
   ]
  },
  {
   "cell_type": "code",
   "execution_count": 171,
   "metadata": {},
   "outputs": [
    {
     "data": {
      "text/plain": [
       "[<selenium.webdriver.remote.webelement.WebElement (session=\"87664c4b0b941c234d8d2259956872db\", element=\"61355b06-56d1-487b-ac41-cd4a8d31cae0\")>,\n",
       " <selenium.webdriver.remote.webelement.WebElement (session=\"87664c4b0b941c234d8d2259956872db\", element=\"4523bf95-f1ed-4b06-84ae-30c9bf4aeba0\")>,\n",
       " <selenium.webdriver.remote.webelement.WebElement (session=\"87664c4b0b941c234d8d2259956872db\", element=\"33e0573a-8c74-43d9-81c1-4d5d080b3b07\")>,\n",
       " <selenium.webdriver.remote.webelement.WebElement (session=\"87664c4b0b941c234d8d2259956872db\", element=\"47e44a07-453c-4935-be6a-37658f2a6103\")>]"
      ]
     },
     "execution_count": 171,
     "metadata": {},
     "output_type": "execute_result"
    }
   ],
   "source": [
    "artist_tag=driver.find_elements_by_xpath('//*[@id=\"mw-content-text\"]/div[1]/table[3]/tbody/tr/td[3]/a | //*[@id=\"mw-content-text\"]/div[1]/table[3]/tbody/tr[5]/td[3] | //*[@id=\"mw-content-text\"]/div[1]/table[3]/tbody/tr[6]/td[3] | //*[@id=\"mw-content-text\"]/div[1]/table[3]/tbody/tr[9]/td[3]')\n",
    "artist_tag[0:4]"
   ]
  },
  {
   "cell_type": "code",
   "execution_count": 172,
   "metadata": {},
   "outputs": [
    {
     "data": {
      "text/plain": [
       "['Pinkfong', 'Luis Fonsi', 'Ed Sheeran', 'Wiz Khalifa']"
      ]
     },
     "execution_count": 172,
     "metadata": {},
     "output_type": "execute_result"
    }
   ],
   "source": [
    "for i in artist_tag:\n",
    "    artist=i.text\n",
    "    Artist.append(artist)\n",
    "    \n",
    "Artist[0:4]"
   ]
  },
  {
   "cell_type": "code",
   "execution_count": 173,
   "metadata": {},
   "outputs": [
    {
     "data": {
      "text/plain": [
       "[<selenium.webdriver.remote.webelement.WebElement (session=\"87664c4b0b941c234d8d2259956872db\", element=\"3ecce21e-81be-4873-9912-e22d977246d0\")>,\n",
       " <selenium.webdriver.remote.webelement.WebElement (session=\"87664c4b0b941c234d8d2259956872db\", element=\"7416c73a-0696-49de-91fe-3b0d9d62fdcf\")>,\n",
       " <selenium.webdriver.remote.webelement.WebElement (session=\"87664c4b0b941c234d8d2259956872db\", element=\"dd473571-bb47-47ec-9191-3a6c5d08af03\")>,\n",
       " <selenium.webdriver.remote.webelement.WebElement (session=\"87664c4b0b941c234d8d2259956872db\", element=\"913c059b-9f69-4422-989f-9cb4114fa7b2\")>]"
      ]
     },
     "execution_count": 173,
     "metadata": {},
     "output_type": "execute_result"
    }
   ],
   "source": [
    "Upload_tag=driver.find_elements_by_xpath('//*[@id=\"mw-content-text\"]/div[1]/table[3]/tbody/tr/td[5]')\n",
    "Upload_tag[0:4]"
   ]
  },
  {
   "cell_type": "code",
   "execution_count": 174,
   "metadata": {},
   "outputs": [
    {
     "data": {
      "text/plain": [
       "['June 17, 2016', 'January 12, 2017', 'January 30, 2017', 'April 6, 2015']"
      ]
     },
     "execution_count": 174,
     "metadata": {},
     "output_type": "execute_result"
    }
   ],
   "source": [
    "for i in Upload_tag:\n",
    "    upload=i.text\n",
    "    Upload_date.append(upload)\n",
    "    \n",
    "Upload_date[0:4]"
   ]
  },
  {
   "cell_type": "code",
   "execution_count": 175,
   "metadata": {},
   "outputs": [
    {
     "data": {
      "text/plain": [
       "[<selenium.webdriver.remote.webelement.WebElement (session=\"87664c4b0b941c234d8d2259956872db\", element=\"2f68c26a-9e89-4557-95d1-ace875f64af6\")>,\n",
       " <selenium.webdriver.remote.webelement.WebElement (session=\"87664c4b0b941c234d8d2259956872db\", element=\"c83df7c5-f031-4715-9b06-485f60baf1ed\")>,\n",
       " <selenium.webdriver.remote.webelement.WebElement (session=\"87664c4b0b941c234d8d2259956872db\", element=\"697217a7-39d2-4a42-a6ad-096e5396b68f\")>,\n",
       " <selenium.webdriver.remote.webelement.WebElement (session=\"87664c4b0b941c234d8d2259956872db\", element=\"5f377a0a-fe86-4743-aba3-384a6626ff2d\")>]"
      ]
     },
     "execution_count": 175,
     "metadata": {},
     "output_type": "execute_result"
    }
   ],
   "source": [
    "Views_tag=driver.find_elements_by_xpath('//*[@id=\"mw-content-text\"]/div[1]/table[3]/tbody/tr/td[4]')\n",
    "Views_tag[0:4]"
   ]
  },
  {
   "cell_type": "code",
   "execution_count": 176,
   "metadata": {},
   "outputs": [
    {
     "data": {
      "text/plain": [
       "['8.04', '7.23', '5.20', '4.99']"
      ]
     },
     "execution_count": 176,
     "metadata": {},
     "output_type": "execute_result"
    }
   ],
   "source": [
    "for i in Views_tag:\n",
    "    view=i.text\n",
    "    Views_billions.append(view)\n",
    "    \n",
    "Views_billions[0:4]"
   ]
  },
  {
   "cell_type": "code",
   "execution_count": 177,
   "metadata": {},
   "outputs": [
    {
     "name": "stdout",
     "output_type": "stream",
     "text": [
      "30 30 30 30 30\n"
     ]
    }
   ],
   "source": [
    "print(len(Rank),len(Name),len(Artist),len(Upload_date),len(Views_billions))"
   ]
  },
  {
   "cell_type": "code",
   "execution_count": 178,
   "metadata": {},
   "outputs": [],
   "source": [
    "most_viewed_YouTube_videos=pd.DataFrame({})\n",
    "most_viewed_YouTube_videos['Rank']=Rank\n",
    "most_viewed_YouTube_videos['Name']=Name\n",
    "most_viewed_YouTube_videos['Artist']=Artist\n",
    "most_viewed_YouTube_videos['Upload_date']=Upload_date\n",
    "most_viewed_YouTube_videos['Views_billions']=Views_billions"
   ]
  },
  {
   "cell_type": "code",
   "execution_count": 180,
   "metadata": {},
   "outputs": [
    {
     "data": {
      "text/html": [
       "<div>\n",
       "<style scoped>\n",
       "    .dataframe tbody tr th:only-of-type {\n",
       "        vertical-align: middle;\n",
       "    }\n",
       "\n",
       "    .dataframe tbody tr th {\n",
       "        vertical-align: top;\n",
       "    }\n",
       "\n",
       "    .dataframe thead th {\n",
       "        text-align: right;\n",
       "    }\n",
       "</style>\n",
       "<table border=\"1\" class=\"dataframe\">\n",
       "  <thead>\n",
       "    <tr style=\"text-align: right;\">\n",
       "      <th></th>\n",
       "      <th>Rank</th>\n",
       "      <th>Name</th>\n",
       "      <th>Artist</th>\n",
       "      <th>Upload_date</th>\n",
       "      <th>Views_billions</th>\n",
       "    </tr>\n",
       "  </thead>\n",
       "  <tbody>\n",
       "    <tr>\n",
       "      <th>0</th>\n",
       "      <td>1.</td>\n",
       "      <td>Baby Shark Dance</td>\n",
       "      <td>Pinkfong</td>\n",
       "      <td>June 17, 2016</td>\n",
       "      <td>8.04</td>\n",
       "    </tr>\n",
       "    <tr>\n",
       "      <th>1</th>\n",
       "      <td>2.</td>\n",
       "      <td>Despacito</td>\n",
       "      <td>Luis Fonsi</td>\n",
       "      <td>January 12, 2017</td>\n",
       "      <td>7.23</td>\n",
       "    </tr>\n",
       "    <tr>\n",
       "      <th>2</th>\n",
       "      <td>3.</td>\n",
       "      <td>Shape of You</td>\n",
       "      <td>Ed Sheeran</td>\n",
       "      <td>January 30, 2017</td>\n",
       "      <td>5.20</td>\n",
       "    </tr>\n",
       "    <tr>\n",
       "      <th>3</th>\n",
       "      <td>4.</td>\n",
       "      <td>See You Again</td>\n",
       "      <td>Wiz Khalifa</td>\n",
       "      <td>April 6, 2015</td>\n",
       "      <td>4.99</td>\n",
       "    </tr>\n",
       "    <tr>\n",
       "      <th>4</th>\n",
       "      <td>5.</td>\n",
       "      <td>Johny Johny Yes Papa</td>\n",
       "      <td>LooLoo Kids</td>\n",
       "      <td>October 8, 2016</td>\n",
       "      <td>4.87</td>\n",
       "    </tr>\n",
       "    <tr>\n",
       "      <th>5</th>\n",
       "      <td>6.</td>\n",
       "      <td>Masha and the Bear</td>\n",
       "      <td>Get Movies</td>\n",
       "      <td>January 31, 2012</td>\n",
       "      <td>4.41</td>\n",
       "    </tr>\n",
       "    <tr>\n",
       "      <th>6</th>\n",
       "      <td>7.</td>\n",
       "      <td>Uptown Funk</td>\n",
       "      <td>Mark Ronson</td>\n",
       "      <td>November 19, 2014</td>\n",
       "      <td>4.10</td>\n",
       "    </tr>\n",
       "    <tr>\n",
       "      <th>7</th>\n",
       "      <td>8.</td>\n",
       "      <td>Gangnam Style</td>\n",
       "      <td>Psy</td>\n",
       "      <td>July 15, 2012</td>\n",
       "      <td>3.99</td>\n",
       "    </tr>\n",
       "    <tr>\n",
       "      <th>8</th>\n",
       "      <td>9.</td>\n",
       "      <td>\"Learning Colors – Colorful Eggs on a Farm\"[34]</td>\n",
       "      <td>Miroshka TV</td>\n",
       "      <td>February 27, 2018</td>\n",
       "      <td>3.72</td>\n",
       "    </tr>\n",
       "    <tr>\n",
       "      <th>9</th>\n",
       "      <td>10.</td>\n",
       "      <td>\"Bath Song\"[35]</td>\n",
       "      <td>Cocomelon – Nursery Rhymes</td>\n",
       "      <td>May 2, 2018</td>\n",
       "      <td>3.71</td>\n",
       "    </tr>\n",
       "    <tr>\n",
       "      <th>10</th>\n",
       "      <td>11.</td>\n",
       "      <td>\"Phonics Song with Two Words\"[36]</td>\n",
       "      <td>ChuChu TV</td>\n",
       "      <td>March 6, 2014</td>\n",
       "      <td>3.59</td>\n",
       "    </tr>\n",
       "    <tr>\n",
       "      <th>11</th>\n",
       "      <td>12.</td>\n",
       "      <td>Sorry</td>\n",
       "      <td>Justin Bieber</td>\n",
       "      <td>October 22, 2015</td>\n",
       "      <td>3.41</td>\n",
       "    </tr>\n",
       "    <tr>\n",
       "      <th>12</th>\n",
       "      <td>13.</td>\n",
       "      <td>Sugar</td>\n",
       "      <td>Maroon 5</td>\n",
       "      <td>January 14, 2015</td>\n",
       "      <td>3.40</td>\n",
       "    </tr>\n",
       "    <tr>\n",
       "      <th>13</th>\n",
       "      <td>14.</td>\n",
       "      <td>Roar</td>\n",
       "      <td>Katy Perry</td>\n",
       "      <td>September 5, 2013</td>\n",
       "      <td>3.29</td>\n",
       "    </tr>\n",
       "    <tr>\n",
       "      <th>14</th>\n",
       "      <td>15.</td>\n",
       "      <td>Counting Stars</td>\n",
       "      <td>OneRepublic</td>\n",
       "      <td>May 31, 2013</td>\n",
       "      <td>3.21</td>\n",
       "    </tr>\n",
       "    <tr>\n",
       "      <th>15</th>\n",
       "      <td>16.</td>\n",
       "      <td>Thinking Out Loud</td>\n",
       "      <td>Ed Sheeran</td>\n",
       "      <td>October 7, 2014</td>\n",
       "      <td>3.20</td>\n",
       "    </tr>\n",
       "    <tr>\n",
       "      <th>16</th>\n",
       "      <td>17.</td>\n",
       "      <td>Dame Tu Cosita</td>\n",
       "      <td>El Chombo</td>\n",
       "      <td>April 5, 2018</td>\n",
       "      <td>3.14</td>\n",
       "    </tr>\n",
       "    <tr>\n",
       "      <th>17</th>\n",
       "      <td>18.</td>\n",
       "      <td>Shake It Off</td>\n",
       "      <td>Taylor Swift</td>\n",
       "      <td>August 18, 2014</td>\n",
       "      <td>3.02</td>\n",
       "    </tr>\n",
       "    <tr>\n",
       "      <th>18</th>\n",
       "      <td>19.</td>\n",
       "      <td>Faded</td>\n",
       "      <td>Alan Walker</td>\n",
       "      <td>December 3, 2015</td>\n",
       "      <td>3.00</td>\n",
       "    </tr>\n",
       "    <tr>\n",
       "      <th>19</th>\n",
       "      <td>20.</td>\n",
       "      <td>Lean On</td>\n",
       "      <td>Major Lazer Official</td>\n",
       "      <td>March 22, 2015</td>\n",
       "      <td>2.98</td>\n",
       "    </tr>\n",
       "    <tr>\n",
       "      <th>20</th>\n",
       "      <td>21.</td>\n",
       "      <td>Dark Horse</td>\n",
       "      <td>Katy Perry</td>\n",
       "      <td>February 20, 2014</td>\n",
       "      <td>2.98</td>\n",
       "    </tr>\n",
       "    <tr>\n",
       "      <th>21</th>\n",
       "      <td>22.</td>\n",
       "      <td>Bailando</td>\n",
       "      <td>Enrique Iglesias</td>\n",
       "      <td>April 11, 2014</td>\n",
       "      <td>2.98</td>\n",
       "    </tr>\n",
       "    <tr>\n",
       "      <th>22</th>\n",
       "      <td>23.</td>\n",
       "      <td>Girls Like You</td>\n",
       "      <td>Maroon 5</td>\n",
       "      <td>May 31, 2018</td>\n",
       "      <td>2.97</td>\n",
       "    </tr>\n",
       "    <tr>\n",
       "      <th>23</th>\n",
       "      <td>24.</td>\n",
       "      <td>Let Her Go</td>\n",
       "      <td>Passenger</td>\n",
       "      <td>July 25, 2012</td>\n",
       "      <td>2.92</td>\n",
       "    </tr>\n",
       "    <tr>\n",
       "      <th>24</th>\n",
       "      <td>25.</td>\n",
       "      <td>Mi Gente</td>\n",
       "      <td>J Balvin</td>\n",
       "      <td>June 29, 2017</td>\n",
       "      <td>2.87</td>\n",
       "    </tr>\n",
       "    <tr>\n",
       "      <th>25</th>\n",
       "      <td>26.</td>\n",
       "      <td>Hello</td>\n",
       "      <td>Adele</td>\n",
       "      <td>October 22, 2015</td>\n",
       "      <td>2.79</td>\n",
       "    </tr>\n",
       "    <tr>\n",
       "      <th>26</th>\n",
       "      <td>27.</td>\n",
       "      <td>Perfect</td>\n",
       "      <td>Ed Sheeran</td>\n",
       "      <td>November 9, 2017</td>\n",
       "      <td>2.76</td>\n",
       "    </tr>\n",
       "    <tr>\n",
       "      <th>27</th>\n",
       "      <td>28.</td>\n",
       "      <td>Waka Waka (This Time for Africa)</td>\n",
       "      <td>Shakira</td>\n",
       "      <td>June 4, 2010</td>\n",
       "      <td>2.75</td>\n",
       "    </tr>\n",
       "    <tr>\n",
       "      <th>28</th>\n",
       "      <td>29.</td>\n",
       "      <td>Blank Space</td>\n",
       "      <td>Taylor Swift</td>\n",
       "      <td>November 10, 2014</td>\n",
       "      <td>2.73</td>\n",
       "    </tr>\n",
       "    <tr>\n",
       "      <th>29</th>\n",
       "      <td>30.</td>\n",
       "      <td>Chantaje</td>\n",
       "      <td>Shakira</td>\n",
       "      <td>November 18, 2016</td>\n",
       "      <td>2.63</td>\n",
       "    </tr>\n",
       "  </tbody>\n",
       "</table>\n",
       "</div>"
      ],
      "text/plain": [
       "   Rank                                             Name  \\\n",
       "0    1.                                 Baby Shark Dance   \n",
       "1    2.                                        Despacito   \n",
       "2    3.                                     Shape of You   \n",
       "3    4.                                    See You Again   \n",
       "4    5.                             Johny Johny Yes Papa   \n",
       "5    6.                               Masha and the Bear   \n",
       "6    7.                                      Uptown Funk   \n",
       "7    8.                                    Gangnam Style   \n",
       "8    9.  \"Learning Colors – Colorful Eggs on a Farm\"[34]   \n",
       "9   10.                                  \"Bath Song\"[35]   \n",
       "10  11.                \"Phonics Song with Two Words\"[36]   \n",
       "11  12.                                            Sorry   \n",
       "12  13.                                            Sugar   \n",
       "13  14.                                             Roar   \n",
       "14  15.                                   Counting Stars   \n",
       "15  16.                                Thinking Out Loud   \n",
       "16  17.                                   Dame Tu Cosita   \n",
       "17  18.                                     Shake It Off   \n",
       "18  19.                                            Faded   \n",
       "19  20.                                          Lean On   \n",
       "20  21.                                       Dark Horse   \n",
       "21  22.                                         Bailando   \n",
       "22  23.                                   Girls Like You   \n",
       "23  24.                                       Let Her Go   \n",
       "24  25.                                         Mi Gente   \n",
       "25  26.                                            Hello   \n",
       "26  27.                                          Perfect   \n",
       "27  28.                 Waka Waka (This Time for Africa)   \n",
       "28  29.                                      Blank Space   \n",
       "29  30.                                         Chantaje   \n",
       "\n",
       "                        Artist        Upload_date Views_billions  \n",
       "0                     Pinkfong      June 17, 2016           8.04  \n",
       "1                   Luis Fonsi   January 12, 2017           7.23  \n",
       "2                   Ed Sheeran   January 30, 2017           5.20  \n",
       "3                  Wiz Khalifa      April 6, 2015           4.99  \n",
       "4                  LooLoo Kids    October 8, 2016           4.87  \n",
       "5                   Get Movies   January 31, 2012           4.41  \n",
       "6                  Mark Ronson  November 19, 2014           4.10  \n",
       "7                          Psy      July 15, 2012           3.99  \n",
       "8                  Miroshka TV  February 27, 2018           3.72  \n",
       "9   Cocomelon – Nursery Rhymes        May 2, 2018           3.71  \n",
       "10                   ChuChu TV      March 6, 2014           3.59  \n",
       "11               Justin Bieber   October 22, 2015           3.41  \n",
       "12                    Maroon 5   January 14, 2015           3.40  \n",
       "13                  Katy Perry  September 5, 2013           3.29  \n",
       "14                 OneRepublic       May 31, 2013           3.21  \n",
       "15                  Ed Sheeran    October 7, 2014           3.20  \n",
       "16                   El Chombo      April 5, 2018           3.14  \n",
       "17                Taylor Swift    August 18, 2014           3.02  \n",
       "18                 Alan Walker   December 3, 2015           3.00  \n",
       "19        Major Lazer Official     March 22, 2015           2.98  \n",
       "20                  Katy Perry  February 20, 2014           2.98  \n",
       "21            Enrique Iglesias     April 11, 2014           2.98  \n",
       "22                    Maroon 5       May 31, 2018           2.97  \n",
       "23                   Passenger      July 25, 2012           2.92  \n",
       "24                    J Balvin      June 29, 2017           2.87  \n",
       "25                       Adele   October 22, 2015           2.79  \n",
       "26                  Ed Sheeran   November 9, 2017           2.76  \n",
       "27                     Shakira       June 4, 2010           2.75  \n",
       "28                Taylor Swift  November 10, 2014           2.73  \n",
       "29                     Shakira  November 18, 2016           2.63  "
      ]
     },
     "execution_count": 180,
     "metadata": {},
     "output_type": "execute_result"
    }
   ],
   "source": [
    "most_viewed_YouTube_videos"
   ]
  }
 ],
 "metadata": {
  "kernelspec": {
   "display_name": "Python 3",
   "language": "python",
   "name": "python3"
  },
  "language_info": {
   "codemirror_mode": {
    "name": "ipython",
    "version": 3
   },
   "file_extension": ".py",
   "mimetype": "text/x-python",
   "name": "python",
   "nbconvert_exporter": "python",
   "pygments_lexer": "ipython3",
   "version": "3.8.3"
  }
 },
 "nbformat": 4,
 "nbformat_minor": 4
}
