{
 "cells": [
  {
   "cell_type": "code",
   "execution_count": 141,
   "metadata": {},
   "outputs": [
    {
     "name": "stdout",
     "output_type": "stream",
     "text": [
      "Requirement already satisfied: selenium in c:\\users\\bhupe\\anaconda3\\lib\\site-packages (3.141.0)\n",
      "Requirement already satisfied: urllib3 in c:\\users\\bhupe\\anaconda3\\lib\\site-packages (from selenium) (1.25.9)\n",
      "Requirement already satisfied: webdriver-manager in c:\\users\\bhupe\\anaconda3\\lib\\site-packages (3.3.0)\n",
      "Requirement already satisfied: requests in c:\\users\\bhupe\\anaconda3\\lib\\site-packages (from webdriver-manager) (2.24.0)\n",
      "Requirement already satisfied: crayons in c:\\users\\bhupe\\anaconda3\\lib\\site-packages (from webdriver-manager) (0.4.0)\n",
      "Requirement already satisfied: configparser in c:\\users\\bhupe\\anaconda3\\lib\\site-packages (from webdriver-manager) (5.0.1)\n",
      "Requirement already satisfied: certifi>=2017.4.17 in c:\\users\\bhupe\\anaconda3\\lib\\site-packages (from requests->webdriver-manager) (2020.6.20)\n",
      "Requirement already satisfied: urllib3!=1.25.0,!=1.25.1,<1.26,>=1.21.1 in c:\\users\\bhupe\\anaconda3\\lib\\site-packages (from requests->webdriver-manager) (1.25.9)\n",
      "Requirement already satisfied: chardet<4,>=3.0.2 in c:\\users\\bhupe\\anaconda3\\lib\\site-packages (from requests->webdriver-manager) (3.0.4)\n",
      "Requirement already satisfied: idna<3,>=2.5 in c:\\users\\bhupe\\anaconda3\\lib\\site-packages (from requests->webdriver-manager) (2.10)\n",
      "Requirement already satisfied: colorama in c:\\users\\bhupe\\anaconda3\\lib\\site-packages (from crayons->webdriver-manager) (0.4.3)\n"
     ]
    }
   ],
   "source": [
    "! pip install selenium\n",
    "import selenium\n",
    "import pandas as pd\n",
    "import numpy as np\n",
    "!pip install webdriver-manager\n",
    "from selenium import webdriver\n",
    "from webdriver_manager.chrome import ChromeDriverManager\n",
    "from selenium.webdriver.common.keys import Keys \n",
    "from selenium.common.exceptions import ElementClickInterceptedException\n",
    "from selenium.common.exceptions import StaleElementReferenceException, NoSuchElementException\n",
    "import warnings\n",
    "warnings.filterwarnings('ignore')"
   ]
  },
  {
   "cell_type": "code",
   "execution_count": 142,
   "metadata": {},
   "outputs": [
    {
     "name": "stderr",
     "output_type": "stream",
     "text": [
      "[WDM] - ====== WebDriver manager ======\n",
      "[WDM] - Current google-chrome version is 88.0.4324\n",
      "[WDM] - Get LATEST driver version for 88.0.4324\n"
     ]
    },
    {
     "name": "stdout",
     "output_type": "stream",
     "text": [
      "\n",
      "\n"
     ]
    },
    {
     "name": "stderr",
     "output_type": "stream",
     "text": [
      "[WDM] - Get LATEST driver version for 88.0.4324\n",
      "[WDM] - Trying to download new driver from https://chromedriver.storage.googleapis.com/88.0.4324.96/chromedriver_win32.zip\n",
      "[WDM] - Driver has been saved in cache [C:\\Users\\bhupe\\.wdm\\drivers\\chromedriver\\win32\\88.0.4324.96]\n"
     ]
    }
   ],
   "source": [
    "driver=webdriver.Chrome(ChromeDriverManager().install())"
   ]
  },
  {
   "cell_type": "code",
   "execution_count": 143,
   "metadata": {},
   "outputs": [],
   "source": [
    "driver.get('https://trak.in/')"
   ]
  },
  {
   "cell_type": "code",
   "execution_count": 144,
   "metadata": {},
   "outputs": [],
   "source": [
    "button1=driver.find_element_by_xpath('//*[@id=\"menu-item-51510\"]/a')\n",
    "button1.click()"
   ]
  },
  {
   "cell_type": "code",
   "execution_count": 145,
   "metadata": {},
   "outputs": [],
   "source": [
    "from selenium.webdriver.support.ui import WebDriverWait\n",
    "from selenium.webdriver.support import expected_conditions as EC\n",
    "from selenium.webdriver.common.by import By\n",
    "from selenium.common.exceptions import TimeoutException"
   ]
  },
  {
   "cell_type": "code",
   "execution_count": 146,
   "metadata": {},
   "outputs": [],
   "source": [
    "button2=driver.find_element_by_xpath('//select[@name=\"tablepress-50_length\"]/option[4]')\n",
    "button2.click()\n",
    "button3=driver.find_element_by_xpath('//select[@name=\"tablepress-49_length\"]/option[4]')\n",
    "button3.click()"
   ]
  },
  {
   "cell_type": "code",
   "execution_count": 147,
   "metadata": {},
   "outputs": [],
   "source": [
    "date=[]\n",
    "startup_name=[]\n",
    "industry_vertical=[]\n",
    "sub_vertical=[]\n",
    "city_location=[]\n",
    "investor_name=[]\n",
    "investment_type=[]\n",
    "amount_in_USD=[]"
   ]
  },
  {
   "cell_type": "code",
   "execution_count": 148,
   "metadata": {},
   "outputs": [],
   "source": [
    "date_tag0=driver.find_elements_by_xpath(\"//table[@class='tablepress tablepress-id-50 dataTable no-footer']//td[@class='column-2']\")\n",
    "date_tag1=driver.find_elements_by_xpath(\"//table[@class='tablepress tablepress-id-49 dataTable no-footer']//td[@class='column-2']\")\n",
    "date_tag2=driver.find_elements_by_xpath(\"//table[@class='tablepress tablepress-id-48 dataTable no-footer']//td[@class='column-2']\")"
   ]
  },
  {
   "cell_type": "code",
   "execution_count": 149,
   "metadata": {},
   "outputs": [],
   "source": [
    "date_tag=date_tag0+date_tag1+date_tag2"
   ]
  },
  {
   "cell_type": "code",
   "execution_count": 150,
   "metadata": {},
   "outputs": [
    {
     "data": {
      "text/plain": [
       "['08/09/2020', '12/09/2020', '09/09/2020', '02/09/2020']"
      ]
     },
     "execution_count": 150,
     "metadata": {},
     "output_type": "execute_result"
    }
   ],
   "source": [
    "for i in date_tag:\n",
    "    Date=i.text\n",
    "    date.append(Date)\n",
    "    \n",
    "date[:4]    "
   ]
  },
  {
   "cell_type": "code",
   "execution_count": 151,
   "metadata": {},
   "outputs": [],
   "source": [
    "su_tag0=driver.find_elements_by_xpath(\"//table[@class='tablepress tablepress-id-50 dataTable no-footer']//td[@class='column-3']/a\")\n",
    "su_tag1=driver.find_elements_by_xpath(\"//table[@class='tablepress tablepress-id-49 dataTable no-footer']//td[@class='column-3']/a\")\n",
    "su_tag2=driver.find_elements_by_xpath(\"//table[@class='tablepress tablepress-id-48 dataTable no-footer']//td[@class='column-3']/a\")"
   ]
  },
  {
   "cell_type": "code",
   "execution_count": 152,
   "metadata": {},
   "outputs": [],
   "source": [
    "su_tag=su_tag0+su_tag1+su_tag2"
   ]
  },
  {
   "cell_type": "code",
   "execution_count": 153,
   "metadata": {},
   "outputs": [
    {
     "data": {
      "text/plain": [
       "['Byju’s', 'mCaffeine', 'Qshala', 'Winzo']"
      ]
     },
     "execution_count": 153,
     "metadata": {},
     "output_type": "execute_result"
    }
   ],
   "source": [
    "for i in su_tag:\n",
    "    su=i.text\n",
    "    startup_name.append(su)\n",
    "    \n",
    "startup_name[:4]    "
   ]
  },
  {
   "cell_type": "code",
   "execution_count": 154,
   "metadata": {},
   "outputs": [],
   "source": [
    "iv_tag0=driver.find_elements_by_xpath(\"//table[@class='tablepress tablepress-id-50 dataTable no-footer']//td[@class='column-4']\")\n",
    "iv_tag1=driver.find_elements_by_xpath(\"//table[@class='tablepress tablepress-id-49 dataTable no-footer']//td[@class='column-4']\")\n",
    "iv_tag2=driver.find_elements_by_xpath(\"//table[@class='tablepress tablepress-id-48 dataTable no-footer']//td[@class='column-4']\")"
   ]
  },
  {
   "cell_type": "code",
   "execution_count": 155,
   "metadata": {},
   "outputs": [],
   "source": [
    "iv_tag=iv_tag0+iv_tag1+iv_tag2"
   ]
  },
  {
   "cell_type": "code",
   "execution_count": 156,
   "metadata": {},
   "outputs": [
    {
     "data": {
      "text/plain": [
       "['EduTech', 'Personal Care', 'EduTech', 'Online Gaming']"
      ]
     },
     "execution_count": 156,
     "metadata": {},
     "output_type": "execute_result"
    }
   ],
   "source": [
    "for i in iv_tag:\n",
    "    iv=i.text\n",
    "    industry_vertical.append(iv)\n",
    "    \n",
    "industry_vertical[:4]"
   ]
  },
  {
   "cell_type": "code",
   "execution_count": 157,
   "metadata": {},
   "outputs": [],
   "source": [
    "sv_tag0=driver.find_elements_by_xpath(\"//table[@class='tablepress tablepress-id-50 dataTable no-footer']//td[@class='column-5']\")\n",
    "sv_tag1=driver.find_elements_by_xpath(\"//table[@class='tablepress tablepress-id-49 dataTable no-footer']//td[@class='column-5']\")\n",
    "sv_tag2=driver.find_elements_by_xpath(\"//table[@class='tablepress tablepress-id-48 dataTable no-footer']//td[@class='column-5']\")"
   ]
  },
  {
   "cell_type": "code",
   "execution_count": 158,
   "metadata": {},
   "outputs": [],
   "source": [
    "sv_tag=sv_tag0+sv_tag1+sv_tag2"
   ]
  },
  {
   "cell_type": "code",
   "execution_count": 159,
   "metadata": {},
   "outputs": [
    {
     "data": {
      "text/plain": [
       "['Online Tutoring',\n",
       " 'Skincare & Haircare',\n",
       " 'Online Curiosity Platform for Kids',\n",
       " 'Online Gaming']"
      ]
     },
     "execution_count": 159,
     "metadata": {},
     "output_type": "execute_result"
    }
   ],
   "source": [
    "for i in sv_tag:\n",
    "    sv=i.text\n",
    "    sub_vertical.append(sv)\n",
    "    \n",
    "sub_vertical[:4]"
   ]
  },
  {
   "cell_type": "code",
   "execution_count": 160,
   "metadata": {},
   "outputs": [],
   "source": [
    "l_tag0=driver.find_elements_by_xpath(\"//table[@class='tablepress tablepress-id-50 dataTable no-footer']//td[@class='column-6']\")\n",
    "l_tag1=driver.find_elements_by_xpath(\"//table[@class='tablepress tablepress-id-49 dataTable no-footer']//td[@class='column-6']\")\n",
    "l_tag2=driver.find_elements_by_xpath(\"//table[@class='tablepress tablepress-id-48 dataTable no-footer']//td[@class='column-6']\")"
   ]
  },
  {
   "cell_type": "code",
   "execution_count": 161,
   "metadata": {},
   "outputs": [],
   "source": [
    "l_tag=l_tag0+l_tag1+l_tag2"
   ]
  },
  {
   "cell_type": "code",
   "execution_count": 162,
   "metadata": {},
   "outputs": [
    {
     "data": {
      "text/plain": [
       "['Bangalore',\n",
       " 'Mumbai',\n",
       " 'Bangalore',\n",
       " 'New Delhi',\n",
       " 'Newark, Delaware, United States of Amercia']"
      ]
     },
     "execution_count": 162,
     "metadata": {},
     "output_type": "execute_result"
    }
   ],
   "source": [
    "for i in l_tag:\n",
    "    l=i.text\n",
    "    city_location.append(l)\n",
    "    \n",
    "city_location[:5]"
   ]
  },
  {
   "cell_type": "code",
   "execution_count": 163,
   "metadata": {},
   "outputs": [],
   "source": [
    "in_tag0=driver.find_elements_by_xpath(\"//table[@class='tablepress tablepress-id-50 dataTable no-footer']//td[@class='column-7']\")\n",
    "in_tag1=driver.find_elements_by_xpath(\"//table[@class='tablepress tablepress-id-49 dataTable no-footer']//td[@class='column-7']\")\n",
    "in_tag2=driver.find_elements_by_xpath(\"//table[@class='tablepress tablepress-id-48 dataTable no-footer']//td[@class='column-7']\")"
   ]
  },
  {
   "cell_type": "code",
   "execution_count": 164,
   "metadata": {},
   "outputs": [],
   "source": [
    "in_tag=in_tag0+in_tag1+in_tag2"
   ]
  },
  {
   "cell_type": "code",
   "execution_count": 165,
   "metadata": {},
   "outputs": [
    {
     "data": {
      "text/plain": [
       "['Silver Lake, Tiger Global, General Atlantic and Owl Ventures',\n",
       " 'Amicus Capital Private Equity I LLP, Amicus Capital Partners India Fund I and RP-SG Venture Fund 1',\n",
       " 'Rainmatter Capital',\n",
       " 'Kalaari Capital Partners, IndigoEdge Management Consultancy',\n",
       " 'Alpha Wave Incubation, Exfinity Venture Partners and existing backers.']"
      ]
     },
     "execution_count": 165,
     "metadata": {},
     "output_type": "execute_result"
    }
   ],
   "source": [
    "for i in in_tag:\n",
    "    iname=i.text\n",
    "    investor_name.append(iname)\n",
    "    \n",
    "investor_name[:5]"
   ]
  },
  {
   "cell_type": "code",
   "execution_count": 166,
   "metadata": {},
   "outputs": [],
   "source": [
    "it_tag0=driver.find_elements_by_xpath(\"//table[@class='tablepress tablepress-id-50 dataTable no-footer']//td[@class='column-8']\")\n",
    "it_tag1=driver.find_elements_by_xpath(\"//table[@class='tablepress tablepress-id-49 dataTable no-footer']//td[@class='column-8']\")\n",
    "it_tag2=driver.find_elements_by_xpath(\"//table[@class='tablepress tablepress-id-48 dataTable no-footer']//td[@class='column-8']\")"
   ]
  },
  {
   "cell_type": "code",
   "execution_count": 167,
   "metadata": {},
   "outputs": [],
   "source": [
    "it_tag=it_tag0+it_tag1+it_tag2"
   ]
  },
  {
   "cell_type": "code",
   "execution_count": 168,
   "metadata": {},
   "outputs": [
    {
     "data": {
      "text/plain": [
       "['Private Equity', 'Series B', 'Angel', 'Series B', 'Series A']"
      ]
     },
     "execution_count": 168,
     "metadata": {},
     "output_type": "execute_result"
    }
   ],
   "source": [
    "for i in it_tag:\n",
    "    it=i.text\n",
    "    investment_type.append(it)\n",
    "    \n",
    "investment_type[:5]"
   ]
  },
  {
   "cell_type": "code",
   "execution_count": 169,
   "metadata": {},
   "outputs": [],
   "source": [
    "a_tag0=driver.find_elements_by_xpath(\"//table[@class='tablepress tablepress-id-50 dataTable no-footer']//td[@class='column-9']\")\n",
    "a_tag1=driver.find_elements_by_xpath(\"//table[@class='tablepress tablepress-id-49 dataTable no-footer']//td[@class='column-9']\")\n",
    "a_tag2=driver.find_elements_by_xpath(\"//table[@class='tablepress tablepress-id-48 dataTable no-footer']//td[@class='column-9']\")"
   ]
  },
  {
   "cell_type": "code",
   "execution_count": 170,
   "metadata": {},
   "outputs": [],
   "source": [
    "a_tag=a_tag0+a_tag1+a_tag2"
   ]
  },
  {
   "cell_type": "code",
   "execution_count": 171,
   "metadata": {},
   "outputs": [
    {
     "data": {
      "text/plain": [
       "['500,000,000', '3,000,000', '370,000', '15,500,000', '4,500,000']"
      ]
     },
     "execution_count": 171,
     "metadata": {},
     "output_type": "execute_result"
    }
   ],
   "source": [
    "for i in a_tag:\n",
    "    amount=i.text\n",
    "    amount_in_USD.append(amount)\n",
    "    \n",
    "amount_in_USD[:5]"
   ]
  },
  {
   "cell_type": "code",
   "execution_count": 172,
   "metadata": {},
   "outputs": [
    {
     "name": "stdout",
     "output_type": "stream",
     "text": [
      "33 33 33 33 33 33 33 33\n"
     ]
    }
   ],
   "source": [
    "print(len(date),len(startup_name),len(industry_vertical),len(sub_vertical),len(city_location),len(investor_name),len(investment_type),len(amount_in_USD))"
   ]
  },
  {
   "cell_type": "code",
   "execution_count": 173,
   "metadata": {
    "scrolled": true
   },
   "outputs": [],
   "source": [
    "funding_deals=pd.DataFrame({})\n",
    "funding_deals['date']=date\n",
    "funding_deals['startup_name']=startup_name\n",
    "funding_deals['industry_vertical']=industry_vertical\n",
    "funding_deals['sub_vertical']=sub_vertical\n",
    "funding_deals['city_location']=city_location\n",
    "funding_deals['investor_name']=investor_name\n",
    "funding_deals['investment_type']=investment_type\n",
    "funding_deals['amount_in_USD']=amount_in_USD"
   ]
  },
  {
   "cell_type": "code",
   "execution_count": 174,
   "metadata": {},
   "outputs": [
    {
     "data": {
      "text/html": [
       "<div>\n",
       "<style scoped>\n",
       "    .dataframe tbody tr th:only-of-type {\n",
       "        vertical-align: middle;\n",
       "    }\n",
       "\n",
       "    .dataframe tbody tr th {\n",
       "        vertical-align: top;\n",
       "    }\n",
       "\n",
       "    .dataframe thead th {\n",
       "        text-align: right;\n",
       "    }\n",
       "</style>\n",
       "<table border=\"1\" class=\"dataframe\">\n",
       "  <thead>\n",
       "    <tr style=\"text-align: right;\">\n",
       "      <th></th>\n",
       "      <th>date</th>\n",
       "      <th>startup_name</th>\n",
       "      <th>industry_vertical</th>\n",
       "      <th>sub_vertical</th>\n",
       "      <th>city_location</th>\n",
       "      <th>investor_name</th>\n",
       "      <th>investment_type</th>\n",
       "      <th>amount_in_USD</th>\n",
       "    </tr>\n",
       "  </thead>\n",
       "  <tbody>\n",
       "    <tr>\n",
       "      <th>0</th>\n",
       "      <td>08/09/2020</td>\n",
       "      <td>Byju’s</td>\n",
       "      <td>EduTech</td>\n",
       "      <td>Online Tutoring</td>\n",
       "      <td>Bangalore</td>\n",
       "      <td>Silver Lake, Tiger Global, General Atlantic an...</td>\n",
       "      <td>Private Equity</td>\n",
       "      <td>500,000,000</td>\n",
       "    </tr>\n",
       "    <tr>\n",
       "      <th>1</th>\n",
       "      <td>12/09/2020</td>\n",
       "      <td>mCaffeine</td>\n",
       "      <td>Personal Care</td>\n",
       "      <td>Skincare &amp; Haircare</td>\n",
       "      <td>Mumbai</td>\n",
       "      <td>Amicus Capital Private Equity I LLP, Amicus Ca...</td>\n",
       "      <td>Series B</td>\n",
       "      <td>3,000,000</td>\n",
       "    </tr>\n",
       "    <tr>\n",
       "      <th>2</th>\n",
       "      <td>09/09/2020</td>\n",
       "      <td>Qshala</td>\n",
       "      <td>EduTech</td>\n",
       "      <td>Online Curiosity Platform for Kids</td>\n",
       "      <td>Bangalore</td>\n",
       "      <td>Rainmatter Capital</td>\n",
       "      <td>Angel</td>\n",
       "      <td>370,000</td>\n",
       "    </tr>\n",
       "    <tr>\n",
       "      <th>3</th>\n",
       "      <td>02/09/2020</td>\n",
       "      <td>Winzo</td>\n",
       "      <td>Online Gaming</td>\n",
       "      <td>Online Gaming</td>\n",
       "      <td>New Delhi</td>\n",
       "      <td>Kalaari Capital Partners, IndigoEdge Managemen...</td>\n",
       "      <td>Series B</td>\n",
       "      <td>15,500,000</td>\n",
       "    </tr>\n",
       "    <tr>\n",
       "      <th>4</th>\n",
       "      <td>09/09/2020</td>\n",
       "      <td>Hippo Video</td>\n",
       "      <td>Video Customer Experience(CX) Platform</td>\n",
       "      <td>Video Customer Experience(CX) Platform</td>\n",
       "      <td>Newark, Delaware, United States of Amercia</td>\n",
       "      <td>Alpha Wave Incubation, Exfinity Venture Partne...</td>\n",
       "      <td>Series A</td>\n",
       "      <td>4,500,000</td>\n",
       "    </tr>\n",
       "    <tr>\n",
       "      <th>5</th>\n",
       "      <td>07/09/2020</td>\n",
       "      <td>Melorra</td>\n",
       "      <td>E-commerce</td>\n",
       "      <td>Online Jewelry Store</td>\n",
       "      <td>Bangalore</td>\n",
       "      <td>Shadow Holdings, Lightbox.</td>\n",
       "      <td>Debt Financing</td>\n",
       "      <td>upto 8,900,000</td>\n",
       "    </tr>\n",
       "    <tr>\n",
       "      <th>6</th>\n",
       "      <td>07/09/2020</td>\n",
       "      <td>1mg</td>\n",
       "      <td>E-commerce</td>\n",
       "      <td>Online Pharmacy</td>\n",
       "      <td>Gurgaon</td>\n",
       "      <td>Gaja Capital, Tata Capital, Partners Group</td>\n",
       "      <td>In Progress</td>\n",
       "      <td>100,000,000</td>\n",
       "    </tr>\n",
       "    <tr>\n",
       "      <th>7</th>\n",
       "      <td>31/08/2020</td>\n",
       "      <td>mfine</td>\n",
       "      <td>HealthTech</td>\n",
       "      <td>On-Demand Healthcare Services</td>\n",
       "      <td>Bangalore</td>\n",
       "      <td>Caretech Pte Inc</td>\n",
       "      <td>Series B</td>\n",
       "      <td>5,400,000</td>\n",
       "    </tr>\n",
       "    <tr>\n",
       "      <th>8</th>\n",
       "      <td>31/08/2020</td>\n",
       "      <td>Apna</td>\n",
       "      <td>Human Resources</td>\n",
       "      <td>Recruitment Platform</td>\n",
       "      <td>Bangalore</td>\n",
       "      <td>Lightspeed India and Sequoia Capital India</td>\n",
       "      <td>Series A</td>\n",
       "      <td>8,000,000</td>\n",
       "    </tr>\n",
       "    <tr>\n",
       "      <th>9</th>\n",
       "      <td>03/09/2020</td>\n",
       "      <td>Railofy</td>\n",
       "      <td>Transportation</td>\n",
       "      <td>WL &amp; RAC protection platform</td>\n",
       "      <td>Mumbai</td>\n",
       "      <td>Chiratae Ventures</td>\n",
       "      <td>Seed</td>\n",
       "      <td>950,000</td>\n",
       "    </tr>\n",
       "    <tr>\n",
       "      <th>10</th>\n",
       "      <td>08/09/2020</td>\n",
       "      <td>Cell Propulsion</td>\n",
       "      <td>Automobile</td>\n",
       "      <td>Electric Mobility Solutions</td>\n",
       "      <td>Bangalore</td>\n",
       "      <td>growX Ventures and Micelio</td>\n",
       "      <td>pre-Series A</td>\n",
       "      <td>NA</td>\n",
       "    </tr>\n",
       "    <tr>\n",
       "      <th>11</th>\n",
       "      <td>15/08/2020</td>\n",
       "      <td>Practo</td>\n",
       "      <td>HealthTech</td>\n",
       "      <td>Health care and Wellness</td>\n",
       "      <td>Bangalore</td>\n",
       "      <td>A1A Company</td>\n",
       "      <td>Series F</td>\n",
       "      <td>32,000,000</td>\n",
       "    </tr>\n",
       "    <tr>\n",
       "      <th>12</th>\n",
       "      <td>13/08/2020</td>\n",
       "      <td>Medlife</td>\n",
       "      <td>E-commerce</td>\n",
       "      <td>Online Pharmacy</td>\n",
       "      <td>Bangalore</td>\n",
       "      <td>Prasid Uno Family Trust and SC Credit Fund</td>\n",
       "      <td></td>\n",
       "      <td>23,000,000</td>\n",
       "    </tr>\n",
       "    <tr>\n",
       "      <th>13</th>\n",
       "      <td>13/08/2020</td>\n",
       "      <td>HungerBox</td>\n",
       "      <td>FoodTech</td>\n",
       "      <td>Online Food Delivery Service</td>\n",
       "      <td>Bangalore</td>\n",
       "      <td>One97, Sabre Partners Trust, Pratithi Investme...</td>\n",
       "      <td>Series D1</td>\n",
       "      <td>1,560,000</td>\n",
       "    </tr>\n",
       "    <tr>\n",
       "      <th>14</th>\n",
       "      <td>04/08/2020</td>\n",
       "      <td>Dunzo</td>\n",
       "      <td>Hyper-local Logistics</td>\n",
       "      <td>Online Delivery Services</td>\n",
       "      <td>Bangalore</td>\n",
       "      <td>Existing Backers</td>\n",
       "      <td>In Progress</td>\n",
       "      <td>30,000,000</td>\n",
       "    </tr>\n",
       "    <tr>\n",
       "      <th>15</th>\n",
       "      <td>11/08/2020</td>\n",
       "      <td>Terra.do</td>\n",
       "      <td>EduTech</td>\n",
       "      <td>Online Climate School, E-learning</td>\n",
       "      <td>Stanford, California,</td>\n",
       "      <td>Stanford Angels and Entrepreneurs (India), BEE...</td>\n",
       "      <td>Seed</td>\n",
       "      <td>1,400,000</td>\n",
       "    </tr>\n",
       "    <tr>\n",
       "      <th>16</th>\n",
       "      <td>12/08/2020</td>\n",
       "      <td>Classplus</td>\n",
       "      <td>EduTech</td>\n",
       "      <td>E-learning, Online Tutoring</td>\n",
       "      <td>Noida</td>\n",
       "      <td>Falcon Edge</td>\n",
       "      <td>In Progress</td>\n",
       "      <td>upto 15,000,000</td>\n",
       "    </tr>\n",
       "    <tr>\n",
       "      <th>17</th>\n",
       "      <td>14/08/2020</td>\n",
       "      <td>Niyo</td>\n",
       "      <td>FinTech</td>\n",
       "      <td>Financial Services</td>\n",
       "      <td>Bangalore</td>\n",
       "      <td>Niyo Solutions Inc.</td>\n",
       "      <td></td>\n",
       "      <td>6,000,000</td>\n",
       "    </tr>\n",
       "    <tr>\n",
       "      <th>18</th>\n",
       "      <td>10/08/2020</td>\n",
       "      <td>ZestMoney</td>\n",
       "      <td>FinTech</td>\n",
       "      <td>Financial Services</td>\n",
       "      <td>Bangalore</td>\n",
       "      <td>Primrose Hills Ventures</td>\n",
       "      <td></td>\n",
       "      <td>10,670,000</td>\n",
       "    </tr>\n",
       "    <tr>\n",
       "      <th>19</th>\n",
       "      <td>07/08/2020</td>\n",
       "      <td>FreshToHome</td>\n",
       "      <td>E-commerce</td>\n",
       "      <td>Food Delivery</td>\n",
       "      <td>Bangalore</td>\n",
       "      <td>Ascent Capital</td>\n",
       "      <td>Venture</td>\n",
       "      <td>16,200,000</td>\n",
       "    </tr>\n",
       "    <tr>\n",
       "      <th>20</th>\n",
       "      <td>13/08/2020</td>\n",
       "      <td>Eduvanz</td>\n",
       "      <td>FinTech</td>\n",
       "      <td>Financial Services</td>\n",
       "      <td>Mumbai</td>\n",
       "      <td>Sequoia India, Unitus</td>\n",
       "      <td>Series A</td>\n",
       "      <td>5,000,000</td>\n",
       "    </tr>\n",
       "    <tr>\n",
       "      <th>21</th>\n",
       "      <td>03/08/2020</td>\n",
       "      <td>CrowdPouch</td>\n",
       "      <td>FinTech</td>\n",
       "      <td>Financial Services</td>\n",
       "      <td>Bangalore</td>\n",
       "      <td>Elina Investments Pvt. Ltd</td>\n",
       "      <td>Angel</td>\n",
       "      <td>NA</td>\n",
       "    </tr>\n",
       "    <tr>\n",
       "      <th>22</th>\n",
       "      <td>04/08/2020</td>\n",
       "      <td>DrinkPrime</td>\n",
       "      <td>Water Purification</td>\n",
       "      <td>Water Purification</td>\n",
       "      <td>Bangalore</td>\n",
       "      <td>Sequoia Surge, ON Mauritius</td>\n",
       "      <td>Pre-Series A</td>\n",
       "      <td>2,880,000</td>\n",
       "    </tr>\n",
       "    <tr>\n",
       "      <th>23</th>\n",
       "      <td>15/07/2020</td>\n",
       "      <td>Flipkart</td>\n",
       "      <td>E-commerce</td>\n",
       "      <td>E-commerce</td>\n",
       "      <td>Bangalore</td>\n",
       "      <td>Walmart Inc</td>\n",
       "      <td>M&amp;A</td>\n",
       "      <td>1,200,000,000</td>\n",
       "    </tr>\n",
       "    <tr>\n",
       "      <th>24</th>\n",
       "      <td>16/07/2020</td>\n",
       "      <td>Vedantu</td>\n",
       "      <td>EduTech</td>\n",
       "      <td>Online Tutoring</td>\n",
       "      <td>Bangalore</td>\n",
       "      <td>Coatue Management</td>\n",
       "      <td>Series D</td>\n",
       "      <td>100,000,000</td>\n",
       "    </tr>\n",
       "    <tr>\n",
       "      <th>25</th>\n",
       "      <td>16/07/2020</td>\n",
       "      <td>Crio</td>\n",
       "      <td>EduTech</td>\n",
       "      <td>Learning Platform for Developers</td>\n",
       "      <td>Bangalore</td>\n",
       "      <td>021 Capital</td>\n",
       "      <td>pre-Series A</td>\n",
       "      <td>934,160</td>\n",
       "    </tr>\n",
       "    <tr>\n",
       "      <th>26</th>\n",
       "      <td>14/07/2020</td>\n",
       "      <td>goDutch</td>\n",
       "      <td>FinTech</td>\n",
       "      <td>Group Payments</td>\n",
       "      <td>Mumbai</td>\n",
       "      <td>Matrix India,Y Combinator, Global Founders Cap...</td>\n",
       "      <td>Seed</td>\n",
       "      <td>1,700,000</td>\n",
       "    </tr>\n",
       "    <tr>\n",
       "      <th>27</th>\n",
       "      <td>13/07/2020</td>\n",
       "      <td>Mystifly</td>\n",
       "      <td>Airfare Marketplace</td>\n",
       "      <td>Ticketing, Airline Retailing, and Post-Ticketi...</td>\n",
       "      <td>Singapore and Bangalore</td>\n",
       "      <td>Recruit Co. Ltd.</td>\n",
       "      <td>pre-Series B</td>\n",
       "      <td>3,300,000</td>\n",
       "    </tr>\n",
       "    <tr>\n",
       "      <th>28</th>\n",
       "      <td>09/07/2020</td>\n",
       "      <td>JetSynthesys</td>\n",
       "      <td>Gaming and Entertainment</td>\n",
       "      <td>Gaming and Entertainment</td>\n",
       "      <td>Pune</td>\n",
       "      <td>Adar Poonawalla and Kris Gopalakrishnan.</td>\n",
       "      <td>Venture-Series Unknown</td>\n",
       "      <td>400,000</td>\n",
       "    </tr>\n",
       "    <tr>\n",
       "      <th>29</th>\n",
       "      <td>10/07/2020</td>\n",
       "      <td>gigIndia</td>\n",
       "      <td>Marketplace</td>\n",
       "      <td>Crowd Sourcing, Freelance</td>\n",
       "      <td>Pune</td>\n",
       "      <td>Incubate Fund India and Beyond Next Ventures</td>\n",
       "      <td>pre-Series A</td>\n",
       "      <td>974,200</td>\n",
       "    </tr>\n",
       "    <tr>\n",
       "      <th>30</th>\n",
       "      <td>15/07/2020</td>\n",
       "      <td>PumPumPum</td>\n",
       "      <td>Automotive Rental</td>\n",
       "      <td>Used Car-leasing platform</td>\n",
       "      <td>Gurgaon</td>\n",
       "      <td>Early Adapters Syndicate</td>\n",
       "      <td>Seed</td>\n",
       "      <td>292,800</td>\n",
       "    </tr>\n",
       "    <tr>\n",
       "      <th>31</th>\n",
       "      <td>14/07/2020</td>\n",
       "      <td>FLYX</td>\n",
       "      <td>OTT Player</td>\n",
       "      <td>Streaming Social Network</td>\n",
       "      <td>New York and Delhi</td>\n",
       "      <td>Raj Mishra, founder of AIT Global Inc</td>\n",
       "      <td>pre-Seed</td>\n",
       "      <td>200,000</td>\n",
       "    </tr>\n",
       "    <tr>\n",
       "      <th>32</th>\n",
       "      <td>13/07/2020</td>\n",
       "      <td>Open Appliances Pvt. Ltd.</td>\n",
       "      <td>Information Technology</td>\n",
       "      <td>Internet-of-Things Security Solutions</td>\n",
       "      <td>Bangalore</td>\n",
       "      <td>Unicorn India Ventures</td>\n",
       "      <td>Venture-Series Unknown</td>\n",
       "      <td>500,000</td>\n",
       "    </tr>\n",
       "  </tbody>\n",
       "</table>\n",
       "</div>"
      ],
      "text/plain": [
       "          date               startup_name  \\\n",
       "0   08/09/2020                     Byju’s   \n",
       "1   12/09/2020                  mCaffeine   \n",
       "2   09/09/2020                     Qshala   \n",
       "3   02/09/2020                      Winzo   \n",
       "4   09/09/2020                Hippo Video   \n",
       "5   07/09/2020                    Melorra   \n",
       "6   07/09/2020                        1mg   \n",
       "7   31/08/2020                      mfine   \n",
       "8   31/08/2020                       Apna   \n",
       "9   03/09/2020                    Railofy   \n",
       "10  08/09/2020            Cell Propulsion   \n",
       "11  15/08/2020                     Practo   \n",
       "12  13/08/2020                    Medlife   \n",
       "13  13/08/2020                  HungerBox   \n",
       "14  04/08/2020                      Dunzo   \n",
       "15  11/08/2020                   Terra.do   \n",
       "16  12/08/2020                  Classplus   \n",
       "17  14/08/2020                       Niyo   \n",
       "18  10/08/2020                  ZestMoney   \n",
       "19  07/08/2020                FreshToHome   \n",
       "20  13/08/2020                    Eduvanz   \n",
       "21  03/08/2020                 CrowdPouch   \n",
       "22  04/08/2020                 DrinkPrime   \n",
       "23  15/07/2020                   Flipkart   \n",
       "24  16/07/2020                    Vedantu   \n",
       "25  16/07/2020                       Crio   \n",
       "26  14/07/2020                    goDutch   \n",
       "27  13/07/2020                   Mystifly   \n",
       "28  09/07/2020               JetSynthesys   \n",
       "29  10/07/2020                   gigIndia   \n",
       "30  15/07/2020                  PumPumPum   \n",
       "31  14/07/2020                       FLYX   \n",
       "32  13/07/2020  Open Appliances Pvt. Ltd.   \n",
       "\n",
       "                         industry_vertical  \\\n",
       "0                                  EduTech   \n",
       "1                            Personal Care   \n",
       "2                                  EduTech   \n",
       "3                            Online Gaming   \n",
       "4   Video Customer Experience(CX) Platform   \n",
       "5                               E-commerce   \n",
       "6                               E-commerce   \n",
       "7                               HealthTech   \n",
       "8                          Human Resources   \n",
       "9                           Transportation   \n",
       "10                              Automobile   \n",
       "11                              HealthTech   \n",
       "12                              E-commerce   \n",
       "13                                FoodTech   \n",
       "14                   Hyper-local Logistics   \n",
       "15                                 EduTech   \n",
       "16                                 EduTech   \n",
       "17                                 FinTech   \n",
       "18                                 FinTech   \n",
       "19                              E-commerce   \n",
       "20                                 FinTech   \n",
       "21                                 FinTech   \n",
       "22                      Water Purification   \n",
       "23                              E-commerce   \n",
       "24                                 EduTech   \n",
       "25                                 EduTech   \n",
       "26                                 FinTech   \n",
       "27                     Airfare Marketplace   \n",
       "28                Gaming and Entertainment   \n",
       "29                             Marketplace   \n",
       "30                       Automotive Rental   \n",
       "31                              OTT Player   \n",
       "32                  Information Technology   \n",
       "\n",
       "                                         sub_vertical  \\\n",
       "0                                     Online Tutoring   \n",
       "1                                 Skincare & Haircare   \n",
       "2                  Online Curiosity Platform for Kids   \n",
       "3                                       Online Gaming   \n",
       "4              Video Customer Experience(CX) Platform   \n",
       "5                                Online Jewelry Store   \n",
       "6                                     Online Pharmacy   \n",
       "7                       On-Demand Healthcare Services   \n",
       "8                                Recruitment Platform   \n",
       "9                        WL & RAC protection platform   \n",
       "10                        Electric Mobility Solutions   \n",
       "11                           Health care and Wellness   \n",
       "12                                    Online Pharmacy   \n",
       "13                       Online Food Delivery Service   \n",
       "14                           Online Delivery Services   \n",
       "15                  Online Climate School, E-learning   \n",
       "16                        E-learning, Online Tutoring   \n",
       "17                                 Financial Services   \n",
       "18                                 Financial Services   \n",
       "19                                      Food Delivery   \n",
       "20                                 Financial Services   \n",
       "21                                 Financial Services   \n",
       "22                                 Water Purification   \n",
       "23                                         E-commerce   \n",
       "24                                    Online Tutoring   \n",
       "25                   Learning Platform for Developers   \n",
       "26                                     Group Payments   \n",
       "27  Ticketing, Airline Retailing, and Post-Ticketi...   \n",
       "28                           Gaming and Entertainment   \n",
       "29                          Crowd Sourcing, Freelance   \n",
       "30                          Used Car-leasing platform   \n",
       "31                           Streaming Social Network   \n",
       "32              Internet-of-Things Security Solutions   \n",
       "\n",
       "                                 city_location  \\\n",
       "0                                    Bangalore   \n",
       "1                                       Mumbai   \n",
       "2                                    Bangalore   \n",
       "3                                    New Delhi   \n",
       "4   Newark, Delaware, United States of Amercia   \n",
       "5                                    Bangalore   \n",
       "6                                      Gurgaon   \n",
       "7                                    Bangalore   \n",
       "8                                    Bangalore   \n",
       "9                                       Mumbai   \n",
       "10                                   Bangalore   \n",
       "11                                   Bangalore   \n",
       "12                                   Bangalore   \n",
       "13                                   Bangalore   \n",
       "14                                   Bangalore   \n",
       "15                       Stanford, California,   \n",
       "16                                       Noida   \n",
       "17                                   Bangalore   \n",
       "18                                   Bangalore   \n",
       "19                                   Bangalore   \n",
       "20                                      Mumbai   \n",
       "21                                   Bangalore   \n",
       "22                                   Bangalore   \n",
       "23                                   Bangalore   \n",
       "24                                   Bangalore   \n",
       "25                                   Bangalore   \n",
       "26                                      Mumbai   \n",
       "27                     Singapore and Bangalore   \n",
       "28                                        Pune   \n",
       "29                                        Pune   \n",
       "30                                     Gurgaon   \n",
       "31                          New York and Delhi   \n",
       "32                                   Bangalore   \n",
       "\n",
       "                                        investor_name         investment_type  \\\n",
       "0   Silver Lake, Tiger Global, General Atlantic an...          Private Equity   \n",
       "1   Amicus Capital Private Equity I LLP, Amicus Ca...                Series B   \n",
       "2                                  Rainmatter Capital                   Angel   \n",
       "3   Kalaari Capital Partners, IndigoEdge Managemen...                Series B   \n",
       "4   Alpha Wave Incubation, Exfinity Venture Partne...                Series A   \n",
       "5                          Shadow Holdings, Lightbox.          Debt Financing   \n",
       "6          Gaja Capital, Tata Capital, Partners Group             In Progress   \n",
       "7                                    Caretech Pte Inc                Series B   \n",
       "8          Lightspeed India and Sequoia Capital India                Series A   \n",
       "9                                   Chiratae Ventures                    Seed   \n",
       "10                         growX Ventures and Micelio            pre-Series A   \n",
       "11                                        A1A Company                Series F   \n",
       "12         Prasid Uno Family Trust and SC Credit Fund                           \n",
       "13  One97, Sabre Partners Trust, Pratithi Investme...               Series D1   \n",
       "14                                   Existing Backers             In Progress   \n",
       "15  Stanford Angels and Entrepreneurs (India), BEE...                    Seed   \n",
       "16                                        Falcon Edge             In Progress   \n",
       "17                                Niyo Solutions Inc.                           \n",
       "18                            Primrose Hills Ventures                           \n",
       "19                                     Ascent Capital                 Venture   \n",
       "20                              Sequoia India, Unitus                Series A   \n",
       "21                         Elina Investments Pvt. Ltd                   Angel   \n",
       "22                        Sequoia Surge, ON Mauritius            Pre-Series A   \n",
       "23                                        Walmart Inc                     M&A   \n",
       "24                                  Coatue Management                Series D   \n",
       "25                                        021 Capital            pre-Series A   \n",
       "26  Matrix India,Y Combinator, Global Founders Cap...                    Seed   \n",
       "27                                   Recruit Co. Ltd.            pre-Series B   \n",
       "28           Adar Poonawalla and Kris Gopalakrishnan.  Venture-Series Unknown   \n",
       "29       Incubate Fund India and Beyond Next Ventures            pre-Series A   \n",
       "30                           Early Adapters Syndicate                    Seed   \n",
       "31              Raj Mishra, founder of AIT Global Inc                pre-Seed   \n",
       "32                             Unicorn India Ventures  Venture-Series Unknown   \n",
       "\n",
       "      amount_in_USD  \n",
       "0       500,000,000  \n",
       "1         3,000,000  \n",
       "2           370,000  \n",
       "3        15,500,000  \n",
       "4         4,500,000  \n",
       "5    upto 8,900,000  \n",
       "6       100,000,000  \n",
       "7         5,400,000  \n",
       "8         8,000,000  \n",
       "9           950,000  \n",
       "10               NA  \n",
       "11       32,000,000  \n",
       "12       23,000,000  \n",
       "13        1,560,000  \n",
       "14       30,000,000  \n",
       "15        1,400,000  \n",
       "16  upto 15,000,000  \n",
       "17        6,000,000  \n",
       "18       10,670,000  \n",
       "19       16,200,000  \n",
       "20        5,000,000  \n",
       "21               NA  \n",
       "22        2,880,000  \n",
       "23    1,200,000,000  \n",
       "24      100,000,000  \n",
       "25          934,160  \n",
       "26        1,700,000  \n",
       "27        3,300,000  \n",
       "28          400,000  \n",
       "29          974,200  \n",
       "30          292,800  \n",
       "31          200,000  \n",
       "32          500,000  "
      ]
     },
     "execution_count": 174,
     "metadata": {},
     "output_type": "execute_result"
    }
   ],
   "source": [
    "funding_deals"
   ]
  },
  {
   "cell_type": "code",
   "execution_count": null,
   "metadata": {},
   "outputs": [],
   "source": []
  }
 ],
 "metadata": {
  "kernelspec": {
   "display_name": "Python 3",
   "language": "python",
   "name": "python3"
  },
  "language_info": {
   "codemirror_mode": {
    "name": "ipython",
    "version": 3
   },
   "file_extension": ".py",
   "mimetype": "text/x-python",
   "name": "python",
   "nbconvert_exporter": "python",
   "pygments_lexer": "ipython3",
   "version": "3.8.3"
  }
 },
 "nbformat": 4,
 "nbformat_minor": 4
}
