{
 "cells": [
  {
   "cell_type": "code",
   "execution_count": 1,
   "metadata": {},
   "outputs": [
    {
     "name": "stdout",
     "output_type": "stream",
     "text": [
      "Requirement already satisfied: selenium in c:\\users\\bhupe\\anaconda3\\lib\\site-packages (3.141.0)\n",
      "Requirement already satisfied: urllib3 in c:\\users\\bhupe\\anaconda3\\lib\\site-packages (from selenium) (1.25.9)\n",
      "Requirement already satisfied: webdriver-manager in c:\\users\\bhupe\\anaconda3\\lib\\site-packages (3.3.0)\n",
      "Requirement already satisfied: requests in c:\\users\\bhupe\\anaconda3\\lib\\site-packages (from webdriver-manager) (2.24.0)\n",
      "Requirement already satisfied: crayons in c:\\users\\bhupe\\anaconda3\\lib\\site-packages (from webdriver-manager) (0.4.0)\n",
      "Requirement already satisfied: configparser in c:\\users\\bhupe\\anaconda3\\lib\\site-packages (from webdriver-manager) (5.0.1)\n",
      "Requirement already satisfied: certifi>=2017.4.17 in c:\\users\\bhupe\\anaconda3\\lib\\site-packages (from requests->webdriver-manager) (2020.6.20)\n",
      "Requirement already satisfied: chardet<4,>=3.0.2 in c:\\users\\bhupe\\anaconda3\\lib\\site-packages (from requests->webdriver-manager) (3.0.4)\n",
      "Requirement already satisfied: urllib3!=1.25.0,!=1.25.1,<1.26,>=1.21.1 in c:\\users\\bhupe\\anaconda3\\lib\\site-packages (from requests->webdriver-manager) (1.25.9)\n",
      "Requirement already satisfied: idna<3,>=2.5 in c:\\users\\bhupe\\anaconda3\\lib\\site-packages (from requests->webdriver-manager) (2.10)\n",
      "Requirement already satisfied: colorama in c:\\users\\bhupe\\anaconda3\\lib\\site-packages (from crayons->webdriver-manager) (0.4.3)\n"
     ]
    }
   ],
   "source": [
    "! pip install selenium\n",
    "import selenium\n",
    "import pandas as pd\n",
    "!pip install webdriver-manager\n",
    "from selenium import webdriver\n",
    "from webdriver_manager.chrome import ChromeDriverManager\n",
    "from selenium.webdriver.common.keys import Keys \n",
    "from selenium.common.exceptions import ElementClickInterceptedException\n",
    "from selenium.common.exceptions import StaleElementReferenceException, NoSuchElementException\n",
    "from selenium.common.exceptions import ElementNotInteractableException\n",
    "from selenium.webdriver.support import expected_conditions as EC\n",
    "from selenium.webdriver.support.ui import WebDriverWait\n",
    "from selenium.webdriver.common.by import By\n",
    "from selenium.webdriver.support import ui\n",
    "import warnings\n",
    "warnings.filterwarnings('ignore')\n",
    "import time"
   ]
  },
  {
   "cell_type": "code",
   "execution_count": 2,
   "metadata": {},
   "outputs": [
    {
     "name": "stderr",
     "output_type": "stream",
     "text": [
      "[WDM] - ====== WebDriver manager ======\n",
      "[WDM] - Current google-chrome version is 88.0.4324\n",
      "[WDM] - Get LATEST driver version for 88.0.4324\n"
     ]
    },
    {
     "name": "stdout",
     "output_type": "stream",
     "text": [
      "\n",
      "\n"
     ]
    },
    {
     "name": "stderr",
     "output_type": "stream",
     "text": [
      "[WDM] - Get LATEST driver version for 88.0.4324\n",
      "[WDM] - Trying to download new driver from https://chromedriver.storage.googleapis.com/88.0.4324.96/chromedriver_win32.zip\n",
      "[WDM] - Driver has been saved in cache [C:\\Users\\bhupe\\.wdm\\drivers\\chromedriver\\win32\\88.0.4324.96]\n"
     ]
    }
   ],
   "source": [
    "driver=webdriver.Chrome(ChromeDriverManager().install())"
   ]
  },
  {
   "cell_type": "code",
   "execution_count": 3,
   "metadata": {},
   "outputs": [],
   "source": [
    "driver.get('https://www.imdb.com/list/ls095964455/')"
   ]
  },
  {
   "cell_type": "code",
   "execution_count": 4,
   "metadata": {},
   "outputs": [],
   "source": [
    "Name=[]\n",
    "Year_span=[]\n",
    "Genre=[]\n",
    "Run_time=[]\n",
    "Ratings=[]\n",
    "Votes=[]"
   ]
  },
  {
   "cell_type": "code",
   "execution_count": 5,
   "metadata": {},
   "outputs": [
    {
     "data": {
      "text/plain": [
       "[<selenium.webdriver.remote.webelement.WebElement (session=\"8b60cbf0e8db3e9d3ee7c6b6f461c821\", element=\"9430f75c-6696-4dc0-bad4-6caee7416f84\")>,\n",
       " <selenium.webdriver.remote.webelement.WebElement (session=\"8b60cbf0e8db3e9d3ee7c6b6f461c821\", element=\"acb202df-4105-43e0-9058-53db04e5f19f\")>,\n",
       " <selenium.webdriver.remote.webelement.WebElement (session=\"8b60cbf0e8db3e9d3ee7c6b6f461c821\", element=\"88b81017-6685-4258-a95a-3f4dd9050f6c\")>,\n",
       " <selenium.webdriver.remote.webelement.WebElement (session=\"8b60cbf0e8db3e9d3ee7c6b6f461c821\", element=\"0daa58e0-f72c-4686-b691-63053323555d\")>]"
      ]
     },
     "execution_count": 5,
     "metadata": {},
     "output_type": "execute_result"
    }
   ],
   "source": [
    "name_tag=driver.find_elements_by_xpath('//*[@id=\"main\"]/div/div[3]/div[3]/div/div[2]/h3/a')\n",
    "name_tag[:4]"
   ]
  },
  {
   "cell_type": "code",
   "execution_count": 6,
   "metadata": {},
   "outputs": [
    {
     "data": {
      "text/plain": [
       "['Game of Thrones', 'Stranger Things', 'The Walking Dead', '13 Reasons Why']"
      ]
     },
     "execution_count": 6,
     "metadata": {},
     "output_type": "execute_result"
    }
   ],
   "source": [
    "for i in name_tag:\n",
    "    name=i.text\n",
    "    Name.append(name)\n",
    "    \n",
    "Name[:4]"
   ]
  },
  {
   "cell_type": "code",
   "execution_count": 7,
   "metadata": {},
   "outputs": [
    {
     "data": {
      "text/plain": [
       "[<selenium.webdriver.remote.webelement.WebElement (session=\"8b60cbf0e8db3e9d3ee7c6b6f461c821\", element=\"621df845-e2b9-47ce-a3ed-25471c7d6819\")>,\n",
       " <selenium.webdriver.remote.webelement.WebElement (session=\"8b60cbf0e8db3e9d3ee7c6b6f461c821\", element=\"55611f12-ae92-4b13-9466-7c9808474076\")>,\n",
       " <selenium.webdriver.remote.webelement.WebElement (session=\"8b60cbf0e8db3e9d3ee7c6b6f461c821\", element=\"37b57134-a73e-4f6b-823e-1003bd401100\")>,\n",
       " <selenium.webdriver.remote.webelement.WebElement (session=\"8b60cbf0e8db3e9d3ee7c6b6f461c821\", element=\"d933119e-8369-4ec2-9c5e-2ca95567d517\")>]"
      ]
     },
     "execution_count": 7,
     "metadata": {},
     "output_type": "execute_result"
    }
   ],
   "source": [
    "Year_tag=driver.find_elements_by_xpath('//*[@id=\"main\"]/div/div[3]/div[3]/div/div[2]/h3/span[2]')\n",
    "Year_tag[:4]"
   ]
  },
  {
   "cell_type": "code",
   "execution_count": 8,
   "metadata": {},
   "outputs": [
    {
     "data": {
      "text/plain": [
       "['(2011–2019)', '(2016– )', '(2010– )', '(2017–2020)']"
      ]
     },
     "execution_count": 8,
     "metadata": {},
     "output_type": "execute_result"
    }
   ],
   "source": [
    "for i in Year_tag:\n",
    "    year=i.text\n",
    "    Year_span.append(year)\n",
    "    \n",
    "Year_span[:4]"
   ]
  },
  {
   "cell_type": "code",
   "execution_count": 9,
   "metadata": {},
   "outputs": [
    {
     "data": {
      "text/plain": [
       "[<selenium.webdriver.remote.webelement.WebElement (session=\"8b60cbf0e8db3e9d3ee7c6b6f461c821\", element=\"aa6f6e34-4a9e-4752-88fe-1fe2ea10cdb9\")>,\n",
       " <selenium.webdriver.remote.webelement.WebElement (session=\"8b60cbf0e8db3e9d3ee7c6b6f461c821\", element=\"622323a5-b0e4-4ffe-8511-3bb3ef256c88\")>,\n",
       " <selenium.webdriver.remote.webelement.WebElement (session=\"8b60cbf0e8db3e9d3ee7c6b6f461c821\", element=\"2ff32aca-4f8f-431a-a242-4b8c5b153a05\")>,\n",
       " <selenium.webdriver.remote.webelement.WebElement (session=\"8b60cbf0e8db3e9d3ee7c6b6f461c821\", element=\"6f29af7f-16cd-4229-a8bf-9c17b26d512a\")>]"
      ]
     },
     "execution_count": 9,
     "metadata": {},
     "output_type": "execute_result"
    }
   ],
   "source": [
    "Genre_tag=driver.find_elements_by_xpath('//*[@id=\"main\"]/div/div[3]/div[3]/div/div[2]/p[1]/span[5]')\n",
    "Genre_tag[:4]"
   ]
  },
  {
   "cell_type": "code",
   "execution_count": 10,
   "metadata": {},
   "outputs": [
    {
     "data": {
      "text/plain": [
       "['Action, Adventure, Drama',\n",
       " 'Drama, Fantasy, Horror',\n",
       " 'Drama, Horror, Thriller',\n",
       " 'Drama, Mystery, Thriller']"
      ]
     },
     "execution_count": 10,
     "metadata": {},
     "output_type": "execute_result"
    }
   ],
   "source": [
    "for i in Genre_tag:\n",
    "    genre=i.text\n",
    "    Genre.append(genre)\n",
    "    \n",
    "Genre[:4]"
   ]
  },
  {
   "cell_type": "code",
   "execution_count": 11,
   "metadata": {},
   "outputs": [
    {
     "data": {
      "text/plain": [
       "[<selenium.webdriver.remote.webelement.WebElement (session=\"8b60cbf0e8db3e9d3ee7c6b6f461c821\", element=\"d0ecef43-6c28-43db-8b99-e60d6e204dc0\")>,\n",
       " <selenium.webdriver.remote.webelement.WebElement (session=\"8b60cbf0e8db3e9d3ee7c6b6f461c821\", element=\"cf97f1ac-dc62-478d-9c6f-0b01143f5bc4\")>,\n",
       " <selenium.webdriver.remote.webelement.WebElement (session=\"8b60cbf0e8db3e9d3ee7c6b6f461c821\", element=\"1b653675-3d33-426c-9f1a-c197645e6ee7\")>,\n",
       " <selenium.webdriver.remote.webelement.WebElement (session=\"8b60cbf0e8db3e9d3ee7c6b6f461c821\", element=\"6edd4a24-d624-4665-8432-0c5e91729dfc\")>]"
      ]
     },
     "execution_count": 11,
     "metadata": {},
     "output_type": "execute_result"
    }
   ],
   "source": [
    "Run_tag=driver.find_elements_by_xpath('//*[@id=\"main\"]/div/div[3]/div[3]/div/div[2]/p[1]/span[3]')\n",
    "Run_tag[:4]"
   ]
  },
  {
   "cell_type": "code",
   "execution_count": 12,
   "metadata": {},
   "outputs": [
    {
     "data": {
      "text/plain": [
       "['57 min', '51 min', '44 min', '60 min']"
      ]
     },
     "execution_count": 12,
     "metadata": {},
     "output_type": "execute_result"
    }
   ],
   "source": [
    "for i in Run_tag:\n",
    "    run=i.text\n",
    "    Run_time.append(run)\n",
    "    \n",
    "Run_time[:4]"
   ]
  },
  {
   "cell_type": "code",
   "execution_count": 13,
   "metadata": {},
   "outputs": [
    {
     "data": {
      "text/plain": [
       "[<selenium.webdriver.remote.webelement.WebElement (session=\"8b60cbf0e8db3e9d3ee7c6b6f461c821\", element=\"e17a6406-ccf3-44bc-acb2-62584cad3ac0\")>,\n",
       " <selenium.webdriver.remote.webelement.WebElement (session=\"8b60cbf0e8db3e9d3ee7c6b6f461c821\", element=\"a32881bc-d4e0-4735-81dc-7997b4c43420\")>,\n",
       " <selenium.webdriver.remote.webelement.WebElement (session=\"8b60cbf0e8db3e9d3ee7c6b6f461c821\", element=\"9707230e-d4bf-4b4e-986c-e865ffd84629\")>,\n",
       " <selenium.webdriver.remote.webelement.WebElement (session=\"8b60cbf0e8db3e9d3ee7c6b6f461c821\", element=\"ed8aed5a-7476-4a6b-b273-11133d0492da\")>]"
      ]
     },
     "execution_count": 13,
     "metadata": {},
     "output_type": "execute_result"
    }
   ],
   "source": [
    "Ratings_tag=driver.find_elements_by_xpath('//*[@id=\"main\"]/div/div[3]/div[3]/div/div[2]/div[1]/div[1]/span[2]')\n",
    "Ratings_tag[:4]"
   ]
  },
  {
   "cell_type": "code",
   "execution_count": 14,
   "metadata": {},
   "outputs": [
    {
     "data": {
      "text/plain": [
       "['9.3', '8.7', '8.2', '7.6']"
      ]
     },
     "execution_count": 14,
     "metadata": {},
     "output_type": "execute_result"
    }
   ],
   "source": [
    "for i in Ratings_tag:\n",
    "    ratings=i.text\n",
    "    Ratings.append(ratings)\n",
    "    \n",
    "Ratings[:4]"
   ]
  },
  {
   "cell_type": "code",
   "execution_count": 15,
   "metadata": {},
   "outputs": [
    {
     "data": {
      "text/plain": [
       "[<selenium.webdriver.remote.webelement.WebElement (session=\"8b60cbf0e8db3e9d3ee7c6b6f461c821\", element=\"73c18a5a-6113-4ab7-a32e-c412d987dc4c\")>,\n",
       " <selenium.webdriver.remote.webelement.WebElement (session=\"8b60cbf0e8db3e9d3ee7c6b6f461c821\", element=\"620f65aa-65c2-49fa-8024-897c568ddff0\")>,\n",
       " <selenium.webdriver.remote.webelement.WebElement (session=\"8b60cbf0e8db3e9d3ee7c6b6f461c821\", element=\"6c623742-1263-4561-8f14-0531bd0fd4b1\")>,\n",
       " <selenium.webdriver.remote.webelement.WebElement (session=\"8b60cbf0e8db3e9d3ee7c6b6f461c821\", element=\"d5f7ebee-9603-4bac-976a-4d84bdc40581\")>]"
      ]
     },
     "execution_count": 15,
     "metadata": {},
     "output_type": "execute_result"
    }
   ],
   "source": [
    "votes_tag=driver.find_elements_by_xpath('//*[@id=\"main\"]/div/div[3]/div[3]/div/div[2]/p[4]/span[2]')\n",
    "votes_tag[:4]"
   ]
  },
  {
   "cell_type": "code",
   "execution_count": 16,
   "metadata": {},
   "outputs": [
    {
     "data": {
      "text/plain": [
       "['1,778,053', '828,706', '856,698', '257,190']"
      ]
     },
     "execution_count": 16,
     "metadata": {},
     "output_type": "execute_result"
    }
   ],
   "source": [
    "for i in votes_tag:\n",
    "    votes=i.text\n",
    "    Votes.append(votes)\n",
    "    \n",
    "Votes[:4]"
   ]
  },
  {
   "cell_type": "code",
   "execution_count": 17,
   "metadata": {},
   "outputs": [
    {
     "name": "stdout",
     "output_type": "stream",
     "text": [
      "100 100 100 100 100 100\n"
     ]
    }
   ],
   "source": [
    "print(len(Name),len(Year_span),len(Genre),len(Run_time),len(Ratings),len(Votes))"
   ]
  },
  {
   "cell_type": "code",
   "execution_count": 18,
   "metadata": {},
   "outputs": [],
   "source": [
    "most_watched_tv_series=pd.DataFrame({})\n",
    "most_watched_tv_series['Name']=Name\n",
    "most_watched_tv_series['Year_span']=Year_span\n",
    "most_watched_tv_series['Genre']=Genre\n",
    "most_watched_tv_series['Run_time']=Run_time\n",
    "most_watched_tv_series['Ratings']=Ratings\n",
    "most_watched_tv_series['Votes']=Votes"
   ]
  },
  {
   "cell_type": "code",
   "execution_count": 19,
   "metadata": {},
   "outputs": [
    {
     "data": {
      "text/html": [
       "<div>\n",
       "<style scoped>\n",
       "    .dataframe tbody tr th:only-of-type {\n",
       "        vertical-align: middle;\n",
       "    }\n",
       "\n",
       "    .dataframe tbody tr th {\n",
       "        vertical-align: top;\n",
       "    }\n",
       "\n",
       "    .dataframe thead th {\n",
       "        text-align: right;\n",
       "    }\n",
       "</style>\n",
       "<table border=\"1\" class=\"dataframe\">\n",
       "  <thead>\n",
       "    <tr style=\"text-align: right;\">\n",
       "      <th></th>\n",
       "      <th>Name</th>\n",
       "      <th>Year_span</th>\n",
       "      <th>Genre</th>\n",
       "      <th>Run_time</th>\n",
       "      <th>Ratings</th>\n",
       "      <th>Votes</th>\n",
       "    </tr>\n",
       "  </thead>\n",
       "  <tbody>\n",
       "    <tr>\n",
       "      <th>0</th>\n",
       "      <td>Game of Thrones</td>\n",
       "      <td>(2011–2019)</td>\n",
       "      <td>Action, Adventure, Drama</td>\n",
       "      <td>57 min</td>\n",
       "      <td>9.3</td>\n",
       "      <td>1,778,053</td>\n",
       "    </tr>\n",
       "    <tr>\n",
       "      <th>1</th>\n",
       "      <td>Stranger Things</td>\n",
       "      <td>(2016– )</td>\n",
       "      <td>Drama, Fantasy, Horror</td>\n",
       "      <td>51 min</td>\n",
       "      <td>8.7</td>\n",
       "      <td>828,706</td>\n",
       "    </tr>\n",
       "    <tr>\n",
       "      <th>2</th>\n",
       "      <td>The Walking Dead</td>\n",
       "      <td>(2010– )</td>\n",
       "      <td>Drama, Horror, Thriller</td>\n",
       "      <td>44 min</td>\n",
       "      <td>8.2</td>\n",
       "      <td>856,698</td>\n",
       "    </tr>\n",
       "    <tr>\n",
       "      <th>3</th>\n",
       "      <td>13 Reasons Why</td>\n",
       "      <td>(2017–2020)</td>\n",
       "      <td>Drama, Mystery, Thriller</td>\n",
       "      <td>60 min</td>\n",
       "      <td>7.6</td>\n",
       "      <td>257,190</td>\n",
       "    </tr>\n",
       "    <tr>\n",
       "      <th>4</th>\n",
       "      <td>The 100</td>\n",
       "      <td>(2014–2020)</td>\n",
       "      <td>Drama, Mystery, Sci-Fi</td>\n",
       "      <td>43 min</td>\n",
       "      <td>7.6</td>\n",
       "      <td>217,712</td>\n",
       "    </tr>\n",
       "    <tr>\n",
       "      <th>...</th>\n",
       "      <td>...</td>\n",
       "      <td>...</td>\n",
       "      <td>...</td>\n",
       "      <td>...</td>\n",
       "      <td>...</td>\n",
       "      <td>...</td>\n",
       "    </tr>\n",
       "    <tr>\n",
       "      <th>95</th>\n",
       "      <td>Reign</td>\n",
       "      <td>(2013–2017)</td>\n",
       "      <td>Drama, Fantasy</td>\n",
       "      <td>42 min</td>\n",
       "      <td>7.5</td>\n",
       "      <td>43,764</td>\n",
       "    </tr>\n",
       "    <tr>\n",
       "      <th>96</th>\n",
       "      <td>A Series of Unfortunate Events</td>\n",
       "      <td>(2017–2019)</td>\n",
       "      <td>Adventure, Comedy, Drama</td>\n",
       "      <td>50 min</td>\n",
       "      <td>7.8</td>\n",
       "      <td>54,080</td>\n",
       "    </tr>\n",
       "    <tr>\n",
       "      <th>97</th>\n",
       "      <td>Criminal Minds</td>\n",
       "      <td>(2005–2020)</td>\n",
       "      <td>Crime, Drama, Mystery</td>\n",
       "      <td>42 min</td>\n",
       "      <td>8.1</td>\n",
       "      <td>162,202</td>\n",
       "    </tr>\n",
       "    <tr>\n",
       "      <th>98</th>\n",
       "      <td>Scream: The TV Series</td>\n",
       "      <td>(2015–2019)</td>\n",
       "      <td>Crime, Drama, Horror</td>\n",
       "      <td>45 min</td>\n",
       "      <td>7.2</td>\n",
       "      <td>34,196</td>\n",
       "    </tr>\n",
       "    <tr>\n",
       "      <th>99</th>\n",
       "      <td>The Haunting of Hill House</td>\n",
       "      <td>(2018)</td>\n",
       "      <td>Drama, Horror, Mystery</td>\n",
       "      <td>572 min</td>\n",
       "      <td>8.6</td>\n",
       "      <td>183,843</td>\n",
       "    </tr>\n",
       "  </tbody>\n",
       "</table>\n",
       "<p>100 rows × 6 columns</p>\n",
       "</div>"
      ],
      "text/plain": [
       "                              Name    Year_span                     Genre  \\\n",
       "0                  Game of Thrones  (2011–2019)  Action, Adventure, Drama   \n",
       "1                  Stranger Things     (2016– )    Drama, Fantasy, Horror   \n",
       "2                 The Walking Dead     (2010– )   Drama, Horror, Thriller   \n",
       "3                   13 Reasons Why  (2017–2020)  Drama, Mystery, Thriller   \n",
       "4                          The 100  (2014–2020)    Drama, Mystery, Sci-Fi   \n",
       "..                             ...          ...                       ...   \n",
       "95                           Reign  (2013–2017)            Drama, Fantasy   \n",
       "96  A Series of Unfortunate Events  (2017–2019)  Adventure, Comedy, Drama   \n",
       "97                  Criminal Minds  (2005–2020)     Crime, Drama, Mystery   \n",
       "98           Scream: The TV Series  (2015–2019)      Crime, Drama, Horror   \n",
       "99      The Haunting of Hill House       (2018)    Drama, Horror, Mystery   \n",
       "\n",
       "   Run_time Ratings      Votes  \n",
       "0    57 min     9.3  1,778,053  \n",
       "1    51 min     8.7    828,706  \n",
       "2    44 min     8.2    856,698  \n",
       "3    60 min     7.6    257,190  \n",
       "4    43 min     7.6    217,712  \n",
       "..      ...     ...        ...  \n",
       "95   42 min     7.5     43,764  \n",
       "96   50 min     7.8     54,080  \n",
       "97   42 min     8.1    162,202  \n",
       "98   45 min     7.2     34,196  \n",
       "99  572 min     8.6    183,843  \n",
       "\n",
       "[100 rows x 6 columns]"
      ]
     },
     "execution_count": 19,
     "metadata": {},
     "output_type": "execute_result"
    }
   ],
   "source": [
    "most_watched_tv_series"
   ]
  },
  {
   "cell_type": "code",
   "execution_count": null,
   "metadata": {},
   "outputs": [],
   "source": []
  }
 ],
 "metadata": {
  "kernelspec": {
   "display_name": "Python 3",
   "language": "python",
   "name": "python3"
  },
  "language_info": {
   "codemirror_mode": {
    "name": "ipython",
    "version": 3
   },
   "file_extension": ".py",
   "mimetype": "text/x-python",
   "name": "python",
   "nbconvert_exporter": "python",
   "pygments_lexer": "ipython3",
   "version": "3.8.3"
  }
 },
 "nbformat": 4,
 "nbformat_minor": 4
}
