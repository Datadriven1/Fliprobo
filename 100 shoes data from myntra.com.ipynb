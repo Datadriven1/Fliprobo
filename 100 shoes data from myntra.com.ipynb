{
 "cells": [
  {
   "cell_type": "code",
   "execution_count": 139,
   "metadata": {},
   "outputs": [
    {
     "name": "stdout",
     "output_type": "stream",
     "text": [
      "Requirement already satisfied: selenium in c:\\users\\bhupe\\anaconda3\\lib\\site-packages (3.141.0)\n",
      "Requirement already satisfied: urllib3 in c:\\users\\bhupe\\anaconda3\\lib\\site-packages (from selenium) (1.25.9)\n",
      "Requirement already satisfied: webdriver-manager in c:\\users\\bhupe\\anaconda3\\lib\\site-packages (3.3.0)\n",
      "Requirement already satisfied: requests in c:\\users\\bhupe\\anaconda3\\lib\\site-packages (from webdriver-manager) (2.24.0)\n",
      "Requirement already satisfied: configparser in c:\\users\\bhupe\\anaconda3\\lib\\site-packages (from webdriver-manager) (5.0.1)\n",
      "Requirement already satisfied: crayons in c:\\users\\bhupe\\anaconda3\\lib\\site-packages (from webdriver-manager) (0.4.0)\n",
      "Requirement already satisfied: chardet<4,>=3.0.2 in c:\\users\\bhupe\\anaconda3\\lib\\site-packages (from requests->webdriver-manager) (3.0.4)\n",
      "Requirement already satisfied: urllib3!=1.25.0,!=1.25.1,<1.26,>=1.21.1 in c:\\users\\bhupe\\anaconda3\\lib\\site-packages (from requests->webdriver-manager) (1.25.9)\n",
      "Requirement already satisfied: certifi>=2017.4.17 in c:\\users\\bhupe\\anaconda3\\lib\\site-packages (from requests->webdriver-manager) (2020.6.20)\n",
      "Requirement already satisfied: idna<3,>=2.5 in c:\\users\\bhupe\\anaconda3\\lib\\site-packages (from requests->webdriver-manager) (2.10)\n",
      "Requirement already satisfied: colorama in c:\\users\\bhupe\\anaconda3\\lib\\site-packages (from crayons->webdriver-manager) (0.4.3)\n"
     ]
    }
   ],
   "source": [
    "! pip install selenium\n",
    "import selenium\n",
    "import pandas as pd\n",
    "import numpy as np\n",
    "!pip install webdriver-manager\n",
    "from selenium import webdriver\n",
    "from webdriver_manager.chrome import ChromeDriverManager\n",
    "from selenium.webdriver.common.keys import Keys \n",
    "from selenium.common.exceptions import ElementClickInterceptedException\n",
    "import warnings\n",
    "warnings.filterwarnings('ignore')"
   ]
  },
  {
   "cell_type": "code",
   "execution_count": 140,
   "metadata": {},
   "outputs": [
    {
     "name": "stderr",
     "output_type": "stream",
     "text": [
      "[WDM] - ====== WebDriver manager ======\n",
      "[WDM] - Current google-chrome version is 88.0.4324\n",
      "[WDM] - Get LATEST driver version for 88.0.4324\n",
      "[WDM] - Driver [C:\\Users\\bhupe\\.wdm\\drivers\\chromedriver\\win32\\88.0.4324.96\\chromedriver.exe] found in cache\n"
     ]
    },
    {
     "name": "stdout",
     "output_type": "stream",
     "text": [
      "\n",
      "\n"
     ]
    }
   ],
   "source": [
    "driver=webdriver.Chrome(ChromeDriverManager().install())"
   ]
  },
  {
   "cell_type": "code",
   "execution_count": 141,
   "metadata": {},
   "outputs": [],
   "source": [
    "driver.get('https://www.myntra.com/shoes')"
   ]
  },
  {
   "cell_type": "code",
   "execution_count": 143,
   "metadata": {},
   "outputs": [],
   "source": [
    "element = driver.find_element_by_css_selector('input[value*=\"6589.0 TO 13059.0\"]') \n",
    "webdriver.ActionChains(driver).move_to_element(element ).click(element ).perform()"
   ]
  },
  {
   "cell_type": "code",
   "execution_count": 144,
   "metadata": {},
   "outputs": [],
   "source": [
    "element = driver.find_element_by_css_selector('input[value*=\"Black\"]')\n",
    "webdriver.ActionChains(driver).move_to_element(element ).click(element ).perform()"
   ]
  },
  {
   "cell_type": "code",
   "execution_count": 145,
   "metadata": {},
   "outputs": [],
   "source": [
    "Brand=[]\n",
    "Product_Description=[]\n",
    "Price=[]"
   ]
  },
  {
   "cell_type": "code",
   "execution_count": 146,
   "metadata": {},
   "outputs": [
    {
     "data": {
      "text/plain": [
       "[<selenium.webdriver.remote.webelement.WebElement (session=\"420d82cd3704f0a1653db415792f53aa\", element=\"47923707-5750-46d3-852b-1aed9692813b\")>,\n",
       " <selenium.webdriver.remote.webelement.WebElement (session=\"420d82cd3704f0a1653db415792f53aa\", element=\"f9280d63-6f8b-47d8-a1be-e390e374c816\")>,\n",
       " <selenium.webdriver.remote.webelement.WebElement (session=\"420d82cd3704f0a1653db415792f53aa\", element=\"4bbc9fbe-333e-4627-916d-694ee5e6b813\")>,\n",
       " <selenium.webdriver.remote.webelement.WebElement (session=\"420d82cd3704f0a1653db415792f53aa\", element=\"c0b7c412-703a-4711-997a-a0b63e9af3ea\")>]"
      ]
     },
     "execution_count": 146,
     "metadata": {},
     "output_type": "execute_result"
    }
   ],
   "source": [
    "brand_tags=driver.find_elements_by_xpath(\"//h3[@class='product-brand']\")\n",
    "brand_tags[0:4]"
   ]
  },
  {
   "cell_type": "code",
   "execution_count": 147,
   "metadata": {},
   "outputs": [
    {
     "data": {
      "text/plain": [
       "['Nike', 'Puma', 'Nike', 'Nike']"
      ]
     },
     "execution_count": 147,
     "metadata": {},
     "output_type": "execute_result"
    }
   ],
   "source": [
    "for i in brand_tags:\n",
    "    title=i.text\n",
    "    Brand.append(title)\n",
    "    \n",
    "Brand[0:4]  "
   ]
  },
  {
   "cell_type": "code",
   "execution_count": 148,
   "metadata": {},
   "outputs": [
    {
     "data": {
      "text/plain": [
       "[<selenium.webdriver.remote.webelement.WebElement (session=\"420d82cd3704f0a1653db415792f53aa\", element=\"0b3091c0-d809-4958-bdc3-5a63984934e3\")>,\n",
       " <selenium.webdriver.remote.webelement.WebElement (session=\"420d82cd3704f0a1653db415792f53aa\", element=\"e0c7b480-2d36-41e7-a556-db502c3fac3d\")>,\n",
       " <selenium.webdriver.remote.webelement.WebElement (session=\"420d82cd3704f0a1653db415792f53aa\", element=\"da56f6b6-1f0b-4be1-9251-ce9ad1600b91\")>,\n",
       " <selenium.webdriver.remote.webelement.WebElement (session=\"420d82cd3704f0a1653db415792f53aa\", element=\"4dccb984-79dc-4798-a3ac-b6e6d2e1de58\")>]"
      ]
     },
     "execution_count": 148,
     "metadata": {},
     "output_type": "execute_result"
    }
   ],
   "source": [
    "Product_Description1=driver.find_elements_by_xpath(\"//h4[@class='product-product']\")\n",
    "Product_Description1[0:4]"
   ]
  },
  {
   "cell_type": "code",
   "execution_count": 149,
   "metadata": {},
   "outputs": [
    {
     "data": {
      "text/plain": [
       "['Men AIR MAX 90 Sneakers',\n",
       " 'Men HYBRID NETFIT Running Shoe',\n",
       " 'PEGASUS FLYEASE Running Shoes',\n",
       " 'Men AIR ZOOM VOMERO Running']"
      ]
     },
     "execution_count": 149,
     "metadata": {},
     "output_type": "execute_result"
    }
   ],
   "source": [
    "for i in Product_Description1:\n",
    "    description=i.text\n",
    "    Product_Description.append(description)\n",
    "    \n",
    "Product_Description[0:4]"
   ]
  },
  {
   "cell_type": "code",
   "execution_count": 150,
   "metadata": {},
   "outputs": [
    {
     "data": {
      "text/plain": [
       "[<selenium.webdriver.remote.webelement.WebElement (session=\"420d82cd3704f0a1653db415792f53aa\", element=\"e6087e41-0fd3-4bc2-a736-fefdc946902a\")>,\n",
       " <selenium.webdriver.remote.webelement.WebElement (session=\"420d82cd3704f0a1653db415792f53aa\", element=\"866d1be8-a125-4c91-b958-0315f04ba0a7\")>,\n",
       " <selenium.webdriver.remote.webelement.WebElement (session=\"420d82cd3704f0a1653db415792f53aa\", element=\"3f912ea2-f96f-4a15-9518-5c2ae7e21f88\")>,\n",
       " <selenium.webdriver.remote.webelement.WebElement (session=\"420d82cd3704f0a1653db415792f53aa\", element=\"e26165c7-b569-4d47-8b27-23fc9613c852\")>]"
      ]
     },
     "execution_count": 150,
     "metadata": {},
     "output_type": "execute_result"
    }
   ],
   "source": [
    "price1=driver.find_elements_by_xpath(\"//div[@class='product-discountedPrice']|//div[@class='product-price']\")\n",
    "price1[0:4]"
   ]
  },
  {
   "cell_type": "code",
   "execution_count": 151,
   "metadata": {},
   "outputs": [
    {
     "data": {
      "text/plain": [
       "['Rs. 7927Rs. 10295(23% OFF)',\n",
       " 'Rs. 6599Rs. 10999(40% OFF)',\n",
       " 'Rs. 7496Rs. 9995(25% OFF)',\n",
       " 'Rs. 10796Rs. 13495(20% OFF)']"
      ]
     },
     "execution_count": 151,
     "metadata": {},
     "output_type": "execute_result"
    }
   ],
   "source": [
    "for i in price1:\n",
    "    price=i.text\n",
    "    Price.append(price)\n",
    "    \n",
    "Price[0:4]   "
   ]
  },
  {
   "cell_type": "code",
   "execution_count": 152,
   "metadata": {},
   "outputs": [
    {
     "name": "stdout",
     "output_type": "stream",
     "text": [
      "50 50 50\n"
     ]
    }
   ],
   "source": [
    "print(len(Brand),len(Product_Description),len(Price))"
   ]
  },
  {
   "cell_type": "code",
   "execution_count": 153,
   "metadata": {},
   "outputs": [],
   "source": [
    "button=driver.find_element_by_xpath(\"//li[@class='pagination-next']\")\n",
    "button.click()"
   ]
  },
  {
   "cell_type": "code",
   "execution_count": 154,
   "metadata": {},
   "outputs": [
    {
     "data": {
      "text/plain": [
       "[<selenium.webdriver.remote.webelement.WebElement (session=\"420d82cd3704f0a1653db415792f53aa\", element=\"b4823399-25e4-4136-9b40-78c47bbabc63\")>,\n",
       " <selenium.webdriver.remote.webelement.WebElement (session=\"420d82cd3704f0a1653db415792f53aa\", element=\"7da0f196-9b53-45a1-b602-1c5119c7154e\")>,\n",
       " <selenium.webdriver.remote.webelement.WebElement (session=\"420d82cd3704f0a1653db415792f53aa\", element=\"2ad694d3-16d8-43b0-ae89-c797dd9c1d6b\")>,\n",
       " <selenium.webdriver.remote.webelement.WebElement (session=\"420d82cd3704f0a1653db415792f53aa\", element=\"dd7b9348-853e-4af2-88ea-3cf067d91f43\")>]"
      ]
     },
     "execution_count": 154,
     "metadata": {},
     "output_type": "execute_result"
    }
   ],
   "source": [
    "brand_tags=driver.find_elements_by_xpath(\"//h3[@class='product-brand']\")\n",
    "brand_tags[0:4]"
   ]
  },
  {
   "cell_type": "code",
   "execution_count": 155,
   "metadata": {},
   "outputs": [],
   "source": [
    "for i in brand_tags:\n",
    "    title=i.text\n",
    "    Brand.append(title)"
   ]
  },
  {
   "cell_type": "code",
   "execution_count": 156,
   "metadata": {},
   "outputs": [
    {
     "data": {
      "text/plain": [
       "[<selenium.webdriver.remote.webelement.WebElement (session=\"420d82cd3704f0a1653db415792f53aa\", element=\"b3cd7413-e201-4dfc-b60a-2dac8be14772\")>,\n",
       " <selenium.webdriver.remote.webelement.WebElement (session=\"420d82cd3704f0a1653db415792f53aa\", element=\"6f76ec04-8c09-4c33-8b5c-c14ce4c04265\")>,\n",
       " <selenium.webdriver.remote.webelement.WebElement (session=\"420d82cd3704f0a1653db415792f53aa\", element=\"ecc94bc6-cdba-4081-969c-090d8d9dc7ff\")>,\n",
       " <selenium.webdriver.remote.webelement.WebElement (session=\"420d82cd3704f0a1653db415792f53aa\", element=\"954f8c30-fb66-4d1c-a2ab-881acdb3f605\")>]"
      ]
     },
     "execution_count": 156,
     "metadata": {},
     "output_type": "execute_result"
    }
   ],
   "source": [
    "Product_Description1=driver.find_elements_by_xpath(\"//h4[@class='product-product']\")\n",
    "Product_Description1[0:4]"
   ]
  },
  {
   "cell_type": "code",
   "execution_count": 157,
   "metadata": {},
   "outputs": [],
   "source": [
    "for i in Product_Description1:\n",
    "    description=i.text\n",
    "    Product_Description.append(description)"
   ]
  },
  {
   "cell_type": "code",
   "execution_count": 158,
   "metadata": {},
   "outputs": [
    {
     "data": {
      "text/plain": [
       "[<selenium.webdriver.remote.webelement.WebElement (session=\"420d82cd3704f0a1653db415792f53aa\", element=\"070cf517-11d7-48ee-bf34-e73d2c03e3a9\")>,\n",
       " <selenium.webdriver.remote.webelement.WebElement (session=\"420d82cd3704f0a1653db415792f53aa\", element=\"2c7e99ff-6fa6-48e9-9d13-4bcc082dd1a3\")>,\n",
       " <selenium.webdriver.remote.webelement.WebElement (session=\"420d82cd3704f0a1653db415792f53aa\", element=\"2bbca5c2-10dc-42b2-adb3-14374616b901\")>,\n",
       " <selenium.webdriver.remote.webelement.WebElement (session=\"420d82cd3704f0a1653db415792f53aa\", element=\"44634cf4-c47f-4115-b7a3-b2165d2d872e\")>]"
      ]
     },
     "execution_count": 158,
     "metadata": {},
     "output_type": "execute_result"
    }
   ],
   "source": [
    "price1=driver.find_elements_by_xpath(\"//div[@class='product-discountedPrice']|//div[@class='product-price']\")\n",
    "price1[0:4]"
   ]
  },
  {
   "cell_type": "code",
   "execution_count": 159,
   "metadata": {},
   "outputs": [],
   "source": [
    "for i in price1:\n",
    "    price=i.text\n",
    "    Price.append(price)"
   ]
  },
  {
   "cell_type": "code",
   "execution_count": 160,
   "metadata": {},
   "outputs": [
    {
     "name": "stdout",
     "output_type": "stream",
     "text": [
      "100 100 100\n"
     ]
    }
   ],
   "source": [
    "print(len(Brand),len(Product_Description),len(Price))"
   ]
  },
  {
   "cell_type": "code",
   "execution_count": 161,
   "metadata": {},
   "outputs": [],
   "source": [
    "shoes=pd.DataFrame({})\n",
    "shoes['Brand']=Brand\n",
    "shoes['Product_Description']=Product_Description\n",
    "shoes['Price']=Price"
   ]
  },
  {
   "cell_type": "code",
   "execution_count": 162,
   "metadata": {},
   "outputs": [
    {
     "data": {
      "text/html": [
       "<div>\n",
       "<style scoped>\n",
       "    .dataframe tbody tr th:only-of-type {\n",
       "        vertical-align: middle;\n",
       "    }\n",
       "\n",
       "    .dataframe tbody tr th {\n",
       "        vertical-align: top;\n",
       "    }\n",
       "\n",
       "    .dataframe thead th {\n",
       "        text-align: right;\n",
       "    }\n",
       "</style>\n",
       "<table border=\"1\" class=\"dataframe\">\n",
       "  <thead>\n",
       "    <tr style=\"text-align: right;\">\n",
       "      <th></th>\n",
       "      <th>Brand</th>\n",
       "      <th>Product_Description</th>\n",
       "      <th>Price</th>\n",
       "    </tr>\n",
       "  </thead>\n",
       "  <tbody>\n",
       "    <tr>\n",
       "      <th>0</th>\n",
       "      <td>Nike</td>\n",
       "      <td>Men AIR MAX 90 Sneakers</td>\n",
       "      <td>Rs. 7927Rs. 10295(23% OFF)</td>\n",
       "    </tr>\n",
       "    <tr>\n",
       "      <th>1</th>\n",
       "      <td>Puma</td>\n",
       "      <td>Men HYBRID NETFIT Running Shoe</td>\n",
       "      <td>Rs. 6599Rs. 10999(40% OFF)</td>\n",
       "    </tr>\n",
       "    <tr>\n",
       "      <th>2</th>\n",
       "      <td>Nike</td>\n",
       "      <td>PEGASUS FLYEASE Running Shoes</td>\n",
       "      <td>Rs. 7496Rs. 9995(25% OFF)</td>\n",
       "    </tr>\n",
       "    <tr>\n",
       "      <th>3</th>\n",
       "      <td>Nike</td>\n",
       "      <td>Men AIR ZOOM VOMERO Running</td>\n",
       "      <td>Rs. 10796Rs. 13495(20% OFF)</td>\n",
       "    </tr>\n",
       "    <tr>\n",
       "      <th>4</th>\n",
       "      <td>ADIDAS Originals</td>\n",
       "      <td>Men Solid NMD_R1 Sneakers</td>\n",
       "      <td>Rs. 9099Rs. 12999(30% OFF)</td>\n",
       "    </tr>\n",
       "    <tr>\n",
       "      <th>...</th>\n",
       "      <td>...</td>\n",
       "      <td>...</td>\n",
       "      <td>...</td>\n",
       "    </tr>\n",
       "    <tr>\n",
       "      <th>95</th>\n",
       "      <td>UNDER ARMOUR</td>\n",
       "      <td>Men HOVR CTW Sneakers</td>\n",
       "      <td>Rs. 8499Rs. 9999(15% OFF)</td>\n",
       "    </tr>\n",
       "    <tr>\n",
       "      <th>96</th>\n",
       "      <td>Geox</td>\n",
       "      <td>Women Solid Flatforms</td>\n",
       "      <td>Rs. 8999</td>\n",
       "    </tr>\n",
       "    <tr>\n",
       "      <th>97</th>\n",
       "      <td>Hush Puppies</td>\n",
       "      <td>Men Solid Leather Formal Derbys</td>\n",
       "      <td>Rs. 9999</td>\n",
       "    </tr>\n",
       "    <tr>\n",
       "      <th>98</th>\n",
       "      <td>Saint G</td>\n",
       "      <td>Women Leather Heeled Boots</td>\n",
       "      <td>Rs. 7600</td>\n",
       "    </tr>\n",
       "    <tr>\n",
       "      <th>99</th>\n",
       "      <td>Geox</td>\n",
       "      <td>Women Solid Leather Pumps</td>\n",
       "      <td>Rs. 6999</td>\n",
       "    </tr>\n",
       "  </tbody>\n",
       "</table>\n",
       "<p>100 rows × 3 columns</p>\n",
       "</div>"
      ],
      "text/plain": [
       "               Brand              Product_Description  \\\n",
       "0               Nike          Men AIR MAX 90 Sneakers   \n",
       "1               Puma   Men HYBRID NETFIT Running Shoe   \n",
       "2               Nike    PEGASUS FLYEASE Running Shoes   \n",
       "3               Nike      Men AIR ZOOM VOMERO Running   \n",
       "4   ADIDAS Originals        Men Solid NMD_R1 Sneakers   \n",
       "..               ...                              ...   \n",
       "95      UNDER ARMOUR            Men HOVR CTW Sneakers   \n",
       "96              Geox            Women Solid Flatforms   \n",
       "97      Hush Puppies  Men Solid Leather Formal Derbys   \n",
       "98           Saint G       Women Leather Heeled Boots   \n",
       "99              Geox        Women Solid Leather Pumps   \n",
       "\n",
       "                          Price  \n",
       "0    Rs. 7927Rs. 10295(23% OFF)  \n",
       "1    Rs. 6599Rs. 10999(40% OFF)  \n",
       "2     Rs. 7496Rs. 9995(25% OFF)  \n",
       "3   Rs. 10796Rs. 13495(20% OFF)  \n",
       "4    Rs. 9099Rs. 12999(30% OFF)  \n",
       "..                          ...  \n",
       "95    Rs. 8499Rs. 9999(15% OFF)  \n",
       "96                     Rs. 8999  \n",
       "97                     Rs. 9999  \n",
       "98                     Rs. 7600  \n",
       "99                     Rs. 6999  \n",
       "\n",
       "[100 rows x 3 columns]"
      ]
     },
     "execution_count": 162,
     "metadata": {},
     "output_type": "execute_result"
    }
   ],
   "source": [
    "shoes"
   ]
  },
  {
   "cell_type": "code",
   "execution_count": null,
   "metadata": {},
   "outputs": [],
   "source": []
  }
 ],
 "metadata": {
  "kernelspec": {
   "display_name": "Python 3",
   "language": "python",
   "name": "python3"
  },
  "language_info": {
   "codemirror_mode": {
    "name": "ipython",
    "version": 3
   },
   "file_extension": ".py",
   "mimetype": "text/x-python",
   "name": "python",
   "nbconvert_exporter": "python",
   "pygments_lexer": "ipython3",
   "version": "3.8.3"
  }
 },
 "nbformat": 4,
 "nbformat_minor": 4
}
