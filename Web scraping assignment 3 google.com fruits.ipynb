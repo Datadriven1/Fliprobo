{
 "cells": [
  {
   "cell_type": "code",
   "execution_count": 297,
   "metadata": {
    "scrolled": true
   },
   "outputs": [
    {
     "name": "stdout",
     "output_type": "stream",
     "text": [
      "Requirement already satisfied: selenium in c:\\users\\bhupe\\anaconda3\\lib\\site-packages (3.141.0)\n",
      "Requirement already satisfied: urllib3 in c:\\users\\bhupe\\anaconda3\\lib\\site-packages (from selenium) (1.25.9)\n",
      "Requirement already satisfied: webdriver-manager in c:\\users\\bhupe\\anaconda3\\lib\\site-packages (3.3.0)\n",
      "Requirement already satisfied: configparser in c:\\users\\bhupe\\anaconda3\\lib\\site-packages (from webdriver-manager) (5.0.1)\n",
      "Requirement already satisfied: crayons in c:\\users\\bhupe\\anaconda3\\lib\\site-packages (from webdriver-manager) (0.4.0)\n",
      "Requirement already satisfied: requests in c:\\users\\bhupe\\anaconda3\\lib\\site-packages (from webdriver-manager) (2.24.0)\n",
      "Requirement already satisfied: colorama in c:\\users\\bhupe\\anaconda3\\lib\\site-packages (from crayons->webdriver-manager) (0.4.3)\n",
      "Requirement already satisfied: idna<3,>=2.5 in c:\\users\\bhupe\\anaconda3\\lib\\site-packages (from requests->webdriver-manager) (2.10)\n",
      "Requirement already satisfied: urllib3!=1.25.0,!=1.25.1,<1.26,>=1.21.1 in c:\\users\\bhupe\\anaconda3\\lib\\site-packages (from requests->webdriver-manager) (1.25.9)\n",
      "Requirement already satisfied: chardet<4,>=3.0.2 in c:\\users\\bhupe\\anaconda3\\lib\\site-packages (from requests->webdriver-manager) (3.0.4)\n",
      "Requirement already satisfied: certifi>=2017.4.17 in c:\\users\\bhupe\\anaconda3\\lib\\site-packages (from requests->webdriver-manager) (2020.6.20)\n",
      "Requirement already satisfied: bs4 in c:\\users\\bhupe\\anaconda3\\lib\\site-packages (0.0.1)\n",
      "Requirement already satisfied: beautifulsoup4 in c:\\users\\bhupe\\anaconda3\\lib\\site-packages (from bs4) (4.9.1)\n",
      "Requirement already satisfied: soupsieve>1.2 in c:\\users\\bhupe\\anaconda3\\lib\\site-packages (from beautifulsoup4->bs4) (2.0.1)\n",
      "Requirement already satisfied: requests in c:\\users\\bhupe\\anaconda3\\lib\\site-packages (2.24.0)\n",
      "Requirement already satisfied: urllib3!=1.25.0,!=1.25.1,<1.26,>=1.21.1 in c:\\users\\bhupe\\anaconda3\\lib\\site-packages (from requests) (1.25.9)\n",
      "Requirement already satisfied: certifi>=2017.4.17 in c:\\users\\bhupe\\anaconda3\\lib\\site-packages (from requests) (2020.6.20)\n",
      "Requirement already satisfied: idna<3,>=2.5 in c:\\users\\bhupe\\anaconda3\\lib\\site-packages (from requests) (2.10)\n",
      "Requirement already satisfied: chardet<4,>=3.0.2 in c:\\users\\bhupe\\anaconda3\\lib\\site-packages (from requests) (3.0.4)\n"
     ]
    }
   ],
   "source": [
    "! pip install selenium\n",
    "import selenium\n",
    "import pandas as pd\n",
    "import numpy as np\n",
    "!pip install webdriver-manager\n",
    "from selenium import webdriver\n",
    "import time\n",
    "from webdriver_manager.chrome import ChromeDriverManager\n",
    "from selenium.webdriver.common.keys import Keys \n",
    "from selenium.common.exceptions import ElementNotInteractableException\n",
    "from selenium.common.exceptions import StaleElementReferenceException, NoSuchElementException\n",
    "from selenium.webdriver.support.ui import WebDriverWait\n",
    "from selenium.webdriver.support import expected_conditions as EC\n",
    "from selenium.webdriver.common.by import By\n",
    "from selenium.common.exceptions import TimeoutException\n",
    "\n",
    "import warnings\n",
    "warnings.filterwarnings('ignore')\n",
    "\n",
    "!pip install bs4\n",
    "!pip install requests\n",
    "\n",
    "from bs4 import BeautifulSoup\n",
    "import requests"
   ]
  },
  {
   "cell_type": "code",
   "execution_count": 298,
   "metadata": {},
   "outputs": [
    {
     "name": "stderr",
     "output_type": "stream",
     "text": [
      "[WDM] - ====== WebDriver manager ======\n",
      "[WDM] - Current google-chrome version is 88.0.4324\n",
      "[WDM] - Get LATEST driver version for 88.0.4324\n",
      "[WDM] - Driver [C:\\Users\\bhupe\\.wdm\\drivers\\chromedriver\\win32\\88.0.4324.96\\chromedriver.exe] found in cache\n"
     ]
    },
    {
     "name": "stdout",
     "output_type": "stream",
     "text": [
      "\n",
      "\n"
     ]
    }
   ],
   "source": [
    "driver=webdriver.Chrome(ChromeDriverManager().install())"
   ]
  },
  {
   "cell_type": "code",
   "execution_count": 299,
   "metadata": {},
   "outputs": [],
   "source": [
    "driver.get('https://images.google.com/?gws_rd=ssl')"
   ]
  },
  {
   "cell_type": "code",
   "execution_count": 300,
   "metadata": {},
   "outputs": [],
   "source": [
    "search=driver.find_element_by_xpath('//*[@id=\"sbtc\"]/div/div[2]/input')\n",
    "search.send_keys('fruits')"
   ]
  },
  {
   "cell_type": "code",
   "execution_count": 301,
   "metadata": {},
   "outputs": [],
   "source": [
    "search_tag=driver.find_element_by_xpath('//*[@id=\"sbtc\"]/button')\n",
    "search_tag.click()"
   ]
  },
  {
   "cell_type": "code",
   "execution_count": 302,
   "metadata": {},
   "outputs": [],
   "source": [
    "driver.execute_script(\"window.scrollTo(0, document.body.scrollHeight)\")\n",
    "time.sleep(5)"
   ]
  },
  {
   "cell_type": "code",
   "execution_count": 303,
   "metadata": {},
   "outputs": [],
   "source": [
    "driver.execute_script(\"window.scrollTo(0, document.body.scrollHeight)\")\n",
    "time.sleep(5)"
   ]
  },
  {
   "cell_type": "code",
   "execution_count": 305,
   "metadata": {},
   "outputs": [],
   "source": [
    "Fruits_url=[] "
   ]
  },
  {
   "cell_type": "code",
   "execution_count": 306,
   "metadata": {},
   "outputs": [],
   "source": [
    "for i in driver.find_elements_by_xpath(\"//img[@class='rg_i Q4LuWd']\")[:120]:\n",
    "    \n",
    "    try:\n",
    "        i.click()\n",
    "        fruits=driver.find_element_by_xpath('//*[@id=\"Sva75c\"]/div/div/div[3]/div[2]/c-wiz/div/div[1]/div[1]/div/div[2]/a/img')\n",
    "        Fruits_url.append(fruits.get_attribute('src'))\n",
    "        \n",
    "    except NoSuchElementException as e:\n",
    "        Fruits_url.append(\"-\")"
   ]
  },
  {
   "cell_type": "code",
   "execution_count": 308,
   "metadata": {},
   "outputs": [],
   "source": [
    "Fruits_url=Fruits_url[-100:]"
   ]
  },
  {
   "cell_type": "code",
   "execution_count": 309,
   "metadata": {
    "scrolled": true
   },
   "outputs": [
    {
     "data": {
      "text/plain": [
       "['https://i.pinimg.com/originals/bd/d5/e9/bdd5e983743da88cd9028b4b87b7dd73.jpg',\n",
       " 'https://encrypted-tbn0.gstatic.com/images?q=tbn:ANd9GcRQhV-djjjKbnDRM1-Z36es-Xlgk2gytTqANQ&usqp=CAU',\n",
       " 'https://encrypted-tbn0.gstatic.com/images?q=tbn:ANd9GcS4tE1kjL2O9m0AIbn4cg9qxBvx63TU4FNjNA&usqp=CAU',\n",
       " 'https://encrypted-tbn0.gstatic.com/images?q=tbn:ANd9GcT10XOeJCqcdWg5f17TNXtbABp4-TFjzF41MA&usqp=CAU',\n",
       " 'https://images-na.ssl-images-amazon.com/images/I/51eB6A+NrwL._SX325_BO1,204,203,200_.jpg',\n",
       " 'https://encrypted-tbn0.gstatic.com/images?q=tbn:ANd9GcTw7tduEVdgN0Ato2FVDtEMNM4gMyTOdtPSUw&usqp=CAU',\n",
       " 'https://encrypted-tbn0.gstatic.com/images?q=tbn:ANd9GcSNqQ7dVfyV8ioTardoSBG6RE2ljMdgOA7uVQ&usqp=CAU',\n",
       " 'https://encrypted-tbn0.gstatic.com/images?q=tbn:ANd9GcT9R_WioFznlaoVg4XOSpNzAkeqIgdNpQzTyg&usqp=CAU',\n",
       " 'https://encrypted-tbn0.gstatic.com/images?q=tbn:ANd9GcQ01RgXcDAEeuaEoEN3SWnzBdaUGB2tTB2V6w&usqp=CAU',\n",
       " 'https://encrypted-tbn0.gstatic.com/images?q=tbn:ANd9GcR1unm9Vvv5m4dfiL3NjNRoWqSAerQHqV9YuA&usqp=CAU',\n",
       " 'https://encrypted-tbn0.gstatic.com/images?q=tbn:ANd9GcT9sfhdOnFssL3imlwqIZ6g04aRhO9VxiD10Q&usqp=CAU',\n",
       " 'https://encrypted-tbn0.gstatic.com/images?q=tbn:ANd9GcROYH-uaHxJxZllD4i4p-a6Jx_gDHTAudnBxQ&usqp=CAU',\n",
       " 'https://encrypted-tbn0.gstatic.com/images?q=tbn:ANd9GcRYtQ7VJ12OJGHpaF21VHfF3Vu-lF_9cQ32ug&usqp=CAU',\n",
       " 'https://encrypted-tbn0.gstatic.com/images?q=tbn:ANd9GcT68b0O5wgNnMvg2hrPVjD4cRADRiFNcmXHvQ&usqp=CAU',\n",
       " 'https://encrypted-tbn0.gstatic.com/images?q=tbn:ANd9GcQ4bZ8DbxzGHQO_xpJIHFwUWVKNraRdVme-QQ&usqp=CAU',\n",
       " 'https://i0.wp.com/images-prod.healthline.com/hlcmsresource/images/topic_centers/2020-7/fruit-still-life-1296x728-header.jpg?w=1155&h=1528',\n",
       " 'https://encrypted-tbn0.gstatic.com/images?q=tbn:ANd9GcT8du_gAuo3Y0j4_RaF252JoUx1t2dAKEPIaw&usqp=CAU',\n",
       " 'https://encrypted-tbn0.gstatic.com/images?q=tbn:ANd9GcQndGzs9OXvCv1BC4j550PhbxjG6jvEq0xFOQ&usqp=CAU',\n",
       " 'https://encrypted-tbn0.gstatic.com/images?q=tbn:ANd9GcRlGZABr8vUEACtDgP6dj8oONHSh52PVQzVXg&usqp=CAU',\n",
       " 'https://encrypted-tbn0.gstatic.com/images?q=tbn:ANd9GcRNG4GBQ_aYu9x6C8MMLoAFrCVPMFNjtpdDTQ&usqp=CAU',\n",
       " 'https://encrypted-tbn0.gstatic.com/images?q=tbn:ANd9GcSbmd67PCKqZbRcK_bRbUBdEF_l2J2rJgxVKA&usqp=CAU',\n",
       " 'https://encrypted-tbn0.gstatic.com/images?q=tbn:ANd9GcSXMPR72fcjXVIyBz_XQ-hWUqfvZfdZgg7nKA&usqp=CAU',\n",
       " 'https://encrypted-tbn0.gstatic.com/images?q=tbn:ANd9GcRC3EMFP2cOQTYOAjHKt9m40ijoBH33g96eVg&usqp=CAU',\n",
       " 'https://encrypted-tbn0.gstatic.com/images?q=tbn:ANd9GcR2A9Pch7uvfGdKgfIznLJs2dqlyZTVij4jVw&usqp=CAU',\n",
       " 'https://encrypted-tbn0.gstatic.com/images?q=tbn:ANd9GcRGlxR5n9EsDuLNdIwb7nu1fYulMUQLE3vG3A&usqp=CAU',\n",
       " 'https://encrypted-tbn0.gstatic.com/images?q=tbn:ANd9GcRV8-3ZxY8A0lZYKoI-AZi3BqT7gxhBnq9cGA&usqp=CAU',\n",
       " 'https://image.shutterstock.com/image-photo/assortment-different-fruits-berries-flat-260nw-1395910394.jpg',\n",
       " 'https://encrypted-tbn0.gstatic.com/images?q=tbn:ANd9GcSlPV8Go6ZznEVq5hHrCC4laguHXi8Dp515JQ&usqp=CAU',\n",
       " 'https://encrypted-tbn0.gstatic.com/images?q=tbn:ANd9GcREf50eNWUXvnoP0sP9x8SZUILcwQHHImfm1A&usqp=CAU',\n",
       " 'https://encrypted-tbn0.gstatic.com/images?q=tbn:ANd9GcS-_Qp0xHt0hA8k_qVLW0cu9tbB3rtH1oC3qQ&usqp=CAU',\n",
       " 'https://encrypted-tbn0.gstatic.com/images?q=tbn:ANd9GcRnNMXrxDsUfuS3j09F25N1Xh_43k-mJ0LouA&usqp=CAU',\n",
       " 'https://encrypted-tbn0.gstatic.com/images?q=tbn:ANd9GcT-Ak3N8I7pZdZK1SUsNOyE_lW1jS_gjS6J1g&usqp=CAU',\n",
       " 'https://www.eatforhealth.gov.au/sites/default/files/images/the_guidelines/fruit_selection_155265101_web.jpg',\n",
       " 'https://encrypted-tbn0.gstatic.com/images?q=tbn:ANd9GcRzHAnWaTsUpNoaTZDJO1ZhpAL1hi9bUxzS8w&usqp=CAU',\n",
       " 'https://encrypted-tbn0.gstatic.com/images?q=tbn:ANd9GcRSwzjFm-UsgXLiVlDr4H-Sxa8pqlejrn0K5Q&usqp=CAU',\n",
       " 'https://encrypted-tbn0.gstatic.com/images?q=tbn:ANd9GcT67evcrI2WUip8dtI0FP7awtxE6eQpXuHajg&usqp=CAU',\n",
       " 'https://encrypted-tbn0.gstatic.com/images?q=tbn:ANd9GcQD_-RQZAcVj0SS-pDVmBQPhFY9l-9JRp5mPg&usqp=CAU',\n",
       " 'https://encrypted-tbn0.gstatic.com/images?q=tbn:ANd9GcSGUoHKCdeKeJBI35CbtCLoICHrBbCACFloWQ&usqp=CAU',\n",
       " 'https://encrypted-tbn0.gstatic.com/images?q=tbn:ANd9GcTeEBxrB3NgpLfbZZ_k2M9EBh3cfx_c-kCQtA&usqp=CAU',\n",
       " 'https://encrypted-tbn0.gstatic.com/images?q=tbn:ANd9GcSyc4CaUnBYAr3StQYLP-PkhUBX9lfbbj0LGQ&usqp=CAU',\n",
       " 'https://encrypted-tbn0.gstatic.com/images?q=tbn:ANd9GcQEhMrwTuLWRSWGRDv4suHHVlo3wZJGoooQpA&usqp=CAU',\n",
       " 'https://encrypted-tbn0.gstatic.com/images?q=tbn:ANd9GcS6p2mgoiBKnnIKR9AJ7j_Vn1dZdlbmSBK8zQ&usqp=CAU',\n",
       " 'https://encrypted-tbn0.gstatic.com/images?q=tbn:ANd9GcQ9XSAD9zrMr3k757JDUoFcvRr0eQrM4AT7_Q&usqp=CAU',\n",
       " 'https://encrypted-tbn0.gstatic.com/images?q=tbn:ANd9GcQrQyS84JvoqxqA9jXNdTkVfBDSjdvBznZ_Gw&usqp=CAU',\n",
       " 'https://encrypted-tbn0.gstatic.com/images?q=tbn:ANd9GcQCgaODLvI3SKjUwzQ9VosjA4VGZtGwyPuwiw&usqp=CAU',\n",
       " 'https://encrypted-tbn0.gstatic.com/images?q=tbn:ANd9GcRFnY507dlVTcxWeZ3o13ELjVJwjv8f6StrJw&usqp=CAU',\n",
       " 'https://encrypted-tbn0.gstatic.com/images?q=tbn:ANd9GcSvqUEJDo1gryIE0HKu7HZ-KnRDprD1aud6Gw&usqp=CAU',\n",
       " 'https://encrypted-tbn0.gstatic.com/images?q=tbn:ANd9GcRowukTZvxRVvrsIJQ06N0fySksDgt3GOy0yQ&usqp=CAU',\n",
       " 'https://encrypted-tbn0.gstatic.com/images?q=tbn:ANd9GcRenGZHB84JcIXCX7jMQUkZt7GFpp8mK1x7RA&usqp=CAU',\n",
       " 'https://encrypted-tbn0.gstatic.com/images?q=tbn:ANd9GcR70bh-DlLCwYctPZJ1karXSfbT6TOoXD4K4Q&usqp=CAU',\n",
       " 'https://encrypted-tbn0.gstatic.com/images?q=tbn:ANd9GcRzvz77EAIva3gKMyKNlY341hRpSZ5rtpuNRA&usqp=CAU',\n",
       " 'https://encrypted-tbn0.gstatic.com/images?q=tbn:ANd9GcSRaAoz740emDOo3f90QqDBckXUvmTVXx4K9g&usqp=CAU',\n",
       " 'https://c.ndtvimg.com/fruits_625x300_1526984615609.jpg?downsize=360:*',\n",
       " 'https://i.guim.co.uk/img/media/6b4ecb8419da52aeaee10abbedd3f03048acf722/0_161_4928_2957/master/4928.jpg?width=1200&height=900&quality=85&auto=format&fit=crop&s=4893ad925ffa20886636bcb80c70874b',\n",
       " 'https://encrypted-tbn0.gstatic.com/images?q=tbn:ANd9GcQiWY5__nAamE4BerQHY5_da_eHY-_vxhTwWA&usqp=CAU',\n",
       " 'https://img.webmd.com/dtmcms/live/webmd/consumer_assets/site_images/article_thumbnails/slideshows/fun_facts_fruits_and_vegetables_slideshow/650x350_fun_facts_fruits_and_vegetables_slideshow.jpg',\n",
       " 'https://encrypted-tbn0.gstatic.com/images?q=tbn:ANd9GcSxCr4ApXHA6sJdH3LgX0vQEbYiwENPNg7RMQ&usqp=CAU',\n",
       " 'https://encrypted-tbn0.gstatic.com/images?q=tbn:ANd9GcStkazmuRvMDAdHSUdENIdJTwGuu6kVo7EqNw&usqp=CAU',\n",
       " 'https://encrypted-tbn0.gstatic.com/images?q=tbn:ANd9GcStkazmuRvMDAdHSUdENIdJTwGuu6kVo7EqNw&usqp=CAU',\n",
       " 'https://encrypted-tbn0.gstatic.com/images?q=tbn:ANd9GcRGHJT8q-l4tpC1yJh-mnZTLpp1feWPFNBJ2g&usqp=CAU',\n",
       " 'https://encrypted-tbn0.gstatic.com/images?q=tbn:ANd9GcRs6jAi_uzsZiWzYG4DETGAU0petUpZDmDC3A&usqp=CAU',\n",
       " 'https://encrypted-tbn0.gstatic.com/images?q=tbn:ANd9GcSpu4JMZzHGJ-2iCMLLSS1NFEjHRu7Z1t_MiQ&usqp=CAU',\n",
       " 'https://encrypted-tbn0.gstatic.com/images?q=tbn:ANd9GcS-pM2cVm5aP1LOpQmwK2y41Ohv81XUmeds5g&usqp=CAU',\n",
       " 'https://encrypted-tbn0.gstatic.com/images?q=tbn:ANd9GcTp9tTxmOQpu56NJsxWI7RM-cwaRq4S7F78OQ&usqp=CAU',\n",
       " 'https://encrypted-tbn0.gstatic.com/images?q=tbn:ANd9GcSGA-rinbz8AhgGJSmFdggc_idMvYJ2PPgo7A&usqp=CAU',\n",
       " 'https://encrypted-tbn0.gstatic.com/images?q=tbn:ANd9GcQhwdzysYbj2LO0vOJj2R9a1ihOY6WvWi2BYw&usqp=CAU',\n",
       " 'https://encrypted-tbn0.gstatic.com/images?q=tbn:ANd9GcQvcc_8J6lgVVlzMB-SZ0LZMryd_k2w43g5Iw&usqp=CAU',\n",
       " 'https://encrypted-tbn0.gstatic.com/images?q=tbn:ANd9GcT1QFM3xiTGl2Eg7lSS9LY2ekhIL63VCeg-zA&usqp=CAU',\n",
       " 'https://encrypted-tbn0.gstatic.com/images?q=tbn:ANd9GcRhp8LkNwuxtHEr7Hdz2eEFp0pzUcpQZhkJDw&usqp=CAU',\n",
       " 'https://encrypted-tbn0.gstatic.com/images?q=tbn:ANd9GcQJfZn13PycZzXkrvENpPUhSykw4j0W9iwtNg&usqp=CAU',\n",
       " 'https://encrypted-tbn0.gstatic.com/images?q=tbn:ANd9GcQlCy3oYbyuVFpu_1gPqRsxYmFnuhD8TyY33w&usqp=CAU',\n",
       " 'https://encrypted-tbn0.gstatic.com/images?q=tbn:ANd9GcQTrZXPGl2gWl6fXHX24SwVqcDrbPlmiSRcvg&usqp=CAU',\n",
       " 'https://encrypted-tbn0.gstatic.com/images?q=tbn:ANd9GcSu09edoVNc7bz6pEmDMipSpfJVwroeyitGkA&usqp=CAU',\n",
       " 'https://encrypted-tbn0.gstatic.com/images?q=tbn:ANd9GcSRmgU4zBr4B9fB234u2QU4n4BYjzHNaFwCOQ&usqp=CAU',\n",
       " 'https://encrypted-tbn0.gstatic.com/images?q=tbn:ANd9GcSCOS_mjgZZ7faVcOFaJAKyle1tHvlYrNNfdg&usqp=CAU',\n",
       " 'https://encrypted-tbn0.gstatic.com/images?q=tbn:ANd9GcSvZhlJXY23Pq9mPtc0l4f-_FufvVMIwy3rWA&usqp=CAU',\n",
       " 'https://encrypted-tbn0.gstatic.com/images?q=tbn:ANd9GcRuqiCrO7vp8cKE-VO_u9LNd9lxR83fkyqESA&usqp=CAU',\n",
       " 'https://encrypted-tbn0.gstatic.com/images?q=tbn:ANd9GcQMPXsM5QuHfZ3NYv2ruQkMOE_rigjCykudiw&usqp=CAU',\n",
       " 'https://encrypted-tbn0.gstatic.com/images?q=tbn:ANd9GcRxWpADMkWZApXVADr5hV3C4X3fZcISghODNA&usqp=CAU',\n",
       " 'https://encrypted-tbn0.gstatic.com/images?q=tbn:ANd9GcQkbY2wjfS7k96_w_9T5NONB_wv1SHWhY7qFA&usqp=CAU',\n",
       " 'https://encrypted-tbn0.gstatic.com/images?q=tbn:ANd9GcTmeePttZR9WgbbATrJQEgSZ7UsYeEBYT5q_Q&usqp=CAU',\n",
       " 'https://encrypted-tbn0.gstatic.com/images?q=tbn:ANd9GcTxQTmKp1PpUNCq9zjbXrIZJXwhzlQh9KDw7A&usqp=CAU',\n",
       " 'https://encrypted-tbn0.gstatic.com/images?q=tbn:ANd9GcQh7unjCj27JKW2IQgucFutRHjN3yDiIaG2cQ&usqp=CAU',\n",
       " 'https://encrypted-tbn0.gstatic.com/images?q=tbn:ANd9GcRkA42C-8IUB9gOls0q1d8xZXpEZsl6eqQhPA&usqp=CAU',\n",
       " 'https://encrypted-tbn0.gstatic.com/images?q=tbn:ANd9GcT-Ak3N8I7pZdZK1SUsNOyE_lW1jS_gjS6J1g&usqp=CAU',\n",
       " 'https://encrypted-tbn0.gstatic.com/images?q=tbn:ANd9GcT4KvOajFWpf1A7OfI7dRqR40hYoDdq3d1I3w&usqp=CAU',\n",
       " 'https://encrypted-tbn0.gstatic.com/images?q=tbn:ANd9GcS9TYW6Y7wkErpqX5wfgH-e22DQEOZ280IG0Q&usqp=CAU',\n",
       " 'https://encrypted-tbn0.gstatic.com/images?q=tbn:ANd9GcRvnXFwrk_PWtUpvJiRjp7fRFKDchw4AnG4KA&usqp=CAU',\n",
       " 'https://encrypted-tbn0.gstatic.com/images?q=tbn:ANd9GcRwt-5r487OTgjN1uEtCBd4VOZ-tH2_XPZBng&usqp=CAU',\n",
       " 'https://encrypted-tbn0.gstatic.com/images?q=tbn:ANd9GcQh38ro9tiN5o_cfSiTJUf7dRYns4e8Hrcksg&usqp=CAU',\n",
       " 'https://encrypted-tbn0.gstatic.com/images?q=tbn:ANd9GcReAjiBZq4wndytg5WaNAwmVHDXiCP4n3FGqA&usqp=CAU',\n",
       " 'https://encrypted-tbn0.gstatic.com/images?q=tbn:ANd9GcRPOj3zVWfjdr0UPpEueoaew6U_tTO9xtJI0g&usqp=CAU',\n",
       " 'https://encrypted-tbn0.gstatic.com/images?q=tbn:ANd9GcSOIL6oD9Iybp0fMl0K9NxewLrx3O4W4woFfw&usqp=CAU',\n",
       " 'https://encrypted-tbn0.gstatic.com/images?q=tbn:ANd9GcT9RXJPlXm7VWBnm61iLS_23Uk-Scc3M5u96g&usqp=CAU',\n",
       " 'https://encrypted-tbn0.gstatic.com/images?q=tbn:ANd9GcReo-UUrSEDbKA-W5UhKzmR9NalHhh03c5Rcg&usqp=CAU',\n",
       " 'https://encrypted-tbn0.gstatic.com/images?q=tbn:ANd9GcR7gYx75Syrq-5prt_qw2xEVDPyPMvcdl9MZA&usqp=CAU',\n",
       " 'https://encrypted-tbn0.gstatic.com/images?q=tbn:ANd9GcT9BRF42oNd8kfrjxN4Sg0691moXXtclvx_mA&usqp=CAU',\n",
       " 'https://encrypted-tbn0.gstatic.com/images?q=tbn:ANd9GcSMY5bg_nnyH0oTIqQ8zxslae556DkRQfJSgw&usqp=CAU',\n",
       " 'https://encrypted-tbn0.gstatic.com/images?q=tbn:ANd9GcRH-2CpX2y0f-coZ3V59mxDPV2at-HF_ix7NQ&usqp=CAU',\n",
       " 'https://encrypted-tbn0.gstatic.com/images?q=tbn:ANd9GcQUg6EmboN1Td9E9FWOifoTIh2a69D2145jpA&usqp=CAU']"
      ]
     },
     "execution_count": 309,
     "metadata": {},
     "output_type": "execute_result"
    }
   ],
   "source": [
    "Fruits_url"
   ]
  },
  {
   "cell_type": "code",
   "execution_count": 310,
   "metadata": {},
   "outputs": [
    {
     "name": "stdout",
     "output_type": "stream",
     "text": [
      "100\n"
     ]
    }
   ],
   "source": [
    "print(len(Fruits_url))"
   ]
  },
  {
   "cell_type": "code",
   "execution_count": null,
   "metadata": {},
   "outputs": [],
   "source": []
  }
 ],
 "metadata": {
  "kernelspec": {
   "display_name": "Python 3",
   "language": "python",
   "name": "python3"
  },
  "language_info": {
   "codemirror_mode": {
    "name": "ipython",
    "version": 3
   },
   "file_extension": ".py",
   "mimetype": "text/x-python",
   "name": "python",
   "nbconvert_exporter": "python",
   "pygments_lexer": "ipython3",
   "version": "3.8.3"
  }
 },
 "nbformat": 4,
 "nbformat_minor": 4
}
