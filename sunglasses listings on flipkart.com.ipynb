{
 "cells": [
  {
   "cell_type": "code",
   "execution_count": 178,
   "metadata": {},
   "outputs": [
    {
     "name": "stdout",
     "output_type": "stream",
     "text": [
      "Requirement already satisfied: selenium in c:\\users\\bhupe\\anaconda3\\lib\\site-packages (3.141.0)\n",
      "Requirement already satisfied: urllib3 in c:\\users\\bhupe\\anaconda3\\lib\\site-packages (from selenium) (1.25.9)\n",
      "Requirement already satisfied: webdriver-manager in c:\\users\\bhupe\\anaconda3\\lib\\site-packages (3.3.0)\n",
      "Requirement already satisfied: configparser in c:\\users\\bhupe\\anaconda3\\lib\\site-packages (from webdriver-manager) (5.0.1)\n",
      "Requirement already satisfied: requests in c:\\users\\bhupe\\anaconda3\\lib\\site-packages (from webdriver-manager) (2.24.0)\n",
      "Requirement already satisfied: crayons in c:\\users\\bhupe\\anaconda3\\lib\\site-packages (from webdriver-manager) (0.4.0)\n",
      "Requirement already satisfied: certifi>=2017.4.17 in c:\\users\\bhupe\\anaconda3\\lib\\site-packages (from requests->webdriver-manager) (2020.6.20)\n",
      "Requirement already satisfied: idna<3,>=2.5 in c:\\users\\bhupe\\anaconda3\\lib\\site-packages (from requests->webdriver-manager) (2.10)\n",
      "Requirement already satisfied: chardet<4,>=3.0.2 in c:\\users\\bhupe\\anaconda3\\lib\\site-packages (from requests->webdriver-manager) (3.0.4)\n",
      "Requirement already satisfied: urllib3!=1.25.0,!=1.25.1,<1.26,>=1.21.1 in c:\\users\\bhupe\\anaconda3\\lib\\site-packages (from requests->webdriver-manager) (1.25.9)\n",
      "Requirement already satisfied: colorama in c:\\users\\bhupe\\anaconda3\\lib\\site-packages (from crayons->webdriver-manager) (0.4.3)\n"
     ]
    }
   ],
   "source": [
    "! pip install selenium\n",
    "import selenium\n",
    "import pandas as pd\n",
    "import numpy as np\n",
    "!pip install webdriver-manager\n",
    "from selenium import webdriver\n",
    "from webdriver_manager.chrome import ChromeDriverManager\n",
    "from selenium.webdriver.common.keys import Keys \n",
    "from selenium.common.exceptions import ElementClickInterceptedException\n",
    "import warnings\n",
    "warnings.filterwarnings('ignore')"
   ]
  },
  {
   "cell_type": "code",
   "execution_count": 179,
   "metadata": {},
   "outputs": [
    {
     "name": "stderr",
     "output_type": "stream",
     "text": [
      "[WDM] - ====== WebDriver manager ======\n",
      "[WDM] - Current google-chrome version is 88.0.4324\n",
      "[WDM] - Get LATEST driver version for 88.0.4324\n",
      "[WDM] - Driver [C:\\Users\\bhupe\\.wdm\\drivers\\chromedriver\\win32\\88.0.4324.96\\chromedriver.exe] found in cache\n"
     ]
    },
    {
     "name": "stdout",
     "output_type": "stream",
     "text": [
      "\n",
      "\n"
     ]
    }
   ],
   "source": [
    "driver=webdriver.Chrome(ChromeDriverManager().install())"
   ]
  },
  {
   "cell_type": "code",
   "execution_count": 180,
   "metadata": {},
   "outputs": [],
   "source": [
    "driver.get('https://www.flipkart.com/')"
   ]
  },
  {
   "cell_type": "code",
   "execution_count": 181,
   "metadata": {},
   "outputs": [],
   "source": [
    "login=driver.find_element_by_xpath(\"//div[@class='_2QfC02']/button\")\n",
    "login.click()"
   ]
  },
  {
   "cell_type": "code",
   "execution_count": 182,
   "metadata": {},
   "outputs": [],
   "source": [
    "search_loc=driver.find_element_by_xpath(\"//input[@type='text']\")\n",
    "search_loc.send_keys('sunglasses')"
   ]
  },
  {
   "cell_type": "code",
   "execution_count": 183,
   "metadata": {},
   "outputs": [],
   "source": [
    "button=driver.find_element_by_xpath(\"//button[@type='submit']\")\n",
    "button.click()"
   ]
  },
  {
   "cell_type": "code",
   "execution_count": 184,
   "metadata": {},
   "outputs": [],
   "source": [
    "url='https://www.flipkart.com/search?q=sunglasses&otracker=search&otracker1=search&marketplace=FLIPKART&as-show=on&as=off'"
   ]
  },
  {
   "cell_type": "code",
   "execution_count": 185,
   "metadata": {},
   "outputs": [],
   "source": [
    "driver.get(url)"
   ]
  },
  {
   "cell_type": "code",
   "execution_count": 186,
   "metadata": {},
   "outputs": [],
   "source": [
    "Brand=[]\n",
    "Product_Description=[]\n",
    "Price=[]\n",
    "Discount=[]"
   ]
  },
  {
   "cell_type": "code",
   "execution_count": 187,
   "metadata": {},
   "outputs": [
    {
     "data": {
      "text/plain": [
       "[<selenium.webdriver.remote.webelement.WebElement (session=\"e21d4d4e34eeac4a2624d5836524a2ec\", element=\"e13aac92-f0c8-48b1-9480-e5feb25642b8\")>,\n",
       " <selenium.webdriver.remote.webelement.WebElement (session=\"e21d4d4e34eeac4a2624d5836524a2ec\", element=\"e34c672c-f7c8-43cd-9766-8fc404d65a29\")>,\n",
       " <selenium.webdriver.remote.webelement.WebElement (session=\"e21d4d4e34eeac4a2624d5836524a2ec\", element=\"6aacaba5-b6bf-42d1-83f1-8a2d7cb8fc81\")>,\n",
       " <selenium.webdriver.remote.webelement.WebElement (session=\"e21d4d4e34eeac4a2624d5836524a2ec\", element=\"f539a81e-9174-4542-b1c0-089e121c6f46\")>]"
      ]
     },
     "execution_count": 187,
     "metadata": {},
     "output_type": "execute_result"
    }
   ],
   "source": [
    "brand_tags=driver.find_elements_by_xpath(\"//div[@class='_2WkVRV']\")\n",
    "brand_tags[0:4]"
   ]
  },
  {
   "cell_type": "code",
   "execution_count": 188,
   "metadata": {},
   "outputs": [
    {
     "data": {
      "text/plain": [
       "['ROZZETTA CRAFT', 'Fastrack', 'Fastrack', 'Fastrack']"
      ]
     },
     "execution_count": 188,
     "metadata": {},
     "output_type": "execute_result"
    }
   ],
   "source": [
    "for i in brand_tags:\n",
    "    title=i.text\n",
    "    Brand.append(title)\n",
    "    \n",
    "Brand[0:4]  "
   ]
  },
  {
   "cell_type": "code",
   "execution_count": 189,
   "metadata": {},
   "outputs": [
    {
     "data": {
      "text/plain": [
       "[<selenium.webdriver.remote.webelement.WebElement (session=\"e21d4d4e34eeac4a2624d5836524a2ec\", element=\"7585a17c-45ed-4424-a490-ed0327cc681d\")>,\n",
       " <selenium.webdriver.remote.webelement.WebElement (session=\"e21d4d4e34eeac4a2624d5836524a2ec\", element=\"7bdca1e0-efe5-4cf1-9501-752e04662647\")>,\n",
       " <selenium.webdriver.remote.webelement.WebElement (session=\"e21d4d4e34eeac4a2624d5836524a2ec\", element=\"d24bc88a-6c0d-440d-af39-e0922026a2e0\")>,\n",
       " <selenium.webdriver.remote.webelement.WebElement (session=\"e21d4d4e34eeac4a2624d5836524a2ec\", element=\"69a8acfd-b0d0-43aa-a36f-f615cda908c8\")>]"
      ]
     },
     "execution_count": 189,
     "metadata": {},
     "output_type": "execute_result"
    }
   ],
   "source": [
    "Product_Description1=driver.find_elements_by_xpath(\"//a[@class='IRpwTa']\")\n",
    "Product_Description1[0:4]"
   ]
  },
  {
   "cell_type": "code",
   "execution_count": 190,
   "metadata": {},
   "outputs": [
    {
     "data": {
      "text/plain": [
       "['UV Protection Retro Square Sunglasses (Free Size)',\n",
       " 'UV Protection Aviator Sunglasses (Free Size)',\n",
       " 'Gradient, UV Protection Wayfarer Sunglasses (Free Size)',\n",
       " 'Gradient, UV Protection Wayfarer Sunglasses (Free Size)']"
      ]
     },
     "execution_count": 190,
     "metadata": {},
     "output_type": "execute_result"
    }
   ],
   "source": [
    "for i in Product_Description1:\n",
    "    description=i.text\n",
    "    Product_Description.append(description)\n",
    "    \n",
    "Product_Description[0:4]"
   ]
  },
  {
   "cell_type": "code",
   "execution_count": 191,
   "metadata": {},
   "outputs": [
    {
     "data": {
      "text/plain": [
       "[<selenium.webdriver.remote.webelement.WebElement (session=\"e21d4d4e34eeac4a2624d5836524a2ec\", element=\"055b702b-8e0f-42c9-9039-1018f78d025a\")>,\n",
       " <selenium.webdriver.remote.webelement.WebElement (session=\"e21d4d4e34eeac4a2624d5836524a2ec\", element=\"cb42579a-ce14-4d05-be2f-0fe2626385ee\")>,\n",
       " <selenium.webdriver.remote.webelement.WebElement (session=\"e21d4d4e34eeac4a2624d5836524a2ec\", element=\"f4b2385b-c0e3-4df4-9b76-83b8824ef15a\")>,\n",
       " <selenium.webdriver.remote.webelement.WebElement (session=\"e21d4d4e34eeac4a2624d5836524a2ec\", element=\"0ef61984-873c-4a0e-bd96-6a72a8116da5\")>]"
      ]
     },
     "execution_count": 191,
     "metadata": {},
     "output_type": "execute_result"
    }
   ],
   "source": [
    "price1=driver.find_elements_by_xpath(\"//div[@class='_30jeq3']\")\n",
    "price1[0:4]"
   ]
  },
  {
   "cell_type": "code",
   "execution_count": 192,
   "metadata": {},
   "outputs": [
    {
     "data": {
      "text/plain": [
       "['₹499', '₹599', '₹596', '₹499']"
      ]
     },
     "execution_count": 192,
     "metadata": {},
     "output_type": "execute_result"
    }
   ],
   "source": [
    "for i in price1:\n",
    "    price=i.text\n",
    "    Price.append(price)\n",
    "    \n",
    "Price[0:4]   "
   ]
  },
  {
   "cell_type": "code",
   "execution_count": 193,
   "metadata": {},
   "outputs": [
    {
     "data": {
      "text/plain": [
       "[<selenium.webdriver.remote.webelement.WebElement (session=\"e21d4d4e34eeac4a2624d5836524a2ec\", element=\"bf7a13c9-562a-4ab8-bd5a-df9c5d76162a\")>,\n",
       " <selenium.webdriver.remote.webelement.WebElement (session=\"e21d4d4e34eeac4a2624d5836524a2ec\", element=\"dab19281-bd49-4fc0-96ac-f94722e532d1\")>,\n",
       " <selenium.webdriver.remote.webelement.WebElement (session=\"e21d4d4e34eeac4a2624d5836524a2ec\", element=\"7a095af9-1ba2-4203-a999-675586a53ac0\")>,\n",
       " <selenium.webdriver.remote.webelement.WebElement (session=\"e21d4d4e34eeac4a2624d5836524a2ec\", element=\"db1e63ac-4c58-4fb8-a43c-2d8fb9abb8ca\")>]"
      ]
     },
     "execution_count": 193,
     "metadata": {},
     "output_type": "execute_result"
    }
   ],
   "source": [
    "discount_tag=driver.find_elements_by_xpath(\"//div[@class='_3Ay6Sb']/span[1]\")\n",
    "discount_tag[0:4]"
   ]
  },
  {
   "cell_type": "code",
   "execution_count": 194,
   "metadata": {},
   "outputs": [
    {
     "data": {
      "text/plain": [
       "['77% off', '33% off', '25% off', '37% off']"
      ]
     },
     "execution_count": 194,
     "metadata": {},
     "output_type": "execute_result"
    }
   ],
   "source": [
    "for i in discount_tag:\n",
    "    discount=i.text\n",
    "    Discount.append(discount)\n",
    "    \n",
    "Discount[0:4]  "
   ]
  },
  {
   "cell_type": "code",
   "execution_count": 195,
   "metadata": {},
   "outputs": [
    {
     "name": "stdout",
     "output_type": "stream",
     "text": [
      "40 40 40 40\n"
     ]
    }
   ],
   "source": [
    "print(len(Brand),len(Product_Description),len(Price),len(Discount))"
   ]
  },
  {
   "cell_type": "code",
   "execution_count": 196,
   "metadata": {},
   "outputs": [],
   "source": [
    "button=driver.find_element_by_xpath(\"//a[@class='_1LKTO3']/span[1]\")\n",
    "button.click()"
   ]
  },
  {
   "cell_type": "code",
   "execution_count": 197,
   "metadata": {},
   "outputs": [],
   "source": [
    "url='https://www.flipkart.com/search?q=sunglasses&otracker=search&otracker1=search&marketplace=FLIPKART&as-show=on&as=off&page=2'"
   ]
  },
  {
   "cell_type": "code",
   "execution_count": 198,
   "metadata": {},
   "outputs": [],
   "source": [
    "driver.get(url)"
   ]
  },
  {
   "cell_type": "code",
   "execution_count": 199,
   "metadata": {},
   "outputs": [
    {
     "data": {
      "text/plain": [
       "[<selenium.webdriver.remote.webelement.WebElement (session=\"e21d4d4e34eeac4a2624d5836524a2ec\", element=\"2bbdf7d7-e1a2-4a57-a49e-b7e9be205dad\")>,\n",
       " <selenium.webdriver.remote.webelement.WebElement (session=\"e21d4d4e34eeac4a2624d5836524a2ec\", element=\"d28777c8-a552-4cc3-8838-61e6212f7e1b\")>,\n",
       " <selenium.webdriver.remote.webelement.WebElement (session=\"e21d4d4e34eeac4a2624d5836524a2ec\", element=\"8a637bdb-bf43-498f-9bee-e29d658b1b93\")>,\n",
       " <selenium.webdriver.remote.webelement.WebElement (session=\"e21d4d4e34eeac4a2624d5836524a2ec\", element=\"46bdcdf0-18a9-4033-8d00-b92cecead86f\")>]"
      ]
     },
     "execution_count": 199,
     "metadata": {},
     "output_type": "execute_result"
    }
   ],
   "source": [
    "brand_tags=driver.find_elements_by_xpath(\"//div[@class='_2WkVRV']\")\n",
    "brand_tags[0:4]"
   ]
  },
  {
   "cell_type": "code",
   "execution_count": 200,
   "metadata": {},
   "outputs": [],
   "source": [
    "for i in brand_tags:\n",
    "    title=i.text\n",
    "    Brand.append(title)"
   ]
  },
  {
   "cell_type": "code",
   "execution_count": 201,
   "metadata": {},
   "outputs": [
    {
     "data": {
      "text/plain": [
       "[<selenium.webdriver.remote.webelement.WebElement (session=\"e21d4d4e34eeac4a2624d5836524a2ec\", element=\"a31ea9e5-5459-44e5-a10e-f754738e912a\")>,\n",
       " <selenium.webdriver.remote.webelement.WebElement (session=\"e21d4d4e34eeac4a2624d5836524a2ec\", element=\"3e92630b-ffcd-4fdb-b891-1d6eae1c8af4\")>,\n",
       " <selenium.webdriver.remote.webelement.WebElement (session=\"e21d4d4e34eeac4a2624d5836524a2ec\", element=\"b4b597ce-8160-4a69-abdc-479c91cc82eb\")>,\n",
       " <selenium.webdriver.remote.webelement.WebElement (session=\"e21d4d4e34eeac4a2624d5836524a2ec\", element=\"e881e30a-fd0d-4878-a294-24254fd06d33\")>]"
      ]
     },
     "execution_count": 201,
     "metadata": {},
     "output_type": "execute_result"
    }
   ],
   "source": [
    "Product_Description1=driver.find_elements_by_xpath(\"//a[@class='IRpwTa']\")\n",
    "Product_Description1[0:4]"
   ]
  },
  {
   "cell_type": "code",
   "execution_count": 202,
   "metadata": {},
   "outputs": [],
   "source": [
    "for i in Product_Description1:\n",
    "    description=i.text\n",
    "    Product_Description.append(description)"
   ]
  },
  {
   "cell_type": "code",
   "execution_count": 203,
   "metadata": {},
   "outputs": [
    {
     "data": {
      "text/plain": [
       "[<selenium.webdriver.remote.webelement.WebElement (session=\"e21d4d4e34eeac4a2624d5836524a2ec\", element=\"cb25356b-70fd-4a5d-8c32-77a27a91ca0e\")>,\n",
       " <selenium.webdriver.remote.webelement.WebElement (session=\"e21d4d4e34eeac4a2624d5836524a2ec\", element=\"ff074f14-04a9-4b51-9715-611b174bfa19\")>,\n",
       " <selenium.webdriver.remote.webelement.WebElement (session=\"e21d4d4e34eeac4a2624d5836524a2ec\", element=\"1a3112ad-f048-4548-9f31-9822b01e0e43\")>,\n",
       " <selenium.webdriver.remote.webelement.WebElement (session=\"e21d4d4e34eeac4a2624d5836524a2ec\", element=\"31389181-e364-4fb0-96c6-cdeb1ad37a72\")>]"
      ]
     },
     "execution_count": 203,
     "metadata": {},
     "output_type": "execute_result"
    }
   ],
   "source": [
    "price1=driver.find_elements_by_xpath(\"//div[@class='_30jeq3']\")\n",
    "price1[0:4]"
   ]
  },
  {
   "cell_type": "code",
   "execution_count": 204,
   "metadata": {},
   "outputs": [],
   "source": [
    "for i in price1:\n",
    "    price=i.text\n",
    "    Price.append(price)"
   ]
  },
  {
   "cell_type": "code",
   "execution_count": 205,
   "metadata": {},
   "outputs": [
    {
     "data": {
      "text/plain": [
       "[<selenium.webdriver.remote.webelement.WebElement (session=\"e21d4d4e34eeac4a2624d5836524a2ec\", element=\"aac3a129-3a95-4bf5-aa68-762eaba282ac\")>,\n",
       " <selenium.webdriver.remote.webelement.WebElement (session=\"e21d4d4e34eeac4a2624d5836524a2ec\", element=\"3a7465d9-66a6-4cdb-9a01-562bf8b1721a\")>,\n",
       " <selenium.webdriver.remote.webelement.WebElement (session=\"e21d4d4e34eeac4a2624d5836524a2ec\", element=\"9aa203f2-05cc-47ad-9280-59979b42d854\")>,\n",
       " <selenium.webdriver.remote.webelement.WebElement (session=\"e21d4d4e34eeac4a2624d5836524a2ec\", element=\"e0ff9709-b747-46d0-89a1-f28bce61f607\")>]"
      ]
     },
     "execution_count": 205,
     "metadata": {},
     "output_type": "execute_result"
    }
   ],
   "source": [
    "discount_tag=driver.find_elements_by_xpath(\"//div[@class='_3Ay6Sb']/span[1]\")\n",
    "discount_tag[0:4]"
   ]
  },
  {
   "cell_type": "code",
   "execution_count": 206,
   "metadata": {},
   "outputs": [],
   "source": [
    "for i in discount_tag:\n",
    "    discount=i.text\n",
    "    Discount.append(discount)"
   ]
  },
  {
   "cell_type": "code",
   "execution_count": 207,
   "metadata": {},
   "outputs": [
    {
     "name": "stdout",
     "output_type": "stream",
     "text": [
      "80 80 80 80\n"
     ]
    }
   ],
   "source": [
    "print(len(Brand),len(Product_Description),len(Price),len(Discount))"
   ]
  },
  {
   "cell_type": "code",
   "execution_count": 208,
   "metadata": {},
   "outputs": [],
   "source": [
    "button=driver.find_element_by_xpath(\"//a[@class='_1LKTO3'][2]/span[1]\")\n",
    "button.click()"
   ]
  },
  {
   "cell_type": "code",
   "execution_count": 209,
   "metadata": {},
   "outputs": [],
   "source": [
    "url='https://www.flipkart.com/search?q=sunglasses&otracker=search&otracker1=search&marketplace=FLIPKART&as-show=on&as=off&page=3'"
   ]
  },
  {
   "cell_type": "code",
   "execution_count": 210,
   "metadata": {},
   "outputs": [],
   "source": [
    "driver.get(url)"
   ]
  },
  {
   "cell_type": "code",
   "execution_count": 211,
   "metadata": {},
   "outputs": [
    {
     "data": {
      "text/plain": [
       "[<selenium.webdriver.remote.webelement.WebElement (session=\"e21d4d4e34eeac4a2624d5836524a2ec\", element=\"dbd2abe3-4997-48f6-99e4-72088936e379\")>,\n",
       " <selenium.webdriver.remote.webelement.WebElement (session=\"e21d4d4e34eeac4a2624d5836524a2ec\", element=\"be97ec2d-b5d5-42a3-acb8-02d4845372cd\")>,\n",
       " <selenium.webdriver.remote.webelement.WebElement (session=\"e21d4d4e34eeac4a2624d5836524a2ec\", element=\"04cc3ce0-316e-441d-8c3b-801ed06f12f3\")>,\n",
       " <selenium.webdriver.remote.webelement.WebElement (session=\"e21d4d4e34eeac4a2624d5836524a2ec\", element=\"7d311b57-fccc-4ff8-9277-35a2e0979044\")>]"
      ]
     },
     "execution_count": 211,
     "metadata": {},
     "output_type": "execute_result"
    }
   ],
   "source": [
    "brand_tags=driver.find_elements_by_xpath(\"//div[@class='_2WkVRV']\")\n",
    "brand_tags[0:4]"
   ]
  },
  {
   "cell_type": "code",
   "execution_count": 212,
   "metadata": {},
   "outputs": [],
   "source": [
    "for i in brand_tags:\n",
    "    title=i.text\n",
    "    Brand.append(title)"
   ]
  },
  {
   "cell_type": "code",
   "execution_count": 213,
   "metadata": {},
   "outputs": [
    {
     "data": {
      "text/plain": [
       "[<selenium.webdriver.remote.webelement.WebElement (session=\"e21d4d4e34eeac4a2624d5836524a2ec\", element=\"5111a651-6217-4f09-b184-390bb7f6d41b\")>,\n",
       " <selenium.webdriver.remote.webelement.WebElement (session=\"e21d4d4e34eeac4a2624d5836524a2ec\", element=\"8f8aa078-2a01-485b-96ea-0a131fc91fdc\")>,\n",
       " <selenium.webdriver.remote.webelement.WebElement (session=\"e21d4d4e34eeac4a2624d5836524a2ec\", element=\"11f09b8c-f836-4f8f-b581-ea155dec46b0\")>,\n",
       " <selenium.webdriver.remote.webelement.WebElement (session=\"e21d4d4e34eeac4a2624d5836524a2ec\", element=\"e607224c-9d1e-4786-8183-04bcff7458c8\")>]"
      ]
     },
     "execution_count": 213,
     "metadata": {},
     "output_type": "execute_result"
    }
   ],
   "source": [
    "Product_Description1=driver.find_elements_by_xpath(\"//a[@class='IRpwTa']\")\n",
    "Product_Description1[0:4]"
   ]
  },
  {
   "cell_type": "code",
   "execution_count": 214,
   "metadata": {},
   "outputs": [],
   "source": [
    "for i in Product_Description1:\n",
    "    description=i.text\n",
    "    Product_Description.append(description)"
   ]
  },
  {
   "cell_type": "code",
   "execution_count": 215,
   "metadata": {},
   "outputs": [
    {
     "data": {
      "text/plain": [
       "[<selenium.webdriver.remote.webelement.WebElement (session=\"e21d4d4e34eeac4a2624d5836524a2ec\", element=\"99256f63-1727-4b84-ab93-fc7914a1f9c6\")>,\n",
       " <selenium.webdriver.remote.webelement.WebElement (session=\"e21d4d4e34eeac4a2624d5836524a2ec\", element=\"66b37cd4-6386-4ea9-a1c6-374d9cf2e5e3\")>,\n",
       " <selenium.webdriver.remote.webelement.WebElement (session=\"e21d4d4e34eeac4a2624d5836524a2ec\", element=\"37117760-bdc9-4263-972a-d64b6e8e9a26\")>,\n",
       " <selenium.webdriver.remote.webelement.WebElement (session=\"e21d4d4e34eeac4a2624d5836524a2ec\", element=\"db806539-846f-4a76-bf41-b224ce7f512c\")>]"
      ]
     },
     "execution_count": 215,
     "metadata": {},
     "output_type": "execute_result"
    }
   ],
   "source": [
    "price1=driver.find_elements_by_xpath(\"//div[@class='_30jeq3']\")\n",
    "price1[0:4]"
   ]
  },
  {
   "cell_type": "code",
   "execution_count": 216,
   "metadata": {},
   "outputs": [],
   "source": [
    "for i in price1:\n",
    "    price=i.text\n",
    "    Price.append(price)"
   ]
  },
  {
   "cell_type": "code",
   "execution_count": 217,
   "metadata": {},
   "outputs": [
    {
     "data": {
      "text/plain": [
       "[<selenium.webdriver.remote.webelement.WebElement (session=\"e21d4d4e34eeac4a2624d5836524a2ec\", element=\"253f4266-d079-409c-aea7-71492288a399\")>,\n",
       " <selenium.webdriver.remote.webelement.WebElement (session=\"e21d4d4e34eeac4a2624d5836524a2ec\", element=\"2e541e50-6656-4042-977d-a44ed3aee1f1\")>,\n",
       " <selenium.webdriver.remote.webelement.WebElement (session=\"e21d4d4e34eeac4a2624d5836524a2ec\", element=\"425658da-c3e9-4bd0-90ae-0eaf9098ce0f\")>,\n",
       " <selenium.webdriver.remote.webelement.WebElement (session=\"e21d4d4e34eeac4a2624d5836524a2ec\", element=\"e519d0a5-1015-4bc7-9ab2-87374396c0f6\")>]"
      ]
     },
     "execution_count": 217,
     "metadata": {},
     "output_type": "execute_result"
    }
   ],
   "source": [
    "discount_tag=driver.find_elements_by_xpath(\"//div[@class='_3Ay6Sb']/span[1]\")\n",
    "discount_tag[0:4]"
   ]
  },
  {
   "cell_type": "code",
   "execution_count": 218,
   "metadata": {},
   "outputs": [],
   "source": [
    "for i in discount_tag:\n",
    "    discount=i.text\n",
    "    Discount.append(discount)"
   ]
  },
  {
   "cell_type": "code",
   "execution_count": 219,
   "metadata": {},
   "outputs": [
    {
     "name": "stdout",
     "output_type": "stream",
     "text": [
      "120 120 120 120\n"
     ]
    }
   ],
   "source": [
    "print(len(Brand),len(Product_Description),len(Price),len(Discount))"
   ]
  },
  {
   "cell_type": "code",
   "execution_count": 220,
   "metadata": {},
   "outputs": [],
   "source": [
    "sunglasses=pd.DataFrame({})\n",
    "sunglasses['Brand']=Brand[:100]\n",
    "sunglasses['Product_Description']=Product_Description[:100]\n",
    "sunglasses['Price']=Price[:100]\n",
    "sunglasses['Discount']=Discount[:100]"
   ]
  },
  {
   "cell_type": "code",
   "execution_count": 221,
   "metadata": {},
   "outputs": [
    {
     "data": {
      "text/html": [
       "<div>\n",
       "<style scoped>\n",
       "    .dataframe tbody tr th:only-of-type {\n",
       "        vertical-align: middle;\n",
       "    }\n",
       "\n",
       "    .dataframe tbody tr th {\n",
       "        vertical-align: top;\n",
       "    }\n",
       "\n",
       "    .dataframe thead th {\n",
       "        text-align: right;\n",
       "    }\n",
       "</style>\n",
       "<table border=\"1\" class=\"dataframe\">\n",
       "  <thead>\n",
       "    <tr style=\"text-align: right;\">\n",
       "      <th></th>\n",
       "      <th>Brand</th>\n",
       "      <th>Product_Description</th>\n",
       "      <th>Price</th>\n",
       "      <th>Discount</th>\n",
       "    </tr>\n",
       "  </thead>\n",
       "  <tbody>\n",
       "    <tr>\n",
       "      <th>0</th>\n",
       "      <td>ROZZETTA CRAFT</td>\n",
       "      <td>UV Protection Retro Square Sunglasses (Free Size)</td>\n",
       "      <td>₹499</td>\n",
       "      <td>77% off</td>\n",
       "    </tr>\n",
       "    <tr>\n",
       "      <th>1</th>\n",
       "      <td>Fastrack</td>\n",
       "      <td>UV Protection Aviator Sunglasses (Free Size)</td>\n",
       "      <td>₹599</td>\n",
       "      <td>33% off</td>\n",
       "    </tr>\n",
       "    <tr>\n",
       "      <th>2</th>\n",
       "      <td>Fastrack</td>\n",
       "      <td>Gradient, UV Protection Wayfarer Sunglasses (F...</td>\n",
       "      <td>₹596</td>\n",
       "      <td>25% off</td>\n",
       "    </tr>\n",
       "    <tr>\n",
       "      <th>3</th>\n",
       "      <td>Fastrack</td>\n",
       "      <td>Gradient, UV Protection Wayfarer Sunglasses (F...</td>\n",
       "      <td>₹499</td>\n",
       "      <td>37% off</td>\n",
       "    </tr>\n",
       "    <tr>\n",
       "      <th>4</th>\n",
       "      <td>PIRASO</td>\n",
       "      <td>UV Protection Aviator Sunglasses (Free Size)</td>\n",
       "      <td>₹314</td>\n",
       "      <td>80% off</td>\n",
       "    </tr>\n",
       "    <tr>\n",
       "      <th>...</th>\n",
       "      <td>...</td>\n",
       "      <td>...</td>\n",
       "      <td>...</td>\n",
       "      <td>...</td>\n",
       "    </tr>\n",
       "    <tr>\n",
       "      <th>95</th>\n",
       "      <td>PIRASO</td>\n",
       "      <td>UV Protection Aviator Sunglasses (50)</td>\n",
       "      <td>₹314</td>\n",
       "      <td>80% off</td>\n",
       "    </tr>\n",
       "    <tr>\n",
       "      <th>96</th>\n",
       "      <td>Silver Kartz</td>\n",
       "      <td>UV Protection Aviator Sunglasses (62)</td>\n",
       "      <td>₹242</td>\n",
       "      <td>79% off</td>\n",
       "    </tr>\n",
       "    <tr>\n",
       "      <th>97</th>\n",
       "      <td>Silver Kartz</td>\n",
       "      <td>UV Protection Wayfarer, Aviator Sunglasses (88)</td>\n",
       "      <td>₹251</td>\n",
       "      <td>79% off</td>\n",
       "    </tr>\n",
       "    <tr>\n",
       "      <th>98</th>\n",
       "      <td>Gansta</td>\n",
       "      <td>UV Protection, Riding Glasses Wayfarer Sunglas...</td>\n",
       "      <td>₹249</td>\n",
       "      <td>87% off</td>\n",
       "    </tr>\n",
       "    <tr>\n",
       "      <th>99</th>\n",
       "      <td>United Colors of Benetton</td>\n",
       "      <td>Gradient, UV Protection Aviator Sunglasses (56)</td>\n",
       "      <td>₹1,435</td>\n",
       "      <td>65% off</td>\n",
       "    </tr>\n",
       "  </tbody>\n",
       "</table>\n",
       "<p>100 rows × 4 columns</p>\n",
       "</div>"
      ],
      "text/plain": [
       "                        Brand  \\\n",
       "0              ROZZETTA CRAFT   \n",
       "1                    Fastrack   \n",
       "2                    Fastrack   \n",
       "3                    Fastrack   \n",
       "4                      PIRASO   \n",
       "..                        ...   \n",
       "95                     PIRASO   \n",
       "96               Silver Kartz   \n",
       "97               Silver Kartz   \n",
       "98                     Gansta   \n",
       "99  United Colors of Benetton   \n",
       "\n",
       "                                  Product_Description   Price Discount  \n",
       "0   UV Protection Retro Square Sunglasses (Free Size)    ₹499  77% off  \n",
       "1        UV Protection Aviator Sunglasses (Free Size)    ₹599  33% off  \n",
       "2   Gradient, UV Protection Wayfarer Sunglasses (F...    ₹596  25% off  \n",
       "3   Gradient, UV Protection Wayfarer Sunglasses (F...    ₹499  37% off  \n",
       "4        UV Protection Aviator Sunglasses (Free Size)    ₹314  80% off  \n",
       "..                                                ...     ...      ...  \n",
       "95              UV Protection Aviator Sunglasses (50)    ₹314  80% off  \n",
       "96              UV Protection Aviator Sunglasses (62)    ₹242  79% off  \n",
       "97    UV Protection Wayfarer, Aviator Sunglasses (88)    ₹251  79% off  \n",
       "98  UV Protection, Riding Glasses Wayfarer Sunglas...    ₹249  87% off  \n",
       "99    Gradient, UV Protection Aviator Sunglasses (56)  ₹1,435  65% off  \n",
       "\n",
       "[100 rows x 4 columns]"
      ]
     },
     "execution_count": 221,
     "metadata": {},
     "output_type": "execute_result"
    }
   ],
   "source": [
    "sunglasses"
   ]
  },
  {
   "cell_type": "code",
   "execution_count": null,
   "metadata": {},
   "outputs": [],
   "source": []
  }
 ],
 "metadata": {
  "kernelspec": {
   "display_name": "Python 3",
   "language": "python",
   "name": "python3"
  },
  "language_info": {
   "codemirror_mode": {
    "name": "ipython",
    "version": 3
   },
   "file_extension": ".py",
   "mimetype": "text/x-python",
   "name": "python",
   "nbconvert_exporter": "python",
   "pygments_lexer": "ipython3",
   "version": "3.8.3"
  }
 },
 "nbformat": 4,
 "nbformat_minor": 4
}
