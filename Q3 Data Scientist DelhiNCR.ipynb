{
 "cells": [
  {
   "cell_type": "code",
   "execution_count": 94,
   "metadata": {},
   "outputs": [
    {
     "name": "stdout",
     "output_type": "stream",
     "text": [
      "Requirement already satisfied: selenium in c:\\users\\bhupe\\anaconda3\\lib\\site-packages (3.141.0)\n",
      "Requirement already satisfied: urllib3 in c:\\users\\bhupe\\anaconda3\\lib\\site-packages (from selenium) (1.25.9)\n",
      "Requirement already satisfied: webdriver-manager in c:\\users\\bhupe\\anaconda3\\lib\\site-packages (3.3.0)\n",
      "Requirement already satisfied: requests in c:\\users\\bhupe\\anaconda3\\lib\\site-packages (from webdriver-manager) (2.24.0)\n",
      "Requirement already satisfied: crayons in c:\\users\\bhupe\\anaconda3\\lib\\site-packages (from webdriver-manager) (0.4.0)\n",
      "Requirement already satisfied: configparser in c:\\users\\bhupe\\anaconda3\\lib\\site-packages (from webdriver-manager) (5.0.1)\n",
      "Requirement already satisfied: urllib3!=1.25.0,!=1.25.1,<1.26,>=1.21.1 in c:\\users\\bhupe\\anaconda3\\lib\\site-packages (from requests->webdriver-manager) (1.25.9)\n",
      "Requirement already satisfied: idna<3,>=2.5 in c:\\users\\bhupe\\anaconda3\\lib\\site-packages (from requests->webdriver-manager) (2.10)\n",
      "Requirement already satisfied: certifi>=2017.4.17 in c:\\users\\bhupe\\anaconda3\\lib\\site-packages (from requests->webdriver-manager) (2020.6.20)\n",
      "Requirement already satisfied: chardet<4,>=3.0.2 in c:\\users\\bhupe\\anaconda3\\lib\\site-packages (from requests->webdriver-manager) (3.0.4)\n",
      "Requirement already satisfied: colorama in c:\\users\\bhupe\\anaconda3\\lib\\site-packages (from crayons->webdriver-manager) (0.4.3)\n"
     ]
    }
   ],
   "source": [
    "! pip install selenium\n",
    "import selenium\n",
    "import pandas as pd\n",
    "import numpy as np\n",
    "!pip install webdriver-manager\n",
    "from selenium import webdriver\n",
    "from webdriver_manager.chrome import ChromeDriverManager\n",
    "from selenium.webdriver.common.keys import Keys \n",
    "from selenium.common.exceptions import ElementClickInterceptedException\n",
    "import warnings\n",
    "warnings.filterwarnings('ignore')"
   ]
  },
  {
   "cell_type": "code",
   "execution_count": 95,
   "metadata": {},
   "outputs": [
    {
     "name": "stderr",
     "output_type": "stream",
     "text": [
      "[WDM] - ====== WebDriver manager ======\n",
      "[WDM] - Current google-chrome version is 88.0.4324\n",
      "[WDM] - Get LATEST driver version for 88.0.4324\n"
     ]
    },
    {
     "name": "stdout",
     "output_type": "stream",
     "text": [
      "\n",
      "\n"
     ]
    },
    {
     "name": "stderr",
     "output_type": "stream",
     "text": [
      "[WDM] - Driver [C:\\Users\\bhupe\\.wdm\\drivers\\chromedriver\\win32\\88.0.4324.96\\chromedriver.exe] found in cache\n"
     ]
    }
   ],
   "source": [
    "driver=webdriver.Chrome(ChromeDriverManager().install())"
   ]
  },
  {
   "cell_type": "code",
   "execution_count": 96,
   "metadata": {},
   "outputs": [],
   "source": [
    "driver.get('https://www.naukri.com/')"
   ]
  },
  {
   "cell_type": "code",
   "execution_count": 97,
   "metadata": {},
   "outputs": [],
   "source": [
    "search_job=driver.find_element_by_id('qsb-keyword-sugg')\n",
    "search_job.send_keys('Data Scientist')"
   ]
  },
  {
   "cell_type": "code",
   "execution_count": 98,
   "metadata": {},
   "outputs": [],
   "source": [
    "search_btn=driver.find_element_by_xpath(\"//div[@class='search-btn']/button\")\n",
    "search_btn.click()"
   ]
  },
  {
   "cell_type": "code",
   "execution_count": 102,
   "metadata": {},
   "outputs": [],
   "source": [
    "job_location=driver.find_element_by_xpath(\"//label[@for='chk-Delhi/NCR-cityType-']/i\")\n",
    "job_location.click()"
   ]
  },
  {
   "cell_type": "code",
   "execution_count": 103,
   "metadata": {},
   "outputs": [],
   "source": [
    "salary=driver.find_element_by_xpath(\"//label[@for='chk-3-6 Lakhs-ctcFilter-']/i\")\n",
    "salary.click()"
   ]
  },
  {
   "cell_type": "code",
   "execution_count": 104,
   "metadata": {},
   "outputs": [],
   "source": [
    "job_titles=[]\n",
    "company_names=[]\n",
    "location_list=[]\n",
    "experience_list=[]"
   ]
  },
  {
   "cell_type": "code",
   "execution_count": 105,
   "metadata": {},
   "outputs": [
    {
     "data": {
      "text/plain": [
       "[<selenium.webdriver.remote.webelement.WebElement (session=\"d1e29638690345f56034c88ab1d0538c\", element=\"8c24e89c-30e5-43c6-86df-7f5447c28f47\")>,\n",
       " <selenium.webdriver.remote.webelement.WebElement (session=\"d1e29638690345f56034c88ab1d0538c\", element=\"0ce09734-3382-4cdc-aefb-341b17f99e7f\")>,\n",
       " <selenium.webdriver.remote.webelement.WebElement (session=\"d1e29638690345f56034c88ab1d0538c\", element=\"734ca4c6-008c-4f82-9864-ff0e890ce192\")>,\n",
       " <selenium.webdriver.remote.webelement.WebElement (session=\"d1e29638690345f56034c88ab1d0538c\", element=\"677af006-ec05-461e-90fa-4e38c3c39e6b\")>]"
      ]
     },
     "execution_count": 105,
     "metadata": {},
     "output_type": "execute_result"
    }
   ],
   "source": [
    "titles_tags=driver.find_elements_by_xpath(\"//a[@class='title fw500 ellipsis']\")\n",
    "titles_tags[0:4]"
   ]
  },
  {
   "cell_type": "code",
   "execution_count": 106,
   "metadata": {},
   "outputs": [
    {
     "data": {
      "text/plain": [
       "['Data Scientist',\n",
       " 'Data Scientist',\n",
       " 'Senior Data Scientist - Computer Vision',\n",
       " 'Data Scientist - Machine Learning/ NLP']"
      ]
     },
     "execution_count": 106,
     "metadata": {},
     "output_type": "execute_result"
    }
   ],
   "source": [
    "for i in titles_tags:\n",
    "    title=i.text\n",
    "    job_titles.append(title)\n",
    "    \n",
    "job_titles[0:4]   "
   ]
  },
  {
   "cell_type": "code",
   "execution_count": 107,
   "metadata": {},
   "outputs": [
    {
     "data": {
      "text/plain": [
       "[<selenium.webdriver.remote.webelement.WebElement (session=\"d1e29638690345f56034c88ab1d0538c\", element=\"9d55d005-fbbc-4e4c-9fe0-2d104256baab\")>,\n",
       " <selenium.webdriver.remote.webelement.WebElement (session=\"d1e29638690345f56034c88ab1d0538c\", element=\"e02d1c87-801c-491d-955b-36d2fcfd54fe\")>,\n",
       " <selenium.webdriver.remote.webelement.WebElement (session=\"d1e29638690345f56034c88ab1d0538c\", element=\"4532b0c5-bc1f-41c2-8f16-5e698244b344\")>,\n",
       " <selenium.webdriver.remote.webelement.WebElement (session=\"d1e29638690345f56034c88ab1d0538c\", element=\"1233ac41-54b6-4fbe-9bd9-38210e3300fb\")>]"
      ]
     },
     "execution_count": 107,
     "metadata": {},
     "output_type": "execute_result"
    }
   ],
   "source": [
    "companies_tags=driver.find_elements_by_xpath(\"//a[@class='subTitle ellipsis fleft']\")\n",
    "companies_tags[0:4]"
   ]
  },
  {
   "cell_type": "code",
   "execution_count": 108,
   "metadata": {},
   "outputs": [
    {
     "data": {
      "text/plain": [
       "['Country Veggie', 'IBM India Pvt. Limited', 'IRIS SOFTWARE Inc', 'TalPro']"
      ]
     },
     "execution_count": 108,
     "metadata": {},
     "output_type": "execute_result"
    }
   ],
   "source": [
    "for i in companies_tags:\n",
    "    company=i.text\n",
    "    company_names.append(company)\n",
    "    \n",
    "company_names[0:4]   "
   ]
  },
  {
   "cell_type": "code",
   "execution_count": 109,
   "metadata": {},
   "outputs": [
    {
     "data": {
      "text/plain": [
       "[<selenium.webdriver.remote.webelement.WebElement (session=\"d1e29638690345f56034c88ab1d0538c\", element=\"94c2fded-c617-419e-833f-60354393a906\")>,\n",
       " <selenium.webdriver.remote.webelement.WebElement (session=\"d1e29638690345f56034c88ab1d0538c\", element=\"67a5e205-d012-47ec-92dd-a6e502274a60\")>,\n",
       " <selenium.webdriver.remote.webelement.WebElement (session=\"d1e29638690345f56034c88ab1d0538c\", element=\"120909d5-b899-4f2f-b49c-429761e53921\")>,\n",
       " <selenium.webdriver.remote.webelement.WebElement (session=\"d1e29638690345f56034c88ab1d0538c\", element=\"90eef0d8-a476-4d81-b413-5df9758bc7c3\")>]"
      ]
     },
     "execution_count": 109,
     "metadata": {},
     "output_type": "execute_result"
    }
   ],
   "source": [
    "experience_tags=driver.find_elements_by_xpath(\"//li[@class='fleft grey-text br2 placeHolderLi experience']/span[1]\")\n",
    "experience_tags[0:4]"
   ]
  },
  {
   "cell_type": "code",
   "execution_count": 110,
   "metadata": {},
   "outputs": [
    {
     "data": {
      "text/plain": [
       "['1-3 Yrs', '4-8 Yrs', '4-9 Yrs', '2-6 Yrs']"
      ]
     },
     "execution_count": 110,
     "metadata": {},
     "output_type": "execute_result"
    }
   ],
   "source": [
    "for i in experience_tags:\n",
    "    experience=i.text\n",
    "    experience_list.append(experience)\n",
    "    \n",
    "experience_list[0:4] "
   ]
  },
  {
   "cell_type": "code",
   "execution_count": 111,
   "metadata": {},
   "outputs": [
    {
     "data": {
      "text/plain": [
       "[<selenium.webdriver.remote.webelement.WebElement (session=\"d1e29638690345f56034c88ab1d0538c\", element=\"f967d6f2-907e-40e7-b322-708f7e88dd83\")>,\n",
       " <selenium.webdriver.remote.webelement.WebElement (session=\"d1e29638690345f56034c88ab1d0538c\", element=\"73b2c68f-63d6-4f2d-b73d-24473dbc8982\")>,\n",
       " <selenium.webdriver.remote.webelement.WebElement (session=\"d1e29638690345f56034c88ab1d0538c\", element=\"f1d6cb2c-03f5-4cbf-a570-67b6a9b674ca\")>,\n",
       " <selenium.webdriver.remote.webelement.WebElement (session=\"d1e29638690345f56034c88ab1d0538c\", element=\"4754e300-53e1-46f9-9fad-74edd286551b\")>]"
      ]
     },
     "execution_count": 111,
     "metadata": {},
     "output_type": "execute_result"
    }
   ],
   "source": [
    "location_tags=driver.find_elements_by_xpath(\"//li[@class='fleft grey-text br2 placeHolderLi location']/span[1]\")\n",
    "location_tags[0:4]"
   ]
  },
  {
   "cell_type": "code",
   "execution_count": 112,
   "metadata": {},
   "outputs": [
    {
     "data": {
      "text/plain": [
       "['Ghaziabad, Bhopal, Lucknow, Kanpur, Rajkot, Bengaluru, Gurgaon, Agra, Bharuch, Jaunpur, Nagpur, Delhi, Mumbai, Jaipur, Jhansi',\n",
       " 'Gurgaon Gurugram',\n",
       " 'Delhi NCR',\n",
       " 'Gurgaon Gurugram']"
      ]
     },
     "execution_count": 112,
     "metadata": {},
     "output_type": "execute_result"
    }
   ],
   "source": [
    "for i in location_tags:\n",
    "    location=i.text\n",
    "    location_list.append(location)\n",
    "    \n",
    "location_list[0:4]    "
   ]
  },
  {
   "cell_type": "code",
   "execution_count": 113,
   "metadata": {},
   "outputs": [
    {
     "name": "stdout",
     "output_type": "stream",
     "text": [
      "20 20 20 20\n"
     ]
    }
   ],
   "source": [
    "print(len(job_titles),len(company_names),len(location_list),len(experience_list))"
   ]
  },
  {
   "cell_type": "code",
   "execution_count": 114,
   "metadata": {},
   "outputs": [],
   "source": [
    "jobs=pd.DataFrame({})\n",
    "jobs['job_titles']=job_titles[:10]\n",
    "jobs['company_names']=company_names[:10]\n",
    "jobs['location_list']=location_list[:10]\n",
    "jobs['experience_list']=experience_list[:10]"
   ]
  },
  {
   "cell_type": "code",
   "execution_count": 115,
   "metadata": {},
   "outputs": [
    {
     "data": {
      "text/html": [
       "<div>\n",
       "<style scoped>\n",
       "    .dataframe tbody tr th:only-of-type {\n",
       "        vertical-align: middle;\n",
       "    }\n",
       "\n",
       "    .dataframe tbody tr th {\n",
       "        vertical-align: top;\n",
       "    }\n",
       "\n",
       "    .dataframe thead th {\n",
       "        text-align: right;\n",
       "    }\n",
       "</style>\n",
       "<table border=\"1\" class=\"dataframe\">\n",
       "  <thead>\n",
       "    <tr style=\"text-align: right;\">\n",
       "      <th></th>\n",
       "      <th>job_titles</th>\n",
       "      <th>company_names</th>\n",
       "      <th>location_list</th>\n",
       "      <th>experience_list</th>\n",
       "    </tr>\n",
       "  </thead>\n",
       "  <tbody>\n",
       "    <tr>\n",
       "      <th>0</th>\n",
       "      <td>Data Scientist</td>\n",
       "      <td>Country Veggie</td>\n",
       "      <td>Ghaziabad, Bhopal, Lucknow, Kanpur, Rajkot, Be...</td>\n",
       "      <td>1-3 Yrs</td>\n",
       "    </tr>\n",
       "    <tr>\n",
       "      <th>1</th>\n",
       "      <td>Data Scientist</td>\n",
       "      <td>IBM India Pvt. Limited</td>\n",
       "      <td>Gurgaon Gurugram</td>\n",
       "      <td>4-8 Yrs</td>\n",
       "    </tr>\n",
       "    <tr>\n",
       "      <th>2</th>\n",
       "      <td>Senior Data Scientist - Computer Vision</td>\n",
       "      <td>IRIS SOFTWARE Inc</td>\n",
       "      <td>Delhi NCR</td>\n",
       "      <td>4-9 Yrs</td>\n",
       "    </tr>\n",
       "    <tr>\n",
       "      <th>3</th>\n",
       "      <td>Data Scientist - Machine Learning/ NLP</td>\n",
       "      <td>TalPro</td>\n",
       "      <td>Gurgaon Gurugram</td>\n",
       "      <td>2-6 Yrs</td>\n",
       "    </tr>\n",
       "    <tr>\n",
       "      <th>4</th>\n",
       "      <td>Only Fresher / Data Scientist / Data Analyst /...</td>\n",
       "      <td>GABA Consultancy services</td>\n",
       "      <td>Delhi NCR, Noida, Gurgaon</td>\n",
       "      <td>0-0 Yrs</td>\n",
       "    </tr>\n",
       "    <tr>\n",
       "      <th>5</th>\n",
       "      <td>Data Scientist</td>\n",
       "      <td>Ciena</td>\n",
       "      <td>Gurgaon Gurugram</td>\n",
       "      <td>5-6 Yrs</td>\n",
       "    </tr>\n",
       "    <tr>\n",
       "      <th>6</th>\n",
       "      <td>Data Scientist - Tableau/Power BI</td>\n",
       "      <td>Talent Stock Solutions</td>\n",
       "      <td>Delhi</td>\n",
       "      <td>1-3 Yrs</td>\n",
       "    </tr>\n",
       "    <tr>\n",
       "      <th>7</th>\n",
       "      <td>GCP Skilled Analytics Resources (Data engineer...</td>\n",
       "      <td>Aerial Telecom Solutions Pvt. Ltd.</td>\n",
       "      <td>Pune, Bengaluru, Gurgaon</td>\n",
       "      <td>3-8 Yrs</td>\n",
       "    </tr>\n",
       "    <tr>\n",
       "      <th>8</th>\n",
       "      <td>Data Scientist - IT</td>\n",
       "      <td>Ehireo</td>\n",
       "      <td>Gurgaon</td>\n",
       "      <td>4-9 Yrs</td>\n",
       "    </tr>\n",
       "    <tr>\n",
       "      <th>9</th>\n",
       "      <td>Data Scientist Machine Learning</td>\n",
       "      <td>Delhivery</td>\n",
       "      <td>Gurgaon</td>\n",
       "      <td>1-3 Yrs</td>\n",
       "    </tr>\n",
       "  </tbody>\n",
       "</table>\n",
       "</div>"
      ],
      "text/plain": [
       "                                          job_titles  \\\n",
       "0                                     Data Scientist   \n",
       "1                                     Data Scientist   \n",
       "2            Senior Data Scientist - Computer Vision   \n",
       "3             Data Scientist - Machine Learning/ NLP   \n",
       "4  Only Fresher / Data Scientist / Data Analyst /...   \n",
       "5                                     Data Scientist   \n",
       "6                  Data Scientist - Tableau/Power BI   \n",
       "7  GCP Skilled Analytics Resources (Data engineer...   \n",
       "8                                Data Scientist - IT   \n",
       "9                    Data Scientist Machine Learning   \n",
       "\n",
       "                        company_names  \\\n",
       "0                      Country Veggie   \n",
       "1              IBM India Pvt. Limited   \n",
       "2                   IRIS SOFTWARE Inc   \n",
       "3                              TalPro   \n",
       "4           GABA Consultancy services   \n",
       "5                               Ciena   \n",
       "6              Talent Stock Solutions   \n",
       "7  Aerial Telecom Solutions Pvt. Ltd.   \n",
       "8                              Ehireo   \n",
       "9                           Delhivery   \n",
       "\n",
       "                                       location_list experience_list  \n",
       "0  Ghaziabad, Bhopal, Lucknow, Kanpur, Rajkot, Be...         1-3 Yrs  \n",
       "1                                   Gurgaon Gurugram         4-8 Yrs  \n",
       "2                                          Delhi NCR         4-9 Yrs  \n",
       "3                                   Gurgaon Gurugram         2-6 Yrs  \n",
       "4                          Delhi NCR, Noida, Gurgaon         0-0 Yrs  \n",
       "5                                   Gurgaon Gurugram         5-6 Yrs  \n",
       "6                                              Delhi         1-3 Yrs  \n",
       "7                           Pune, Bengaluru, Gurgaon         3-8 Yrs  \n",
       "8                                            Gurgaon         4-9 Yrs  \n",
       "9                                            Gurgaon         1-3 Yrs  "
      ]
     },
     "execution_count": 115,
     "metadata": {},
     "output_type": "execute_result"
    }
   ],
   "source": [
    "jobs"
   ]
  },
  {
   "cell_type": "code",
   "execution_count": null,
   "metadata": {},
   "outputs": [],
   "source": []
  }
 ],
 "metadata": {
  "kernelspec": {
   "display_name": "Python 3",
   "language": "python",
   "name": "python3"
  },
  "language_info": {
   "codemirror_mode": {
    "name": "ipython",
    "version": 3
   },
   "file_extension": ".py",
   "mimetype": "text/x-python",
   "name": "python",
   "nbconvert_exporter": "python",
   "pygments_lexer": "ipython3",
   "version": "3.8.3"
  }
 },
 "nbformat": 4,
 "nbformat_minor": 4
}
