{
 "cells": [
  {
   "cell_type": "code",
   "execution_count": 74,
   "metadata": {},
   "outputs": [
    {
     "name": "stdout",
     "output_type": "stream",
     "text": [
      "Requirement already satisfied: selenium in c:\\users\\bhupe\\anaconda3\\lib\\site-packages (3.141.0)\n",
      "Requirement already satisfied: urllib3 in c:\\users\\bhupe\\anaconda3\\lib\\site-packages (from selenium) (1.25.9)\n",
      "Requirement already satisfied: webdriver-manager in c:\\users\\bhupe\\anaconda3\\lib\\site-packages (3.3.0)\n",
      "Requirement already satisfied: requests in c:\\users\\bhupe\\anaconda3\\lib\\site-packages (from webdriver-manager) (2.24.0)\n",
      "Requirement already satisfied: configparser in c:\\users\\bhupe\\anaconda3\\lib\\site-packages (from webdriver-manager) (5.0.1)\n",
      "Requirement already satisfied: crayons in c:\\users\\bhupe\\anaconda3\\lib\\site-packages (from webdriver-manager) (0.4.0)\n",
      "Requirement already satisfied: idna<3,>=2.5 in c:\\users\\bhupe\\anaconda3\\lib\\site-packages (from requests->webdriver-manager) (2.10)\n",
      "Requirement already satisfied: urllib3!=1.25.0,!=1.25.1,<1.26,>=1.21.1 in c:\\users\\bhupe\\anaconda3\\lib\\site-packages (from requests->webdriver-manager) (1.25.9)\n",
      "Requirement already satisfied: certifi>=2017.4.17 in c:\\users\\bhupe\\anaconda3\\lib\\site-packages (from requests->webdriver-manager) (2020.6.20)\n",
      "Requirement already satisfied: chardet<4,>=3.0.2 in c:\\users\\bhupe\\anaconda3\\lib\\site-packages (from requests->webdriver-manager) (3.0.4)\n",
      "Requirement already satisfied: colorama in c:\\users\\bhupe\\anaconda3\\lib\\site-packages (from crayons->webdriver-manager) (0.4.3)\n"
     ]
    }
   ],
   "source": [
    "! pip install selenium\n",
    "import selenium\n",
    "import pandas as pd\n",
    "!pip install webdriver-manager\n",
    "from selenium import webdriver\n",
    "from webdriver_manager.chrome import ChromeDriverManager\n",
    "from selenium.webdriver.common.keys import Keys \n",
    "from selenium.common.exceptions import ElementClickInterceptedException\n",
    "from selenium.common.exceptions import StaleElementReferenceException, NoSuchElementException\n",
    "from selenium.common.exceptions import ElementNotInteractableException\n",
    "from selenium.webdriver.support import expected_conditions as EC\n",
    "from selenium.webdriver.support.ui import WebDriverWait\n",
    "from selenium.webdriver.common.by import By\n",
    "from selenium.webdriver.support import ui\n",
    "import warnings\n",
    "warnings.filterwarnings('ignore')\n",
    "import time"
   ]
  },
  {
   "cell_type": "code",
   "execution_count": 75,
   "metadata": {},
   "outputs": [],
   "source": [
    "driver=webdriver.Chrome(r'C:\\Users\\bhupe\\Downloads\\chromedriver_win32 (4)/chromedriver')"
   ]
  },
  {
   "cell_type": "code",
   "execution_count": 76,
   "metadata": {},
   "outputs": [],
   "source": [
    "driver.get('https://www.billboard.com/')"
   ]
  },
  {
   "cell_type": "code",
   "execution_count": 77,
   "metadata": {},
   "outputs": [],
   "source": [
    "charts=driver.find_element_by_xpath('//*[@id=\"root\"]/div[2]/div[1]/div[1]/ul/li[1]/a')\n",
    "driver.get(charts.get_attribute('href'))"
   ]
  },
  {
   "cell_type": "code",
   "execution_count": 78,
   "metadata": {},
   "outputs": [],
   "source": [
    "hot_100=driver.find_element_by_xpath('//*[@id=\"topchartsChartPanel\"]/a[1]')\n",
    "driver.get(hot_100.get_attribute('href'))"
   ]
  },
  {
   "cell_type": "code",
   "execution_count": 79,
   "metadata": {},
   "outputs": [],
   "source": [
    "Song_name=[]\n",
    "Artist_name=[]\n",
    "Last_week_rank=[]\n",
    "Peak_rank=[]\n",
    "Weeks_on_board=[]"
   ]
  },
  {
   "cell_type": "code",
   "execution_count": 80,
   "metadata": {},
   "outputs": [
    {
     "data": {
      "text/plain": [
       "[<selenium.webdriver.remote.webelement.WebElement (session=\"31f2a4ef00174ebf9a7efab816c10f2a\", element=\"74ad6f9a-3a8e-4145-b968-7a97693acdc6\")>,\n",
       " <selenium.webdriver.remote.webelement.WebElement (session=\"31f2a4ef00174ebf9a7efab816c10f2a\", element=\"82c62870-59a6-45f8-a7cf-07e781ef53cd\")>,\n",
       " <selenium.webdriver.remote.webelement.WebElement (session=\"31f2a4ef00174ebf9a7efab816c10f2a\", element=\"d232b239-bd21-4222-8655-0e6f06ce7b3c\")>,\n",
       " <selenium.webdriver.remote.webelement.WebElement (session=\"31f2a4ef00174ebf9a7efab816c10f2a\", element=\"d2a837b1-f6e4-486d-acff-c7bb0175f71f\")>]"
      ]
     },
     "execution_count": 80,
     "metadata": {},
     "output_type": "execute_result"
    }
   ],
   "source": [
    "name_tag=driver.find_elements_by_xpath('//*[@id=\"charts\"]/div/div[7]/div/ol/li/button/span[2]/span[1]')\n",
    "name_tag[:4]"
   ]
  },
  {
   "cell_type": "code",
   "execution_count": 81,
   "metadata": {},
   "outputs": [
    {
     "data": {
      "text/plain": [
       "['Drivers License', 'Up', 'Go Crazy', '34+35']"
      ]
     },
     "execution_count": 81,
     "metadata": {},
     "output_type": "execute_result"
    }
   ],
   "source": [
    "for i in name_tag:\n",
    "    name=i.text\n",
    "    Song_name.append(name)\n",
    "    \n",
    "Song_name[:4]"
   ]
  },
  {
   "cell_type": "code",
   "execution_count": 82,
   "metadata": {},
   "outputs": [
    {
     "data": {
      "text/plain": [
       "[<selenium.webdriver.remote.webelement.WebElement (session=\"31f2a4ef00174ebf9a7efab816c10f2a\", element=\"9a0da447-da70-4977-96e1-9c7bba062ccd\")>,\n",
       " <selenium.webdriver.remote.webelement.WebElement (session=\"31f2a4ef00174ebf9a7efab816c10f2a\", element=\"47690cfd-a35f-4953-9dd7-bd83e43f4c0c\")>,\n",
       " <selenium.webdriver.remote.webelement.WebElement (session=\"31f2a4ef00174ebf9a7efab816c10f2a\", element=\"cd086e71-a6b2-44c3-8a48-783ed6592dd9\")>,\n",
       " <selenium.webdriver.remote.webelement.WebElement (session=\"31f2a4ef00174ebf9a7efab816c10f2a\", element=\"f7a597d1-7cb4-4cdd-8fc3-b765f475f27c\")>]"
      ]
     },
     "execution_count": 82,
     "metadata": {},
     "output_type": "execute_result"
    }
   ],
   "source": [
    "Artist_tag=driver.find_elements_by_xpath('//*[@id=\"charts\"]/div/div[7]/div/ol/li/button/span[2]/span[2]')\n",
    "Artist_tag[:4]"
   ]
  },
  {
   "cell_type": "code",
   "execution_count": 83,
   "metadata": {},
   "outputs": [
    {
     "data": {
      "text/plain": [
       "['Olivia Rodrigo', 'Cardi B', 'Chris Brown & Young Thug', 'Ariana Grande']"
      ]
     },
     "execution_count": 83,
     "metadata": {},
     "output_type": "execute_result"
    }
   ],
   "source": [
    "for i in Artist_tag:\n",
    "    Artist=i.text\n",
    "    Artist_name.append(Artist)\n",
    "    \n",
    "Artist_name[:4]"
   ]
  },
  {
   "cell_type": "code",
   "execution_count": 84,
   "metadata": {},
   "outputs": [
    {
     "data": {
      "text/plain": [
       "[<selenium.webdriver.remote.webelement.WebElement (session=\"31f2a4ef00174ebf9a7efab816c10f2a\", element=\"5a7a9763-8943-4227-b3bf-3bfc9d242e94\")>,\n",
       " <selenium.webdriver.remote.webelement.WebElement (session=\"31f2a4ef00174ebf9a7efab816c10f2a\", element=\"c018f286-fdaf-4006-9d6a-234ea975f0e6\")>,\n",
       " <selenium.webdriver.remote.webelement.WebElement (session=\"31f2a4ef00174ebf9a7efab816c10f2a\", element=\"f623b47f-59b9-4432-9464-1bb098f1b7c3\")>,\n",
       " <selenium.webdriver.remote.webelement.WebElement (session=\"31f2a4ef00174ebf9a7efab816c10f2a\", element=\"01d3118b-31f2-4608-a046-4da66e7741a4\")>]"
      ]
     },
     "execution_count": 84,
     "metadata": {},
     "output_type": "execute_result"
    }
   ],
   "source": [
    "Last_week_rank_tag=driver.find_elements_by_xpath('//div[@class=\"chart-element__meta text--center color--secondary text--last\"]')\n",
    "Last_week_rank_tag[:4]"
   ]
  },
  {
   "cell_type": "code",
   "execution_count": 85,
   "metadata": {},
   "outputs": [
    {
     "data": {
      "text/plain": [
       "['1', '5', '8', '2']"
      ]
     },
     "execution_count": 85,
     "metadata": {},
     "output_type": "execute_result"
    }
   ],
   "source": [
    "for i in Last_week_rank_tag:\n",
    "    rank=i.text\n",
    "    Last_week_rank.append(rank)\n",
    "    \n",
    "Last_week_rank[:4]"
   ]
  },
  {
   "cell_type": "code",
   "execution_count": 86,
   "metadata": {
    "scrolled": true
   },
   "outputs": [
    {
     "data": {
      "text/plain": [
       "[<selenium.webdriver.remote.webelement.WebElement (session=\"31f2a4ef00174ebf9a7efab816c10f2a\", element=\"98b32ae5-d32a-4bdd-8d2c-4dc7d0278694\")>,\n",
       " <selenium.webdriver.remote.webelement.WebElement (session=\"31f2a4ef00174ebf9a7efab816c10f2a\", element=\"3b4e96db-54a0-4f2a-b18f-2fe6fb0801e8\")>,\n",
       " <selenium.webdriver.remote.webelement.WebElement (session=\"31f2a4ef00174ebf9a7efab816c10f2a\", element=\"1e492b11-ffe1-4c04-b0dd-df405148bd8c\")>,\n",
       " <selenium.webdriver.remote.webelement.WebElement (session=\"31f2a4ef00174ebf9a7efab816c10f2a\", element=\"446ec6a8-7dd3-419d-91a6-16f993811e45\")>]"
      ]
     },
     "execution_count": 86,
     "metadata": {},
     "output_type": "execute_result"
    }
   ],
   "source": [
    "Peak_rank_tag=driver.find_elements_by_xpath('//div[@class=\"chart-element__meta text--center color--secondary text--peak\"]')\n",
    "Peak_rank_tag[:4]"
   ]
  },
  {
   "cell_type": "code",
   "execution_count": 87,
   "metadata": {},
   "outputs": [
    {
     "data": {
      "text/plain": [
       "['1', '2', '3', '2']"
      ]
     },
     "execution_count": 87,
     "metadata": {},
     "output_type": "execute_result"
    }
   ],
   "source": [
    "for i in Peak_rank_tag:\n",
    "    rank1=i.text\n",
    "    Peak_rank.append(rank1)\n",
    "    \n",
    "Peak_rank[:4]"
   ]
  },
  {
   "cell_type": "code",
   "execution_count": 88,
   "metadata": {
    "scrolled": true
   },
   "outputs": [
    {
     "data": {
      "text/plain": [
       "[<selenium.webdriver.remote.webelement.WebElement (session=\"31f2a4ef00174ebf9a7efab816c10f2a\", element=\"88071e24-1f36-4d83-be0d-b1e7dd6ad5c6\")>,\n",
       " <selenium.webdriver.remote.webelement.WebElement (session=\"31f2a4ef00174ebf9a7efab816c10f2a\", element=\"bc295fd7-8614-4af6-a5bb-a61fe8d6cf4d\")>,\n",
       " <selenium.webdriver.remote.webelement.WebElement (session=\"31f2a4ef00174ebf9a7efab816c10f2a\", element=\"64b97c9d-54c1-4286-ad72-65410668e4b3\")>,\n",
       " <selenium.webdriver.remote.webelement.WebElement (session=\"31f2a4ef00174ebf9a7efab816c10f2a\", element=\"54e5d2f3-ce56-4072-8b18-e6940bf9dfe1\")>]"
      ]
     },
     "execution_count": 88,
     "metadata": {},
     "output_type": "execute_result"
    }
   ],
   "source": [
    "Weeks_on_board_tag=driver.find_elements_by_xpath('//div[@class=\"chart-element__meta text--center color--secondary text--week\"]')\n",
    "Weeks_on_board_tag[:4]"
   ]
  },
  {
   "cell_type": "code",
   "execution_count": 89,
   "metadata": {},
   "outputs": [
    {
     "data": {
      "text/plain": [
       "['7', '3', '42', '17']"
      ]
     },
     "execution_count": 89,
     "metadata": {},
     "output_type": "execute_result"
    }
   ],
   "source": [
    "for i in Weeks_on_board_tag:\n",
    "    week=i.text\n",
    "    Weeks_on_board.append(week)\n",
    "    \n",
    "Weeks_on_board[:4]"
   ]
  },
  {
   "cell_type": "code",
   "execution_count": 90,
   "metadata": {},
   "outputs": [
    {
     "name": "stdout",
     "output_type": "stream",
     "text": [
      "100 100 100 100 100\n"
     ]
    }
   ],
   "source": [
    "print(len(Song_name),len(Artist_name),len(Last_week_rank),len(Peak_rank),len(Weeks_on_board))"
   ]
  },
  {
   "cell_type": "code",
   "execution_count": 91,
   "metadata": {},
   "outputs": [],
   "source": [
    "hot_100_songs_billboard=pd.DataFrame({})\n",
    "hot_100_songs_billboard['Song_name']=Song_name\n",
    "hot_100_songs_billboard['Artist_name']=Artist_name\n",
    "hot_100_songs_billboard['Last_week_rank']=Last_week_rank\n",
    "hot_100_songs_billboard['Peak_rank']=Peak_rank\n",
    "hot_100_songs_billboard['Weeks_on_board']=Weeks_on_board"
   ]
  },
  {
   "cell_type": "code",
   "execution_count": 92,
   "metadata": {},
   "outputs": [
    {
     "data": {
      "text/html": [
       "<div>\n",
       "<style scoped>\n",
       "    .dataframe tbody tr th:only-of-type {\n",
       "        vertical-align: middle;\n",
       "    }\n",
       "\n",
       "    .dataframe tbody tr th {\n",
       "        vertical-align: top;\n",
       "    }\n",
       "\n",
       "    .dataframe thead th {\n",
       "        text-align: right;\n",
       "    }\n",
       "</style>\n",
       "<table border=\"1\" class=\"dataframe\">\n",
       "  <thead>\n",
       "    <tr style=\"text-align: right;\">\n",
       "      <th></th>\n",
       "      <th>Song_name</th>\n",
       "      <th>Artist_name</th>\n",
       "      <th>Last_week_rank</th>\n",
       "      <th>Peak_rank</th>\n",
       "      <th>Weeks_on_board</th>\n",
       "    </tr>\n",
       "  </thead>\n",
       "  <tbody>\n",
       "    <tr>\n",
       "      <th>0</th>\n",
       "      <td>Drivers License</td>\n",
       "      <td>Olivia Rodrigo</td>\n",
       "      <td>1</td>\n",
       "      <td>1</td>\n",
       "      <td>7</td>\n",
       "    </tr>\n",
       "    <tr>\n",
       "      <th>1</th>\n",
       "      <td>Up</td>\n",
       "      <td>Cardi B</td>\n",
       "      <td>5</td>\n",
       "      <td>2</td>\n",
       "      <td>3</td>\n",
       "    </tr>\n",
       "    <tr>\n",
       "      <th>2</th>\n",
       "      <td>Go Crazy</td>\n",
       "      <td>Chris Brown &amp; Young Thug</td>\n",
       "      <td>8</td>\n",
       "      <td>3</td>\n",
       "      <td>42</td>\n",
       "    </tr>\n",
       "    <tr>\n",
       "      <th>3</th>\n",
       "      <td>34+35</td>\n",
       "      <td>Ariana Grande</td>\n",
       "      <td>2</td>\n",
       "      <td>2</td>\n",
       "      <td>17</td>\n",
       "    </tr>\n",
       "    <tr>\n",
       "      <th>4</th>\n",
       "      <td>Blinding Lights</td>\n",
       "      <td>The Weeknd</td>\n",
       "      <td>4</td>\n",
       "      <td>1</td>\n",
       "      <td>64</td>\n",
       "    </tr>\n",
       "    <tr>\n",
       "      <th>...</th>\n",
       "      <td>...</td>\n",
       "      <td>...</td>\n",
       "      <td>...</td>\n",
       "      <td>...</td>\n",
       "      <td>...</td>\n",
       "    </tr>\n",
       "    <tr>\n",
       "      <th>95</th>\n",
       "      <td>The Business</td>\n",
       "      <td>Tiesto</td>\n",
       "      <td>-</td>\n",
       "      <td>96</td>\n",
       "      <td>1</td>\n",
       "    </tr>\n",
       "    <tr>\n",
       "      <th>96</th>\n",
       "      <td>Hello</td>\n",
       "      <td>Pop Smoke Featuring A Boogie Wit da Hoodie</td>\n",
       "      <td>-</td>\n",
       "      <td>97</td>\n",
       "      <td>1</td>\n",
       "    </tr>\n",
       "    <tr>\n",
       "      <th>97</th>\n",
       "      <td>Monster</td>\n",
       "      <td>Shawn Mendes &amp; Justin Bieber</td>\n",
       "      <td>91</td>\n",
       "      <td>8</td>\n",
       "      <td>14</td>\n",
       "    </tr>\n",
       "    <tr>\n",
       "      <th>98</th>\n",
       "      <td>Track Star</td>\n",
       "      <td>Mooski</td>\n",
       "      <td>-</td>\n",
       "      <td>99</td>\n",
       "      <td>1</td>\n",
       "    </tr>\n",
       "    <tr>\n",
       "      <th>99</th>\n",
       "      <td>Like I Want You</td>\n",
       "      <td>Giveon</td>\n",
       "      <td>95</td>\n",
       "      <td>95</td>\n",
       "      <td>2</td>\n",
       "    </tr>\n",
       "  </tbody>\n",
       "</table>\n",
       "<p>100 rows × 5 columns</p>\n",
       "</div>"
      ],
      "text/plain": [
       "          Song_name                                 Artist_name  \\\n",
       "0   Drivers License                              Olivia Rodrigo   \n",
       "1                Up                                     Cardi B   \n",
       "2          Go Crazy                    Chris Brown & Young Thug   \n",
       "3             34+35                               Ariana Grande   \n",
       "4   Blinding Lights                                  The Weeknd   \n",
       "..              ...                                         ...   \n",
       "95     The Business                                      Tiesto   \n",
       "96            Hello  Pop Smoke Featuring A Boogie Wit da Hoodie   \n",
       "97          Monster                Shawn Mendes & Justin Bieber   \n",
       "98       Track Star                                      Mooski   \n",
       "99  Like I Want You                                      Giveon   \n",
       "\n",
       "   Last_week_rank Peak_rank Weeks_on_board  \n",
       "0               1         1              7  \n",
       "1               5         2              3  \n",
       "2               8         3             42  \n",
       "3               2         2             17  \n",
       "4               4         1             64  \n",
       "..            ...       ...            ...  \n",
       "95              -        96              1  \n",
       "96              -        97              1  \n",
       "97             91         8             14  \n",
       "98              -        99              1  \n",
       "99             95        95              2  \n",
       "\n",
       "[100 rows x 5 columns]"
      ]
     },
     "execution_count": 92,
     "metadata": {},
     "output_type": "execute_result"
    }
   ],
   "source": [
    "hot_100_songs_billboard"
   ]
  },
  {
   "cell_type": "code",
   "execution_count": null,
   "metadata": {},
   "outputs": [],
   "source": []
  }
 ],
 "metadata": {
  "kernelspec": {
   "display_name": "Python 3",
   "language": "python",
   "name": "python3"
  },
  "language_info": {
   "codemirror_mode": {
    "name": "ipython",
    "version": 3
   },
   "file_extension": ".py",
   "mimetype": "text/x-python",
   "name": "python",
   "nbconvert_exporter": "python",
   "pygments_lexer": "ipython3",
   "version": "3.8.3"
  }
 },
 "nbformat": 4,
 "nbformat_minor": 4
}
