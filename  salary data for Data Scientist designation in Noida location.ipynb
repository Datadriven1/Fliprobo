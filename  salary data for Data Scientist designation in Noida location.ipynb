{
 "cells": [
  {
   "cell_type": "code",
   "execution_count": 54,
   "metadata": {},
   "outputs": [
    {
     "name": "stdout",
     "output_type": "stream",
     "text": [
      "Requirement already satisfied: selenium in c:\\users\\bhupe\\anaconda3\\lib\\site-packages (3.141.0)\n",
      "Requirement already satisfied: urllib3 in c:\\users\\bhupe\\anaconda3\\lib\\site-packages (from selenium) (1.25.9)\n",
      "Requirement already satisfied: webdriver-manager in c:\\users\\bhupe\\anaconda3\\lib\\site-packages (3.3.0)\n",
      "Requirement already satisfied: crayons in c:\\users\\bhupe\\anaconda3\\lib\\site-packages (from webdriver-manager) (0.4.0)\n",
      "Requirement already satisfied: requests in c:\\users\\bhupe\\anaconda3\\lib\\site-packages (from webdriver-manager) (2.24.0)\n",
      "Requirement already satisfied: configparser in c:\\users\\bhupe\\anaconda3\\lib\\site-packages (from webdriver-manager) (5.0.1)\n",
      "Requirement already satisfied: colorama in c:\\users\\bhupe\\anaconda3\\lib\\site-packages (from crayons->webdriver-manager) (0.4.3)\n",
      "Requirement already satisfied: chardet<4,>=3.0.2 in c:\\users\\bhupe\\anaconda3\\lib\\site-packages (from requests->webdriver-manager) (3.0.4)\n",
      "Requirement already satisfied: urllib3!=1.25.0,!=1.25.1,<1.26,>=1.21.1 in c:\\users\\bhupe\\anaconda3\\lib\\site-packages (from requests->webdriver-manager) (1.25.9)\n",
      "Requirement already satisfied: certifi>=2017.4.17 in c:\\users\\bhupe\\anaconda3\\lib\\site-packages (from requests->webdriver-manager) (2020.6.20)\n",
      "Requirement already satisfied: idna<3,>=2.5 in c:\\users\\bhupe\\anaconda3\\lib\\site-packages (from requests->webdriver-manager) (2.10)\n"
     ]
    }
   ],
   "source": [
    "! pip install selenium\n",
    "import selenium\n",
    "import pandas as pd\n",
    "import numpy as np\n",
    "!pip install webdriver-manager\n",
    "from selenium import webdriver\n",
    "from webdriver_manager.chrome import ChromeDriverManager\n",
    "from selenium.webdriver.common.keys import Keys \n",
    "from selenium.common.exceptions import ElementClickInterceptedException\n",
    "import warnings\n",
    "warnings.filterwarnings('ignore')"
   ]
  },
  {
   "cell_type": "code",
   "execution_count": 55,
   "metadata": {},
   "outputs": [
    {
     "name": "stderr",
     "output_type": "stream",
     "text": [
      "[WDM] - ====== WebDriver manager ======\n",
      "[WDM] - Current google-chrome version is 88.0.4324\n",
      "[WDM] - Get LATEST driver version for 88.0.4324\n"
     ]
    },
    {
     "name": "stdout",
     "output_type": "stream",
     "text": [
      "\n",
      "\n"
     ]
    },
    {
     "name": "stderr",
     "output_type": "stream",
     "text": [
      "[WDM] - Driver [C:\\Users\\bhupe\\.wdm\\drivers\\chromedriver\\win32\\88.0.4324.96\\chromedriver.exe] found in cache\n"
     ]
    }
   ],
   "source": [
    "driver=webdriver.Chrome(ChromeDriverManager().install())"
   ]
  },
  {
   "cell_type": "code",
   "execution_count": 56,
   "metadata": {},
   "outputs": [],
   "source": [
    "driver.get('https://www.glassdoor.co.in/Salaries/index.htm')"
   ]
  },
  {
   "cell_type": "code",
   "execution_count": 57,
   "metadata": {},
   "outputs": [],
   "source": [
    "search_job=driver.find_element_by_xpath(\"//input[@class='keyword'][1]\")\n",
    "search_job.send_keys('Data Scientist')\n",
    "search_loc=driver.find_element_by_xpath(\"//input[@class='loc']\")\n",
    "search_loc.send_keys('Noida')"
   ]
  },
  {
   "cell_type": "code",
   "execution_count": 58,
   "metadata": {},
   "outputs": [],
   "source": [
    "search_btn=driver.find_element_by_id(\"HeroSearchButton\")\n",
    "search_btn.click()"
   ]
  },
  {
   "cell_type": "code",
   "execution_count": 59,
   "metadata": {},
   "outputs": [],
   "source": [
    "url='https://www.glassdoor.co.in/Salaries/new-delhi-data-scientist-salary-SRCH_IL.0,9_IM1083_KO10,24.htm?clickSource=searchBtn'"
   ]
  },
  {
   "cell_type": "code",
   "execution_count": 60,
   "metadata": {},
   "outputs": [],
   "source": [
    "driver.get(url)"
   ]
  },
  {
   "cell_type": "code",
   "execution_count": 61,
   "metadata": {},
   "outputs": [],
   "source": [
    "company_names=[]\n",
    "number_of_salaries=[]\n",
    "Average_salary=[]\n",
    "Min_salary=[]\n",
    "Max_Salary=[]"
   ]
  },
  {
   "cell_type": "code",
   "execution_count": 62,
   "metadata": {},
   "outputs": [
    {
     "data": {
      "text/plain": [
       "[<selenium.webdriver.remote.webelement.WebElement (session=\"758eb2d119c9896d6e97d569fadc2e69\", element=\"39e8bc62-9696-437b-99da-5dcebb06b0b9\")>,\n",
       " <selenium.webdriver.remote.webelement.WebElement (session=\"758eb2d119c9896d6e97d569fadc2e69\", element=\"74e33974-abe9-4ea8-9f8f-ba615a3a5844\")>,\n",
       " <selenium.webdriver.remote.webelement.WebElement (session=\"758eb2d119c9896d6e97d569fadc2e69\", element=\"fb196db0-007b-4fa1-9caf-711ec073b2f3\")>,\n",
       " <selenium.webdriver.remote.webelement.WebElement (session=\"758eb2d119c9896d6e97d569fadc2e69\", element=\"90cb10fb-c4ab-463f-9c0f-ef9e9bd79aed\")>]"
      ]
     },
     "execution_count": 62,
     "metadata": {},
     "output_type": "execute_result"
    }
   ],
   "source": [
    "company_tag=driver.find_elements_by_xpath(\"//div[@data-test='job-info']/p[2]\")\n",
    "company_tag[0:4]"
   ]
  },
  {
   "cell_type": "code",
   "execution_count": 63,
   "metadata": {},
   "outputs": [
    {
     "data": {
      "text/plain": [
       "['Delhivery',\n",
       " 'Ericsson-Worldwide',\n",
       " 'Tata Consultancy Services',\n",
       " 'Accenture',\n",
       " 'IBM',\n",
       " 'UnitedHealth Group',\n",
       " 'Valiance Solutions',\n",
       " 'Innovaccer',\n",
       " 'Cognizant Technology Solutions',\n",
       " 'EXL Service']"
      ]
     },
     "execution_count": 63,
     "metadata": {},
     "output_type": "execute_result"
    }
   ],
   "source": [
    "for i in company_tag:\n",
    "    company=i.text\n",
    "    company_names.append(company)\n",
    "    \n",
    "company_names[0:10]   "
   ]
  },
  {
   "cell_type": "code",
   "execution_count": 64,
   "metadata": {},
   "outputs": [
    {
     "data": {
      "text/plain": [
       "[<selenium.webdriver.remote.webelement.WebElement (session=\"758eb2d119c9896d6e97d569fadc2e69\", element=\"f025ba43-5c21-4324-a4eb-e752e7b7d79a\")>,\n",
       " <selenium.webdriver.remote.webelement.WebElement (session=\"758eb2d119c9896d6e97d569fadc2e69\", element=\"0c225520-58da-4a7c-b0ce-e3f5588862b4\")>,\n",
       " <selenium.webdriver.remote.webelement.WebElement (session=\"758eb2d119c9896d6e97d569fadc2e69\", element=\"307314b1-cea3-4286-b46b-d39e0b616248\")>,\n",
       " <selenium.webdriver.remote.webelement.WebElement (session=\"758eb2d119c9896d6e97d569fadc2e69\", element=\"3668e09e-ba0f-4c5d-8239-e1ef576ae5a1\")>]"
      ]
     },
     "execution_count": 64,
     "metadata": {},
     "output_type": "execute_result"
    }
   ],
   "source": [
    "salary_tag=driver.find_elements_by_xpath(\"//p[@class='css-1uyte9r css-1kuy7z7 m-0 ']\")\n",
    "salary_tag[0:4]"
   ]
  },
  {
   "cell_type": "code",
   "execution_count": 65,
   "metadata": {},
   "outputs": [
    {
     "data": {
      "text/plain": [
       "['13 salaries',\n",
       " '11 salaries',\n",
       " '10 salaries',\n",
       " '10 salaries',\n",
       " '10 salaries',\n",
       " '9 salaries',\n",
       " '8 salaries',\n",
       " '7 salaries',\n",
       " '6 salaries',\n",
       " '6 salaries']"
      ]
     },
     "execution_count": 65,
     "metadata": {},
     "output_type": "execute_result"
    }
   ],
   "source": [
    "for i in salary_tag:\n",
    "    salary=i.text\n",
    "    number_of_salaries.append(salary)\n",
    "    \n",
    "number_of_salaries[0:10]   "
   ]
  },
  {
   "cell_type": "code",
   "execution_count": 66,
   "metadata": {},
   "outputs": [
    {
     "data": {
      "text/plain": [
       "[<selenium.webdriver.remote.webelement.WebElement (session=\"758eb2d119c9896d6e97d569fadc2e69\", element=\"ea0e5a3b-dd62-4e59-a0f3-a67b05b55c7e\")>,\n",
       " <selenium.webdriver.remote.webelement.WebElement (session=\"758eb2d119c9896d6e97d569fadc2e69\", element=\"65c64456-7f66-4b06-b420-4e34b318dfb7\")>,\n",
       " <selenium.webdriver.remote.webelement.WebElement (session=\"758eb2d119c9896d6e97d569fadc2e69\", element=\"4717ce94-c0aa-446e-908a-fd20d765be3b\")>,\n",
       " <selenium.webdriver.remote.webelement.WebElement (session=\"758eb2d119c9896d6e97d569fadc2e69\", element=\"ef661e5b-728e-4893-bcc1-35a3d6189a58\")>]"
      ]
     },
     "execution_count": 66,
     "metadata": {},
     "output_type": "execute_result"
    }
   ],
   "source": [
    "Average_tag=driver.find_elements_by_xpath(\"//div[@class='col-2 d-none d-md-flex flex-row justify-content-end']\")\n",
    "Average_tag[0:4]"
   ]
  },
  {
   "cell_type": "code",
   "execution_count": 67,
   "metadata": {},
   "outputs": [
    {
     "data": {
      "text/plain": [
       "['₹ 12,64,182/yr',\n",
       " '₹ 7,41,935/yr',\n",
       " '₹ 5,99,668/yr',\n",
       " '₹ 9,94,055/yr',\n",
       " '₹ 7,39,040/yr',\n",
       " '₹ 13,37,114/yr',\n",
       " '₹ 7,80,374/yr',\n",
       " '₹ 11,98,792/yr',\n",
       " '₹ 10,08,143/yr',\n",
       " '₹ 11,34,989/yr']"
      ]
     },
     "execution_count": 67,
     "metadata": {},
     "output_type": "execute_result"
    }
   ],
   "source": [
    "for i in Average_tag:\n",
    "    average=i.text.replace('\\n','')\n",
    "    Average_salary.append(average)\n",
    "    \n",
    "Average_salary[0:10]   "
   ]
  },
  {
   "cell_type": "code",
   "execution_count": 68,
   "metadata": {},
   "outputs": [
    {
     "data": {
      "text/plain": [
       "[<selenium.webdriver.remote.webelement.WebElement (session=\"758eb2d119c9896d6e97d569fadc2e69\", element=\"00c87ce3-1fa1-4c55-b40b-f51bafd6d563\")>,\n",
       " <selenium.webdriver.remote.webelement.WebElement (session=\"758eb2d119c9896d6e97d569fadc2e69\", element=\"c83a82ed-4c4e-4f2b-ad2f-d2d8af5f0e06\")>,\n",
       " <selenium.webdriver.remote.webelement.WebElement (session=\"758eb2d119c9896d6e97d569fadc2e69\", element=\"b1e1b7f5-b543-43a0-a3fb-ff83d5f0a6bf\")>,\n",
       " <selenium.webdriver.remote.webelement.WebElement (session=\"758eb2d119c9896d6e97d569fadc2e69\", element=\"7b73f04e-37c2-40e9-9a4e-c054bcac3f2d\")>]"
      ]
     },
     "execution_count": 68,
     "metadata": {},
     "output_type": "execute_result"
    }
   ],
   "source": [
    "min_tag=driver.find_elements_by_xpath(\"//div[@class='common__RangeBarStyle__values common__flex__justifySpaceBetween common__flex__container ']/span[1]\")\n",
    "min_tag[0:4]"
   ]
  },
  {
   "cell_type": "code",
   "execution_count": 69,
   "metadata": {},
   "outputs": [
    {
     "data": {
      "text/plain": [
       "['₹450K',\n",
       " '₹420K',\n",
       " '₹336K',\n",
       " '₹577K',\n",
       " '₹587K',\n",
       " '₹717K',\n",
       " '₹502K',\n",
       " '₹621K',\n",
       " '₹793K',\n",
       " '₹576K']"
      ]
     },
     "execution_count": 69,
     "metadata": {},
     "output_type": "execute_result"
    }
   ],
   "source": [
    "for i in min_tag:\n",
    "    mini=i.text.replace('\\n','')\n",
    "    Min_salary.append(mini)\n",
    "    \n",
    "Min_salary[0:10]   "
   ]
  },
  {
   "cell_type": "code",
   "execution_count": 70,
   "metadata": {},
   "outputs": [
    {
     "data": {
      "text/plain": [
       "[<selenium.webdriver.remote.webelement.WebElement (session=\"758eb2d119c9896d6e97d569fadc2e69\", element=\"88098514-0831-4d1c-a962-b20d0413e764\")>,\n",
       " <selenium.webdriver.remote.webelement.WebElement (session=\"758eb2d119c9896d6e97d569fadc2e69\", element=\"9913f593-002c-4c5e-82ed-9b832110119f\")>,\n",
       " <selenium.webdriver.remote.webelement.WebElement (session=\"758eb2d119c9896d6e97d569fadc2e69\", element=\"88f91f59-5990-4771-93b8-61d4d3176f5f\")>,\n",
       " <selenium.webdriver.remote.webelement.WebElement (session=\"758eb2d119c9896d6e97d569fadc2e69\", element=\"2237bad2-40a7-4bca-81fa-9d6079582453\")>]"
      ]
     },
     "execution_count": 70,
     "metadata": {},
     "output_type": "execute_result"
    }
   ],
   "source": [
    "max_tag=driver.find_elements_by_xpath(\"//div[@class='common__RangeBarStyle__values common__flex__justifySpaceBetween common__flex__container ']/span[2]\")\n",
    "max_tag[0:4]"
   ]
  },
  {
   "cell_type": "code",
   "execution_count": 71,
   "metadata": {},
   "outputs": [
    {
     "data": {
      "text/plain": [
       "['₹11,630K',\n",
       " '₹1,614K',\n",
       " '₹1,010K',\n",
       " '₹2,215K',\n",
       " '₹2,732K',\n",
       " '₹1,575K',\n",
       " '₹1,152K',\n",
       " '₹1,696K',\n",
       " '₹1,264K',\n",
       " '₹1,500K']"
      ]
     },
     "execution_count": 71,
     "metadata": {},
     "output_type": "execute_result"
    }
   ],
   "source": [
    "for i in max_tag:\n",
    "    maxi=i.text.replace('\\n','')\n",
    "    Max_Salary.append(maxi)\n",
    "    \n",
    "Max_Salary[0:10]   "
   ]
  },
  {
   "cell_type": "code",
   "execution_count": 72,
   "metadata": {},
   "outputs": [
    {
     "name": "stdout",
     "output_type": "stream",
     "text": [
      "20 20 20 20 20\n"
     ]
    }
   ],
   "source": [
    "print(len(company_names),len(number_of_salaries),len(Average_salary),len(Min_salary),len(Max_Salary))"
   ]
  },
  {
   "cell_type": "code",
   "execution_count": 73,
   "metadata": {},
   "outputs": [],
   "source": [
    "Glassdoor=pd.DataFrame({})\n",
    "Glassdoor['company_names']=company_names[:10]\n",
    "Glassdoor['number_of_salaries']=number_of_salaries[:10]\n",
    "Glassdoor['Average_salary']=Average_salary[:10]\n",
    "Glassdoor['Min_salary']=Min_salary[:10]\n",
    "Glassdoor['Max_Salary']=Max_Salary[:10]"
   ]
  },
  {
   "cell_type": "code",
   "execution_count": 74,
   "metadata": {},
   "outputs": [
    {
     "data": {
      "text/html": [
       "<div>\n",
       "<style scoped>\n",
       "    .dataframe tbody tr th:only-of-type {\n",
       "        vertical-align: middle;\n",
       "    }\n",
       "\n",
       "    .dataframe tbody tr th {\n",
       "        vertical-align: top;\n",
       "    }\n",
       "\n",
       "    .dataframe thead th {\n",
       "        text-align: right;\n",
       "    }\n",
       "</style>\n",
       "<table border=\"1\" class=\"dataframe\">\n",
       "  <thead>\n",
       "    <tr style=\"text-align: right;\">\n",
       "      <th></th>\n",
       "      <th>company_names</th>\n",
       "      <th>number_of_salaries</th>\n",
       "      <th>Average_salary</th>\n",
       "      <th>Min_salary</th>\n",
       "      <th>Max_Salary</th>\n",
       "    </tr>\n",
       "  </thead>\n",
       "  <tbody>\n",
       "    <tr>\n",
       "      <th>0</th>\n",
       "      <td>Delhivery</td>\n",
       "      <td>13 salaries</td>\n",
       "      <td>₹ 12,64,182/yr</td>\n",
       "      <td>₹450K</td>\n",
       "      <td>₹11,630K</td>\n",
       "    </tr>\n",
       "    <tr>\n",
       "      <th>1</th>\n",
       "      <td>Ericsson-Worldwide</td>\n",
       "      <td>11 salaries</td>\n",
       "      <td>₹ 7,41,935/yr</td>\n",
       "      <td>₹420K</td>\n",
       "      <td>₹1,614K</td>\n",
       "    </tr>\n",
       "    <tr>\n",
       "      <th>2</th>\n",
       "      <td>Tata Consultancy Services</td>\n",
       "      <td>10 salaries</td>\n",
       "      <td>₹ 5,99,668/yr</td>\n",
       "      <td>₹336K</td>\n",
       "      <td>₹1,010K</td>\n",
       "    </tr>\n",
       "    <tr>\n",
       "      <th>3</th>\n",
       "      <td>Accenture</td>\n",
       "      <td>10 salaries</td>\n",
       "      <td>₹ 9,94,055/yr</td>\n",
       "      <td>₹577K</td>\n",
       "      <td>₹2,215K</td>\n",
       "    </tr>\n",
       "    <tr>\n",
       "      <th>4</th>\n",
       "      <td>IBM</td>\n",
       "      <td>10 salaries</td>\n",
       "      <td>₹ 7,39,040/yr</td>\n",
       "      <td>₹587K</td>\n",
       "      <td>₹2,732K</td>\n",
       "    </tr>\n",
       "    <tr>\n",
       "      <th>5</th>\n",
       "      <td>UnitedHealth Group</td>\n",
       "      <td>9 salaries</td>\n",
       "      <td>₹ 13,37,114/yr</td>\n",
       "      <td>₹717K</td>\n",
       "      <td>₹1,575K</td>\n",
       "    </tr>\n",
       "    <tr>\n",
       "      <th>6</th>\n",
       "      <td>Valiance Solutions</td>\n",
       "      <td>8 salaries</td>\n",
       "      <td>₹ 7,80,374/yr</td>\n",
       "      <td>₹502K</td>\n",
       "      <td>₹1,152K</td>\n",
       "    </tr>\n",
       "    <tr>\n",
       "      <th>7</th>\n",
       "      <td>Innovaccer</td>\n",
       "      <td>7 salaries</td>\n",
       "      <td>₹ 11,98,792/yr</td>\n",
       "      <td>₹621K</td>\n",
       "      <td>₹1,696K</td>\n",
       "    </tr>\n",
       "    <tr>\n",
       "      <th>8</th>\n",
       "      <td>Cognizant Technology Solutions</td>\n",
       "      <td>6 salaries</td>\n",
       "      <td>₹ 10,08,143/yr</td>\n",
       "      <td>₹793K</td>\n",
       "      <td>₹1,264K</td>\n",
       "    </tr>\n",
       "    <tr>\n",
       "      <th>9</th>\n",
       "      <td>EXL Service</td>\n",
       "      <td>6 salaries</td>\n",
       "      <td>₹ 11,34,989/yr</td>\n",
       "      <td>₹576K</td>\n",
       "      <td>₹1,500K</td>\n",
       "    </tr>\n",
       "  </tbody>\n",
       "</table>\n",
       "</div>"
      ],
      "text/plain": [
       "                    company_names number_of_salaries  Average_salary  \\\n",
       "0                       Delhivery        13 salaries  ₹ 12,64,182/yr   \n",
       "1              Ericsson-Worldwide        11 salaries   ₹ 7,41,935/yr   \n",
       "2       Tata Consultancy Services        10 salaries   ₹ 5,99,668/yr   \n",
       "3                       Accenture        10 salaries   ₹ 9,94,055/yr   \n",
       "4                             IBM        10 salaries   ₹ 7,39,040/yr   \n",
       "5              UnitedHealth Group         9 salaries  ₹ 13,37,114/yr   \n",
       "6              Valiance Solutions         8 salaries   ₹ 7,80,374/yr   \n",
       "7                      Innovaccer         7 salaries  ₹ 11,98,792/yr   \n",
       "8  Cognizant Technology Solutions         6 salaries  ₹ 10,08,143/yr   \n",
       "9                     EXL Service         6 salaries  ₹ 11,34,989/yr   \n",
       "\n",
       "  Min_salary Max_Salary  \n",
       "0      ₹450K   ₹11,630K  \n",
       "1      ₹420K    ₹1,614K  \n",
       "2      ₹336K    ₹1,010K  \n",
       "3      ₹577K    ₹2,215K  \n",
       "4      ₹587K    ₹2,732K  \n",
       "5      ₹717K    ₹1,575K  \n",
       "6      ₹502K    ₹1,152K  \n",
       "7      ₹621K    ₹1,696K  \n",
       "8      ₹793K    ₹1,264K  \n",
       "9      ₹576K    ₹1,500K  "
      ]
     },
     "execution_count": 74,
     "metadata": {},
     "output_type": "execute_result"
    }
   ],
   "source": [
    "Glassdoor"
   ]
  },
  {
   "cell_type": "code",
   "execution_count": null,
   "metadata": {},
   "outputs": [],
   "source": []
  }
 ],
 "metadata": {
  "kernelspec": {
   "display_name": "Python 3",
   "language": "python",
   "name": "python3"
  },
  "language_info": {
   "codemirror_mode": {
    "name": "ipython",
    "version": 3
   },
   "file_extension": ".py",
   "mimetype": "text/x-python",
   "name": "python",
   "nbconvert_exporter": "python",
   "pygments_lexer": "ipython3",
   "version": "3.8.3"
  }
 },
 "nbformat": 4,
 "nbformat_minor": 4
}
