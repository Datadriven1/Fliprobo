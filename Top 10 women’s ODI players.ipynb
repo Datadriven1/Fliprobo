{
 "cells": [
  {
   "cell_type": "markdown",
   "metadata": {},
   "source": [
    "# Top 10 women’s ODI players"
   ]
  },
  {
   "cell_type": "code",
   "execution_count": 1,
   "metadata": {},
   "outputs": [
    {
     "name": "stdout",
     "output_type": "stream",
     "text": [
      "Requirement already satisfied: bs4 in c:\\users\\bhupe\\anaconda3\\lib\\site-packages (0.0.1)\n",
      "Requirement already satisfied: beautifulsoup4 in c:\\users\\bhupe\\anaconda3\\lib\\site-packages (from bs4) (4.9.1)\n",
      "Requirement already satisfied: soupsieve>1.2 in c:\\users\\bhupe\\anaconda3\\lib\\site-packages (from beautifulsoup4->bs4) (2.0.1)\n",
      "Requirement already satisfied: requests in c:\\users\\bhupe\\anaconda3\\lib\\site-packages (2.24.0)\n",
      "Requirement already satisfied: certifi>=2017.4.17 in c:\\users\\bhupe\\anaconda3\\lib\\site-packages (from requests) (2020.6.20)\n",
      "Requirement already satisfied: chardet<4,>=3.0.2 in c:\\users\\bhupe\\anaconda3\\lib\\site-packages (from requests) (3.0.4)\n",
      "Requirement already satisfied: idna<3,>=2.5 in c:\\users\\bhupe\\anaconda3\\lib\\site-packages (from requests) (2.10)\n",
      "Requirement already satisfied: urllib3!=1.25.0,!=1.25.1,<1.26,>=1.21.1 in c:\\users\\bhupe\\anaconda3\\lib\\site-packages (from requests) (1.25.9)\n"
     ]
    }
   ],
   "source": [
    "!pip install bs4\n",
    "!pip install requests\n",
    "\n",
    "import warnings\n",
    "warnings.filterwarnings('ignore')"
   ]
  },
  {
   "cell_type": "code",
   "execution_count": 2,
   "metadata": {},
   "outputs": [],
   "source": [
    "from bs4 import BeautifulSoup\n",
    "import requests\n",
    "import pandas as pd"
   ]
  },
  {
   "cell_type": "code",
   "execution_count": 3,
   "metadata": {},
   "outputs": [
    {
     "data": {
      "text/plain": [
       "<Response [200]>"
      ]
     },
     "execution_count": 3,
     "metadata": {},
     "output_type": "execute_result"
    }
   ],
   "source": [
    "page=requests.get('https://www.icc-cricket.com/rankings/womens/player-rankings/odi/batting')\n",
    "page"
   ]
  },
  {
   "cell_type": "code",
   "execution_count": 4,
   "metadata": {},
   "outputs": [
    {
     "data": {
      "text/plain": [
       "b'<!DOCTYPE html>\\n<html lang=\"en\">\\n<head>\\n\\n    <meta name=\"twitter:title\" content=\"Live Cricket Scores & News International Cricket Council\"/>\\n<meta property=\"og:type\" content=\"website\"/>\\n<meta property=\"twitter:card\" content=\"summary_large_image\"/>\\n<meta name=\"description\" content=\"Official ICC Cricket website - live matches, scores, news, highlights, commentary, rankings, videos and fixtures from the International Cricket Council.\"/>\\n<meta property=\"twitter:site\" content=\"@icc\"/>\\n<meta name=\"twitter:description\" content=\"Official ICC Cricket website - live matches, scores, news, highlights, commentary, rankings, videos and fixtures from the International Cricket Council.\"/>\\n<meta name=\"twitter:image\" content=\"https://www.icc-cricket.com/resources/ver/i/elements/default-thumbnail.jpg\"/>\\n<meta property=\"og:title\" content=\"Live Cricket Scores & News International Cricket Council\"/>\\n<meta property=\"og:image\" content=\"https://www.icc-cricket.com/resources/ver/i/elements/default-thumbnail.jpg\"/>\\n<title>Live Cricket Scores & News International Cricket Council</title>\\n<meta property=\"og:description\" content=\"Official ICC Cricket website - live matches, scores, news, highlights, commentary, rankings, videos and fixtures from the International Cricket Council.\"/>\\n\\n\\t<!-- Designed and built by Pulselive - www.pulselive.com -->\\n    \\n<script>\\n\\n    var dataLayer = [{\\n        \\'user_language\\':\\'English\\',\\n        \\'web_domain\\':\\'www.icc-cricket.com\\',\\n        \\'page_type\\':\\'/rankings/womens/player-rankings/odi/batting\\'  \\n    }];\\n\\n</script>\\n\\n<!-- Google Tag Manager -->\\n<script>(function(w,d,s,l,i){w[l]=w[l]||[];w[l].push({\\'gtm.start\\':\\nnew Date().getTime(),event:\\'gtm.js\\'});var f=d.getElementsByTagName(s)[0],\\nj=d.createElement(s),dl=l!=\\'dataLayer\\'?\\'&l=\\'+l:\\'\\';j.async=true;j.src=\\n\\'https://www.googletagmanager.com/gtm.js?id=\\'+i+dl;f.parentNode.insertBefore(j,f);\\n})(window,document,\\'script\\',\\'dataLayer\\',\\'GTM-T7DPH24\\');</script>\\n<!-- End Google Tag Manager -->\\n\\n\\n    <meta charset=\"UTF-8\">\\n    <meta name=\"viewport\" content=\"width=device-width, initial-scale=1\">\\n    <meta name=\"apple-itunes-app\" content=\"app-id=956440606\"/>\\n\\n    <link rel=\"manifest\" href=\"/resources/prod/v8.15.0/manifest.json\">\\n\\n    <link rel=\"shortcut icon\" href=\"/resources/prod/v8.15.0/i/elements/favicon.ico\" />\\n\\n    <link rel=\"publisher\" href=\"https://plus.google.com/+ICC\">\\n\\n    \\n\\n\\n\\n    <title>International Cricket Council</title>\\n\\n    \\n\\n<!-- google platform library -->\\n<script src=\"https://apis.google.com/js/api:client.js?onload=startApp\" async defer></script>\\n\\n<script>\\n\\n    var startApp = function() {\\n        gapi.load(\\'auth2\\', function(){\\n            // Retrieve the singleton for the GoogleAuth library and set up the client.\\n            auth2 = gapi.auth2.init({\\n                client_id: \\'844310787835-1rirg6e5plp2jou6v701br43iuo0lkcu.apps.googleusercontent.com\\'\\n                // Request scopes in addition to \\'profile\\' and \\'email\\'\\n                //scope: \\'additional_scope\\'\\n            });\\n        });\\n    };\\n</script>\\n\\n\\n    <link href=\"https://fonts.googleapis.com/css?family=Hind+Siliguri:300,400,500,600\" rel=\"stylesheet\">\\n\\n    <!-- Polyfill service provided by the FT - https://github.com/Financial-Times/polyfill-service -->\\n\\t<script src=\"https://cdn.polyfill.io/v2/polyfill.min.js?features=default,fetch\"></script>\\n\\n    <link rel=\"stylesheet\" href=\"/resources/prod/v8.15.0/styles/screen.css\" />\\n\\n    <script>\\n\\t\\twindow.RESOURCE_VERSION = \\'prod/v8.15.0\\';\\n\\t</script>\\n\\n</head>\\n<body>\\n\\n    \\n<!-- Google Tag Manager (noscript) -->\\n<noscript><iframe src=\"https://www.googletagmanager.com/ns.html?id=GTM-T7DPH24\"\\nheight=\"0\" width=\"0\" style=\"display:none;visibility:hidden\"></iframe></noscript>\\n<!-- End Google Tag Manager (noscript) -->\\n\\n<div class=\"u-hide\" data-widget=\"analytics-geolocation\" data-script=\"icc_analytics-geolocation\"></div>\\n\\n<!--\\n    Start of Floodlight Tag: Please do not removeActivity name of this tag: ICC Website - VisitationURL of the webpage where the tag is expected to be placed: This tag must be placed between the <body> and </body> tags, as close as possible to the opening tag. Creation Date: 10/01/2019\\n-->\\n\\n<iframe src=\"https://9282652.fls.doubleclick.net/activityi;src=9282652;type=iccre0;cat=iccwe0;u1=[user_language];u2=[user_country];u3=[page_type];u4=[web_domain];dc_lat=;dc_rdid=;tag_for_child_directed_treatment=;tfua=;npa=;ord=[SessionID]?\" width=\"1\" height=\"1\" frameborder=\"0\" style=\"display:none\"></iframe>\\n\\n<!-- End of Floodlight Tag: Please do not remove -->\\n\\n    \\n\\n<script>\\n    window.fbAsyncInit = function() {\\n        FB.init({\\n            appId            : 159513024983374,\\n            autoLogAppEvents : true,\\n            xfbml            : true,\\n            version          : \\'v3.0\\'\\n        });\\n    };\\n\\n    (function(d, s, id){\\n        var js, fjs = d.getElementsByTagName(s)[0];\\n        if (d.getElementById(id)) {return;}\\n        js = d.createElement(s); js.id = id;\\n        js.src = \"https://connect.facebook.net/en_US/sdk.js\";\\n        fjs.parentNode.insertBefore(js, fjs);\\n    }(document, \\'script\\', \\'facebook-jssdk\\'));\\n</script>\\n\\n\\n    \\n<div class=\"user-account-overlay js-user-account-overlay\"></div>\\n<section class=\"user-account js-user-account\" data-script=\"sso_user-account\" data-widget=\"user-account\">\\n\\n    <div class=\"user-account__wrapper js-panel-account u-hide\">\\n\\n        <div class=\"user-account__header\">\\n\\n            <div class=\"user-account__close js-account-slider-close-btn\" role=\"button\">\\n                <svg class=\"icon\"><use xmlns:xlink=\"http://www.w3.org/1999/xlink\" xlink:href=\"/resources/prod/v8.15.0/i/svg-output/icons.svg#icn-close\"></use></svg>\\n            </div>\\n\\n            <div class=\"user-account__user-wrapper\">\\n                <div class=\"user-account__image\">\\n                    <img src=\"#\" class=\"u-hide js-account-user-img\" alt=\"User Image\">\\n                </div>\\n                <div class=\"user-account__user-info\">\\n                    <p class=\"user-account__user-info__text js-account-user\">Name Lastname</p>\\n                    <p class=\"user-account__user-info__profile js-profile-completion-info u-hide\">\\n                        <svg class=\"icon\"><use xmlns:xlink=\"http://www.w3.org/1999/xlink\" xlink:href=\"/resources/prod/v8.15.0/i/svg-output/icons.svg#icn-alert\"></use></svg>\\n                        Profile <span class=\"js-profile-completion-percentage\"></span>% Complete\\n                    </p>\\n                </div>\\n            </div>\\n\\n            <div class=\"user-account__tabs-nav js-tabs-wrapper\"></div>\\n        </div>\\n\\n        <div class=\"account-message js-account-message\"></div>\\n\\n        <form id=\"user-account\" name=\"user-account\" autocomplete=\"off\">\\n\\n            <div data-ui-tab=\"My Account\" class=\"user-account__tab\">\\n                <div class=\"user-account__social-wrapper js-social-wrapper u-hide\"></div>\\n\\n<fieldset>\\n\\n    <div class=\"form-group-multiple\">\\n        <div class=\"form-group\">\\n            <label class=\"form-group__label\" for=\"given_name\">First name *</label>\\n            <input class=\"form-group__element\" type=\"text\" required name=\"given_name\" id=\"given_name\" pattern=\"^[A-Za-z-\\\\s]+$\" maxlength=\"50\"/>\\n            <p class=\"js-error form-error\"></p>\\n        </div>\\n\\n        <div class=\"form-group\">\\n            <label class=\"form-group__label\" for=\"family_name\">Last name *</label>\\n            <input class=\"form-group__element\" type=\"text\" required name=\"family_name\" id=\"family_name\" pattern=\"[A-Za-z-\\\\s]+$\" maxlength=\"50\"/>\\n            <p class=\"js-error form-error\"></p>\\n        </div>\\n    </div>\\n\\n    <div class=\"form-group-multiple form-group-multiple--with-button\">\\n        <div class=\"form-group is-disabled js-change-email-input\">\\n            <label class=\"form-group__label\" for=\"email\">Email address *</label>\\n            <input class=\"form-group__element\" type=\"email\" name=\"email\" id=\"email\" autocomplete=\"off\" maxlength=\"50\" disabled/>\\n            <p class=\"js-error form-error\"></p>\\n            <p class=\"js-email-exists form-error form-error--email\">Email address not available.</p>\\n        </div>\\n        <div class=\"form-group form-group--button\">\\n            <button class=\"form-btn form-btn--outlined js-change-email\" type=\"button\" novalidate>Change Email</button>\\n        </div>\\n    </div>\\n\\n    <div class=\"form-group-multiple form-group-multiple--with-button js-account-password\">\\n        <div class=\"form-group is-disabled js-change-password-input\">\\n            <label class=\"form-group__label\" for=\"password\">Password *</label>\\n            <input class=\"form-group__element\" type=\"password\" name=\"password\" id=\"password\" placeholder=\"******\" autocomplete=\"off\" disabled/>\\n            <p class=\"js-error form-error\"></p>\\n        </div>\\n        <div class=\"form-group form-group--button\">\\n            <button class=\"form-btn form-btn--outlined js-change-password\" type=\"button\" novalidate>Change Password</button>\\n        </div>\\n    </div>\\n\\n    <div class=\"form-block form-block\">\\n        <div class=\"form-block__label form-block__label--dob\">Date of Birth</div>\\n\\n        <div class=\"form-group-multiple\">\\n            <div class=\"form-group\">\\n                <label class=\"form-group__label\" for=\"day\">Day *</label>\\n                <input class=\"form-group__element\" type=\"number\" required name=\"day\" placeholder=\"dd\" id=\"day\" min=\"0\" />\\n                <p class=\"js-error form-error\"></p>\\n\\n            </div>\\n            <div class=\"form-group\">\\n                <label class=\"form-group__label\" for=\"month\">Month *</label>\\n                <input class=\"form-group__element\" type=\"number\" required name=\"month\" placeholder=\"mm\" id=\"month\" min=\"0\"/>\\n                <p class=\"js-error form-error\"></p>\\n            </div>\\n            <div class=\"form-group\">\\n                <label class=\"form-group__label\" for=\"year\">Year *</label>\\n                <input class=\"form-group__element\" type=\"number\" required name=\"year\" placeholder=\"yyyy\" id=\"year\" min=\"0\"/>\\n                <p class=\"js-error form-error\"></p>\\n            </div>\\n        </div>\\n        <p class=\"js-date-error form-error form-error--date\">The date of birth is not valid</p>\\n    </div>\\n\\n    <div class=\"form-block\" data-widget=\"form-dropdown\" data-dropdown-type=\"SSO_COUNTRY\">\\n        <div class=\"form-block__label\">Country of residence</div>\\n        <div class=\"form-dropdown js-dropdown-wrapper\"></div>\\n    </div>\\n\\n</fieldset>\\n\\n            </div>\\n            <div data-ui-tab=\"My Preferences\" class=\"user-account__tab\">\\n                <div class=\"js-account-prefs u-hide\">\\n    <fieldset>\\n\\n        <div class=\"form-block\" data-widget=\"form-dropdown\" data-dropdown-type=\"SSO_TEAM\">\\n            <div class=\"form-block__label\">Your favourite team</div>\\n            <div class=\"form-dropdown js-dropdown-wrapper\"></div>\\n        </div>\\n\\n        <div class=\"js-contact-prefs user-account__contact-prefs-wrapper\">\\n\\n            <div class=\"user-account__alert\">\\n                <svg class=\"icon\"><use xmlns:xlink=\"http://www.w3.org/1999/xlink\" xlink:href=\"/resources/prod/v8.15.0/i/svg-output/icons.svg#icn-alert\"></use></svg>\\n                <span>Sorry, but your contact preferences will take up to 24hrs to update</span>\\n            </div>\\n\\n            <div class=\"user-account__contact-prefs\">\\n                <div class=\"form-block form-block--no-margin\">\\n                    <div class=\"form-group form-group--checkbox\">\\n                        <input class=\"form-group__element\" type=\"checkbox\" name=\"allow-contacting\" id=\"allow-contacting\"/>\\n                        <label class=\"form-group__label\" for=\"allow-contacting\">I\\'m happy for the ICC to contact me</label>\\n                    </div>\\n                    <p class=\"js-error form-error\"></p>\\n                </div>\\n\\n                <div class=\"form-block form-block--no-margin\">\\n                    <div class=\"form-group form-group--checkbox\">\\n                        <input class=\"form-group__element\" type=\"checkbox\" name=\"allow-partner-contacting\" id=\"allow-partner-contacting\"/>\\n                        <label class=\"form-group__label\" for=\"allow-partner-contacting\">I\\'m happy for the ICC\\'s partners to contact me</label>\\n                    </div>\\n                    <p class=\"js-error form-error\"></p>\\n                </div>\\n            </div>\\n\\n        </div>\\n\\n    </fieldset>\\n</div>\\n\\n<div class=\"overlay__loader__small js-loader-prefs\">\\n    Hold on! Loading your preferences <div class=\"loader loader--small\"></div>\\n</div>\\n\\n            </div>\\n\\n            <div class=\"user-account__buttons-wrapper\">\\n                <div class=\"user-account__account-actions js-buttons-wrapper\">\\n                    <button class=\"form-btn form-btn--grey is-disabled js-cancel\" disabled>Cancel</button>\\n                    <button class=\"form-btn is-disabled js-submit\" type=\"submit\" disabled>Save Changes</button>\\n                    <div class=\"loader js-loader u-hide\"></div>\\n                </div>\\n                <button class=\"form-btn form-btn--grey js-account-signout u-show-tablet\">Sign Out<svg class=\"icon\"><use xmlns:xlink=\"http://www.w3.org/1999/xlink\" xlink:href=\"/resources/prod/v8.15.0/i/svg-output/icons.svg#icn-sign-out\"></use></svg></button>\\n            </div>\\n        </form>\\n\\n    </div>\\n\\n    <div class=\"user-account__wrapper js-panel-account-password u-hide\">\\n        <form id=\"account-edit-password\" name=\"account-edit-password\" novalidate>\\n    <div class=\"user-account__tabs-wrapper\">\\n\\n        <h1 class=\"overlay__title\">\\n            Edit your password\\n            <span class=\"overlay__title__option\"><a href=\"#\" class=\"form-cta js-cancel-password\">back</a></span>\\n        </h1>\\n\\n        <div class=\"form-group form-group--password\">\\n            <div class=\"form-group__password-action js-toggle-password\">Show</div>\\n            <label class=\"form-group__label\" for=\"current-password\">Current Password *</label>\\n            <input class=\"form-group__element\" type=\"password\" required name=\"current-password\" id=\"current-password\" />\\n            <p class=\"js-error form-error\"></p>\\n            <p class=\"js-current-pwd-error form-error form-error--email\">Invalid current password</p>\\n        </div>\\n\\n        <a class=\"form-cta form-cta--right\" href=\"/forgot-password\">Forgot password?</a>\\n\\n        <div class=\"form-block\">\\n            <div class=\"form-group form-group--password\">\\n                <div class=\"form-group__password-action js-toggle-password\">Show</div>\\n                <label class=\"form-group__label\" for=\"new-password\">New password *</label>\\n                <input class=\"form-group__element\" type=\"password\" required name=\"new-password\" id=\"new-password\" />\\n                <div class=\"form-block__verify-password form-block__verify-password--slider js-verify-password\">\\n                    Password must include...\\n                    <ul class=\"form-block__verify-list\">\\n                        <li class=\"js-verify-length\">8 or more characters</li>\\n                        <li class=\"js-verify-letters\">At least one upper and lower case letter</li>\\n                        <li class=\"js-verify-number\">At least one number or symbol</li>\\n                    </ul>\\n                </div>\\n                <p class=\"js-error form-error\"></p>\\n                <p class=\"js-new-pwd-error form-error form-error--email\">The new password needs to be different than the current one.</p>\\n            </div>\\n        </div>\\n\\n        <div class=\"form-group form-group--password\">\\n            <div class=\"form-group__password-action js-toggle-password\">Show</div>\\n            <label class=\"form-group__label\" for=\"confirm-password\">Confirm new password *</label>\\n            <input class=\"form-group__element\" type=\"password\" required name=\"confirm-password\" id=\"confirm-password\" />\\n            <p class=\"js-error form-error\"></p>\\n            <p class=\"js-confirm-pwd-error form-error form-error--email\">The confirmation does not match your new password</p>\\n        </div>\\n    </div>\\n\\n    <div class=\"user-account__buttons-wrapper\">\\n        <div class=\"user-account__account-actions\">\\n            <button class=\"form-btn form-btn--grey js-cancel-password\" type=\"button\">Cancel</button>\\n            <button class=\"form-btn is-disabled js-submit-password\" type=\"submit\" disabled>Change Password</button>\\n            <div class=\"loader js-password-loader u-hide\"></div>\\n        </div>\\n    </div>\\n</form>\\n\\n    </div>\\n\\n</section>\\n\\n\\n<div class=\"js-mobile-banner mobile-banner \" data-widget=\"mobile-banner\">\\n    <div class=\"wrapper\">\\n        <div class=\"col-12\">\\n            <div class=\"mobile-banner__wrapper\">\\n                <p class=\"mobile-banner__header\">Official ICC App</p>\\n                <p class=\"mobile-banner__subheader\"><strong>Your App for international cricket.</strong> The official ICC app provides coverage across all of the current international action including fixtures, results, videos, ICC news, rankings and more. Don\\xe2\\x80\\x99t miss a moment and keep up with the latest from around the world of cricket!</p>\\n                <div class=\"mobile-banner__app-buttons\">\\n                    <a target=\"_blank\" href=\"https://www.icc-cricket.com/mobile\" class=\"btn\">Find Out More</a>\\n                </div>\\n            </div>\\n        </div>\\n    </div>\\n    <a class=\"mobile-banner__close js-mobile-banner-close\">\\n        <svg class=\"icon\"><use xmlns:xlink=\"http://www.w3.org/1999/xlink\" xlink:href=\"/resources/prod/v8.15.0/i/svg-output/icons.svg#icn-close\"></use></svg>\\n    </a>\\n</div>\\n\\n\\t<div class=\"global-header \">\\n\\t\\t<ul class=\"global-header__list\">\\n                    <li class=\"global-header__item \">\\n            \\t\\t\\t<a href=\"http://www.icctravelandtours.com/\" class=\"global-header__link\"><svg class=\"icon plane\"><use xmlns:xlink=\"http://www.w3.org/1999/xlink\" xlink:href=\"/resources/prod/v8.15.0/i/svg-output/icons.svg#icn-plane\"></use></svg>ICC Travel & Tours</a>\\n            \\t\\t</li>\\n                    <li class=\"global-header__item \">\\n            \\t\\t\\t<a href=\"https://tickets.t20worldcup.com/content/wt20/home.aspx\" class=\"global-header__link\"><svg class=\"icon tickets\"><use xmlns:xlink=\"http://www.w3.org/1999/xlink\" xlink:href=\"/resources/prod/v8.15.0/i/svg-output/icons.svg#icn-tickets\"></use></svg>ICC Tickets</a>\\n            \\t\\t</li>\\n                    <li class=\"global-header__item \">\\n            \\t\\t\\t<a href=\"https://www.t20worldcupshop.com/\" class=\"global-header__link\"><svg class=\"icon shopping-cart\"><use xmlns:xlink=\"http://www.w3.org/1999/xlink\" xlink:href=\"/resources/prod/v8.15.0/i/svg-output/icons.svg#icn-shopping-cart\"></use></svg>T20 Shop</a>\\n            \\t\\t</li>\\n\\t\\t</ul>\\n\\t\\t\\n    <ul class=\"global-header-social__list\">\\n            <li class=\"global-header-social__item\">\\n                <a href=\"https://www.facebook.com/icc/\" class=\"global-header-social__link global-header-social__link--facebook-f\" target=\"_blank\">\\n                    <svg class=\"icon\"><use xmlns:xlink=\"http://www.w3.org/1999/xlink\" xlink:href=\"/resources/prod/v8.15.0/i/svg-output/icons.svg#icn-facebook-f\"></use></svg>\\n                </a>\\n            </li>\\n            <li class=\"global-header-social__item\">\\n                <a href=\"https://twitter.com/ICC\" class=\"global-header-social__link global-header-social__link--twitter\" target=\"_blank\">\\n                    <svg class=\"icon\"><use xmlns:xlink=\"http://www.w3.org/1999/xlink\" xlink:href=\"/resources/prod/v8.15.0/i/svg-output/icons.svg#icn-twitter\"></use></svg>\\n                </a>\\n            </li>\\n            <li class=\"global-header-social__item\">\\n                <a href=\"https://www.instagram.com/icc/\" class=\"global-header-social__link global-header-social__link--instagram\" target=\"_blank\">\\n                    <svg class=\"icon\"><use xmlns:xlink=\"http://www.w3.org/1999/xlink\" xlink:href=\"/resources/prod/v8.15.0/i/svg-output/icons.svg#icn-instagram\"></use></svg>\\n                </a>\\n            </li>\\n            <li class=\"global-header-social__item\">\\n                <a href=\"https://www.youtube.com/user/CricketICC\" class=\"global-header-social__link global-header-social__link--youtube\" target=\"_blank\">\\n                    <svg class=\"icon\"><use xmlns:xlink=\"http://www.w3.org/1999/xlink\" xlink:href=\"/resources/prod/v8.15.0/i/svg-output/icons.svg#icn-youtube\"></use></svg>\\n                </a>\\n            </li>\\n    </ul>\\n\\n\\t\\t<div class=\"global-header__sso\" data-script=\"icc_global-header\" data-widget=\"user-login\">\\n    <a href=\"/sign-in\" class=\"btn btn--account btn--icon js-nav-default is-transitioning\">\\n        <svg class=\"icon\"><use xmlns:xlink=\"http://www.w3.org/1999/xlink\" xlink:href=\"/resources/prod/v8.15.0/i/svg-output/icons.svg#icn-account\"></use></svg>\\n        Sign In / Create Account\\n        <span class=\"btn__loading-bar\"></span>\\n    </a>\\n    <div class=\"global-header__sign-in js-nav-signedin u-hide\">\\n\\n        <div class=\"global-header__user-message js-nav-user\" tabindex=\"0\" role=\"button\">\\n            <div class=\"global-header__image-container\">\\n                <img src=\"#\" class=\"u-hide js-nav-user-img\" alt=\"User Image\">\\n            </div>\\n            <div class=\"global-header__username\">Welcome back, <span class=\"js-nav-user-text\"></span></div>\\n        </div>\\n\\n        <ul class=\"global-header__dropdown global-header__user-dropdown js-dropdown\">\\n            <li class=\"global-header__dropdown-item\"><a href=\"#\" class=\"js-nav-account\">Account</a></li>\\n            <li class=\"global-header__dropdown-item global-header__dropdown-item--signout\">\\n                <a href=\"#\" class=\"js-nav-logout\">Sign Out</a>\\n                <svg class=\"icon\"><use xmlns:xlink=\"http://www.w3.org/1999/xlink\" xlink:href=\"/resources/prod/v8.15.0/i/svg-output/icons.svg#icn-sign-out\"></use></svg>\\n            </li>\\n        </ul>\\n\\n    </div>\\n</div>\\n\\n\\t</div>\\n\\n\\n\\n    <div class=\"global-navigation\">\\n        <div class=\"global-navigation__default-bg\"></div>\\n        <div class=\"global-navigation__fixed-container\" data-script=\"icc_global-navigation\" data-widget=\"global-navigation\">\\n        \\t<nav class=\"global-navigation__main js-global-navigation is-open\" data-widget=\"scroll-boundary\" data-active-class=\"is-fixed\">\\n        \\t\\t<a href=\"/home-page\" class=\"global-navigation__branding\">\\n        \\t\\t\\t<div class=\"icn icn-logo-icc\"></div>\\n        \\t\\t</a>\\n        \\t\\t<div role=\"button\" class=\"global-navigation__menu-button js-global-navigation-menu-button\">\\n        \\t\\t\\t<span class=\"global-navigation__menu-button-text global-navigation__menu-button-text--open\">Menu</span>\\n        \\t\\t\\t<span class=\"global-navigation__menu-button-text global-navigation__menu-button-text--close\">Close</span>\\n        \\t\\t\\t<div class=\"menu-button\">\\n        \\t            <div></div>\\n        \\t            <div></div>\\n        \\t            <div></div>\\n        \\t        </div>\\n        \\t\\t</div>\\n\\n        \\t\\t<div class=\"global-navigation__container js-global-navigation-container\">\\n        \\t\\t\\t<ul class=\"global-navigation__list\">\\n\\t<li tabindex=\"0\" class=\"global-navigation__item js-global-navigation-item #! global-navigation__item--home has-link \">\\n\\n\\t\\t<div role=\"button\" class=\"global-navigation__link\">\\n    \\t\\t\\t<a href=\"/\">Home\\n                </a>\\n\\t\\t</div>\\n\\t</li>\\n\\t<li tabindex=\"0\" class=\"global-navigation__item js-global-navigation-item #! global-navigation__item--live has-drop-down \">\\n\\n\\t\\t<div role=\"button\" class=\"global-navigation__link\">\\n\\t\\t         Live <svg class=\"icon\"><use xmlns:xlink=\"http://www.w3.org/1999/xlink\" xlink:href=\"/resources/prod/v8.15.0/i/svg-output/icons.svg#icn-chevron-down\"></use></svg>\\n\\t\\t\\t\\t<span class=\"global-navigation__live-counter js-match-counter-nav\"></span>\\n\\t\\t</div>\\n\\t\\t\\t<div class=\"global-navigation__drop-down\">\\n\\t\\t\\t\\t<ul class=\"global-navigation__drop-down-list\">\\n\\t\\t\\t\\t\\t\\t\\t<li class=\"global-navigation__drop-down-item \"><a href=\"/live-cricket/live\" class=\" global-navigation__drop-down-link js-global-navigation-drop-down-link \">Live Scores</a></li>\\n\\t\\t\\t\\t\\t\\t\\t<li class=\"global-navigation__drop-down-item \"><a href=\"/live-cricket/mens-results\" class=\" global-navigation__drop-down-link js-global-navigation-drop-down-link \">Men\\'s Results</a></li>\\n\\t\\t\\t\\t\\t\\t\\t<li class=\"global-navigation__drop-down-item \"><a href=\"/live-cricket/womens-results\" class=\" global-navigation__drop-down-link js-global-navigation-drop-down-link \">Women\\'s Results</a></li>\\n\\t\\t\\t\\t</ul>\\n\\t\\t\\t</div>\\n\\n\\t</li>\\n\\t<li tabindex=\"0\" class=\"global-navigation__item js-global-navigation-item #! has-drop-down \">\\n\\n\\t\\t<div role=\"button\" class=\"global-navigation__link\">\\n\\t\\t         Fixtures <svg class=\"icon\"><use xmlns:xlink=\"http://www.w3.org/1999/xlink\" xlink:href=\"/resources/prod/v8.15.0/i/svg-output/icons.svg#icn-chevron-down\"></use></svg>\\n\\t\\t</div>\\n\\t\\t\\t<div class=\"global-navigation__drop-down\">\\n\\t\\t\\t\\t<ul class=\"global-navigation__drop-down-list\">\\n\\t\\t\\t\\t\\t\\t\\t<li class=\"global-navigation__drop-down-item \"><a href=\"/mens-schedule/list\" class=\" global-navigation__drop-down-link js-global-navigation-drop-down-link \">Men\\'s Fixtures</a></li>\\n\\t\\t\\t\\t\\t\\t\\t<li class=\"global-navigation__drop-down-item \"><a href=\"/womens-schedule/list\" class=\" global-navigation__drop-down-link js-global-navigation-drop-down-link \">Women\\'s Fixtures</a></li>\\n\\t\\t\\t\\t</ul>\\n\\t\\t\\t</div>\\n\\n\\t</li>\\n\\t<li tabindex=\"0\" class=\"global-navigation__item js-global-navigation-item #! has-drop-down \">\\n\\n\\t\\t<div role=\"button\" class=\"global-navigation__link\">\\n\\t\\t         ICC Events <svg class=\"icon\"><use xmlns:xlink=\"http://www.w3.org/1999/xlink\" xlink:href=\"/resources/prod/v8.15.0/i/svg-output/icons.svg#icn-chevron-down\"></use></svg>\\n\\t\\t</div>\\n\\t\\t\\t<div class=\"global-navigation__drop-down\">\\n\\t\\t\\t\\t<ul class=\"global-navigation__drop-down-list\">\\n\\t\\t\\t\\t\\t\\t\\t<li class=\"global-navigation__drop-down-item \"><a href=\"/u19-world-cup/\" class=\" global-navigation__drop-down-link js-global-navigation-drop-down-link \">ICC U19 Cricket World Cup</a></li>\\n\\t\\t\\t\\t\\t\\t\\t<li class=\"global-navigation__drop-down-item \"><a href=\"/world-test-championship\" class=\" global-navigation__drop-down-link js-global-navigation-drop-down-link \">ICC World Test Championship</a></li>\\n\\t\\t\\t\\t\\t\\t\\t<li class=\"global-navigation__drop-down-item \"><a href=\"/t20-world-cup\" class=\" global-navigation__drop-down-link js-global-navigation-drop-down-link \">ICC T20 World Cup</a></li>\\n\\t\\t\\t\\t\\t\\t\\t<li class=\"global-navigation__drop-down-item \"><a href=\"http://www.cricketworldcup.com\" class=\" global-navigation__drop-down-link js-global-navigation-drop-down-link \">ICC Men\\'s Cricket World Cup</a></li>\\n\\t\\t\\t\\t\\t\\t\\t<li class=\"global-navigation__drop-down-item \"><a href=\"/womens-world-cup/\" class=\" global-navigation__drop-down-link js-global-navigation-drop-down-link \">ICC Women\\'s Cricket World Cup</a></li>\\n\\t\\t\\t\\t\\t\\t\\t<li class=\"global-navigation__drop-down-item \"><a href=\"/cricket-world-cup-super-league/fixtures\" class=\" global-navigation__drop-down-link js-global-navigation-drop-down-link \">ICC Men\\'s Cricket World Cup Super League</a></li>\\n\\t\\t\\t\\t\\t\\t\\t<li class=\"global-navigation__drop-down-item \"><a href=\"/cricket-world-cup-challenge-league/news\" class=\" global-navigation__drop-down-link js-global-navigation-drop-down-link \">ICC Men\\'s Cricket World Cup Challenge League</a></li>\\n\\t\\t\\t\\t\\t\\t\\t<li class=\"global-navigation__drop-down-item \"><a href=\"/cricket-world-cup-league-two/news\" class=\" global-navigation__drop-down-link js-global-navigation-drop-down-link \">ICC Men\\'s Cricket World Cup League 2</a></li>\\n\\t\\t\\t\\t\\t\\t\\t<li class=\"global-navigation__drop-down-item \"><a href=\"/womens-championship\" class=\" global-navigation__drop-down-link js-global-navigation-drop-down-link \">ICC Women\\'s Championship</a></li>\\n\\t\\t\\t\\t\\t\\t\\t<li class=\"global-navigation__drop-down-item \"><a href=\"/event-status\" class=\" global-navigation__drop-down-link js-global-navigation-drop-down-link \">Event status</a></li>\\n\\t\\t\\t\\t</ul>\\n\\t\\t\\t</div>\\n\\n\\t</li>\\n\\t<li tabindex=\"0\" class=\"global-navigation__item js-global-navigation-item #! has-drop-down \">\\n\\n\\t\\t<div role=\"button\" class=\"global-navigation__link\">\\n\\t\\t         Rankings <svg class=\"icon\"><use xmlns:xlink=\"http://www.w3.org/1999/xlink\" xlink:href=\"/resources/prod/v8.15.0/i/svg-output/icons.svg#icn-chevron-down\"></use></svg>\\n\\t\\t</div>\\n\\n\\t\\t\\t\\t<div class=\"global-navigation__drop-down global-navigation__drop-down--2-column\">\\n\\t\\t\\t\\t\\t<div class=\"global-navigation__drop-down-column\">\\n\\t\\t\\t\\t\\t\\t<div class=\"global-navigation__drop-down-title\">Men\\'s Ranking\\'s</div>\\n\\t\\t\\t\\t\\t\\t<ul class=\"global-navigation__drop-down-list\">\\n\\t\\t\\t\\t\\t\\t\\t\\t<li class=\"global-navigation__drop-down-item\"><a href=\"/rankings/mens/overview\" class=\" global-navigation__drop-down-link js-global-navigation-drop-down-link\">Overview</a></li>\\n\\t\\t\\t\\t\\t\\t\\t\\t<li class=\"global-navigation__drop-down-item\"><a href=\"/rankings/mens/team-rankings\" class=\" global-navigation__drop-down-link js-global-navigation-drop-down-link\">Team Rankings</a></li>\\n\\t\\t\\t\\t\\t\\t\\t\\t<li class=\"global-navigation__drop-down-item\"><a href=\"/rankings/mens/player-rankings\" class=\" global-navigation__drop-down-link js-global-navigation-drop-down-link\">Players Rankings</a></li>\\n\\t\\t\\t\\t\\t\\t\\t\\t<li class=\"global-navigation__drop-down-item\"><a href=\"/rankings/mens/player-rankings/comparison\" class=\" global-navigation__drop-down-link js-global-navigation-drop-down-link\">Player Comparison</a></li>\\n\\t\\t\\t\\t\\t\\t\\t\\t<li class=\"global-navigation__drop-down-item\"><a href=\"/rankings/mens/rankings-predictor/test\" class=\" global-navigation__drop-down-link js-global-navigation-drop-down-link\">Team Rankings Predictor</a></li>\\n\\t\\t\\t\\t\\t\\t\\t\\t<li class=\"global-navigation__drop-down-item\"><a href=\"/rankings/about\" class=\" global-navigation__drop-down-link js-global-navigation-drop-down-link\">About the Rankings</a></li>\\n\\t\\t\\t\\t\\t\\t\\t\\t<li class=\"global-navigation__drop-down-item\"><a href=\"/rankings/faqs\" class=\" global-navigation__drop-down-link js-global-navigation-drop-down-link\">Rankings FAQ</a></li>\\n\\t\\t\\t\\t\\t\\t</ul>\\n\\t\\t\\t\\t\\t</div>\\n\\t\\t\\t\\t\\t<div class=\"global-navigation__drop-down-column\">\\n\\t\\t\\t\\t\\t\\t<div class=\"global-navigation__drop-down-title\">Women\\'s Rankings</div>\\n\\t\\t\\t\\t\\t\\t<ul class=\"global-navigation__drop-down-list\">\\n\\t\\t\\t\\t\\t\\t\\t\\t<li class=\"global-navigation__drop-down-item\"><a href=\"/rankings/womens/overview\" class=\" global-navigation__drop-down-link js-global-navigation-drop-down-link\">Overview</a></li>\\n\\t\\t\\t\\t\\t\\t\\t\\t<li class=\"global-navigation__drop-down-item\"><a href=\"/rankings/womens/team-rankings\" class=\" global-navigation__drop-down-link js-global-navigation-drop-down-link\">Team Rankings</a></li>\\n\\t\\t\\t\\t\\t\\t\\t\\t<li class=\"global-navigation__drop-down-item\"><a href=\"/rankings/womens/player-rankings\" class=\" global-navigation__drop-down-link js-global-navigation-drop-down-link\">Player Rankings</a></li>\\n\\t\\t\\t\\t\\t\\t</ul>\\n\\t\\t\\t\\t\\t</div>\\n\\t\\t\\t\\t</div>\\n\\t</li>\\n\\t<li tabindex=\"0\" class=\"global-navigation__item js-global-navigation-item #! has-drop-down \">\\n\\n\\t\\t<div role=\"button\" class=\"global-navigation__link\">\\n\\t\\t         Teams <svg class=\"icon\"><use xmlns:xlink=\"http://www.w3.org/1999/xlink\" xlink:href=\"/resources/prod/v8.15.0/i/svg-output/icons.svg#icn-chevron-down\"></use></svg>\\n\\t\\t</div>\\n\\t\\t\\t<div class=\"global-navigation__drop-down\">\\n\\t\\t\\t\\t<ul class=\"global-navigation__drop-down-list\">\\n\\t\\t\\t\\t\\t\\t\\t<li class=\"global-navigation__drop-down-item \"><a href=\"https://www.icc-cricket.com/teams/men\" class=\" global-navigation__drop-down-link js-global-navigation-drop-down-link \">Men</a></li>\\n\\t\\t\\t\\t\\t\\t\\t<li class=\"global-navigation__drop-down-item \"><a href=\"https://www.icc-cricket.com/teams/women\" class=\" global-navigation__drop-down-link js-global-navigation-drop-down-link \">Women</a></li>\\n\\t\\t\\t\\t\\t\\t\\t<li class=\"global-navigation__drop-down-item \"><a href=\"https://www.icc-cricket.com/teams/u19\" class=\" global-navigation__drop-down-link js-global-navigation-drop-down-link \">U19</a></li>\\n\\t\\t\\t\\t</ul>\\n\\t\\t\\t</div>\\n\\n\\t</li>\\n\\t<li tabindex=\"0\" class=\"global-navigation__item js-global-navigation-item #! has-drop-down \">\\n\\n\\t\\t<div role=\"button\" class=\"global-navigation__link\">\\n\\t\\t         Video <svg class=\"icon\"><use xmlns:xlink=\"http://www.w3.org/1999/xlink\" xlink:href=\"/resources/prod/v8.15.0/i/svg-output/icons.svg#icn-chevron-down\"></use></svg>\\n\\t\\t</div>\\n\\t\\t\\t<div class=\"global-navigation__drop-down\">\\n\\t\\t\\t\\t<ul class=\"global-navigation__drop-down-list\">\\n\\t\\t\\t\\t\\t\\t\\t<li class=\"global-navigation__drop-down-item \"><a href=\"/video/vault\" class=\" global-navigation__drop-down-link js-global-navigation-drop-down-link \">ICC Vault</a></li>\\n\\t\\t\\t\\t\\t\\t\\t<li class=\"global-navigation__drop-down-item \"><a href=\"/video\" class=\" global-navigation__drop-down-link js-global-navigation-drop-down-link \">Video Home</a></li>\\n\\t\\t\\t\\t\\t\\t\\t<li class=\"global-navigation__drop-down-item \"><a href=\"/video/by-country\" class=\" global-navigation__drop-down-link js-global-navigation-drop-down-link \">Videos By Country</a></li>\\n\\t\\t\\t\\t\\t\\t\\t<li class=\"global-navigation__drop-down-item \"><a href=\"/video/events\" class=\" global-navigation__drop-down-link js-global-navigation-drop-down-link \">ICC Events</a></li>\\n\\t\\t\\t\\t\\t\\t\\t<li class=\"global-navigation__drop-down-item \"><a href=\"/video/cricket-360\" class=\" global-navigation__drop-down-link js-global-navigation-drop-down-link \">ICC Cricket 360\\xc2\\xb0</a></li>\\n\\t\\t\\t\\t\\t\\t\\t<li class=\"global-navigation__drop-down-item \"><a href=\"/video/what-is-cricket\" class=\" global-navigation__drop-down-link js-global-navigation-drop-down-link \">What is Cricket?</a></li>\\n\\t\\t\\t\\t</ul>\\n\\t\\t\\t</div>\\n\\n\\t</li>\\n\\t<li tabindex=\"0\" class=\"global-navigation__item js-global-navigation-item #! has-drop-down \">\\n\\n\\t\\t<div role=\"button\" class=\"global-navigation__link\">\\n\\t\\t         More <svg class=\"icon\"><use xmlns:xlink=\"http://www.w3.org/1999/xlink\" xlink:href=\"/resources/prod/v8.15.0/i/svg-output/icons.svg#icn-chevron-down\"></use></svg>\\n\\t\\t</div>\\n\\t\\t\\t<div class=\"global-navigation__drop-down\">\\n\\t\\t\\t\\t<ul class=\"global-navigation__drop-down-list\">\\n\\t\\t\\t\\t\\t\\t\\t<li class=\"global-navigation__drop-down-item global-nav__item--divider\"><a href=\"https://www.icc-cricket.com/about\" class=\" global-navigation__drop-down-link js-global-navigation-drop-down-link \">About ICC</a></li>\\n\\t\\t\\t\\t\\t\\t\\t<li class=\"global-navigation__drop-down-item \"><a href=\"/quiz\" class=\" global-navigation__drop-down-link js-global-navigation-drop-down-link \">Quiz</a></li>\\n\\t\\t\\t\\t\\t\\t\\t<li class=\"global-navigation__drop-down-item \"><a href=\"/awards/overview\" class=\" global-navigation__drop-down-link js-global-navigation-drop-down-link \">Awards</a></li>\\n\\t\\t\\t\\t\\t\\t\\t<li class=\"global-navigation__drop-down-item \"><a href=\"/hall-of-fame\" class=\" global-navigation__drop-down-link js-global-navigation-drop-down-link \">Hall of Fame</a></li>\\n\\t\\t\\t\\t\\t\\t\\t<li class=\"global-navigation__drop-down-item \"><a href=\"/social\" class=\" global-navigation__drop-down-link js-global-navigation-drop-down-link \">ICC on Social</a></li>\\n\\t\\t\\t\\t\\t\\t\\t<li class=\"global-navigation__drop-down-item \"><a href=\"/media-releases\" class=\" global-navigation__drop-down-link js-global-navigation-drop-down-link \">Media Releases</a></li>\\n\\t\\t\\t\\t\\t\\t\\t<li class=\"global-navigation__drop-down-item \"><a href=\"/news\" class=\" global-navigation__drop-down-link js-global-navigation-drop-down-link \">News</a></li>\\n\\t\\t\\t\\t\\t\\t\\t<li class=\"global-navigation__drop-down-item \"><a href=\"/photos\" class=\" global-navigation__drop-down-link js-global-navigation-drop-down-link \">Photos</a></li>\\n\\t\\t\\t\\t\\t\\t\\t<li class=\"global-navigation__drop-down-item \"><a href=\"/cricket-for-good\" class=\" global-navigation__drop-down-link js-global-navigation-drop-down-link \">Cricket for Good</a></li>\\n\\t\\t\\t\\t\\t\\t\\t<li class=\"global-navigation__drop-down-item \"><a href=\"/mobile\" class=\" global-navigation__drop-down-link js-global-navigation-drop-down-link \">Mobile App</a></li>\\n\\t\\t\\t\\t\\t\\t\\t<li class=\"global-navigation__drop-down-item \"><a href=\"/news/318971\" class=\" global-navigation__drop-down-link js-global-navigation-drop-down-link \">Commercial Opportunities</a></li>\\n\\t\\t\\t\\t\\t\\t\\t<li class=\"global-navigation__drop-down-item \"><a href=\"/criiio/\" class=\" global-navigation__drop-down-link js-global-navigation-drop-down-link \">criiio</a></li>\\n\\t\\t\\t\\t\\t\\t\\t<li class=\"global-navigation__drop-down-item \"><a href=\"/100percentcricket\" class=\" global-navigation__drop-down-link js-global-navigation-drop-down-link \">100% Cricket</a></li>\\n\\t\\t\\t\\t\\t\\t\\t<li class=\"global-navigation__drop-down-item \"><a href=\"https://www.t20worldcupshop.com/\" class=\" global-navigation__drop-down-link js-global-navigation-drop-down-link \">T20 Shop</a></li>\\n\\t\\t\\t\\t</ul>\\n\\t\\t\\t</div>\\n\\n\\t</li>\\n        \\t\\t\\t</ul>\\n                    \\n\\t<div class=\"global-navigation-menu u-hide\">\\n\\t\\t<ul class=\"global-navigation-menu__list\">\\n\\t\\t\\t\\t\\t<li class=\"global-navigation-menu__item\">\\n\\t\\t\\t\\t\\t\\t<a href=\"http://www.icctravelandtours.com/\" class=\"global-navigation-menu__link\">\\n\\t\\t\\t\\t\\t\\t\\t<svg class=\"icon plane\"><use xmlns:xlink=\"http://www.w3.org/1999/xlink\" xlink:href=\"/resources/prod/v8.15.0/i/svg-output/icons.svg#icn-plane\"></use></svg>\\n\\t\\t\\t\\t\\t\\t\\tICC Travel & Tours\\n\\t\\t\\t\\t\\t\\t</a>\\n\\t\\t\\t\\t\\t</li>\\n\\t\\t\\t\\t\\t<li class=\"global-navigation-menu__item\">\\n\\t\\t\\t\\t\\t\\t<a href=\"https://tickets.t20worldcup.com/content/wt20/home.aspx\" class=\"global-navigation-menu__link\">\\n\\t\\t\\t\\t\\t\\t\\t<svg class=\"icon tickets\"><use xmlns:xlink=\"http://www.w3.org/1999/xlink\" xlink:href=\"/resources/prod/v8.15.0/i/svg-output/icons.svg#icn-tickets\"></use></svg>\\n\\t\\t\\t\\t\\t\\t\\tICC Tickets\\n\\t\\t\\t\\t\\t\\t</a>\\n\\t\\t\\t\\t\\t</li>\\n\\t\\t\\t\\t\\t<li class=\"global-navigation-menu__item\">\\n\\t\\t\\t\\t\\t\\t<a href=\"https://www.t20worldcupshop.com/\" class=\"global-navigation-menu__link\">\\n\\t\\t\\t\\t\\t\\t\\t<svg class=\"icon shopping-cart\"><use xmlns:xlink=\"http://www.w3.org/1999/xlink\" xlink:href=\"/resources/prod/v8.15.0/i/svg-output/icons.svg#icn-shopping-cart\"></use></svg>\\n\\t\\t\\t\\t\\t\\t\\tT20 Shop\\n\\t\\t\\t\\t\\t\\t</a>\\n\\t\\t\\t\\t\\t</li>\\n            <li class=\"global-navigation-menu__item global-navigation-menu__item--user js-nav-default-mobile\">\\n                <a href=\"/sign-in\" class=\"global-navigation-menu__link\">\\n                    <svg class=\"icon\"><use xmlns:xlink=\"http://www.w3.org/1999/xlink\" xlink:href=\"/resources/prod/v8.15.0/i/svg-output/icons.svg#icn-account\"></use></svg>\\n                    Sign In/Create Account\\n                </a>\\n            </li>\\n            <li class=\"global-navigation-menu__item global-navigation-menu__item--user js-nav-signedin-mobile u-hide\">\\n                <a href=\"#\" class=\"global-navigation-menu__link\">\\n                    <div class=\"global-navigation-menu__image-container\">\\n                        <img src=\"#\" class=\"u-hide js-nav-user-img-mobile\" alt=\"User Image\">\\n                    </div>\\n                    <div class=\"global-navigation-menu__username\">Hi <span class=\"js-nav-user-text-mobile\"></span></div>\\n                </a>\\n            </li>\\n\\t\\t</ul>\\n\\t</div>\\n\\n        \\t\\t</div>\\n\\n\\t\\t\\t\\t\\n\\n        \\t\\t<div tabindex=\"0\" role=\"button\" class=\"global-navigation__search js-global-navigation-search\">\\n        \\t\\t\\t<svg class=\"global-navigation__search-icon icon\"><use xmlns:xlink=\"http://www.w3.org/1999/xlink\" xlink:href=\"/resources/prod/v8.15.0/i/svg-output/icons.svg#icn-search\"></use></svg>\\n        \\t\\t\\t<span class=\"global-navigation__search-text\">Search</span>\\n        \\t\\t</div>\\n\\n                <a href=\"/sign-in\" class=\"global-navigation__user js-nav-default-mobile\" role=\"button\">\\n                    <svg class=\"icon\"><use xmlns:xlink=\"http://www.w3.org/1999/xlink\" xlink:href=\"/resources/prod/v8.15.0/i/svg-output/icons.svg#icn-account\"></use></svg>\\n                </a>\\n                <a href=\"#\" class=\"global-navigation__user js-nav-signedin-mobile u-hide\" role=\"button\">\\n                    <div class=\"global-navigation__image-container\">\\n                        <img src=\"#\" class=\"u-hide js-nav-user-img-mobile\" alt=\"User Image\">\\n                    </div>\\n                </a>\\n\\n        \\t\\t<form action=\"/search\" type=\"GET\" class=\"global-navigation__search-open js-global-navigation-search-open\">\\n        \\t\\t\\t<div class=\"global-navigation__search-input\">\\n        \\t\\t\\t\\t<input tabindex=\"-1\" class=\"js-global-navigation-input\" type=\"text\" name=\"term\" placeholder=\"Search ICC\" />\\n        \\t\\t\\t</div>\\n        \\t\\t\\t<button type=\"submit\" tabindex=\"0\" class=\"global-navigation__search-go js-global-navigation-search-go\">\\n        \\t\\t\\t\\t<svg class=\"icon\"><use xmlns:xlink=\"http://www.w3.org/1999/xlink\" xlink:href=\"/resources/prod/v8.15.0/i/svg-output/icons.svg#icn-search\"></use></svg>\\n        \\t\\t\\t</button>\\n        \\t\\t\\t<div tabindex=\"0\" class=\"global-navigation__search-close js-global-navigation-search-close\">\\n        \\t\\t\\t\\t<svg class=\"icon\"><use xmlns:xlink=\"http://www.w3.org/1999/xlink\" xlink:href=\"/resources/prod/v8.15.0/i/svg-output/icons.svg#icn-close\"></use></svg>\\n        \\t\\t\\t</div>\\n        \\t\\t</form>\\n                <div class=\"global-navigation__search-overlay\"></div>\\n        \\t</nav>\\n        </div>\\n    </div>\\n\\n\\n<main id=\"main-content\" tabindex=\"0\">\\n\\t\\n\\n<button class=\"scroll-to-top\" data-widget=\"scroll-to-top\" data-script=\"icc_scroll-to-top\">\\n\\t<svg class=\"scroll-to-top__icon\">\\n\\t\\t<use xmlns:xlink=\"http://www.w3.org/1999/xlink\" xlink:href=\"/resources/prod/v8.15.0/i/svg-output/icons.svg#icn-up-arrow\"></use>\\n\\t</svg>\\n\\n    <div class=\"scroll-to-top__mask\" aria-hidden=\"true\">\\n\\t<svg class=\"scroll-to-top__icon\">\\n\\t\\t<use xmlns:xlink=\"http://www.w3.org/1999/xlink\" xlink:href=\"/resources/prod/v8.15.0/i/svg-output/icons.svg#icn-up-arrow\"></use>\\n\\t</svg>\\n    </div>\\n    <span class=\"u-screen-reader\">Scroll to Top</span>\\n</button>\\n\\n\\n\\n<header class=\"page-header page-header--rankings\">\\n    <div class=\"wrapper\">\\n        <div class=\"col-12\">\\n            <div class=\"page-header__banner\">\\n        <a class=\"page-logo\" href=\"http://track.adform.net/C/?bn=20093364\" data-widget=\"impression-tracker\" data-tracking-url=\"https://track.adform.net/adfserve/?bn=20093364;srctype=4;ord=%%ADFRND%%\" target=\"_blank\">\\n            <span class=\"icn icn-logo-mrf-rankings\"></span>\\n        </a>\\n            </div>\\n    <div class=\"share share--\\n        \\n        share--vertical\\n        \\n        \"\\n        \\n        data-widget=\"share\">\\n        <div class=\"share__container\">\\n            <div class=\"share__btn js-share-btn\">\\n                <svg class=\"icon\"><use xmlns:xlink=\"http://www.w3.org/1999/xlink\" xlink:href=\"/resources/prod/v8.15.0/i/svg-output/icons.svg#icn-share\"></use></svg>\\n                <div class=\"share__title\">Share</div>\\n            </div>\\n            <ul class=\"share__list\">\\n\\n                <li class=\"share__item share__item--facebook js-social-option\" data-social-service=\"facebook\"  role=\"button\" tabindex=\"0\">\\n                    <svg class=\"icon\"><use xmlns:xlink=\"http://www.w3.org/1999/xlink\" xlink:href=\"/resources/prod/v8.15.0/i/svg-output/icons.svg#icn-facebook\"></use></svg>\\n                </li>\\n\\n                <li class=\"share__item share__item--twitter js-social-option\" data-social-service=\"twitter\"   role=\"button\" tabindex=\"0\">\\n                    <svg class=\"icon\"><use xmlns:xlink=\"http://www.w3.org/1999/xlink\" xlink:href=\"/resources/prod/v8.15.0/i/svg-output/icons.svg#icn-twitter\"></use></svg>\\n                </li>\\n                <li class=\"share__item share__item--messenger u-show-tablet js-social-option\" data-social-service=\"facebookMessenger\"  role=\"buttn\" tabindex=\"0\">\\n                    <svg class=\"icon\"><use xmlns:xlink=\"http://www.w3.org/1999/xlink\" xlink:href=\"/resources/prod/v8.15.0/i/svg-output/icons.svg#icn-facebook-messenger\"></use></svg>\\n                </li>\\n\\n                <li class=\"share__item share__item--whatsapp u-show-tablet js-social-option\" data-social-service=\"whatsapp\"   role=\"button\" tabindex=\"0\">\\n                    <svg class=\"icon\"><use xmlns:xlink=\"http://www.w3.org/1999/xlink\" xlink:href=\"/resources/prod/v8.15.0/i/svg-output/icons.svg#icn-whatsapp\"></use></svg>\\n                </li>\\n\\n                <li class=\"share__item share__item--url u-hide-tablet js-copy-button\"  role=\"button\" tabindex=\"0\">\\n                    <svg class=\"icon\"><use xmlns:xlink=\"http://www.w3.org/1999/xlink\" xlink:href=\"/resources/prod/v8.15.0/i/svg-output/icons.svg#icn-url\"></use></svg>\\n                    <div class=\"share__copy-message js-copy-message\">URL Copied</div>\\n                </li>\\n\\n            </ul>\\n        </div>\\n    </div>\\n        </div>\\n    </div>\\n</header>\\n\\n\\n<div class=\"l-sticky-side-nav\">\\n\\t<div class=\"l-sticky-side-nav__nav\">\\n\\t\\t\\n<div class=\"rankings-menu\" data-script=\"icc_rankings-menu\" data-widget=\"rankings-menu\">\\n    <div class=\"drop-down-tablet js-drop-down\">\\n        <div class=\"drop-down__clickzone js-drop-down-trigger\" tabindex=\"0\" role=\"button\"></div>\\n        <div class=\"drop-down__label\">\\n            Women\\'s\\n        </div>\\n        <div class=\"drop-down__current\">\\n            Player Rankings\\n            <svg class=\"icon\"><use xmlns:xlink=\"http://www.w3.org/1999/xlink\" xlink:href=\"/resources/prod/v8.15.0/i/svg-output/icons.svg#icn-caret-down\"></use></svg>\\n        </div>\\n        <div class=\"drop-down__dropdown-list js-drop-down-options\">\\n                <div class=\"rankings-menu__tab-container u-hide-tablet\">\\n                    <nav class=\"content-tabs\">\\n                        <ul class=\"block-list-2 u-no-font-size\" role=\"tablist\">\\n                                <li class=\"u-no-padding u-no-margin\">\\n                                    <a class=\"content-tabs__tab \" href=\"/rankings/mens/overview\">Men\\'s</a>\\n                                </li>\\n                                <li class=\"u-no-padding u-no-margin\">\\n                                    <a class=\"content-tabs__tab content-tabs__tab--active\" href=\"/rankings/womens/overview\">Women\\'s</a>\\n                                </li>\\n                        </ul>\\n                    </nav>\\n                </div>\\n                    <div class=\" tab-content\">\\n                            <h3 class=\"rankings-menu__title\">Men\\'s</h3>\\n\\n                        <ul class=\"rankings-menu__list\">\\n\\n\\n                    <li class=\"rankings-menu__item\">\\n                        <a href=\"/rankings/mens/overview\" class=\"rankings-menu__link \">Overview<svg class=\"icon\"><use xmlns:xlink=\"http://www.w3.org/1999/xlink\" xlink:href=\"/resources/prod/v8.15.0/i/svg-output/icons.svg#icn-chevron-right\"></use></svg></a>\\n                    </li>\\n\\n                    <li class=\"rankings-menu__item\">\\n                        <a href=\"/rankings/mens/team-rankings\" class=\"rankings-menu__link \">Team Rankings<svg class=\"icon\"><use xmlns:xlink=\"http://www.w3.org/1999/xlink\" xlink:href=\"/resources/prod/v8.15.0/i/svg-output/icons.svg#icn-chevron-right\"></use></svg></a>\\n                    </li>\\n\\n                    <li class=\"rankings-menu__item\">\\n                        <a href=\"/rankings/mens/player-rankings\" class=\"rankings-menu__link \">Player Rankings<svg class=\"icon\"><use xmlns:xlink=\"http://www.w3.org/1999/xlink\" xlink:href=\"/resources/prod/v8.15.0/i/svg-output/icons.svg#icn-chevron-right\"></use></svg></a>\\n                    </li>\\n\\n                    <li class=\"rankings-menu__item\">\\n                        <a href=\"/rankings/mens/player-rankings/comparison\" class=\"rankings-menu__link \">Player Comparison<svg class=\"icon\"><use xmlns:xlink=\"http://www.w3.org/1999/xlink\" xlink:href=\"/resources/prod/v8.15.0/i/svg-output/icons.svg#icn-chevron-right\"></use></svg></a>\\n                    </li>\\n\\n                    <li class=\"rankings-menu__item\">\\n                        <a href=\"/rankings/mens/rankings-predictor/\" class=\"rankings-menu__link \">Team Rankings Predictor<svg class=\"icon\"><use xmlns:xlink=\"http://www.w3.org/1999/xlink\" xlink:href=\"/resources/prod/v8.15.0/i/svg-output/icons.svg#icn-chevron-right\"></use></svg></a>\\n                    </li>\\n\\n                    <li class=\"rankings-menu__item\">\\n                        <a href=\"/rankings/about\" class=\"rankings-menu__link \">About the Rankings<svg class=\"icon\"><use xmlns:xlink=\"http://www.w3.org/1999/xlink\" xlink:href=\"/resources/prod/v8.15.0/i/svg-output/icons.svg#icn-chevron-right\"></use></svg></a>\\n                    </li>\\n\\n                    <li class=\"rankings-menu__item\">\\n                        <a href=\"/rankings/faqs\" class=\"rankings-menu__link \">Player Rankings FAQs<svg class=\"icon\"><use xmlns:xlink=\"http://www.w3.org/1999/xlink\" xlink:href=\"/resources/prod/v8.15.0/i/svg-output/icons.svg#icn-chevron-right\"></use></svg></a>\\n                    </li>\\n\\n                        </ul>\\n                    </div>\\n\\n                    <div class=\"active tab-content\">\\n                            <h3 class=\"rankings-menu__title\">Women\\'s</h3>\\n\\n                        <ul class=\"rankings-menu__list\">\\n\\n                                    <li class=\"rankings-menu__item rankings-menu__item--user-selection js-team-btn\">\\n                                        <a href=\"#\" class=\"rankings-menu__link js-fav-team-link\">Select your team</a>\\n                                        <svg class=\"icon\"><use xmlns:xlink=\"http://www.w3.org/1999/xlink\" xlink:href=\"/resources/prod/v8.15.0/i/svg-output/icons.svg#icn-chevron-right\"></use></svg>\\n                                        <div class=\"rankings-menu__notch js-notch\"></div>\\n                                        <svg class=\"rankings-menu__notch-icon icon\"><use xmlns:xlink=\"http://www.w3.org/1999/xlink\" xlink:href=\"/resources/prod/v8.15.0/i/svg-output/icons.svg#icn-star\"></use></svg\\n                                    </li>\\n\\n                    <li class=\"rankings-menu__item\">\\n                        <a href=\"/rankings/womens/overview\" class=\"rankings-menu__link \">Overview<svg class=\"icon\"><use xmlns:xlink=\"http://www.w3.org/1999/xlink\" xlink:href=\"/resources/prod/v8.15.0/i/svg-output/icons.svg#icn-chevron-right\"></use></svg></a>\\n                    </li>\\n\\n                    <li class=\"rankings-menu__item\">\\n                        <a href=\"/rankings/womens/team-rankings\" class=\"rankings-menu__link \">Team Rankings<svg class=\"icon\"><use xmlns:xlink=\"http://www.w3.org/1999/xlink\" xlink:href=\"/resources/prod/v8.15.0/i/svg-output/icons.svg#icn-chevron-right\"></use></svg></a>\\n                    </li>\\n\\n                    <li class=\"rankings-menu__item\">\\n                        <a href=\"/rankings/womens/player-rankings\" class=\"rankings-menu__link \">Player Rankings<svg class=\"icon\"><use xmlns:xlink=\"http://www.w3.org/1999/xlink\" xlink:href=\"/resources/prod/v8.15.0/i/svg-output/icons.svg#icn-chevron-right\"></use></svg></a>\\n                    </li>\\n\\n                    <li class=\"rankings-menu__item\">\\n                        <a href=\"/rankings/about\" class=\"rankings-menu__link \">About the Rankings<svg class=\"icon\"><use xmlns:xlink=\"http://www.w3.org/1999/xlink\" xlink:href=\"/resources/prod/v8.15.0/i/svg-output/icons.svg#icn-chevron-right\"></use></svg></a>\\n                    </li>\\n\\n                    <li class=\"rankings-menu__item\">\\n                        <a href=\"/rankings/faqs\" class=\"rankings-menu__link \">Player Rankings FAQs<svg class=\"icon\"><use xmlns:xlink=\"http://www.w3.org/1999/xlink\" xlink:href=\"/resources/prod/v8.15.0/i/svg-output/icons.svg#icn-chevron-right\"></use></svg></a>\\n                    </li>\\n\\n                    <li class=\"rankings-menu__item\">\\n                        <a href=\"/rankings/womens-t20i-faq\" class=\"rankings-menu__link \">T20I Team Rankings FAQs<svg class=\"icon\"><use xmlns:xlink=\"http://www.w3.org/1999/xlink\" xlink:href=\"/resources/prod/v8.15.0/i/svg-output/icons.svg#icn-chevron-right\"></use></svg></a>\\n                    </li>\\n\\n                        </ul>\\n                    </div>\\n\\n        </div>\\n    </div>\\n</div>\\n\\n\\t</div>\\n\\n\\t<div class=\"l-sticky-side-nav__content\">\\n\\t\\t\\n    <section class=\"ranking-format-menu\">\\n\\n        <div class=\"wrapper wrapper--sticky\">\\n\\n            <div class=\"col-12\">\\n                <div class=\"content-tabs\">\\n            \\t\\t<ul class=\"inline-list\">\\n            \\t                <li class=\"ranking-format-menu__item\">\\n            \\t                    \\t<a href=\"../odi\" class=\"content-tabs__tab content-tabs__tab--active\" >ODI</a>\\n            \\t                </li>\\n            \\t                <li class=\"ranking-format-menu__item\">\\n            \\t                    \\t<a href=\"../t20i\" class=\"content-tabs__tab \" >T20i</a>\\n            \\t                </li>\\n            \\t\\t</ul>\\n            \\t</div>\\n            </div>\\n        </div>\\n\\n    </section>\\n\\n\\t\\t<div class=\"wrapper wrapper--sticky\">\\n\\t\\t\\t<div class=\"col-12\">\\n\\t\\t\\t\\t\\n\\n<section class=\"widget rankings-widget \"\\n\\t\\t data-script=\"icc_rankings\"\\n\\t\\t data-widget=\"player-rankings-filtered\"\\n\\t\\t data-filter=\"RANKINGS_YEAR,RANKINGS_MONTH,RANKINGS_DAY\"\\n         data-format=\"wodi\">\\n\\n\\n\\n\\n    <div class=\"rankings-filters\">\\n        <h5 class=\"rankings-filters__title\">Look back through the MRF Tyres Rankings Archive using the date selector below:</h5>\\n\\n        <div class=\"rankings-filters__content\">\\n                <div class=\"rankings-filters__options\" data-content-filter></div>\\n                <div class=\"rankings-filters__btns\">\\n                    <button class=\"rankings-filters__filter-button js-rankings-filter-button disabled\">Apply</button>\\n                    <button class=\"rankings-filters__reset js-rankings-filter-reset u-hide\">Reset</button>\\n                </div>\\n        </div>\\n    </div>\\n\\n\\n    <div class=\"rankings-block__title-container\">\\n        <div class=\"rankings-block__type t-wodi\">wodi</div>\\n        <h4>Women\\'s ODI Batting Rankings</h4>\\n    <div class=\"share share--\\n        \\n        share--vertical\\n        share--small\\n        \"\\n        \\n        data-widget=\"share\">\\n        <div class=\"share__container\">\\n            <div class=\"share__btn js-share-btn\">\\n                <svg class=\"icon\"><use xmlns:xlink=\"http://www.w3.org/1999/xlink\" xlink:href=\"/resources/prod/v8.15.0/i/svg-output/icons.svg#icn-share\"></use></svg>\\n                <div class=\"share__title\">Share</div>\\n            </div>\\n            <ul class=\"share__list\">\\n\\n                <li class=\"share__item share__item--facebook js-social-option\" data-social-service=\"facebook\"  role=\"button\" tabindex=\"0\">\\n                    <svg class=\"icon\"><use xmlns:xlink=\"http://www.w3.org/1999/xlink\" xlink:href=\"/resources/prod/v8.15.0/i/svg-output/icons.svg#icn-facebook\"></use></svg>\\n                </li>\\n\\n                <li class=\"share__item share__item--twitter js-social-option\" data-social-service=\"twitter\"   role=\"button\" tabindex=\"0\">\\n                    <svg class=\"icon\"><use xmlns:xlink=\"http://www.w3.org/1999/xlink\" xlink:href=\"/resources/prod/v8.15.0/i/svg-output/icons.svg#icn-twitter\"></use></svg>\\n                </li>\\n                <li class=\"share__item share__item--messenger u-show-tablet js-social-option\" data-social-service=\"facebookMessenger\"  role=\"buttn\" tabindex=\"0\">\\n                    <svg class=\"icon\"><use xmlns:xlink=\"http://www.w3.org/1999/xlink\" xlink:href=\"/resources/prod/v8.15.0/i/svg-output/icons.svg#icn-facebook-messenger\"></use></svg>\\n                </li>\\n\\n                <li class=\"share__item share__item--whatsapp u-show-tablet js-social-option\" data-social-service=\"whatsapp\"   role=\"button\" tabindex=\"0\">\\n                    <svg class=\"icon\"><use xmlns:xlink=\"http://www.w3.org/1999/xlink\" xlink:href=\"/resources/prod/v8.15.0/i/svg-output/icons.svg#icn-whatsapp\"></use></svg>\\n                </li>\\n\\n                <li class=\"share__item share__item--url u-hide-tablet js-copy-button\"  role=\"button\" tabindex=\"0\">\\n                    <svg class=\"icon\"><use xmlns:xlink=\"http://www.w3.org/1999/xlink\" xlink:href=\"/resources/prod/v8.15.0/i/svg-output/icons.svg#icn-url\"></use></svg>\\n                    <div class=\"share__copy-message js-copy-message\">URL Copied</div>\\n                </li>\\n\\n            </ul>\\n        </div>\\n    </div>\\n    </div>\\n\\n        <div class=\"rankings-block__meta-container\">\\n            <div class=\"rankings-block__last-updated\">Last Updated - 26. January 2021</div>\\n        </div>\\n\\n    <div class=\"rankings-block__container full \"\\n        data-cricket-role=\"batting\"\\n        data-cricket-scope=\"wodi\"\\n        data-page-size=\"100\"\\n        data-full=\"true\",\\n        data-title=\"Women\\'s ODI Batting Rankings\",\\n        data-player-rankings-card>\\n\\n        <table class=\"table rankings-table\">\\n            <thead>\\n                <tr class=\"table-head\">\\n                    <th class=\"table-head__cell u-text-right\">Pos</th>\\n                    <th class=\"table-head__cell\">Player</th>\\n                    <th class=\"table-head__cell\">Team</th>\\n                    <th class=\"table-head__cell table-head__cell--rating\">Rating</th>\\n                    <th class=\"table-head__cell u-text-right u-hide-phablet\">Career Best Rating</th>\\n                </tr>\\n            </thead>\\n\\n            <tr class=\"rankings-block__banner\">\\n\\n                <td class=\"rankings-block__position\">1</td>\\n\\n                <td class=\"rankings-block__top-player-container\">\\n                    <div class=\"u-flex-center u-text-left\">\\n                        <div class=\"rankings-block__player-image-container rankings-block__player-image-container--large\">\\n                            <a href=\"/rankings/womens/player-rankings/469\">\\n                                <img class=\"rankings-block__player-image image-missing\" src=\"//resources.pulse.icc-cricket.com/players/130x150/Photo-Missing.png\" alt=\"Player Image\" data-widget=\"player-image\" data-player=\"469\" data-size=\"130x150\" data-error=\"true\">\\n                            </a>\\n                        </div>\\n\\n                        <div>\\n                            <a href=\"/rankings/womens/player-rankings/469\"><div class=\"rankings-block__banner--name-large\">Meg Lanning</div></a>\\n                        </div>\\n                    </div>\\n                </td>\\n\\n                <td>\\n                    <div class=\"rankings-block__banner--nationality\">\\n                        <div class=\"flag-15 AUS\"></div>\\n                        <span class=\"rankings-block__banner--nation\"></span>AUS</span>\\n                    </div>\\n                </td>\\n\\n                <td class=\"u-text-left\">\\n                    <div class=\"rankings-block__banner--rating\">749</div>\\n                </td>\\n\\n                <td class=\"u-text-right u-hide-phablet u-overflow-hidden\">\\n                    <div class=\"rankings-block__career-best\">\\n                        <span class=\"rankings-block__career-best-text\">\\n                                834 v New Zealand, 24/02/2016\\n                        </span>\\n                        <span class=\"circle-branding circle-branding--full-table circle-branding--top\"></span>\\n                        <span class=\"circle-branding circle-branding--full-table circle-branding--bottom\"></span>\\n                    </div>\\n                </td>\\n            </tr>\\n\\n\\n\\n\\n\\n\\n\\n                    <tr class=\"table-body\">\\n                        <td class=\"table-body__cell table-body__cell--position u-text-right\">\\n                            2\\n        <span class=\"ranking-pos no-change\"></span>\\n                        </td>\\n                        <td class=\"table-body__cell rankings-table__name name\">\\n                            <a href=\"/rankings/womens/player-rankings/573\">Stafanie Taylor</a>\\n                        </td>\\n                        <td class=\"table-body__cell nationality-logo rankings-table__team\">\\n                            <span class=\"flag-15 table-body_logo WI\"></span>\\n                            <span class=\"table-body__logo-text\">WI</span>\\n                        </td>\\n                        <td class=\"table-body__cell rating\">746</td>\\n                        <td class=\"table-body__cell u-text-right u-hide-phablet\">\\n                                765 v India, 02/03/2012\\n                        </td>\\n                    </tr>\\n\\n\\n\\n\\n\\n                    <tr class=\"table-body\">\\n                        <td class=\"table-body__cell table-body__cell--position u-text-right\">\\n                            3\\n        <span class=\"ranking-pos no-change\"></span>\\n                        </td>\\n                        <td class=\"table-body__cell rankings-table__name name\">\\n                            <a href=\"/rankings/womens/player-rankings/466\">Alyssa Healy</a>\\n                        </td>\\n                        <td class=\"table-body__cell nationality-logo rankings-table__team\">\\n                            <span class=\"flag-15 table-body_logo AUS\"></span>\\n                            <span class=\"table-body__logo-text\">AUS</span>\\n                        </td>\\n                        <td class=\"table-body__cell rating\">741</td>\\n                        <td class=\"table-body__cell u-text-right u-hide-phablet\">\\n                                741 v New Zealand, 07/10/2020\\n                        </td>\\n                    </tr>\\n\\n\\n\\n\\n\\n                    <tr class=\"table-body\">\\n                        <td class=\"table-body__cell table-body__cell--position u-text-right\">\\n                            4\\n        <span class=\"ranking-pos no-change\"></span>\\n                        </td>\\n                        <td class=\"table-body__cell rankings-table__name name\">\\n                            <a href=\"/rankings/womens/player-rankings/1809\">Smriti Mandhana</a>\\n                        </td>\\n                        <td class=\"table-body__cell nationality-logo rankings-table__team\">\\n                            <span class=\"flag-15 table-body_logo IND\"></span>\\n                            <span class=\"table-body__logo-text\">IND</span>\\n                        </td>\\n                        <td class=\"table-body__cell rating\">732</td>\\n                        <td class=\"table-body__cell u-text-right u-hide-phablet\">\\n                                797 v England, 28/02/2019\\n                        </td>\\n                    </tr>\\n\\n\\n\\n\\n\\n                    <tr class=\"table-body\">\\n                        <td class=\"table-body__cell table-body__cell--position u-text-right\">\\n                            5\\n        <span class=\"ranking-pos no-change\"></span>\\n                        </td>\\n                        <td class=\"table-body__cell rankings-table__name name\">\\n                            <a href=\"/rankings/womens/player-rankings/487\">Amy Satterthwaite</a>\\n                        </td>\\n                        <td class=\"table-body__cell nationality-logo rankings-table__team\">\\n                            <span class=\"flag-15 table-body_logo NZ\"></span>\\n                            <span class=\"table-body__logo-text\">NZ</span>\\n                        </td>\\n                        <td class=\"table-body__cell rating\">723</td>\\n                        <td class=\"table-body__cell u-text-right u-hide-phablet\">\\n                                756 v Australia, 02/03/2017\\n                        </td>\\n                    </tr>\\n\\n\\n\\n\\n\\n                    <tr class=\"table-body\">\\n                        <td class=\"table-body__cell table-body__cell--position u-text-right\">\\n                            6\\n        <span class=\"ranking-pos no-change\"></span>\\n                        </td>\\n                        <td class=\"table-body__cell rankings-table__name name\">\\n                            <a href=\"/rankings/womens/player-rankings/545\">Tammy Beaumont</a>\\n                        </td>\\n                        <td class=\"table-body__cell nationality-logo rankings-table__team\">\\n                            <span class=\"flag-15 table-body_logo ENG\"></span>\\n                            <span class=\"table-body__logo-text\">ENG</span>\\n                        </td>\\n                        <td class=\"table-body__cell rating\">716</td>\\n                        <td class=\"table-body__cell u-text-right u-hide-phablet\">\\n                                738 v Australia, 04/07/2019\\n                        </td>\\n                    </tr>\\n\\n\\n\\n\\n\\n                    <tr class=\"table-body\">\\n                        <td class=\"table-body__cell table-body__cell--position u-text-right\">\\n                            7\\n        <span class=\"ranking-pos up\">\\n\\t<svg class=\"icon\">\\n\\t\\t<use xmlns:xlink=\"http://www.w3.org/1999/xlink\" xlink:href=\"/resources/prod/v8.15.0/i/svg-output/icons.svg#icn-chevron-up\"></use>\\n\\t</svg>\\n            <span class=\"ranking-pos__tooltip\">This player has moved up in the rankings since the previous rankings update</span>\\n        </span>\\n                        </td>\\n                        <td class=\"table-body__cell rankings-table__name name\">\\n                            <a href=\"/rankings/womens/player-rankings/3176\">Laura Wolvaardt</a>\\n                        </td>\\n                        <td class=\"table-body__cell nationality-logo rankings-table__team\">\\n                            <span class=\"flag-15 table-body_logo SA\"></span>\\n                            <span class=\"table-body__logo-text\">SA</span>\\n                        </td>\\n                        <td class=\"table-body__cell rating\">691</td>\\n                        <td class=\"table-body__cell u-text-right u-hide-phablet\">\\n                                712 v New Zealand, 25/01/2020\\n                        </td>\\n                    </tr>\\n\\n\\n\\n\\n\\n                    <tr class=\"table-body\">\\n                        <td class=\"table-body__cell table-body__cell--position u-text-right\">\\n                            \\n        <span class=\"ranking-pos down\">\\n\\t<svg class=\"icon\">\\n\\t\\t<use xmlns:xlink=\"http://www.w3.org/1999/xlink\" xlink:href=\"/resources/prod/v8.15.0/i/svg-output/icons.svg#icn-chevron-down\"></use>\\n\\t</svg>\\n            <span class=\"ranking-pos__tooltip\">This player has moved down in the rankings since the previous rankings update</span>\\n        </span>\\n                        </td>\\n                        <td class=\"table-body__cell rankings-table__name name\">\\n                            <a href=\"/rankings/womens/player-rankings/471\">Ellyse Perry</a>\\n                        </td>\\n                        <td class=\"table-body__cell nationality-logo rankings-table__team\">\\n                            <span class=\"flag-15 table-body_logo AUS\"></span>\\n                            <span class=\"table-body__logo-text\">AUS</span>\\n                        </td>\\n                        <td class=\"table-body__cell rating\">691</td>\\n                        <td class=\"table-body__cell u-text-right u-hide-phablet\">\\n                                766 v West Indies, 11/09/2019\\n                        </td>\\n                    </tr>\\n\\n\\n\\n\\n\\n                    <tr class=\"table-body\">\\n                        <td class=\"table-body__cell table-body__cell--position u-text-right\">\\n                            9\\n        <span class=\"ranking-pos down\">\\n\\t<svg class=\"icon\">\\n\\t\\t<use xmlns:xlink=\"http://www.w3.org/1999/xlink\" xlink:href=\"/resources/prod/v8.15.0/i/svg-output/icons.svg#icn-chevron-down\"></use>\\n\\t</svg>\\n            <span class=\"ranking-pos__tooltip\">This player has moved down in the rankings since the previous rankings update</span>\\n        </span>\\n                        </td>\\n                        <td class=\"table-body__cell rankings-table__name name\">\\n                            <a href=\"/rankings/womens/player-rankings/558\">Mithali Raj</a>\\n                        </td>\\n                        <td class=\"table-body__cell nationality-logo rankings-table__team\">\\n                            <span class=\"flag-15 table-body_logo IND\"></span>\\n                            <span class=\"table-body__logo-text\">IND</span>\\n                        </td>\\n                        <td class=\"table-body__cell rating\">687</td>\\n                        <td class=\"table-body__cell u-text-right u-hide-phablet\">\\n                                839 v Australia, 24/12/2004\\n                        </td>\\n                    </tr>\\n\\n\\n\\n\\n\\n                    <tr class=\"table-body\">\\n                        <td class=\"table-body__cell table-body__cell--position u-text-right\">\\n                            10\\n        <span class=\"ranking-pos no-change\"></span>\\n                        </td>\\n                        <td class=\"table-body__cell rankings-table__name name\">\\n                            <a href=\"/rankings/womens/player-rankings/1785\">Lizelle Lee</a>\\n                        </td>\\n                        <td class=\"table-body__cell nationality-logo rankings-table__team\">\\n                            <span class=\"flag-15 table-body_logo SA\"></span>\\n                            <span class=\"table-body__logo-text\">SA</span>\\n                        </td>\\n                        <td class=\"table-body__cell rating\">681</td>\\n                        <td class=\"table-body__cell u-text-right u-hide-phablet\">\\n                                752 v England, 12/06/2018\\n                        </td>\\n                    </tr>\\n\\n\\n\\n\\n\\n                    <tr class=\"table-body\">\\n                        <td class=\"table-body__cell table-body__cell--position u-text-right\">\\n                            11\\n        <span class=\"ranking-pos no-change\"></span>\\n                        </td>\\n                        <td class=\"table-body__cell rankings-table__name name\">\\n                            <a href=\"/rankings/womens/player-rankings/1800\">Natalie Sciver</a>\\n                        </td>\\n                        <td class=\"table-body__cell nationality-logo rankings-table__team\">\\n                            <span class=\"flag-15 table-body_logo ENG\"></span>\\n                            <span class=\"table-body__logo-text\">ENG</span>\\n                        </td>\\n                        <td class=\"table-body__cell rating\">670</td>\\n                        <td class=\"table-body__cell u-text-right u-hide-phablet\">\\n                                712 v India, 25/02/2019\\n                        </td>\\n                    </tr>\\n\\n\\n\\n\\n\\n                    <tr class=\"table-body\">\\n                        <td class=\"table-body__cell table-body__cell--position u-text-right\">\\n                            12\\n        <span class=\"ranking-pos no-change\"></span>\\n                        </td>\\n                        <td class=\"table-body__cell rankings-table__name name\">\\n                            <a href=\"/rankings/womens/player-rankings/600\">Chamari Athapaththu</a>\\n                        </td>\\n                        <td class=\"table-body__cell nationality-logo rankings-table__team\">\\n                            <span class=\"flag-15 table-body_logo SL\"></span>\\n                            <span class=\"table-body__logo-text\">SL</span>\\n                        </td>\\n                        <td class=\"table-body__cell rating\">667</td>\\n                        <td class=\"table-body__cell u-text-right u-hide-phablet\">\\n                                691 v South Africa, 14/02/2019\\n                        </td>\\n                    </tr>\\n\\n\\n\\n\\n\\n                    <tr class=\"table-body\">\\n                        <td class=\"table-body__cell table-body__cell--position u-text-right\">\\n                            13\\n        <span class=\"ranking-pos no-change\"></span>\\n                        </td>\\n                        <td class=\"table-body__cell rankings-table__name name\">\\n                            <a href=\"/rankings/womens/player-rankings/465\">Rachael Haynes</a>\\n                        </td>\\n                        <td class=\"table-body__cell nationality-logo rankings-table__team\">\\n                            <span class=\"flag-15 table-body_logo AUS\"></span>\\n                            <span class=\"table-body__logo-text\">AUS</span>\\n                        </td>\\n                        <td class=\"table-body__cell rating\">655</td>\\n                        <td class=\"table-body__cell u-text-right u-hide-phablet\">\\n                                655 v New Zealand, 07/10/2020\\n                        </td>\\n                    </tr>\\n\\n\\n\\n\\n\\n                    <tr class=\"table-body\">\\n                        <td class=\"table-body__cell table-body__cell--position u-text-right\">\\n                            14\\n        <span class=\"ranking-pos no-change\"></span>\\n                        </td>\\n                        <td class=\"table-body__cell rankings-table__name name\">\\n                            <a href=\"/rankings/womens/player-rankings/474\">Suzie Bates</a>\\n                        </td>\\n                        <td class=\"table-body__cell nationality-logo rankings-table__team\">\\n                            <span class=\"flag-15 table-body_logo NZ\"></span>\\n                            <span class=\"table-body__logo-text\">NZ</span>\\n                        </td>\\n                        <td class=\"table-body__cell rating\">651</td>\\n                        <td class=\"table-body__cell u-text-right u-hide-phablet\">\\n                                775 v Australia, 24/02/2016\\n                        </td>\\n                    </tr>\\n\\n\\n\\n\\n\\n                    <tr class=\"table-body\">\\n                        <td class=\"table-body__cell table-body__cell--position u-text-right\">\\n                            15\\n        <span class=\"ranking-pos no-change\"></span>\\n                        </td>\\n                        <td class=\"table-body__cell rankings-table__name name\">\\n                            <a href=\"/rankings/womens/player-rankings/478\">Sophie Devine</a>\\n                        </td>\\n                        <td class=\"table-body__cell nationality-logo rankings-table__team\">\\n                            <span class=\"flag-15 table-body_logo NZ\"></span>\\n                            <span class=\"table-body__logo-text\">NZ</span>\\n                        </td>\\n                        <td class=\"table-body__cell rating\">649</td>\\n                        <td class=\"table-body__cell u-text-right u-hide-phablet\">\\n                                678 v Australia, 03/03/2019\\n                        </td>\\n                    </tr>\\n\\n\\n\\n\\n\\n                    <tr class=\"table-body\">\\n                        <td class=\"table-body__cell table-body__cell--position u-text-right\">\\n                            16\\n        <span class=\"ranking-pos no-change\"></span>\\n                        </td>\\n                        <td class=\"table-body__cell rankings-table__name name\">\\n                            <a href=\"/rankings/womens/player-rankings/552\">Heather Knight</a>\\n                        </td>\\n                        <td class=\"table-body__cell nationality-logo rankings-table__team\">\\n                            <span class=\"flag-15 table-body_logo ENG\"></span>\\n                            <span class=\"table-body__logo-text\">ENG</span>\\n                        </td>\\n                        <td class=\"table-body__cell rating\">641</td>\\n                        <td class=\"table-body__cell u-text-right u-hide-phablet\">\\n                                693 v West Indies, 06/06/2019\\n                        </td>\\n                    </tr>\\n\\n\\n\\n\\n\\n                    <tr class=\"table-body\">\\n                        <td class=\"table-body__cell table-body__cell--position u-text-right\">\\n                            17\\n        <span class=\"ranking-pos no-change\"></span>\\n                        </td>\\n                        <td class=\"table-body__cell rankings-table__name name\">\\n                            <a href=\"/rankings/womens/player-rankings/1817\">Beth Mooney</a>\\n                        </td>\\n                        <td class=\"table-body__cell nationality-logo rankings-table__team\">\\n                            <span class=\"flag-15 table-body_logo AUS\"></span>\\n                            <span class=\"table-body__logo-text\">AUS</span>\\n                        </td>\\n                        <td class=\"table-body__cell rating\">603</td>\\n                        <td class=\"table-body__cell u-text-right u-hide-phablet\">\\n                                613 v Sri Lanka, 05/10/2019\\n                        </td>\\n                    </tr>\\n\\n\\n\\n\\n\\n                    <tr class=\"table-body\">\\n                        <td class=\"table-body__cell table-body__cell--position u-text-right\">\\n                            18\\n        <span class=\"ranking-pos no-change\"></span>\\n                        </td>\\n                        <td class=\"table-body__cell rankings-table__name name\">\\n                            <a href=\"/rankings/womens/player-rankings/559\">Harmanpreet Kaur</a>\\n                        </td>\\n                        <td class=\"table-body__cell nationality-logo rankings-table__team\">\\n                            <span class=\"flag-15 table-body_logo IND\"></span>\\n                            <span class=\"table-body__logo-text\">IND</span>\\n                        </td>\\n                        <td class=\"table-body__cell rating\">594</td>\\n                        <td class=\"table-body__cell u-text-right u-hide-phablet\">\\n                                679 v South Africa, 28/11/2014\\n                        </td>\\n                    </tr>\\n\\n\\n\\n\\n\\n                    <tr class=\"table-body\">\\n                        <td class=\"table-body__cell table-body__cell--position u-text-right\">\\n                            19\\n        <span class=\"ranking-pos no-change\"></span>\\n                        </td>\\n                        <td class=\"table-body__cell rankings-table__name name\">\\n                            <a href=\"/rankings/womens/player-rankings/417\">Mignon du Preez</a>\\n                        </td>\\n                        <td class=\"table-body__cell nationality-logo rankings-table__team\">\\n                            <span class=\"flag-15 table-body_logo SA\"></span>\\n                            <span class=\"table-body__logo-text\">SA</span>\\n                        </td>\\n                        <td class=\"table-body__cell rating\">569</td>\\n                        <td class=\"table-body__cell u-text-right u-hide-phablet\">\\n                                600 v India, 10/02/2018\\n                        </td>\\n                    </tr>\\n\\n\\n\\n\\n\\n                    <tr class=\"table-body\">\\n                        <td class=\"table-body__cell table-body__cell--position u-text-right\">\\n                            20\\n        <span class=\"ranking-pos up\">\\n\\t<svg class=\"icon\">\\n\\t\\t<use xmlns:xlink=\"http://www.w3.org/1999/xlink\" xlink:href=\"/resources/prod/v8.15.0/i/svg-output/icons.svg#icn-chevron-up\"></use>\\n\\t</svg>\\n            <span class=\"ranking-pos__tooltip\">This player has moved up in the rankings since the previous rankings update</span>\\n        </span>\\n                        </td>\\n                        <td class=\"table-body__cell rankings-table__name name\">\\n                            <a href=\"/rankings/womens/player-rankings/3192\">Deepti Sharma</a>\\n                        </td>\\n                        <td class=\"table-body__cell nationality-logo rankings-table__team\">\\n                            <span class=\"flag-15 table-body_logo IND\"></span>\\n                            <span class=\"table-body__logo-text\">IND</span>\\n                        </td>\\n                        <td class=\"table-body__cell rating\">562</td>\\n                        <td class=\"table-body__cell u-text-right u-hide-phablet\">\\n                                622 v South Africa, 09/10/2019\\n                        </td>\\n                    </tr>\\n\\n\\n\\n\\n\\n                    <tr class=\"table-body\">\\n                        <td class=\"table-body__cell table-body__cell--position u-text-right\">\\n                            21\\n        <span class=\"ranking-pos down\">\\n\\t<svg class=\"icon\">\\n\\t\\t<use xmlns:xlink=\"http://www.w3.org/1999/xlink\" xlink:href=\"/resources/prod/v8.15.0/i/svg-output/icons.svg#icn-chevron-down\"></use>\\n\\t</svg>\\n            <span class=\"ranking-pos__tooltip\">This player has moved down in the rankings since the previous rankings update</span>\\n        </span>\\n                        </td>\\n                        <td class=\"table-body__cell rankings-table__name name\">\\n                            <a href=\"/rankings/womens/player-rankings/635\">Nahida Khan</a>\\n                        </td>\\n                        <td class=\"table-body__cell nationality-logo rankings-table__team\">\\n                            <span class=\"flag-15 table-body_logo PAK\"></span>\\n                            <span class=\"table-body__logo-text\">PAK</span>\\n                        </td>\\n                        <td class=\"table-body__cell rating\">560</td>\\n                        <td class=\"table-body__cell u-text-right u-hide-phablet\">\\n                                603 v England, 14/12/2019\\n                        </td>\\n                    </tr>\\n\\n\\n\\n\\n\\n                    <tr class=\"table-body\">\\n                        <td class=\"table-body__cell table-body__cell--position u-text-right\">\\n                            22\\n        <span class=\"ranking-pos down\">\\n\\t<svg class=\"icon\">\\n\\t\\t<use xmlns:xlink=\"http://www.w3.org/1999/xlink\" xlink:href=\"/resources/prod/v8.15.0/i/svg-output/icons.svg#icn-chevron-down\"></use>\\n\\t</svg>\\n            <span class=\"ranking-pos__tooltip\">This player has moved down in the rankings since the previous rankings update</span>\\n        </span>\\n                        </td>\\n                        <td class=\"table-body__cell rankings-table__name name\">\\n                            <a href=\"/rankings/womens/player-rankings/424\">Marizanne Kapp</a>\\n                        </td>\\n                        <td class=\"table-body__cell nationality-logo rankings-table__team\">\\n                            <span class=\"flag-15 table-body_logo SA\"></span>\\n                            <span class=\"table-body__logo-text\">SA</span>\\n                        </td>\\n                        <td class=\"table-body__cell rating\">558</td>\\n                        <td class=\"table-body__cell u-text-right u-hide-phablet\">\\n                                569 v Pakistan, 23/01/2021\\n                        </td>\\n                    </tr>\\n\\n\\n\\n\\n\\n                    <tr class=\"table-body\">\\n                        <td class=\"table-body__cell table-body__cell--position u-text-right\">\\n                            23\\n        <span class=\"ranking-pos no-change\"></span>\\n                        </td>\\n                        <td class=\"table-body__cell rankings-table__name name\">\\n                            <a href=\"/rankings/womens/player-rankings/430\">Dane van Niekerk</a>\\n                        </td>\\n                        <td class=\"table-body__cell nationality-logo rankings-table__team\">\\n                            <span class=\"flag-15 table-body_logo SA\"></span>\\n                            <span class=\"table-body__logo-text\">SA</span>\\n                        </td>\\n                        <td class=\"table-body__cell rating\">551</td>\\n                        <td class=\"table-body__cell u-text-right u-hide-phablet\">\\n                                677 v Sri Lanka, 11/02/2019\\n                        </td>\\n                    </tr>\\n\\n\\n\\n\\n\\n                    <tr class=\"table-body\">\\n                        <td class=\"table-body__cell table-body__cell--position u-text-right\">\\n                            24\\n        <span class=\"ranking-pos no-change\"></span>\\n                        </td>\\n                        <td class=\"table-body__cell rankings-table__name name\">\\n                            <a href=\"/rankings/womens/player-rankings/568\">Poonam Raut</a>\\n                        </td>\\n                        <td class=\"table-body__cell nationality-logo rankings-table__team\">\\n                            <span class=\"flag-15 table-body_logo IND\"></span>\\n                            <span class=\"table-body__logo-text\">IND</span>\\n                        </td>\\n                        <td class=\"table-body__cell rating\">543</td>\\n                        <td class=\"table-body__cell u-text-right u-hide-phablet\">\\n                                556 v England, 23/07/2017\\n                        </td>\\n                    </tr>\\n\\n\\n\\n\\n\\n                    <tr class=\"table-body\">\\n                        <td class=\"table-body__cell table-body__cell--position u-text-right\">\\n                            25\\n        <span class=\"ranking-pos up\">\\n\\t<svg class=\"icon\">\\n\\t\\t<use xmlns:xlink=\"http://www.w3.org/1999/xlink\" xlink:href=\"/resources/prod/v8.15.0/i/svg-output/icons.svg#icn-chevron-up\"></use>\\n\\t</svg>\\n            <span class=\"ranking-pos__tooltip\">This player has moved up in the rankings since the previous rankings update</span>\\n        </span>\\n                        </td>\\n                        <td class=\"table-body__cell rankings-table__name name\">\\n                            <a href=\"/rankings/womens/player-rankings/631\">Javeria Khan</a>\\n                        </td>\\n                        <td class=\"table-body__cell nationality-logo rankings-table__team\">\\n                            <span class=\"flag-15 table-body_logo PAK\"></span>\\n                            <span class=\"table-body__logo-text\">PAK</span>\\n                        </td>\\n                        <td class=\"table-body__cell rating\">536</td>\\n                        <td class=\"table-body__cell u-text-right u-hide-phablet\">\\n                                573 v South Africa, 15/03/2015\\n                        </td>\\n                    </tr>\\n\\n\\n\\n\\n\\n                    <tr class=\"table-body\">\\n                        <td class=\"table-body__cell table-body__cell--position u-text-right\">\\n                            26\\n        <span class=\"ranking-pos down\">\\n\\t<svg class=\"icon\">\\n\\t\\t<use xmlns:xlink=\"http://www.w3.org/1999/xlink\" xlink:href=\"/resources/prod/v8.15.0/i/svg-output/icons.svg#icn-chevron-down\"></use>\\n\\t</svg>\\n            <span class=\"ranking-pos__tooltip\">This player has moved down in the rankings since the previous rankings update</span>\\n        </span>\\n                        </td>\\n                        <td class=\"table-body__cell rankings-table__name name\">\\n                            <a href=\"/rankings/womens/player-rankings/629\">Bismah Maroof</a>\\n                        </td>\\n                        <td class=\"table-body__cell nationality-logo rankings-table__team\">\\n                            <span class=\"flag-15 table-body_logo PAK\"></span>\\n                            <span class=\"table-body__logo-text\">PAK</span>\\n                        </td>\\n                        <td class=\"table-body__cell rating\">520</td>\\n                        <td class=\"table-body__cell u-text-right u-hide-phablet\">\\n                                570 v New Zealand, 13/11/2016\\n                        </td>\\n                    </tr>\\n\\n\\n\\n\\n\\n                    <tr class=\"table-body\">\\n                        <td class=\"table-body__cell table-body__cell--position u-text-right\">\\n                            27\\n        <span class=\"ranking-pos no-change\"></span>\\n                        </td>\\n                        <td class=\"table-body__cell rankings-table__name name\">\\n                            <a href=\"/rankings/womens/player-rankings/806\">Amy Jones</a>\\n                        </td>\\n                        <td class=\"table-body__cell nationality-logo rankings-table__team\">\\n                            <span class=\"flag-15 table-body_logo ENG\"></span>\\n                            <span class=\"table-body__logo-text\">ENG</span>\\n                        </td>\\n                        <td class=\"table-body__cell rating\">511</td>\\n                        <td class=\"table-body__cell u-text-right u-hide-phablet\">\\n                                564 v West Indies, 13/06/2019\\n                        </td>\\n                    </tr>\\n\\n\\n\\n\\n\\n                    <tr class=\"table-body\">\\n                        <td class=\"table-body__cell table-body__cell--position u-text-right\">\\n                            28\\n        <span class=\"ranking-pos up\">\\n\\t<svg class=\"icon\">\\n\\t\\t<use xmlns:xlink=\"http://www.w3.org/1999/xlink\" xlink:href=\"/resources/prod/v8.15.0/i/svg-output/icons.svg#icn-chevron-up\"></use>\\n\\t</svg>\\n            <span class=\"ranking-pos__tooltip\">This player has moved up in the rankings since the previous rankings update</span>\\n        </span>\\n                        </td>\\n                        <td class=\"table-body__cell rankings-table__name name\">\\n                            <a href=\"/rankings/womens/player-rankings/1758\">Nicole Bolton</a>\\n                        </td>\\n                        <td class=\"table-body__cell nationality-logo rankings-table__team\">\\n                            <span class=\"flag-15 table-body_logo AUS\"></span>\\n                            <span class=\"table-body__logo-text\">AUS</span>\\n                        </td>\\n                        <td class=\"table-body__cell rating\">484</td>\\n                        <td class=\"table-body__cell u-text-right u-hide-phablet\">\\n                                687 v India, 15/03/2018\\n                        </td>\\n                    </tr>\\n\\n\\n\\n\\n\\n                    <tr class=\"table-body\">\\n                        <td class=\"table-body__cell table-body__cell--position u-text-right\">\\n                            \\n        <span class=\"ranking-pos down\">\\n\\t<svg class=\"icon\">\\n\\t\\t<use xmlns:xlink=\"http://www.w3.org/1999/xlink\" xlink:href=\"/resources/prod/v8.15.0/i/svg-output/icons.svg#icn-chevron-down\"></use>\\n\\t</svg>\\n            <span class=\"ranking-pos__tooltip\">This player has moved down in the rankings since the previous rankings update</span>\\n        </span>\\n                        </td>\\n                        <td class=\"table-body__cell rankings-table__name name\">\\n                            <a href=\"/rankings/womens/player-rankings/1013\">Chloe-Lesleigh Tryon</a>\\n                        </td>\\n                        <td class=\"table-body__cell nationality-logo rankings-table__team\">\\n                            <span class=\"flag-15 table-body_logo SA\"></span>\\n                            <span class=\"table-body__logo-text\">SA</span>\\n                        </td>\\n                        <td class=\"table-body__cell rating\">484</td>\\n                        <td class=\"table-body__cell u-text-right u-hide-phablet\">\\n                                548 v Pakistan, 12/05/2019\\n                        </td>\\n                    </tr>\\n\\n\\n\\n\\n\\n                    <tr class=\"table-body\">\\n                        <td class=\"table-body__cell table-body__cell--position u-text-right\">\\n                            30\\n        <span class=\"ranking-pos no-change\"></span>\\n                        </td>\\n                        <td class=\"table-body__cell rankings-table__name name\">\\n                            <a href=\"/rankings/womens/player-rankings/484\">Katie Perkins</a>\\n                        </td>\\n                        <td class=\"table-body__cell nationality-logo rankings-table__team\">\\n                            <span class=\"flag-15 table-body_logo NZ\"></span>\\n                            <span class=\"table-body__logo-text\">NZ</span>\\n                        </td>\\n                        <td class=\"table-body__cell rating\">466</td>\\n                        <td class=\"table-body__cell u-text-right u-hide-phablet\">\\n                                503 v South Africa, 25/01/2020\\n                        </td>\\n                    </tr>\\n\\n\\n\\n\\n\\n                    <tr class=\"table-body\">\\n                        <td class=\"table-body__cell table-body__cell--position u-text-right\">\\n                            31\\n        <span class=\"ranking-pos no-change\"></span>\\n                        </td>\\n                        <td class=\"table-body__cell rankings-table__name name\">\\n                            <a href=\"/rankings/womens/player-rankings/3126\">Hayley Matthews</a>\\n                        </td>\\n                        <td class=\"table-body__cell nationality-logo rankings-table__team\">\\n                            <span class=\"flag-15 table-body_logo WI\"></span>\\n                            <span class=\"table-body__logo-text\">WI</span>\\n                        </td>\\n                        <td class=\"table-body__cell rating\">461</td>\\n                        <td class=\"table-body__cell u-text-right u-hide-phablet\">\\n                                522 v England, 09/06/2019\\n                        </td>\\n                    </tr>\\n\\n\\n\\n\\n\\n                    <tr class=\"table-body\">\\n                        <td class=\"table-body__cell table-body__cell--position u-text-right\">\\n                            32\\n        <span class=\"ranking-pos no-change\"></span>\\n                        </td>\\n                        <td class=\"table-body__cell rankings-table__name name\">\\n                            <a href=\"/rankings/womens/player-rankings/557\">Danielle Wyatt</a>\\n                        </td>\\n                        <td class=\"table-body__cell nationality-logo rankings-table__team\">\\n                            <span class=\"flag-15 table-body_logo ENG\"></span>\\n                            <span class=\"table-body__logo-text\">ENG</span>\\n                        </td>\\n                        <td class=\"table-body__cell rating\">448</td>\\n                        <td class=\"table-body__cell u-text-right u-hide-phablet\">\\n                                465 v Pakistan, 09/12/2019\\n                        </td>\\n                    </tr>\\n\\n\\n\\n\\n\\n                    <tr class=\"table-body\">\\n                        <td class=\"table-body__cell table-body__cell--position u-text-right\">\\n                            33\\n        <span class=\"ranking-pos no-change\"></span>\\n                        </td>\\n                        <td class=\"table-body__cell rankings-table__name name\">\\n                            <a href=\"/rankings/womens/player-rankings/1824\">Fargana Hoque</a>\\n                        </td>\\n                        <td class=\"table-body__cell nationality-logo rankings-table__team\">\\n                            <span class=\"flag-15 table-body_logo BAN\"></span>\\n                            <span class=\"table-body__logo-text\">BAN</span>\\n                        </td>\\n                        <td class=\"table-body__cell rating\">445</td>\\n                        <td class=\"table-body__cell u-text-right u-hide-phablet\">\\n                                446 v Pakistan, 04/11/2019\\n                        </td>\\n                    </tr>\\n\\n\\n\\n\\n\\n                    <tr class=\"table-body\">\\n                        <td class=\"table-body__cell table-body__cell--position u-text-right\">\\n                            34\\n        <span class=\"ranking-pos no-change\"></span>\\n                        </td>\\n                        <td class=\"table-body__cell rankings-table__name name\">\\n                            <a href=\"/rankings/womens/player-rankings/1830\">Rumana Ahmed</a>\\n                        </td>\\n                        <td class=\"table-body__cell nationality-logo rankings-table__team\">\\n                            <span class=\"flag-15 table-body_logo BAN\"></span>\\n                            <span class=\"table-body__logo-text\">BAN</span>\\n                        </td>\\n                        <td class=\"table-body__cell rating\">437</td>\\n                        <td class=\"table-body__cell u-text-right u-hide-phablet\">\\n                                439 v Pakistan, 04/11/2019\\n                        </td>\\n                    </tr>\\n\\n\\n\\n\\n\\n                    <tr class=\"table-body\">\\n                        <td class=\"table-body__cell table-body__cell--position u-text-right\">\\n                            35\\n        <span class=\"ranking-pos no-change\"></span>\\n                        </td>\\n                        <td class=\"table-body__cell rankings-table__name name\">\\n                            <a href=\"/rankings/womens/player-rankings/428\">Sune Luus</a>\\n                        </td>\\n                        <td class=\"table-body__cell nationality-logo rankings-table__team\">\\n                            <span class=\"flag-15 table-body_logo SA\"></span>\\n                            <span class=\"table-body__logo-text\">SA</span>\\n                        </td>\\n                        <td class=\"table-body__cell rating\">425</td>\\n                        <td class=\"table-body__cell u-text-right u-hide-phablet\">\\n                                469 v England, 05/07/2017\\n                        </td>\\n                    </tr>\\n\\n\\n\\n\\n\\n                    <tr class=\"table-body\">\\n                        <td class=\"table-body__cell table-body__cell--position u-text-right\">\\n                            36\\n        <span class=\"ranking-pos up\">\\n\\t<svg class=\"icon\">\\n\\t\\t<use xmlns:xlink=\"http://www.w3.org/1999/xlink\" xlink:href=\"/resources/prod/v8.15.0/i/svg-output/icons.svg#icn-chevron-up\"></use>\\n\\t</svg>\\n            <span class=\"ranking-pos__tooltip\">This player has moved up in the rankings since the previous rankings update</span>\\n        </span>\\n                        </td>\\n                        <td class=\"table-body__cell rankings-table__name name\">\\n                            <a href=\"/rankings/womens/player-rankings/3210\">Aliya Riaz</a>\\n                        </td>\\n                        <td class=\"table-body__cell nationality-logo rankings-table__team\">\\n                            <span class=\"flag-15 table-body_logo PAK\"></span>\\n                            <span class=\"table-body__logo-text\">PAK</span>\\n                        </td>\\n                        <td class=\"table-body__cell rating\">410</td>\\n                        <td class=\"table-body__cell u-text-right u-hide-phablet\">\\n                                410 v South Africa, 26/01/2021\\n                        </td>\\n                    </tr>\\n\\n\\n\\n\\n\\n                    <tr class=\"table-body\">\\n                        <td class=\"table-body__cell table-body__cell--position u-text-right\">\\n                            37\\n        <span class=\"ranking-pos down\">\\n\\t<svg class=\"icon\">\\n\\t\\t<use xmlns:xlink=\"http://www.w3.org/1999/xlink\" xlink:href=\"/resources/prod/v8.15.0/i/svg-output/icons.svg#icn-chevron-down\"></use>\\n\\t</svg>\\n            <span class=\"ranking-pos__tooltip\">This player has moved down in the rankings since the previous rankings update</span>\\n        </span>\\n                        </td>\\n                        <td class=\"table-body__cell rankings-table__name name\">\\n                            <a href=\"/rankings/womens/player-rankings/5051\">Jemimah Rodriques</a>\\n                        </td>\\n                        <td class=\"table-body__cell nationality-logo rankings-table__team\">\\n                            <span class=\"flag-15 table-body_logo IND\"></span>\\n                            <span class=\"table-body__logo-text\">IND</span>\\n                        </td>\\n                        <td class=\"table-body__cell rating\">409</td>\\n                        <td class=\"table-body__cell u-text-right u-hide-phablet\">\\n                                411 v West Indies, 06/11/2019\\n                        </td>\\n                    </tr>\\n\\n\\n\\n\\n\\n                    <tr class=\"table-body\">\\n                        <td class=\"table-body__cell table-body__cell--position u-text-right\">\\n                            38\\n        <span class=\"ranking-pos down\">\\n\\t<svg class=\"icon\">\\n\\t\\t<use xmlns:xlink=\"http://www.w3.org/1999/xlink\" xlink:href=\"/resources/prod/v8.15.0/i/svg-output/icons.svg#icn-chevron-down\"></use>\\n\\t</svg>\\n            <span class=\"ranking-pos__tooltip\">This player has moved down in the rankings since the previous rankings update</span>\\n        </span>\\n                        </td>\\n                        <td class=\"table-body__cell rankings-table__name name\">\\n                            <a href=\"/rankings/womens/player-rankings/4128\">Ashleigh Gardner</a>\\n                        </td>\\n                        <td class=\"table-body__cell nationality-logo rankings-table__team\">\\n                            <span class=\"flag-15 table-body_logo AUS\"></span>\\n                            <span class=\"table-body__logo-text\">AUS</span>\\n                        </td>\\n                        <td class=\"table-body__cell rating\">399</td>\\n                        <td class=\"table-body__cell u-text-right u-hide-phablet\">\\n                                411 v West Indies, 08/09/2019\\n                        </td>\\n                    </tr>\\n\\n\\n\\n\\n\\n                    <tr class=\"table-body\">\\n                        <td class=\"table-body__cell table-body__cell--position u-text-right\">\\n                            39\\n        <span class=\"ranking-pos down\">\\n\\t<svg class=\"icon\">\\n\\t\\t<use xmlns:xlink=\"http://www.w3.org/1999/xlink\" xlink:href=\"/resources/prod/v8.15.0/i/svg-output/icons.svg#icn-chevron-down\"></use>\\n\\t</svg>\\n            <span class=\"ranking-pos__tooltip\">This player has moved down in the rankings since the previous rankings update</span>\\n        </span>\\n                        </td>\\n                        <td class=\"table-body__cell rankings-table__name name\">\\n                            <a href=\"/rankings/womens/player-rankings/482\">Katey Martin</a>\\n                        </td>\\n                        <td class=\"table-body__cell nationality-logo rankings-table__team\">\\n                            <span class=\"flag-15 table-body_logo NZ\"></span>\\n                            <span class=\"table-body__logo-text\">NZ</span>\\n                        </td>\\n                        <td class=\"table-body__cell rating\">396</td>\\n                        <td class=\"table-body__cell u-text-right u-hide-phablet\">\\n                                483 v Australia, 05/03/2017\\n                        </td>\\n                    </tr>\\n\\n\\n\\n\\n\\n                    <tr class=\"table-body\">\\n                        <td class=\"table-body__cell table-body__cell--position u-text-right\">\\n                            40\\n        <span class=\"ranking-pos up\">\\n\\t<svg class=\"icon\">\\n\\t\\t<use xmlns:xlink=\"http://www.w3.org/1999/xlink\" xlink:href=\"/resources/prod/v8.15.0/i/svg-output/icons.svg#icn-chevron-up\"></use>\\n\\t</svg>\\n            <span class=\"ranking-pos__tooltip\">This player has moved up in the rankings since the previous rankings update</span>\\n        </span>\\n                        </td>\\n                        <td class=\"table-body__cell rankings-table__name name\">\\n                            <a href=\"/rankings/womens/player-rankings/418\">Trisha Chetty</a>\\n                        </td>\\n                        <td class=\"table-body__cell nationality-logo rankings-table__team\">\\n                            <span class=\"flag-15 table-body_logo SA\"></span>\\n                            <span class=\"table-body__logo-text\">SA</span>\\n                        </td>\\n                        <td class=\"table-body__cell rating\">389</td>\\n                        <td class=\"table-body__cell u-text-right u-hide-phablet\">\\n                                585 v Ireland, 09/08/2016\\n                        </td>\\n                    </tr>\\n\\n\\n\\n\\n\\n                    <tr class=\"table-body\">\\n                        <td class=\"table-body__cell table-body__cell--position u-text-right\">\\n                            41\\n        <span class=\"ranking-pos down\">\\n\\t<svg class=\"icon\">\\n\\t\\t<use xmlns:xlink=\"http://www.w3.org/1999/xlink\" xlink:href=\"/resources/prod/v8.15.0/i/svg-output/icons.svg#icn-chevron-down\"></use>\\n\\t</svg>\\n            <span class=\"ranking-pos__tooltip\">This player has moved down in the rankings since the previous rankings update</span>\\n        </span>\\n                        </td>\\n                        <td class=\"table-body__cell rankings-table__name name\">\\n                            <a href=\"/rankings/womens/player-rankings/468\">Jess Jonassen</a>\\n                        </td>\\n                        <td class=\"table-body__cell nationality-logo rankings-table__team\">\\n                            <span class=\"flag-15 table-body_logo AUS\"></span>\\n                            <span class=\"table-body__logo-text\">AUS</span>\\n                        </td>\\n                        <td class=\"table-body__cell rating\">375</td>\\n                        <td class=\"table-body__cell u-text-right u-hide-phablet\">\\n                                410 v England, 07/07/2019\\n                        </td>\\n                    </tr>\\n\\n\\n\\n\\n\\n                    <tr class=\"table-body\">\\n                        <td class=\"table-body__cell table-body__cell--position u-text-right\">\\n                            42\\n        <span class=\"ranking-pos down\">\\n\\t<svg class=\"icon\">\\n\\t\\t<use xmlns:xlink=\"http://www.w3.org/1999/xlink\" xlink:href=\"/resources/prod/v8.15.0/i/svg-output/icons.svg#icn-chevron-down\"></use>\\n\\t</svg>\\n            <span class=\"ranking-pos__tooltip\">This player has moved down in the rankings since the previous rankings update</span>\\n        </span>\\n                        </td>\\n                        <td class=\"table-body__cell rankings-table__name name\">\\n                            <a href=\"/rankings/womens/player-rankings/1813\">Shikha Pandey</a>\\n                        </td>\\n                        <td class=\"table-body__cell nationality-logo rankings-table__team\">\\n                            <span class=\"flag-15 table-body_logo IND\"></span>\\n                            <span class=\"table-body__logo-text\">IND</span>\\n                        </td>\\n                        <td class=\"table-body__cell rating\">371</td>\\n                        <td class=\"table-body__cell u-text-right u-hide-phablet\">\\n                                383 v South Africa, 14/10/2019\\n                        </td>\\n                    </tr>\\n\\n\\n\\n\\n\\n                    <tr class=\"table-body\">\\n                        <td class=\"table-body__cell table-body__cell--position u-text-right\">\\n                            43\\n        <span class=\"ranking-pos no-change\"></span>\\n                        </td>\\n                        <td class=\"table-body__cell rankings-table__name name\">\\n                            <a href=\"/rankings/womens/player-rankings/547\">Katherine Brunt</a>\\n                        </td>\\n                        <td class=\"table-body__cell nationality-logo rankings-table__team\">\\n                            <span class=\"flag-15 table-body_logo ENG\"></span>\\n                            <span class=\"table-body__logo-text\">ENG</span>\\n                        </td>\\n                        <td class=\"table-body__cell rating\">368</td>\\n                        <td class=\"table-body__cell u-text-right u-hide-phablet\">\\n                                403 v India, 22/02/2019\\n                        </td>\\n                    </tr>\\n\\n\\n\\n\\n\\n                    <tr class=\"table-body\">\\n                        <td class=\"table-body__cell table-body__cell--position u-text-right\">\\n                            44\\n        <span class=\"ranking-pos no-change\"></span>\\n                        </td>\\n                        <td class=\"table-body__cell rankings-table__name name\">\\n                            <a href=\"/rankings/womens/player-rankings/636\">Nida Dar</a>\\n                        </td>\\n                        <td class=\"table-body__cell nationality-logo rankings-table__team\">\\n                            <span class=\"flag-15 table-body_logo PAK\"></span>\\n                            <span class=\"table-body__logo-text\">PAK</span>\\n                        </td>\\n                        <td class=\"table-body__cell rating\">360</td>\\n                        <td class=\"table-body__cell u-text-right u-hide-phablet\">\\n                                361 v South Africa, 23/01/2021\\n                        </td>\\n                    </tr>\\n\\n\\n\\n\\n\\n                    <tr class=\"table-body\">\\n                        <td class=\"table-body__cell table-body__cell--position u-text-right\">\\n                            45\\n        <span class=\"ranking-pos no-change\"></span>\\n                        </td>\\n                        <td class=\"table-body__cell rankings-table__name name\">\\n                            <a href=\"/rankings/womens/player-rankings/3202\">Harshitha Madavi</a>\\n                        </td>\\n                        <td class=\"table-body__cell nationality-logo rankings-table__team\">\\n                            <span class=\"flag-15 table-body_logo SL\"></span>\\n                            <span class=\"table-body__logo-text\">SL</span>\\n                        </td>\\n                        <td class=\"table-body__cell rating\">353</td>\\n                        <td class=\"table-body__cell u-text-right u-hide-phablet\">\\n                                356 v Australia, 09/10/2019\\n                        </td>\\n                    </tr>\\n\\n\\n\\n\\n\\n                    <tr class=\"table-body\">\\n                        <td class=\"table-body__cell table-body__cell--position u-text-right\">\\n                            46\\n        <span class=\"ranking-pos no-change\"></span>\\n                        </td>\\n                        <td class=\"table-body__cell rankings-table__name name\">\\n                            <a href=\"/rankings/womens/player-rankings/1801\">Fran Wilson</a>\\n                        </td>\\n                        <td class=\"table-body__cell nationality-logo rankings-table__team\">\\n                            <span class=\"flag-15 table-body_logo ENG\"></span>\\n                            <span class=\"table-body__logo-text\">ENG</span>\\n                        </td>\\n                        <td class=\"table-body__cell rating\">352</td>\\n                        <td class=\"table-body__cell u-text-right u-hide-phablet\">\\n                                355 v India, 06/04/2018\\n                        </td>\\n                    </tr>\\n\\n\\n\\n\\n\\n                    <tr class=\"table-body\">\\n                        <td class=\"table-body__cell table-body__cell--position u-text-right\">\\n                            47\\n        <span class=\"ranking-pos up\">\\n\\t<svg class=\"icon\">\\n\\t\\t<use xmlns:xlink=\"http://www.w3.org/1999/xlink\" xlink:href=\"/resources/prod/v8.15.0/i/svg-output/icons.svg#icn-chevron-up\"></use>\\n\\t</svg>\\n            <span class=\"ranking-pos__tooltip\">This player has moved up in the rankings since the previous rankings update</span>\\n        </span>\\n                        </td>\\n                        <td class=\"table-body__cell rankings-table__name name\">\\n                            <a href=\"/rankings/womens/player-rankings/562\">Jhulan Goswami</a>\\n                        </td>\\n                        <td class=\"table-body__cell nationality-logo rankings-table__team\">\\n                            <span class=\"flag-15 table-body_logo IND\"></span>\\n                            <span class=\"table-body__logo-text\">IND</span>\\n                        </td>\\n                        <td class=\"table-body__cell rating\">325</td>\\n                        <td class=\"table-body__cell u-text-right u-hide-phablet\">\\n                                430 v New Zealand, 28/06/2015\\n                        </td>\\n                    </tr>\\n\\n\\n\\n\\n\\n                    <tr class=\"table-body\">\\n                        <td class=\"table-body__cell table-body__cell--position u-text-right\">\\n                            48\\n        <span class=\"ranking-pos up\">\\n\\t<svg class=\"icon\">\\n\\t\\t<use xmlns:xlink=\"http://www.w3.org/1999/xlink\" xlink:href=\"/resources/prod/v8.15.0/i/svg-output/icons.svg#icn-chevron-up\"></use>\\n\\t</svg>\\n            <span class=\"ranking-pos__tooltip\">This player has moved up in the rankings since the previous rankings update</span>\\n        </span>\\n                        </td>\\n                        <td class=\"table-body__cell rankings-table__name name\">\\n                            <a href=\"/rankings/womens/player-rankings/1004\">Rachel Priest</a>\\n                        </td>\\n                        <td class=\"table-body__cell nationality-logo rankings-table__team\">\\n                            <span class=\"flag-15 table-body_logo NZ\"></span>\\n                            <span class=\"table-body__logo-text\">NZ</span>\\n                        </td>\\n                        <td class=\"table-body__cell rating\">322</td>\\n                        <td class=\"table-body__cell u-text-right u-hide-phablet\">\\n                                589 v Sri Lanka, 07/11/2015\\n                        </td>\\n                    </tr>\\n\\n\\n\\n\\n\\n                    <tr class=\"table-body\">\\n                        <td class=\"table-body__cell table-body__cell--position u-text-right\">\\n                            49\\n        <span class=\"ranking-pos up\">\\n\\t<svg class=\"icon\">\\n\\t\\t<use xmlns:xlink=\"http://www.w3.org/1999/xlink\" xlink:href=\"/resources/prod/v8.15.0/i/svg-output/icons.svg#icn-chevron-up\"></use>\\n\\t</svg>\\n            <span class=\"ranking-pos__tooltip\">This player has moved up in the rankings since the previous rankings update</span>\\n        </span>\\n                        </td>\\n                        <td class=\"table-body__cell rankings-table__name name\">\\n                            <a href=\"/rankings/womens/player-rankings/1790\">Maddie Green</a>\\n                        </td>\\n                        <td class=\"table-body__cell nationality-logo rankings-table__team\">\\n                            <span class=\"flag-15 table-body_logo NZ\"></span>\\n                            <span class=\"table-body__logo-text\">NZ</span>\\n                        </td>\\n                        <td class=\"table-body__cell rating\">320</td>\\n                        <td class=\"table-body__cell u-text-right u-hide-phablet\">\\n                                320 v Australia, 07/10/2020\\n                        </td>\\n                    </tr>\\n\\n\\n\\n\\n\\n                    <tr class=\"table-body\">\\n                        <td class=\"table-body__cell table-body__cell--position u-text-right\">\\n                            50\\n        <span class=\"ranking-pos up\">\\n\\t<svg class=\"icon\">\\n\\t\\t<use xmlns:xlink=\"http://www.w3.org/1999/xlink\" xlink:href=\"/resources/prod/v8.15.0/i/svg-output/icons.svg#icn-chevron-up\"></use>\\n\\t</svg>\\n            <span class=\"ranking-pos__tooltip\">This player has moved up in the rankings since the previous rankings update</span>\\n        </span>\\n                        </td>\\n                        <td class=\"table-body__cell rankings-table__name name\">\\n                            <a href=\"/rankings/womens/player-rankings/574\">Shemaine Campbelle</a>\\n                        </td>\\n                        <td class=\"table-body__cell nationality-logo rankings-table__team\">\\n                            <span class=\"flag-15 table-body_logo WI\"></span>\\n                            <span class=\"table-body__logo-text\">WI</span>\\n                        </td>\\n                        <td class=\"table-body__cell rating\">319</td>\\n                        <td class=\"table-body__cell u-text-right u-hide-phablet\">\\n                                403 v New Zealand, 14/09/2014\\n                        </td>\\n                    </tr>\\n\\n\\n\\n\\n\\n                    <tr class=\"table-body\">\\n                        <td class=\"table-body__cell table-body__cell--position u-text-right\">\\n                            \\n        <span class=\"ranking-pos up\">\\n\\t<svg class=\"icon\">\\n\\t\\t<use xmlns:xlink=\"http://www.w3.org/1999/xlink\" xlink:href=\"/resources/prod/v8.15.0/i/svg-output/icons.svg#icn-chevron-up\"></use>\\n\\t</svg>\\n            <span class=\"ranking-pos__tooltip\">This player has moved up in the rankings since the previous rankings update</span>\\n        </span>\\n                        </td>\\n                        <td class=\"table-body__cell rankings-table__name name\">\\n                            <a href=\"/rankings/womens/player-rankings/607\">Dilani Manodara</a>\\n                        </td>\\n                        <td class=\"table-body__cell nationality-logo rankings-table__team\">\\n                            <span class=\"flag-15 table-body_logo SL\"></span>\\n                            <span class=\"table-body__logo-text\">SL</span>\\n                        </td>\\n                        <td class=\"table-body__cell rating\">319</td>\\n                        <td class=\"table-body__cell u-text-right u-hide-phablet\">\\n                                419 v West Indies, 15/10/2017\\n                        </td>\\n                    </tr>\\n\\n\\n\\n\\n\\n                    <tr class=\"table-body\">\\n                        <td class=\"table-body__cell table-body__cell--position u-text-right\">\\n                            52\\n        <span class=\"ranking-pos up\">\\n\\t<svg class=\"icon\">\\n\\t\\t<use xmlns:xlink=\"http://www.w3.org/1999/xlink\" xlink:href=\"/resources/prod/v8.15.0/i/svg-output/icons.svg#icn-chevron-up\"></use>\\n\\t</svg>\\n            <span class=\"ranking-pos__tooltip\">This player has moved up in the rankings since the previous rankings update</span>\\n        </span>\\n                        </td>\\n                        <td class=\"table-body__cell rankings-table__name name\">\\n                            <a href=\"/rankings/womens/player-rankings/3204\">Nigar Sultana</a>\\n                        </td>\\n                        <td class=\"table-body__cell nationality-logo rankings-table__team\">\\n                            <span class=\"flag-15 table-body_logo BAN\"></span>\\n                            <span class=\"table-body__logo-text\">BAN</span>\\n                        </td>\\n                        <td class=\"table-body__cell rating\">317</td>\\n                        <td class=\"table-body__cell u-text-right u-hide-phablet\">\\n                                336 v Pakistan, 02/11/2019\\n                        </td>\\n                    </tr>\\n\\n\\n\\n\\n\\n                    <tr class=\"table-body\">\\n                        <td class=\"table-body__cell table-body__cell--position u-text-right\">\\n                            53\\n        <span class=\"ranking-pos down\">\\n\\t<svg class=\"icon\">\\n\\t\\t<use xmlns:xlink=\"http://www.w3.org/1999/xlink\" xlink:href=\"/resources/prod/v8.15.0/i/svg-output/icons.svg#icn-chevron-down\"></use>\\n\\t</svg>\\n            <span class=\"ranking-pos__tooltip\">This player has moved down in the rankings since the previous rankings update</span>\\n        </span>\\n                        </td>\\n                        <td class=\"table-body__cell rankings-table__name name\">\\n                            <a href=\"/rankings/womens/player-rankings/5311\">Umaima Sohail</a>\\n                        </td>\\n                        <td class=\"table-body__cell nationality-logo rankings-table__team\">\\n                            <span class=\"flag-15 table-body_logo PAK\"></span>\\n                            <span class=\"table-body__logo-text\">PAK</span>\\n                        </td>\\n                        <td class=\"table-body__cell rating\">310</td>\\n                        <td class=\"table-body__cell u-text-right u-hide-phablet\">\\n                                337 v South Africa, 23/01/2021\\n                        </td>\\n                    </tr>\\n\\n\\n\\n\\n\\n                    <tr class=\"table-body\">\\n                        <td class=\"table-body__cell table-body__cell--position u-text-right\">\\n                            54\\n        <span class=\"ranking-pos no-change\"></span>\\n                        </td>\\n                        <td class=\"table-body__cell rankings-table__name name\">\\n                            <a href=\"/rankings/womens/player-rankings/4325\">Chedean Nation</a>\\n                        </td>\\n                        <td class=\"table-body__cell nationality-logo rankings-table__team\">\\n                            <span class=\"flag-15 table-body_logo WI\"></span>\\n                            <span class=\"table-body__logo-text\">WI</span>\\n                        </td>\\n                        <td class=\"table-body__cell rating\">292</td>\\n                        <td class=\"table-body__cell u-text-right u-hide-phablet\">\\n                                312 v India, 01/11/2019\\n                        </td>\\n                    </tr>\\n\\n\\n\\n\\n\\n                    <tr class=\"table-body\">\\n                        <td class=\"table-body__cell table-body__cell--position u-text-right\">\\n                            55\\n        <span class=\"ranking-pos no-change\"></span>\\n                        </td>\\n                        <td class=\"table-body__cell rankings-table__name name\">\\n                            <a href=\"/rankings/womens/player-rankings/1017\">Kyshona Knight</a>\\n                        </td>\\n                        <td class=\"table-body__cell nationality-logo rankings-table__team\">\\n                            <span class=\"flag-15 table-body_logo WI\"></span>\\n                            <span class=\"table-body__logo-text\">WI</span>\\n                        </td>\\n                        <td class=\"table-body__cell rating\">281</td>\\n                        <td class=\"table-body__cell u-text-right u-hide-phablet\">\\n                                313 v Australia, 11/09/2019\\n                        </td>\\n                    </tr>\\n\\n\\n\\n\\n\\n                    <tr class=\"table-body\">\\n                        <td class=\"table-body__cell table-body__cell--position u-text-right\">\\n                            56\\n        <span class=\"ranking-pos no-change\"></span>\\n                        </td>\\n                        <td class=\"table-body__cell rankings-table__name name\">\\n                            <a href=\"/rankings/womens/player-rankings/579\">Kycia Knight</a>\\n                        </td>\\n                        <td class=\"table-body__cell nationality-logo rankings-table__team\">\\n                            <span class=\"flag-15 table-body_logo WI\"></span>\\n                            <span class=\"table-body__logo-text\">WI</span>\\n                        </td>\\n                        <td class=\"table-body__cell rating\">276</td>\\n                        <td class=\"table-body__cell u-text-right u-hide-phablet\">\\n                                404 v Sri Lanka, 18/05/2015\\n                        </td>\\n                    </tr>\\n\\n\\n\\n\\n\\n                    <tr class=\"table-body\">\\n                        <td class=\"table-body__cell table-body__cell--position u-text-right\">\\n                            57\\n        <span class=\"ranking-pos no-change\"></span>\\n                        </td>\\n                        <td class=\"table-body__cell rankings-table__name name\">\\n                            <a href=\"/rankings/womens/player-rankings/5074\">Priya Punia</a>\\n                        </td>\\n                        <td class=\"table-body__cell nationality-logo rankings-table__team\">\\n                            <span class=\"flag-15 table-body_logo IND\"></span>\\n                            <span class=\"table-body__logo-text\">IND</span>\\n                        </td>\\n                        <td class=\"table-body__cell rating\">269</td>\\n                        <td class=\"table-body__cell u-text-right u-hide-phablet\">\\n                                284 v West Indies, 01/11/2019\\n                        </td>\\n                    </tr>\\n\\n\\n\\n\\n\\n                    <tr class=\"table-body\">\\n                        <td class=\"table-body__cell table-body__cell--position u-text-right\">\\n                            \\n        <span class=\"ranking-pos no-change\"></span>\\n                        </td>\\n                        <td class=\"table-body__cell rankings-table__name name\">\\n                            <a href=\"/rankings/womens/player-rankings/3756\">Amelia Kerr</a>\\n                        </td>\\n                        <td class=\"table-body__cell nationality-logo rankings-table__team\">\\n                            <span class=\"flag-15 table-body_logo NZ\"></span>\\n                            <span class=\"table-body__logo-text\">NZ</span>\\n                        </td>\\n                        <td class=\"table-body__cell rating\">269</td>\\n                        <td class=\"table-body__cell u-text-right u-hide-phablet\">\\n                                373 v Australia, 22/02/2019\\n                        </td>\\n                    </tr>\\n\\n\\n\\n\\n\\n                    <tr class=\"table-body\">\\n                        <td class=\"table-body__cell table-body__cell--position u-text-right\">\\n                            59\\n        <span class=\"ranking-pos up\">\\n\\t<svg class=\"icon\">\\n\\t\\t<use xmlns:xlink=\"http://www.w3.org/1999/xlink\" xlink:href=\"/resources/prod/v8.15.0/i/svg-output/icons.svg#icn-chevron-up\"></use>\\n\\t</svg>\\n            <span class=\"ranking-pos__tooltip\">This player has moved up in the rankings since the previous rankings update</span>\\n        </span>\\n                        </td>\\n                        <td class=\"table-body__cell rankings-table__name name\">\\n                            <a href=\"/rankings/womens/player-rankings/5068\">Taniya Bhatia</a>\\n                        </td>\\n                        <td class=\"table-body__cell nationality-logo rankings-table__team\">\\n                            <span class=\"flag-15 table-body_logo IND\"></span>\\n                            <span class=\"table-body__logo-text\">IND</span>\\n                        </td>\\n                        <td class=\"table-body__cell rating\">266</td>\\n                        <td class=\"table-body__cell u-text-right u-hide-phablet\">\\n                                291 v West Indies, 06/11/2019\\n                        </td>\\n                    </tr>\\n\\n\\n\\n\\n\\n                    <tr class=\"table-body\">\\n                        <td class=\"table-body__cell table-body__cell--position u-text-right\">\\n                            60\\n        <span class=\"ranking-pos down\">\\n\\t<svg class=\"icon\">\\n\\t\\t<use xmlns:xlink=\"http://www.w3.org/1999/xlink\" xlink:href=\"/resources/prod/v8.15.0/i/svg-output/icons.svg#icn-chevron-down\"></use>\\n\\t</svg>\\n            <span class=\"ranking-pos__tooltip\">This player has moved down in the rankings since the previous rankings update</span>\\n        </span>\\n                        </td>\\n                        <td class=\"table-body__cell rankings-table__name name\">\\n                            <a href=\"/rankings/womens/player-rankings/1008\">Sidra Ameen</a>\\n                        </td>\\n                        <td class=\"table-body__cell nationality-logo rankings-table__team\">\\n                            <span class=\"flag-15 table-body_logo PAK\"></span>\\n                            <span class=\"table-body__logo-text\">PAK</span>\\n                        </td>\\n                        <td class=\"table-body__cell rating\">264</td>\\n                        <td class=\"table-body__cell u-text-right u-hide-phablet\">\\n                                319 v South Africa, 09/05/2019\\n                        </td>\\n                    </tr>\\n\\n\\n\\n\\n\\n                    <tr class=\"table-body\">\\n                        <td class=\"table-body__cell table-body__cell--position u-text-right\">\\n                            61\\n        <span class=\"ranking-pos up\">\\n\\t<svg class=\"icon\">\\n\\t\\t<use xmlns:xlink=\"http://www.w3.org/1999/xlink\" xlink:href=\"/resources/prod/v8.15.0/i/svg-output/icons.svg#icn-chevron-up\"></use>\\n\\t</svg>\\n            <span class=\"ranking-pos__tooltip\">This player has moved up in the rankings since the previous rankings update</span>\\n        </span>\\n                        </td>\\n                        <td class=\"table-body__cell rankings-table__name name\">\\n                            <a href=\"/rankings/womens/player-rankings/597\">Nilakshi Silva</a>\\n                        </td>\\n                        <td class=\"table-body__cell nationality-logo rankings-table__team\">\\n                            <span class=\"flag-15 table-body_logo SL\"></span>\\n                            <span class=\"table-body__logo-text\">SL</span>\\n                        </td>\\n                        <td class=\"table-body__cell rating\">261</td>\\n                        <td class=\"table-body__cell u-text-right u-hide-phablet\">\\n                                279 v Australia, 07/10/2019\\n                        </td>\\n                    </tr>\\n\\n\\n\\n\\n\\n                    <tr class=\"table-body\">\\n                        <td class=\"table-body__cell table-body__cell--position u-text-right\">\\n                            62\\n        <span class=\"ranking-pos down\">\\n\\t<svg class=\"icon\">\\n\\t\\t<use xmlns:xlink=\"http://www.w3.org/1999/xlink\" xlink:href=\"/resources/prod/v8.15.0/i/svg-output/icons.svg#icn-chevron-down\"></use>\\n\\t</svg>\\n            <span class=\"ranking-pos__tooltip\">This player has moved down in the rankings since the previous rankings update</span>\\n        </span>\\n                        </td>\\n                        <td class=\"table-body__cell rankings-table__name name\">\\n                            <a href=\"/rankings/womens/player-rankings/1836\">Andrie Steyn</a>\\n                        </td>\\n                        <td class=\"table-body__cell nationality-logo rankings-table__team\">\\n                            <span class=\"flag-15 table-body_logo SA\"></span>\\n                            <span class=\"table-body__logo-text\">SA</span>\\n                        </td>\\n                        <td class=\"table-body__cell rating\">259</td>\\n                        <td class=\"table-body__cell u-text-right u-hide-phablet\">\\n                                378 v Ireland, 19/05/2017\\n                        </td>\\n                    </tr>\\n\\n\\n\\n\\n\\n                    <tr class=\"table-body\">\\n                        <td class=\"table-body__cell table-body__cell--position u-text-right\">\\n                            63\\n        <span class=\"ranking-pos no-change\"></span>\\n                        </td>\\n                        <td class=\"table-body__cell rankings-table__name name\">\\n                            <a href=\"/rankings/womens/player-rankings/5294\">Sheneta Grimmond</a>\\n                        </td>\\n                        <td class=\"table-body__cell nationality-logo rankings-table__team\">\\n                            <span class=\"flag-15 table-body_logo WI\"></span>\\n                            <span class=\"table-body__logo-text\">WI</span>\\n                        </td>\\n                        <td class=\"table-body__cell rating\">252</td>\\n                        <td class=\"table-body__cell u-text-right u-hide-phablet\">\\n                                268 v India, 01/11/2019\\n                        </td>\\n                    </tr>\\n\\n\\n\\n\\n\\n                    <tr class=\"table-body\">\\n                        <td class=\"table-body__cell table-body__cell--position u-text-right\">\\n                            64\\n        <span class=\"ranking-pos no-change\"></span>\\n                        </td>\\n                        <td class=\"table-body__cell rankings-table__name name\">\\n                            <a href=\"/rankings/womens/player-rankings/1818\">Salma Khatun</a>\\n                        </td>\\n                        <td class=\"table-body__cell nationality-logo rankings-table__team\">\\n                            <span class=\"flag-15 table-body_logo BAN\"></span>\\n                            <span class=\"table-body__logo-text\">BAN</span>\\n                        </td>\\n                        <td class=\"table-body__cell rating\">244</td>\\n                        <td class=\"table-body__cell u-text-right u-hide-phablet\">\\n                                366 v South Africa, 22/09/2013\\n                        </td>\\n                    </tr>\\n\\n\\n\\n\\n\\n                    <tr class=\"table-body\">\\n                        <td class=\"table-body__cell table-body__cell--position u-text-right\">\\n                            65\\n        <span class=\"ranking-pos no-change\"></span>\\n                        </td>\\n                        <td class=\"table-body__cell rankings-table__name name\">\\n                            <a href=\"/rankings/womens/player-rankings/3160\">Leigh Kasperek</a>\\n                        </td>\\n                        <td class=\"table-body__cell nationality-logo rankings-table__team\">\\n                            <span class=\"flag-15 table-body_logo NZ\"></span>\\n                            <span class=\"table-body__logo-text\">NZ</span>\\n                        </td>\\n                        <td class=\"table-body__cell rating\">240</td>\\n                        <td class=\"table-body__cell u-text-right u-hide-phablet\">\\n                                259 v South Africa, 25/01/2020\\n                        </td>\\n                    </tr>\\n\\n\\n\\n\\n\\n                    <tr class=\"table-body\">\\n                        <td class=\"table-body__cell table-body__cell--position u-text-right\">\\n                            66\\n        <span class=\"ranking-pos no-change\"></span>\\n                        </td>\\n                        <td class=\"table-body__cell rankings-table__name name\">\\n                            <a href=\"/rankings/womens/player-rankings/555\">Anya Shrubsole</a>\\n                        </td>\\n                        <td class=\"table-body__cell nationality-logo rankings-table__team\">\\n                            <span class=\"flag-15 table-body_logo ENG\"></span>\\n                            <span class=\"table-body__logo-text\">ENG</span>\\n                        </td>\\n                        <td class=\"table-body__cell rating\">239</td>\\n                        <td class=\"table-body__cell u-text-right u-hide-phablet\">\\n                                249 v West Indies, 09/06/2019\\n                        </td>\\n                    </tr>\\n\\n\\n\\n\\n\\n                    <tr class=\"table-body\">\\n                        <td class=\"table-body__cell table-body__cell--position u-text-right\">\\n                            67\\n        <span class=\"ranking-pos no-change\"></span>\\n                        </td>\\n                        <td class=\"table-body__cell rankings-table__name name\">\\n                            <a href=\"/rankings/womens/player-rankings/892\">Nicola Carey</a>\\n                        </td>\\n                        <td class=\"table-body__cell nationality-logo rankings-table__team\">\\n                            <span class=\"flag-15 table-body_logo AUS\"></span>\\n                            <span class=\"table-body__logo-text\">AUS</span>\\n                        </td>\\n                        <td class=\"table-body__cell rating\">236</td>\\n                        <td class=\"table-body__cell u-text-right u-hide-phablet\">\\n                                236 v New Zealand, 07/10/2020\\n                        </td>\\n                    </tr>\\n\\n\\n\\n\\n\\n                    <tr class=\"table-body\">\\n                        <td class=\"table-body__cell table-body__cell--position u-text-right\">\\n                            68\\n        <span class=\"ranking-pos no-change\"></span>\\n                        </td>\\n                        <td class=\"table-body__cell rankings-table__name name\">\\n                            <a href=\"/rankings/womens/player-rankings/1814\">Poonam Yadav</a>\\n                        </td>\\n                        <td class=\"table-body__cell nationality-logo rankings-table__team\">\\n                            <span class=\"flag-15 table-body_logo IND\"></span>\\n                            <span class=\"table-body__logo-text\">IND</span>\\n                        </td>\\n                        <td class=\"table-body__cell rating\">233</td>\\n                        <td class=\"table-body__cell u-text-right u-hide-phablet\">\\n                                260 v South Africa, 11/10/2019\\n                        </td>\\n                    </tr>\\n\\n\\n\\n\\n\\n                    <tr class=\"table-body\">\\n                        <td class=\"table-body__cell table-body__cell--position u-text-right\">\\n                            69\\n        <span class=\"ranking-pos no-change\"></span>\\n                        </td>\\n                        <td class=\"table-body__cell rankings-table__name name\">\\n                            <a href=\"/rankings/womens/player-rankings/891\">Avanthika Mendis</a>\\n                        </td>\\n                        <td class=\"table-body__cell nationality-logo rankings-table__team\">\\n                            <span class=\"flag-15 table-body_logo SL\"></span>\\n                            <span class=\"table-body__logo-text\">SL</span>\\n                        </td>\\n                        <td class=\"table-body__cell rating\">226</td>\\n                        <td class=\"table-body__cell u-text-right u-hide-phablet\">\\n                                408 v India, 21/01/2014\\n                        </td>\\n                    </tr>\\n\\n\\n\\n\\n\\n                    <tr class=\"table-body\">\\n                        <td class=\"table-body__cell table-body__cell--position u-text-right\">\\n                            70\\n        <span class=\"ranking-pos up\">\\n\\t<svg class=\"icon\">\\n\\t\\t<use xmlns:xlink=\"http://www.w3.org/1999/xlink\" xlink:href=\"/resources/prod/v8.15.0/i/svg-output/icons.svg#icn-chevron-up\"></use>\\n\\t</svg>\\n            <span class=\"ranking-pos__tooltip\">This player has moved up in the rankings since the previous rankings update</span>\\n        </span>\\n                        </td>\\n                        <td class=\"table-body__cell rankings-table__name name\">\\n                            <a href=\"/rankings/womens/player-rankings/1018\">Natasha McLean</a>\\n                        </td>\\n                        <td class=\"table-body__cell nationality-logo rankings-table__team\">\\n                            <span class=\"flag-15 table-body_logo WI\"></span>\\n                            <span class=\"table-body__logo-text\">WI</span>\\n                        </td>\\n                        <td class=\"table-body__cell rating\">224</td>\\n                        <td class=\"table-body__cell u-text-right u-hide-phablet\">\\n                                243 v New Zealand, 08/10/2013\\n                        </td>\\n                    </tr>\\n\\n\\n\\n\\n\\n                    <tr class=\"table-body\">\\n                        <td class=\"table-body__cell table-body__cell--position u-text-right\">\\n                            71\\n        <span class=\"ranking-pos up\">\\n\\t<svg class=\"icon\">\\n\\t\\t<use xmlns:xlink=\"http://www.w3.org/1999/xlink\" xlink:href=\"/resources/prod/v8.15.0/i/svg-output/icons.svg#icn-chevron-up\"></use>\\n\\t</svg>\\n            <span class=\"ranking-pos__tooltip\">This player has moved up in the rankings since the previous rankings update</span>\\n        </span>\\n                        </td>\\n                        <td class=\"table-body__cell rankings-table__name name\">\\n                            <a href=\"/rankings/womens/player-rankings/1832\">Sharmin Supta</a>\\n                        </td>\\n                        <td class=\"table-body__cell nationality-logo rankings-table__team\">\\n                            <span class=\"flag-15 table-body_logo BAN\"></span>\\n                            <span class=\"table-body__logo-text\">BAN</span>\\n                        </td>\\n                        <td class=\"table-body__cell rating\">221</td>\\n                        <td class=\"table-body__cell u-text-right u-hide-phablet\">\\n                                226 v Pakistan, 02/11/2019\\n                        </td>\\n                    </tr>\\n\\n\\n\\n\\n\\n                    <tr class=\"table-body\">\\n                        <td class=\"table-body__cell table-body__cell--position u-text-right\">\\n                            72\\n        <span class=\"ranking-pos down\">\\n\\t<svg class=\"icon\">\\n\\t\\t<use xmlns:xlink=\"http://www.w3.org/1999/xlink\" xlink:href=\"/resources/prod/v8.15.0/i/svg-output/icons.svg#icn-chevron-down\"></use>\\n\\t</svg>\\n            <span class=\"ranking-pos__tooltip\">This player has moved down in the rankings since the previous rankings update</span>\\n        </span>\\n                        </td>\\n                        <td class=\"table-body__cell rankings-table__name name\">\\n                            <a href=\"/rankings/womens/player-rankings/4049\">Lara Goodall</a>\\n                        </td>\\n                        <td class=\"table-body__cell nationality-logo rankings-table__team\">\\n                            <span class=\"flag-15 table-body_logo SA\"></span>\\n                            <span class=\"table-body__logo-text\">SA</span>\\n                        </td>\\n                        <td class=\"table-body__cell rating\">215</td>\\n                        <td class=\"table-body__cell u-text-right u-hide-phablet\">\\n                                225 v Pakistan, 23/01/2021\\n                        </td>\\n                    </tr>\\n\\n\\n\\n\\n\\n                    <tr class=\"table-body\">\\n                        <td class=\"table-body__cell table-body__cell--position u-text-right\">\\n                            73\\n        <span class=\"ranking-pos no-change\"></span>\\n                        </td>\\n                        <td class=\"table-body__cell rankings-table__name name\">\\n                            <a href=\"/rankings/womens/player-rankings/3264\">Anushka Sanjeewani</a>\\n                        </td>\\n                        <td class=\"table-body__cell nationality-logo rankings-table__team\">\\n                            <span class=\"flag-15 table-body_logo SL\"></span>\\n                            <span class=\"table-body__logo-text\">SL</span>\\n                        </td>\\n                        <td class=\"table-body__cell rating\">211</td>\\n                        <td class=\"table-body__cell u-text-right u-hide-phablet\">\\n                                222 v Australia, 07/10/2019\\n                        </td>\\n                    </tr>\\n\\n\\n\\n\\n\\n                    <tr class=\"table-body\">\\n                        <td class=\"table-body__cell table-body__cell--position u-text-right\">\\n                            74\\n        <span class=\"ranking-pos no-change\"></span>\\n                        </td>\\n                        <td class=\"table-body__cell rankings-table__name name\">\\n                            <a href=\"/rankings/womens/player-rankings/3168\">Rajeshwari Gayakwad</a>\\n                        </td>\\n                        <td class=\"table-body__cell nationality-logo rankings-table__team\">\\n                            <span class=\"flag-15 table-body_logo IND\"></span>\\n                            <span class=\"table-body__logo-text\">IND</span>\\n                        </td>\\n                        <td class=\"table-body__cell rating\">210</td>\\n                        <td class=\"table-body__cell u-text-right u-hide-phablet\">\\n                                215 v South Africa, 17/05/2017\\n                        </td>\\n                    </tr>\\n\\n\\n\\n\\n\\n                    <tr class=\"table-body\">\\n                        <td class=\"table-body__cell table-body__cell--position u-text-right\">\\n                            75\\n        <span class=\"ranking-pos no-change\"></span>\\n                        </td>\\n                        <td class=\"table-body__cell rankings-table__name name\">\\n                            <a href=\"/rankings/womens/player-rankings/1798\">Kate Cross</a>\\n                        </td>\\n                        <td class=\"table-body__cell nationality-logo rankings-table__team\">\\n                            <span class=\"flag-15 table-body_logo ENG\"></span>\\n                            <span class=\"table-body__logo-text\">ENG</span>\\n                        </td>\\n                        <td class=\"table-body__cell rating\">208</td>\\n                        <td class=\"table-body__cell u-text-right u-hide-phablet\">\\n                                223 v Pakistan, 12/12/2019\\n                        </td>\\n                    </tr>\\n\\n\\n\\n\\n\\n                    <tr class=\"table-body\">\\n                        <td class=\"table-body__cell table-body__cell--position u-text-right\">\\n                            76\\n        <span class=\"ranking-pos no-change\"></span>\\n                        </td>\\n                        <td class=\"table-body__cell rankings-table__name name\">\\n                            <a href=\"/rankings/womens/player-rankings/603\">Inoka Ranaweera</a>\\n                        </td>\\n                        <td class=\"table-body__cell nationality-logo rankings-table__team\">\\n                            <span class=\"flag-15 table-body_logo SL\"></span>\\n                            <span class=\"table-body__logo-text\">SL</span>\\n                        </td>\\n                        <td class=\"table-body__cell rating\">205</td>\\n                        <td class=\"table-body__cell u-text-right u-hide-phablet\">\\n                                230 v Australia, 29/06/2017\\n                        </td>\\n                    </tr>\\n\\n\\n\\n\\n\\n                    <tr class=\"table-body\">\\n                        <td class=\"table-body__cell table-body__cell--position u-text-right\">\\n                            77\\n        <span class=\"ranking-pos no-change\"></span>\\n                        </td>\\n                        <td class=\"table-body__cell rankings-table__name name\">\\n                            <a href=\"/rankings/womens/player-rankings/578\">Stacy-Ann King</a>\\n                        </td>\\n                        <td class=\"table-body__cell nationality-logo rankings-table__team\">\\n                            <span class=\"flag-15 table-body_logo WI\"></span>\\n                            <span class=\"table-body__logo-text\">WI</span>\\n                        </td>\\n                        <td class=\"table-body__cell rating\">201</td>\\n                        <td class=\"table-body__cell u-text-right u-hide-phablet\">\\n                                390 v India, 29/02/2012\\n                        </td>\\n                    </tr>\\n\\n\\n\\n\\n\\n                    <tr class=\"table-body\">\\n                        <td class=\"table-body__cell table-body__cell--position u-text-right\">\\n                            78\\n        <span class=\"ranking-pos no-change\"></span>\\n                        </td>\\n                        <td class=\"table-body__cell rankings-table__name name\">\\n                            <a href=\"/rankings/womens/player-rankings/997\">Megan Schutt</a>\\n                        </td>\\n                        <td class=\"table-body__cell nationality-logo rankings-table__team\">\\n                            <span class=\"flag-15 table-body_logo AUS\"></span>\\n                            <span class=\"table-body__logo-text\">AUS</span>\\n                        </td>\\n                        <td class=\"table-body__cell rating\">195</td>\\n                        <td class=\"table-body__cell u-text-right u-hide-phablet\">\\n                                209 v Sri Lanka, 23/09/2016\\n                        </td>\\n                    </tr>\\n\\n\\n\\n\\n\\n                    <tr class=\"table-body\">\\n                        <td class=\"table-body__cell table-body__cell--position u-text-right\">\\n                            \\n        <span class=\"ranking-pos no-change\"></span>\\n                        </td>\\n                        <td class=\"table-body__cell rankings-table__name name\">\\n                            <a href=\"/rankings/womens/player-rankings/1015\">Oshadi Ranasinghe</a>\\n                        </td>\\n                        <td class=\"table-body__cell nationality-logo rankings-table__team\">\\n                            <span class=\"flag-15 table-body_logo SL\"></span>\\n                            <span class=\"table-body__logo-text\">SL</span>\\n                        </td>\\n                        <td class=\"table-body__cell rating\">195</td>\\n                        <td class=\"table-body__cell u-text-right u-hide-phablet\">\\n                                206 v England, 21/03/2019\\n                        </td>\\n                    </tr>\\n\\n\\n\\n\\n\\n                    <tr class=\"table-body\">\\n                        <td class=\"table-body__cell table-body__cell--position u-text-right\">\\n                            80\\n        <span class=\"ranking-pos up\">\\n\\t<svg class=\"icon\">\\n\\t\\t<use xmlns:xlink=\"http://www.w3.org/1999/xlink\" xlink:href=\"/resources/prod/v8.15.0/i/svg-output/icons.svg#icn-chevron-up\"></use>\\n\\t</svg>\\n            <span class=\"ranking-pos__tooltip\">This player has moved up in the rankings since the previous rankings update</span>\\n        </span>\\n                        </td>\\n                        <td class=\"table-body__cell rankings-table__name name\">\\n                            <a href=\"/rankings/womens/player-rankings/4315\">Nashra Sandhu</a>\\n                        </td>\\n                        <td class=\"table-body__cell nationality-logo rankings-table__team\">\\n                            <span class=\"flag-15 table-body_logo PAK\"></span>\\n                            <span class=\"table-body__logo-text\">PAK</span>\\n                        </td>\\n                        <td class=\"table-body__cell rating\">192</td>\\n                        <td class=\"table-body__cell u-text-right u-hide-phablet\">\\n                                228 v Bangladesh, 02/11/2019\\n                        </td>\\n                    </tr>\\n\\n\\n\\n\\n\\n                    <tr class=\"table-body\">\\n                        <td class=\"table-body__cell table-body__cell--position u-text-right\">\\n                            81\\n        <span class=\"ranking-pos down\">\\n\\t<svg class=\"icon\">\\n\\t\\t<use xmlns:xlink=\"http://www.w3.org/1999/xlink\" xlink:href=\"/resources/prod/v8.15.0/i/svg-output/icons.svg#icn-chevron-down\"></use>\\n\\t</svg>\\n            <span class=\"ranking-pos__tooltip\">This player has moved down in the rankings since the previous rankings update</span>\\n        </span>\\n                        </td>\\n                        <td class=\"table-body__cell rankings-table__name name\">\\n                            <a href=\"/rankings/womens/player-rankings/1792\">Hayley Jensen</a>\\n                        </td>\\n                        <td class=\"table-body__cell nationality-logo rankings-table__team\">\\n                            <span class=\"flag-15 table-body_logo NZ\"></span>\\n                            <span class=\"table-body__logo-text\">NZ</span>\\n                        </td>\\n                        <td class=\"table-body__cell rating\">191</td>\\n                        <td class=\"table-body__cell u-text-right u-hide-phablet\">\\n                                205 v Australia, 03/10/2020\\n                        </td>\\n                    </tr>\\n\\n\\n\\n\\n\\n                    <tr class=\"table-body\">\\n                        <td class=\"table-body__cell table-body__cell--position u-text-right\">\\n                            82\\n        <span class=\"ranking-pos up\">\\n\\t<svg class=\"icon\">\\n\\t\\t<use xmlns:xlink=\"http://www.w3.org/1999/xlink\" xlink:href=\"/resources/prod/v8.15.0/i/svg-output/icons.svg#icn-chevron-up\"></use>\\n\\t</svg>\\n            <span class=\"ranking-pos__tooltip\">This player has moved up in the rankings since the previous rankings update</span>\\n        </span>\\n                        </td>\\n                        <td class=\"table-body__cell rankings-table__name name\">\\n                            <a href=\"/rankings/womens/player-rankings/1837\">Chinelle Henry</a>\\n                        </td>\\n                        <td class=\"table-body__cell nationality-logo rankings-table__team\">\\n                            <span class=\"flag-15 table-body_logo WI\"></span>\\n                            <span class=\"table-body__logo-text\">WI</span>\\n                        </td>\\n                        <td class=\"table-body__cell rating\">188</td>\\n                        <td class=\"table-body__cell u-text-right u-hide-phablet\">\\n                                196 v Australia, 11/09/2019\\n                        </td>\\n                    </tr>\\n\\n\\n\\n\\n\\n                    <tr class=\"table-body\">\\n                        <td class=\"table-body__cell table-body__cell--position u-text-right\">\\n                            83\\n        <span class=\"ranking-pos up\">\\n\\t<svg class=\"icon\">\\n\\t\\t<use xmlns:xlink=\"http://www.w3.org/1999/xlink\" xlink:href=\"/resources/prod/v8.15.0/i/svg-output/icons.svg#icn-chevron-up\"></use>\\n\\t</svg>\\n            <span class=\"ranking-pos__tooltip\">This player has moved up in the rankings since the previous rankings update</span>\\n        </span>\\n                        </td>\\n                        <td class=\"table-body__cell rankings-table__name name\">\\n                            <a href=\"/rankings/womens/player-rankings/3124\">Shamilia Connell</a>\\n                        </td>\\n                        <td class=\"table-body__cell nationality-logo rankings-table__team\">\\n                            <span class=\"flag-15 table-body_logo WI\"></span>\\n                            <span class=\"table-body__logo-text\">WI</span>\\n                        </td>\\n                        <td class=\"table-body__cell rating\">186</td>\\n                        <td class=\"table-body__cell u-text-right u-hide-phablet\">\\n                                230 v Pakistan, 09/02/2019\\n                        </td>\\n                    </tr>\\n\\n\\n\\n\\n\\n                    <tr class=\"table-body\">\\n                        <td class=\"table-body__cell table-body__cell--position u-text-right\">\\n                            84\\n        <span class=\"ranking-pos down\">\\n\\t<svg class=\"icon\">\\n\\t\\t<use xmlns:xlink=\"http://www.w3.org/1999/xlink\" xlink:href=\"/resources/prod/v8.15.0/i/svg-output/icons.svg#icn-chevron-down\"></use>\\n\\t</svg>\\n            <span class=\"ranking-pos__tooltip\">This player has moved down in the rankings since the previous rankings update</span>\\n        </span>\\n                        </td>\\n                        <td class=\"table-body__cell rankings-table__name name\">\\n                            <a href=\"/rankings/womens/player-rankings/423\">Shabnim Ismail</a>\\n                        </td>\\n                        <td class=\"table-body__cell nationality-logo rankings-table__team\">\\n                            <span class=\"flag-15 table-body_logo SA\"></span>\\n                            <span class=\"table-body__logo-text\">SA</span>\\n                        </td>\\n                        <td class=\"table-body__cell rating\">185</td>\\n                        <td class=\"table-body__cell u-text-right u-hide-phablet\">\\n                                290 v Ireland, 14/01/2014\\n                        </td>\\n                    </tr>\\n\\n\\n\\n\\n\\n                    <tr class=\"table-body\">\\n                        <td class=\"table-body__cell table-body__cell--position u-text-right\">\\n                            85\\n        <span class=\"ranking-pos no-change\"></span>\\n                        </td>\\n                        <td class=\"table-body__cell rankings-table__name name\">\\n                            <a href=\"/rankings/womens/player-rankings/1005\">Lea Tahuhu</a>\\n                        </td>\\n                        <td class=\"table-body__cell nationality-logo rankings-table__team\">\\n                            <span class=\"flag-15 table-body_logo NZ\"></span>\\n                            <span class=\"table-body__logo-text\">NZ</span>\\n                        </td>\\n                        <td class=\"table-body__cell rating\">184</td>\\n                        <td class=\"table-body__cell u-text-right u-hide-phablet\">\\n                                191 v Australia, 03/03/2019\\n                        </td>\\n                    </tr>\\n\\n\\n\\n\\n\\n                    <tr class=\"table-body\">\\n                        <td class=\"table-body__cell table-body__cell--position u-text-right\">\\n                            86\\n        <span class=\"ranking-pos no-change\"></span>\\n                        </td>\\n                        <td class=\"table-body__cell rankings-table__name name\">\\n                            <a href=\"/rankings/womens/player-rankings/1825\">Sanjida Islam</a>\\n                        </td>\\n                        <td class=\"table-body__cell nationality-logo rankings-table__team\">\\n                            <span class=\"flag-15 table-body_logo BAN\"></span>\\n                            <span class=\"table-body__logo-text\">BAN</span>\\n                        </td>\\n                        <td class=\"table-body__cell rating\">181</td>\\n                        <td class=\"table-body__cell u-text-right u-hide-phablet\">\\n                                192 v South Africa, 04/05/2018\\n                        </td>\\n                    </tr>\\n\\n\\n\\n\\n\\n                    <tr class=\"table-body\">\\n                        <td class=\"table-body__cell table-body__cell--position u-text-right\">\\n                            87\\n        <span class=\"ranking-pos no-change\"></span>\\n                        </td>\\n                        <td class=\"table-body__cell rankings-table__name name\">\\n                            <a href=\"/rankings/womens/player-rankings/3337\">Sophie Ecclestone</a>\\n                        </td>\\n                        <td class=\"table-body__cell nationality-logo rankings-table__team\">\\n                            <span class=\"flag-15 table-body_logo ENG\"></span>\\n                            <span class=\"table-body__logo-text\">ENG</span>\\n                        </td>\\n                        <td class=\"table-body__cell rating\">179</td>\\n                        <td class=\"table-body__cell u-text-right u-hide-phablet\">\\n                                198 v Australia, 02/07/2019\\n                        </td>\\n                    </tr>\\n\\n\\n\\n\\n\\n                    <tr class=\"table-body\">\\n                        <td class=\"table-body__cell table-body__cell--position u-text-right\">\\n                            88\\n        <span class=\"ranking-pos no-change\"></span>\\n                        </td>\\n                        <td class=\"table-body__cell rankings-table__name name\">\\n                            <a href=\"/rankings/womens/player-rankings/5109\">Bernadine Bezuidenhout</a>\\n                        </td>\\n                        <td class=\"table-body__cell nationality-logo rankings-table__team\">\\n                            <span class=\"flag-15 table-body_logo NZ\"></span>\\n                            <span class=\"table-body__logo-text\">NZ</span>\\n                        </td>\\n                        <td class=\"table-body__cell rating\">177</td>\\n                        <td class=\"table-body__cell u-text-right u-hide-phablet\">\\n                                194 v South Africa, 25/01/2020\\n                        </td>\\n                    </tr>\\n\\n\\n\\n\\n\\n                    <tr class=\"table-body\">\\n                        <td class=\"table-body__cell table-body__cell--position u-text-right\">\\n                            89\\n        <span class=\"ranking-pos no-change\"></span>\\n                        </td>\\n                        <td class=\"table-body__cell rankings-table__name name\">\\n                            <a href=\"/rankings/womens/player-rankings/3125\">Afy Fletcher</a>\\n                        </td>\\n                        <td class=\"table-body__cell nationality-logo rankings-table__team\">\\n                            <span class=\"flag-15 table-body_logo WI\"></span>\\n                            <span class=\"table-body__logo-text\">WI</span>\\n                        </td>\\n                        <td class=\"table-body__cell rating\">175</td>\\n                        <td class=\"table-body__cell u-text-right u-hide-phablet\">\\n                                182 v India, 06/11/2019\\n                        </td>\\n                    </tr>\\n\\n\\n\\n\\n\\n                    <tr class=\"table-body\">\\n                        <td class=\"table-body__cell table-body__cell--position u-text-right\">\\n                            90\\n        <span class=\"ranking-pos up\">\\n\\t<svg class=\"icon\">\\n\\t\\t<use xmlns:xlink=\"http://www.w3.org/1999/xlink\" xlink:href=\"/resources/prod/v8.15.0/i/svg-output/icons.svg#icn-chevron-up\"></use>\\n\\t</svg>\\n            <span class=\"ranking-pos__tooltip\">This player has moved up in the rankings since the previous rankings update</span>\\n        </span>\\n                        </td>\\n                        <td class=\"table-body__cell rankings-table__name name\">\\n                            <a href=\"/rankings/womens/player-rankings/1006\">Diana Baig</a>\\n                        </td>\\n                        <td class=\"table-body__cell nationality-logo rankings-table__team\">\\n                            <span class=\"flag-15 table-body_logo PAK\"></span>\\n                            <span class=\"table-body__logo-text\">PAK</span>\\n                        </td>\\n                        <td class=\"table-body__cell rating\">170</td>\\n                        <td class=\"table-body__cell u-text-right u-hide-phablet\">\\n                                170 v South Africa, 26/01/2021\\n                        </td>\\n                    </tr>\\n\\n\\n\\n\\n\\n                    <tr class=\"table-body\">\\n                        <td class=\"table-body__cell table-body__cell--position u-text-right\">\\n                            91\\n        <span class=\"ranking-pos up\">\\n\\t<svg class=\"icon\">\\n\\t\\t<use xmlns:xlink=\"http://www.w3.org/1999/xlink\" xlink:href=\"/resources/prod/v8.15.0/i/svg-output/icons.svg#icn-chevron-up\"></use>\\n\\t</svg>\\n            <span class=\"ranking-pos__tooltip\">This player has moved up in the rankings since the previous rankings update</span>\\n        </span>\\n                        </td>\\n                        <td class=\"table-body__cell rankings-table__name name\">\\n                            <a href=\"/rankings/womens/player-rankings/3209\">Sidra Nawaz</a>\\n                        </td>\\n                        <td class=\"table-body__cell nationality-logo rankings-table__team\">\\n                            <span class=\"flag-15 table-body_logo PAK\"></span>\\n                            <span class=\"table-body__logo-text\">PAK</span>\\n                        </td>\\n                        <td class=\"table-body__cell rating\">168</td>\\n                        <td class=\"table-body__cell u-text-right u-hide-phablet\">\\n                                170 v New Zealand, 13/11/2016\\n                        </td>\\n                    </tr>\\n\\n\\n\\n\\n\\n                    <tr class=\"table-body\">\\n                        <td class=\"table-body__cell table-body__cell--position u-text-right\">\\n                            92\\n        <span class=\"ranking-pos down\">\\n\\t<svg class=\"icon\">\\n\\t\\t<use xmlns:xlink=\"http://www.w3.org/1999/xlink\" xlink:href=\"/resources/prod/v8.15.0/i/svg-output/icons.svg#icn-chevron-down\"></use>\\n\\t</svg>\\n            <span class=\"ranking-pos__tooltip\">This player has moved down in the rankings since the previous rankings update</span>\\n        </span>\\n                        </td>\\n                        <td class=\"table-body__cell rankings-table__name name\">\\n                            <a href=\"/rankings/womens/player-rankings/1829\">Panna Ghosh</a>\\n                        </td>\\n                        <td class=\"table-body__cell nationality-logo rankings-table__team\">\\n                            <span class=\"flag-15 table-body_logo BAN\"></span>\\n                            <span class=\"table-body__logo-text\">BAN</span>\\n                        </td>\\n                        <td class=\"table-body__cell rating\">166</td>\\n                        <td class=\"table-body__cell u-text-right u-hide-phablet\">\\n                                170 v Pakistan, 02/11/2019\\n                        </td>\\n                    </tr>\\n\\n\\n\\n\\n\\n                    <tr class=\"table-body\">\\n                        <td class=\"table-body__cell table-body__cell--position u-text-right\">\\n                            93\\n        <span class=\"ranking-pos down\">\\n\\t<svg class=\"icon\">\\n\\t\\t<use xmlns:xlink=\"http://www.w3.org/1999/xlink\" xlink:href=\"/resources/prod/v8.15.0/i/svg-output/icons.svg#icn-chevron-down\"></use>\\n\\t</svg>\\n            <span class=\"ranking-pos__tooltip\">This player has moved down in the rankings since the previous rankings update</span>\\n        </span>\\n                        </td>\\n                        <td class=\"table-body__cell rankings-table__name name\">\\n                            <a href=\"/rankings/womens/player-rankings/1791\">Holly Huddleston</a>\\n                        </td>\\n                        <td class=\"table-body__cell nationality-logo rankings-table__team\">\\n                            <span class=\"flag-15 table-body_logo NZ\"></span>\\n                            <span class=\"table-body__logo-text\">NZ</span>\\n                        </td>\\n                        <td class=\"table-body__cell rating\">164</td>\\n                        <td class=\"table-body__cell u-text-right u-hide-phablet\">\\n                                212 v Ireland, 08/06/2018\\n                        </td>\\n                    </tr>\\n\\n\\n\\n\\n\\n                    <tr class=\"table-body\">\\n                        <td class=\"table-body__cell table-body__cell--position u-text-right\">\\n                            94\\n        <span class=\"ranking-pos down\">\\n\\t<svg class=\"icon\">\\n\\t\\t<use xmlns:xlink=\"http://www.w3.org/1999/xlink\" xlink:href=\"/resources/prod/v8.15.0/i/svg-output/icons.svg#icn-chevron-down\"></use>\\n\\t</svg>\\n            <span class=\"ranking-pos__tooltip\">This player has moved down in the rankings since the previous rankings update</span>\\n        </span>\\n                        </td>\\n                        <td class=\"table-body__cell rankings-table__name name\">\\n                            <a href=\"/rankings/womens/player-rankings/4041\">Georgia Wareham</a>\\n                        </td>\\n                        <td class=\"table-body__cell nationality-logo rankings-table__team\">\\n                            <span class=\"flag-15 table-body_logo AUS\"></span>\\n                            <span class=\"table-body__logo-text\">AUS</span>\\n                        </td>\\n                        <td class=\"table-body__cell rating\">163</td>\\n                        <td class=\"table-body__cell u-text-right u-hide-phablet\">\\n                                188 v Sri Lanka, 09/10/2019\\n                        </td>\\n                    </tr>\\n\\n\\n\\n\\n\\n                    <tr class=\"table-body\">\\n                        <td class=\"table-body__cell table-body__cell--position u-text-right\">\\n                            95\\n        <span class=\"ranking-pos down\">\\n\\t<svg class=\"icon\">\\n\\t\\t<use xmlns:xlink=\"http://www.w3.org/1999/xlink\" xlink:href=\"/resources/prod/v8.15.0/i/svg-output/icons.svg#icn-chevron-down\"></use>\\n\\t</svg>\\n            <span class=\"ranking-pos__tooltip\">This player has moved down in the rankings since the previous rankings update</span>\\n        </span>\\n                        </td>\\n                        <td class=\"table-body__cell rankings-table__name name\">\\n                            <a href=\"/rankings/womens/player-rankings/3163\">Hannah Rowe</a>\\n                        </td>\\n                        <td class=\"table-body__cell nationality-logo rankings-table__team\">\\n                            <span class=\"flag-15 table-body_logo NZ\"></span>\\n                            <span class=\"table-body__logo-text\">NZ</span>\\n                        </td>\\n                        <td class=\"table-body__cell rating\">162</td>\\n                        <td class=\"table-body__cell u-text-right u-hide-phablet\">\\n                                167 v India, 24/01/2019\\n                        </td>\\n                    </tr>\\n\\n\\n\\n\\n\\n                    <tr class=\"table-body\">\\n                        <td class=\"table-body__cell table-body__cell--position u-text-right\">\\n                            \\n        <span class=\"ranking-pos down\">\\n\\t<svg class=\"icon\">\\n\\t\\t<use xmlns:xlink=\"http://www.w3.org/1999/xlink\" xlink:href=\"/resources/prod/v8.15.0/i/svg-output/icons.svg#icn-chevron-down\"></use>\\n\\t</svg>\\n            <span class=\"ranking-pos__tooltip\">This player has moved down in the rankings since the previous rankings update</span>\\n        </span>\\n                        </td>\\n                        <td class=\"table-body__cell rankings-table__name name\">\\n                            <a href=\"/rankings/womens/player-rankings/560\">Ekta Bisht</a>\\n                        </td>\\n                        <td class=\"table-body__cell nationality-logo rankings-table__team\">\\n                            <span class=\"flag-15 table-body_logo IND\"></span>\\n                            <span class=\"table-body__logo-text\">IND</span>\\n                        </td>\\n                        <td class=\"table-body__cell rating\">162</td>\\n                        <td class=\"table-body__cell u-text-right u-hide-phablet\">\\n                                208 v New Zealand, 01/07/2015\\n                        </td>\\n                    </tr>\\n\\n\\n\\n\\n\\n                    <tr class=\"table-body\">\\n                        <td class=\"table-body__cell table-body__cell--position u-text-right\">\\n                            97\\n        <span class=\"ranking-pos down\">\\n\\t<svg class=\"icon\">\\n\\t\\t<use xmlns:xlink=\"http://www.w3.org/1999/xlink\" xlink:href=\"/resources/prod/v8.15.0/i/svg-output/icons.svg#icn-chevron-down\"></use>\\n\\t</svg>\\n            <span class=\"ranking-pos__tooltip\">This player has moved down in the rankings since the previous rankings update</span>\\n        </span>\\n                        </td>\\n                        <td class=\"table-body__cell rankings-table__name name\">\\n                            <a href=\"/rankings/womens/player-rankings/3199\">Ama Kanchana</a>\\n                        </td>\\n                        <td class=\"table-body__cell nationality-logo rankings-table__team\">\\n                            <span class=\"flag-15 table-body_logo SL\"></span>\\n                            <span class=\"table-body__logo-text\">SL</span>\\n                        </td>\\n                        <td class=\"table-body__cell rating\">161</td>\\n                        <td class=\"table-body__cell u-text-right u-hide-phablet\">\\n                                183 v Pakistan, 22/03/2018\\n                        </td>\\n                    </tr>\\n\\n\\n\\n\\n\\n                    <tr class=\"table-body\">\\n                        <td class=\"table-body__cell table-body__cell--position u-text-right\">\\n                            \\n        <span class=\"ranking-pos down\">\\n\\t<svg class=\"icon\">\\n\\t\\t<use xmlns:xlink=\"http://www.w3.org/1999/xlink\" xlink:href=\"/resources/prod/v8.15.0/i/svg-output/icons.svg#icn-chevron-down\"></use>\\n\\t</svg>\\n            <span class=\"ranking-pos__tooltip\">This player has moved down in the rankings since the previous rankings update</span>\\n        </span>\\n                        </td>\\n                        <td class=\"table-body__cell rankings-table__name name\">\\n                            <a href=\"/rankings/womens/player-rankings/580\">Anisa Mohammed</a>\\n                        </td>\\n                        <td class=\"table-body__cell nationality-logo rankings-table__team\">\\n                            <span class=\"flag-15 table-body_logo WI\"></span>\\n                            <span class=\"table-body__logo-text\">WI</span>\\n                        </td>\\n                        <td class=\"table-body__cell rating\">161</td>\\n                        <td class=\"table-body__cell u-text-right u-hide-phablet\">\\n                                271 v Sri Lanka, 22/02/2013\\n                        </td>\\n                    </tr>\\n\\n\\n\\n\\n\\n                    <tr class=\"table-body\">\\n                        <td class=\"table-body__cell table-body__cell--position u-text-right\">\\n                            99\\n        <span class=\"ranking-pos down\">\\n\\t<svg class=\"icon\">\\n\\t\\t<use xmlns:xlink=\"http://www.w3.org/1999/xlink\" xlink:href=\"/resources/prod/v8.15.0/i/svg-output/icons.svg#icn-chevron-down\"></use>\\n\\t</svg>\\n            <span class=\"ranking-pos__tooltip\">This player has moved down in the rankings since the previous rankings update</span>\\n        </span>\\n                        </td>\\n                        <td class=\"table-body__cell rankings-table__name name\">\\n                            <a href=\"/rankings/womens/player-rankings/425\">Ayabonga Khaka</a>\\n                        </td>\\n                        <td class=\"table-body__cell nationality-logo rankings-table__team\">\\n                            <span class=\"flag-15 table-body_logo SA\"></span>\\n                            <span class=\"table-body__logo-text\">SA</span>\\n                        </td>\\n                        <td class=\"table-body__cell rating\">153</td>\\n                        <td class=\"table-body__cell u-text-right u-hide-phablet\">\\n                                225 v Australia, 23/11/2016\\n                        </td>\\n                    </tr>\\n\\n\\n\\n\\n\\n                    <tr class=\"table-body\">\\n                        <td class=\"table-body__cell table-body__cell--position u-text-right\">\\n                            100\\n        <span class=\"ranking-pos down\">\\n\\t<svg class=\"icon\">\\n\\t\\t<use xmlns:xlink=\"http://www.w3.org/1999/xlink\" xlink:href=\"/resources/prod/v8.15.0/i/svg-output/icons.svg#icn-chevron-down\"></use>\\n\\t</svg>\\n            <span class=\"ranking-pos__tooltip\">This player has moved down in the rankings since the previous rankings update</span>\\n        </span>\\n                        </td>\\n                        <td class=\"table-body__cell rankings-table__name name\">\\n                            <a href=\"/rankings/womens/player-rankings/575\">Britney Cooper</a>\\n                        </td>\\n                        <td class=\"table-body__cell nationality-logo rankings-table__team\">\\n                            <span class=\"flag-15 table-body_logo WI\"></span>\\n                            <span class=\"table-body__logo-text\">WI</span>\\n                        </td>\\n                        <td class=\"table-body__cell rating\">149</td>\\n                        <td class=\"table-body__cell u-text-right u-hide-phablet\">\\n                                272 v South Africa, 27/02/2016\\n                        </td>\\n                    </tr>\\n\\n\\n        </table>\\n\\n    </div>\\n</section>\\n\\n\\n\\t\\t\\t</div>\\n\\t\\t</div>\\n\\t</div>\\n</div>\\n\\n</main>\\n\\n<footer class=\"footer\" role=\"contentinfo\">\\n   \\n<div class=\"wrapper\">\\n    <section class=\"footer-partners\">\\n\\n\\n    <div class=\"footer-partners__list u-show-desktop\">\\n        <section class=\"footer-partners__group\">\\n                <h5 class=\"footer-partners__subtitle\">Partners</h5>\\n            <div class=\"footer-partners__inline-list\">\\n                    <div class=\"footer-partners__item\">\\n\\n                            <a href=\"http://track.adform.net/C/?bn=18235072\" \\n                                class=\"footer-partners__link\" \\n                                aria-label=\"Nissan\" \\n                                target=\"_blank\" \\n                                title=\"Nissan\"\\n                                    data-widget=\"impression-tracker\"\\n                                    data-tracking-url=\"https://track.adform.net/adfserve/?bn=18235072;srctype=4;ord=%%ADFRND%%\"\\n                                >\\n\\n                        <img class=\"footer-partners__image\" src=\"https://resources.pulse.icc-cricket.com/photo-resources/2020/09/30/15c31c37-1625-4355-99a9-6a321d2d1009/NISSAN.png?width=135\" alt=\"Nissan\" />\\n\\n                            </a>\\n                    </div>\\n                    <div class=\"footer-partners__item\">\\n\\n                            <a href=\"http://track.adform.net/C/?bn=18236015\" \\n                                class=\"footer-partners__link\" \\n                                aria-label=\"Oppo\" \\n                                target=\"_blank\" \\n                                title=\"Oppo\"\\n                                    data-widget=\"impression-tracker\"\\n                                    data-tracking-url=\"https://track.adform.net/adfserve/?bn=18236015;srctype=4;ord=%%ADFRND%%\"\\n                                >\\n\\n                        <img class=\"footer-partners__image\" src=\"https://resources.pulse.icc-cricket.com/photo-resources/2020/09/24/164c05be-be0b-4e1e-9e3a-860760fbc0e6/partner-oppo.png?width=135\" alt=\"Oppo\" />\\n\\n                            </a>\\n                    </div>\\n                    <div class=\"footer-partners__item\">\\n\\n                            <a href=\"http://track.adform.net/C/?bn=18235782\" \\n                                class=\"footer-partners__link\" \\n                                aria-label=\"MRF Tyres\" \\n                                target=\"_blank\" \\n                                title=\"MRF Tyres\"\\n                                    data-widget=\"impression-tracker\"\\n                                    data-tracking-url=\"https://track.adform.net/adfserve/?bn=18235782;srctype=4;ord=%%ADFRND%%\"\\n                                >\\n\\n                        <img class=\"footer-partners__image\" src=\"https://resources.pulse.icc-cricket.com/photo-resources/2020/09/24/7f84a55f-53ad-4156-bf2d-8a2f9a96facf/partner-mrf.png?width=135\" alt=\"MRF Tyres\" />\\n\\n                            </a>\\n                    </div>\\n                    <div class=\"footer-partners__item\">\\n\\n                            <a href=\"https://www.booking.com/\" \\n                                class=\"footer-partners__link\" \\n                                aria-label=\"Booking\" \\n                                target=\"_blank\" \\n                                title=\"Booking\"\\n                                >\\n\\n                        <img class=\"footer-partners__image\" src=\"https://resources.pulse.icc-cricket.com/photo-resources/2020/09/30/6c7c7caf-bc28-407d-8b7a-1acff95d43a5/BOOKING.png?width=135\" alt=\"Booking\" />\\n\\n                            </a>\\n                    </div>\\n                    <div class=\"footer-partners__item\">\\n\\n                            <a href=\"http://track.adform.net/C/?bn=18236184\" \\n                                class=\"footer-partners__link\" \\n                                aria-label=\"Emirates\" \\n                                target=\"_blank\" \\n                                title=\"Emirates\"\\n                                    data-widget=\"impression-tracker\"\\n                                    data-tracking-url=\"https://track.adform.net/adfserve/?bn=18236184;srctype=4;ord=%%ADFRND%%\"\\n                                >\\n\\n                        <img class=\"footer-partners__image\" src=\"https://resources.pulse.icc-cricket.com/photo-resources/2020/09/30/d21fba0e-c9f4-4b3b-a41c-8f6239b2d3fe/EMIRATES.png?width=135\" alt=\"Emirates\" />\\n\\n                            </a>\\n                    </div>\\n            </div>\\n        </section>\\n    </div>\\n                    <section class=\"footer-partners__list footer-partners__list--double u-hide-desktop\">\\n\\n    <div class=\"footer-partners__top-row-item\">\\n        <section class=\"footer-partners__group\">\\n                <h5 class=\"footer-partners__subtitle\">Partners</h5>\\n            <div class=\"footer-partners__inline-list\">\\n                    <div class=\"footer-partners__item\">\\n\\n                            <a href=\"http://track.adform.net/C/?bn=18235072\" \\n                                class=\"footer-partners__link\" \\n                                aria-label=\"Nissan\" \\n                                target=\"_blank\" \\n                                title=\"Nissan\"\\n                                    data-widget=\"impression-tracker\"\\n                                    data-tracking-url=\"https://track.adform.net/adfserve/?bn=18235072;srctype=4;ord=%%ADFRND%%\"\\n                                >\\n\\n                        <img class=\"footer-partners__image\" src=\"https://resources.pulse.icc-cricket.com/photo-resources/2020/09/30/15c31c37-1625-4355-99a9-6a321d2d1009/NISSAN.png?width=135\" alt=\"Nissan\" />\\n\\n                            </a>\\n                    </div>\\n                    <div class=\"footer-partners__item\">\\n\\n                            <a href=\"http://track.adform.net/C/?bn=18236015\" \\n                                class=\"footer-partners__link\" \\n                                aria-label=\"Oppo\" \\n                                target=\"_blank\" \\n                                title=\"Oppo\"\\n                                    data-widget=\"impression-tracker\"\\n                                    data-tracking-url=\"https://track.adform.net/adfserve/?bn=18236015;srctype=4;ord=%%ADFRND%%\"\\n                                >\\n\\n                        <img class=\"footer-partners__image\" src=\"https://resources.pulse.icc-cricket.com/photo-resources/2020/09/24/164c05be-be0b-4e1e-9e3a-860760fbc0e6/partner-oppo.png?width=135\" alt=\"Oppo\" />\\n\\n                            </a>\\n                    </div>\\n                    <div class=\"footer-partners__item\">\\n\\n                            <a href=\"http://track.adform.net/C/?bn=18235782\" \\n                                class=\"footer-partners__link\" \\n                                aria-label=\"MRF Tyres\" \\n                                target=\"_blank\" \\n                                title=\"MRF Tyres\"\\n                                    data-widget=\"impression-tracker\"\\n                                    data-tracking-url=\"https://track.adform.net/adfserve/?bn=18235782;srctype=4;ord=%%ADFRND%%\"\\n                                >\\n\\n                        <img class=\"footer-partners__image\" src=\"https://resources.pulse.icc-cricket.com/photo-resources/2020/09/24/7f84a55f-53ad-4156-bf2d-8a2f9a96facf/partner-mrf.png?width=135\" alt=\"MRF Tyres\" />\\n\\n                            </a>\\n                    </div>\\n                    <div class=\"footer-partners__item\">\\n\\n                            <a href=\"https://www.booking.com/\" \\n                                class=\"footer-partners__link\" \\n                                aria-label=\"Booking\" \\n                                target=\"_blank\" \\n                                title=\"Booking\"\\n                                >\\n\\n                        <img class=\"footer-partners__image\" src=\"https://resources.pulse.icc-cricket.com/photo-resources/2020/09/30/6c7c7caf-bc28-407d-8b7a-1acff95d43a5/BOOKING.png?width=135\" alt=\"Booking\" />\\n\\n                            </a>\\n                    </div>\\n                    <div class=\"footer-partners__item\">\\n\\n                            <a href=\"http://track.adform.net/C/?bn=18236184\" \\n                                class=\"footer-partners__link\" \\n                                aria-label=\"Emirates\" \\n                                target=\"_blank\" \\n                                title=\"Emirates\"\\n                                    data-widget=\"impression-tracker\"\\n                                    data-tracking-url=\"https://track.adform.net/adfserve/?bn=18236184;srctype=4;ord=%%ADFRND%%\"\\n                                >\\n\\n                        <img class=\"footer-partners__image\" src=\"https://resources.pulse.icc-cricket.com/photo-resources/2020/09/30/d21fba0e-c9f4-4b3b-a41c-8f6239b2d3fe/EMIRATES.png?width=135\" alt=\"Emirates\" />\\n\\n                            </a>\\n                    </div>\\n            </div>\\n        </section>\\n    </div>\\n                \\n\\n\\n\\n\\n    <div class=\"footer-partners__top-row-item\">\\n        <section class=\"footer-partners__group\">\\n                <h5 class=\"footer-partners__subtitle\">Broadcast Partner</h5>\\n            <div class=\"footer-partners__inline-list\">\\n                    <div class=\"footer-partners__item\">\\n\\n                            <a href=\"http://track.adform.net/C/?bn=18238489\" \\n                                class=\"footer-partners__link\" \\n                                aria-label=\"Star Sports\" \\n                                target=\"_blank\" \\n                                title=\"Star Sports\"\\n                                    data-widget=\"impression-tracker\"\\n                                    data-tracking-url=\"https://track.adform.net/adfserve/?bn=18238489;srctype=4;ord=%%ADFRND%%\"\\n                                >\\n\\n                        <img class=\"footer-partners__image\" src=\"https://resources.pulse.icc-cricket.com/photo-resources/2020/09/24/5342c589-28ec-4353-8a45-670f3b948025/partner-star-sports-broadcaster.png?width=135\" alt=\"Star Sports\" />\\n\\n                            </a>\\n                    </div>\\n            </div>\\n        </section>\\n    </div>\\n                \\n                    </section>\\n    <div class=\"footer-partners__list footer-partners__list--broadcast u-show-desktop\">\\n        <section class=\"footer-partners__group\">\\n                <h5 class=\"footer-partners__subtitle\">Broadcast Partner</h5>\\n            <div class=\"footer-partners__inline-list\">\\n                    <div class=\"footer-partners__item\">\\n\\n                            <a href=\"http://track.adform.net/C/?bn=18238489\" \\n                                class=\"footer-partners__link\" \\n                                aria-label=\"Star Sports\" \\n                                target=\"_blank\" \\n                                title=\"Star Sports\"\\n                                    data-widget=\"impression-tracker\"\\n                                    data-tracking-url=\"https://track.adform.net/adfserve/?bn=18238489;srctype=4;ord=%%ADFRND%%\"\\n                                >\\n\\n                        <img class=\"footer-partners__image\" src=\"https://resources.pulse.icc-cricket.com/photo-resources/2020/09/24/5342c589-28ec-4353-8a45-670f3b948025/partner-star-sports-broadcaster.png?width=135\" alt=\"Star Sports\" />\\n\\n                            </a>\\n                    </div>\\n            </div>\\n        </section>\\n    </div>\\n\\n\\n\\n\\n    <div class=\"footer-partners__list\">\\n        <section class=\"footer-partners__group\">\\n            <div class=\"footer-partners__inline-list\">\\n                    <div class=\"footer-partners__item\">\\n\\n                            <a href=\"http://track.adform.net/C/?bn=18238134\" \\n                                class=\"footer-partners__link\" \\n                                aria-label=\"MoneyGram\" \\n                                target=\"_blank\" \\n                                title=\"MoneyGram\"\\n                                    data-widget=\"impression-tracker\"\\n                                    data-tracking-url=\"https://track.adform.net/adfserve/?bn=18238134;srctype=4;ord=%%ADFRND%%\"\\n                                >\\n\\n                        <img class=\"footer-partners__image\" src=\"https://resources.pulse.icc-cricket.com/photo-resources/2020/09/24/60a1f36b-f49b-414f-ae62-6177f6f5b930/partner-moneygram.png?width=120\" alt=\"MoneyGram\" />\\n\\n                            </a>\\n                    </div>\\n                    <div class=\"footer-partners__item\">\\n\\n                            <a href=\"https://www.bira91.com/\" \\n                                class=\"footer-partners__link\" \\n                                aria-label=\"Bira 91\" \\n                                target=\"_blank\" \\n                                title=\"Bira 91\"\\n                                >\\n\\n                        <img class=\"footer-partners__image\" src=\"https://resources.pulse.icc-cricket.com/photo-resources/2020/09/24/e194329c-c1c3-4272-b407-f4734f49b0e7/partner-bira91.png?width=120\" alt=\"Bira 91\" />\\n\\n                            </a>\\n                    </div>\\n                    <div class=\"footer-partners__item\">\\n\\n                            <a href=\"http://track.adform.net/C/?bn=18238489\" \\n                                class=\"footer-partners__link\" \\n                                aria-label=\"Star Sports\" \\n                                target=\"_blank\" \\n                                title=\"Star Sports\"\\n                                    data-widget=\"impression-tracker\"\\n                                    data-tracking-url=\"https://track.adform.net/adfserve/?bn=18238489;srctype=4;ord=%%ADFRND%%\"\\n                                >\\n\\n                        <img class=\"footer-partners__image\" src=\"https://resources.pulse.icc-cricket.com/photo-resources/2020/09/24/5342c589-28ec-4353-8a45-670f3b948025/partner-star-sports-broadcaster.png?width=120\" alt=\"Star Sports\" />\\n\\n                            </a>\\n                    </div>\\n                    <div class=\"footer-partners__item\">\\n\\n                            <a href=\"https://www.coca-cola.co.uk/\" \\n                                class=\"footer-partners__link\" \\n                                aria-label=\"Coca Cola\" \\n                                target=\"_blank\" \\n                                title=\"Coca Cola\"\\n                                >\\n\\n                        <img class=\"footer-partners__image\" src=\"https://resources.pulse.icc-cricket.com/photo-resources/2020/09/24/25da7e37-4bb1-4a7e-91b8-764a9c48812e/partner-coca-cola.png?width=120\" alt=\"Coca Cola\" />\\n\\n                            </a>\\n                    </div>\\n            </div>\\n        </section>\\n    </div>\\n                \\n\\n\\n\\n\\n    <div class=\"footer-partners__list\">\\n        <section class=\"footer-partners__group\">\\n            <div class=\"footer-partners__inline-list\">\\n                    <div class=\"footer-partners__item\">\\n\\n                            <a href=\"https://www.pernod-ricard.com/en/brands/our-brands/royal-stag/\" \\n                                class=\"footer-partners__link\" \\n                                aria-label=\"Royal Stag\" \\n                                target=\"_blank\" \\n                                title=\"Royal Stag\"\\n                                >\\n\\n                        <img class=\"footer-partners__image\" src=\"https://resources.pulse.icc-cricket.com/photo-resources/2020/09/24/ea61bf77-e90e-432c-bb61-763ab9cb0efb/partner-royal-stag.png?width=105\" alt=\"Royal Stag\" />\\n\\n                            </a>\\n                    </div>\\n                    <div class=\"footer-partners__item\">\\n\\n                            <a href=\"https://www.ubp.com/\" \\n                                class=\"footer-partners__link\" \\n                                aria-label=\"UBP\" \\n                                target=\"_blank\" \\n                                title=\"UBP\"\\n                                >\\n\\n                        <img class=\"footer-partners__image\" src=\"https://resources.pulse.icc-cricket.com/photo-resources/2020/09/24/96ab5fc7-9720-4b9a-9921-84b9d83057eb/partner-ubp.png?width=105\" alt=\"UBP\" />\\n\\n                            </a>\\n                    </div>\\n                    <div class=\"footer-partners__item\">\\n\\n                            <a href=\"https://www.dream11.com/\" \\n                                class=\"footer-partners__link\" \\n                                aria-label=\"Dream11\" \\n                                target=\"_blank\" \\n                                title=\"Dream11\"\\n                                >\\n\\n                        <img class=\"footer-partners__image\" src=\"https://resources.pulse.icc-cricket.com/photo-resources/2020/09/24/488e8dfe-2fb4-4fc9-bb03-2541a6890f2f/partner-dream11.png?width=105\" alt=\"Dream11\" />\\n\\n                            </a>\\n                    </div>\\n                    <div class=\"footer-partners__item\">\\n\\n                            <a href=\"http://smartcricket.com/\" \\n                                class=\"footer-partners__link\" \\n                                aria-label=\"Smart Cricket\" \\n                                target=\"_blank\" \\n                                title=\"Smart Cricket\"\\n                                >\\n\\n                        <img class=\"footer-partners__image\" src=\"https://resources.pulse.icc-cricket.com/photo-resources/2020/09/24/e00c33b3-cda4-4636-adb4-383cc6e4439a/partner-smart-cricket.png?width=105\" alt=\"Smart Cricket\" />\\n\\n                            </a>\\n                    </div>\\n            </div>\\n        </section>\\n    </div>\\n                \\n\\n\\n\\n\\n    <div class=\"footer-partners__list\">\\n        <section class=\"footer-partners__group\">\\n                <h5 class=\"footer-partners__subtitle\">Social Responsibility</h5>\\n            <div class=\"footer-partners__inline-list\">\\n                    <div class=\"footer-partners__item\">\\n\\n                            <a href=\"https://www.icc-cricket.com/about/the-icc/cricket-for-good\" \\n                                class=\"footer-partners__link\" \\n                                aria-label=\"Cricket for Good\" \\n                                target=\"_blank\" \\n                                title=\"Cricket for Good\"\\n                                >\\n\\n                        <img class=\"footer-partners__image\" src=\"https://resources.pulse.icc-cricket.com/photo-resources/2020/09/24/c69c5b5f-7ccf-40e2-8277-c19e42dda23e/partner-cricket4good.png?width=126\" alt=\"Cricket for Good\" />\\n\\n                            </a>\\n                    </div>\\n            </div>\\n        </section>\\n    </div>\\n                \\n\\n    </section>\\n</div>\\n<div class=\"global-footer \">\\n    <div class=\"wrapper\">\\n        \\n\\n<div class=\"col-12\">\\n    <div class=\"global-footer__social-container\">\\n        <ul class=\"social-follow-footer\">\\n    <h5 class=\"social-follow-footer__subtitle\">Follow <span class=\"u-italics\">ICC</span> On social</h5>\\n    <li class=\"social-follow-footer__item\"><a href=\"https://www.facebook.com/icc/\" class=\"social-follow-footer__link facebook\" target=\"_blank\"><span class=\"icn icn-facebook-circle u-hide-phablet\"></span><span class=\"icn icn-facebook-circle-small u-show-phablet\"></span></a></li>\\n    <li class=\"social-follow-footer__item\"><a href=\"https://twitter.com/ICC\" class=\"social-follow-footer__link twitter\" target=\"_blank\"><span class=\"icn icn-twitter-circle u-hide-phablet\"></span><span class=\"icn icn-twitter-circle-small u-show-phablet\"></span></a></li>\\n    <li class=\"social-follow-footer__item\"><a href=\"https://www.instagram.com/icc/\" class=\"social-follow-footer__link instagram\" target=\"_blank\"><span class=\"icn icn-instagram-circle u-hide-phablet\"></span><span class=\"icn icn-instagram-circle-small u-show-phablet\"></span></a></li>\\n    <li class=\"social-follow-footer__item\"><a href=\"https://www.youtube.com/user/CricketICC\" class=\"social-follow-footer__link  youtube\" target=\"_blank\"><span class=\"icn icn-youtube-circle u-hide-phablet\"></span><span class=\"icn icn-youtube-circle-small u-show-phablet\"></span></a></li>\\n    <li class=\"social-follow-footer__item\"><a href=\"http://vm.tiktok.com/dsu6j8/\" class=\"social-follow-footer__link tiktok\" target=\"_blank\"><span class=\"icn icn-tiktok-circle u-hide-phablet\"></span><span class=\"icn icn-tiktok-circle-small u-show-phablet\"></span></a></li>\\n</ul>\\n\\n    </div>\\n    <div class=\"global-footer__branding\">\\n        <a href=\"/\" class=\"global-footer__branding-link\"><div class=\"icn icn-logo-icc-footer\"></div></a>\\n    </div>\\n    <div class=\"global-footer__lists\">\\n                    <ul class=\"global-footer__list\">\\n\\t                   <h4 class=\"global-footer__title\">Cricket</h4>\\n                    <li class=\"global-footer__item\"><a class=\"global-footer__link\"href=\"http://www.icc-cricket.com/live-cricket/live\" >\\n                    \\tLive Scores Index\\n                \\t</a></li>\\n                    <li class=\"global-footer__item\"><a class=\"global-footer__link\"href=\"http://www.icc-cricket.com/live-cricket/mens-results\" >\\n                    \\tMen\\'s Results\\n                \\t</a></li>\\n                    <li class=\"global-footer__item\"><a class=\"global-footer__link\"href=\"http://www.icc-cricket.com/live-cricket/womens-results\" >\\n                    \\tWomen\\'s Results\\n                \\t</a></li>\\n\\t                </ul>\\n                    <ul class=\"global-footer__list\">\\n\\t                   <h4 class=\"global-footer__title\">ICC Events</h4>\\n                    <li class=\"global-footer__item\"><a class=\"global-footer__link\"href=\"http://www.icc-cricket.com/u19-world-cup/index.html\" >\\n                    \\tICC U19 Cricket World Cup\\n                \\t</a></li>\\n                    <li class=\"global-footer__item\"><a class=\"global-footer__link\"href=\"http://www.icc-cricket.com/cricket-world-cup/index.html\" >\\n                    \\tICC Cricket World Cup\\n                \\t</a></li>\\n                    <li class=\"global-footer__item\"><a class=\"global-footer__link\"href=\"https://www.icc-cricket.com/t20-world-cup\" >\\n                    \\tICC T20 World Cup\\n                \\t</a></li>\\n                    <li class=\"global-footer__item\"><a class=\"global-footer__link\"href=\"http://www.icc-cricket.com/champions-trophy\" >\\n                    \\tICC Champions Trophy\\n                \\t</a></li>\\n                    <li class=\"global-footer__item\"><a class=\"global-footer__link\"href=\"http://www.icc-cricket.com/womens-world-cup\" >\\n                    \\tICC Women\\'s World Cup\\n                \\t</a></li>\\n                    <li class=\"global-footer__item\"><a class=\"global-footer__link\"href=\"http://www.icc-cricket.com/womens-championship\" >\\n                    \\tICC Women\\'s Championship\\n                \\t</a></li>\\n\\t                </ul>\\n                    <ul class=\"global-footer__list\">\\n\\t                   <h4 class=\"global-footer__title\">Rankings</h4>\\n                    <li class=\"global-footer__item\"><a class=\"global-footer__link\"href=\"http://www.icc-cricket.com/rankings/mens/overview\" >\\n                    \\tOverview\\n                \\t</a></li>\\n                    <li class=\"global-footer__item\"><a class=\"global-footer__link\"href=\"http://www.icc-cricket.com/rankings/mens/team-rankings/test\" >\\n                    \\tTeam Rankings\\n                \\t</a></li>\\n                    <li class=\"global-footer__item\"><a class=\"global-footer__link\"href=\"https://www.icc-cricket.com/rankings/mens/player-rankings/\" >\\n                    \\tPlayer Rankings\\n                \\t</a></li>\\n                    <li class=\"global-footer__item\"><a class=\"global-footer__link\"href=\"http://www.icc-cricket.com/rankings/mens/rankings-predictor/\" >\\n                    \\tRankings Predictor\\n                \\t</a></li>\\n                    <li class=\"global-footer__item\"><a class=\"global-footer__link\"href=\"http://www.icc-cricket.com/rankings/about\" >\\n                    \\tAbout the Rankings\\n                \\t</a></li>\\n                    <li class=\"global-footer__item\"><a class=\"global-footer__link\"href=\"http://www.icc-cricket.com/rankings/faqs\" >\\n                    \\tRankings FAQs\\n                \\t</a></li>\\n\\t                </ul>\\n                    <ul class=\"global-footer__list\">\\n\\t                   <h4 class=\"global-footer__title\">News and Video</h4>\\n                    <li class=\"global-footer__item\"><a class=\"global-footer__link\"href=\"http://www.icc-cricket.com/news\" >\\n                    \\tNews Index\\n                \\t</a></li>\\n                    <li class=\"global-footer__item\"><a class=\"global-footer__link\"href=\"http://www.icc-cricket.com/media-releases\" >\\n                    \\tMedia Releases\\n                \\t</a></li>\\n                    <li class=\"global-footer__item\"><a class=\"global-footer__link\"href=\"http://www.icc-cricket.com/video\" >\\n                    \\tVideo Home\\n                \\t</a></li>\\n                    <li class=\"global-footer__item\"><a class=\"global-footer__link\"href=\"http://www.icc-cricket.com/photos\" >\\n                    \\tPhotos\\n                \\t</a></li>\\n\\t                </ul>\\n                    <ul class=\"global-footer__list\">\\n\\t                   <h4 class=\"global-footer__title\">More</h4>\\n                    <li class=\"global-footer__item\"><a class=\"global-footer__link\"href=\"http://www.icc-cricket.com/social\" >\\n                    \\tICC on Social\\n                \\t</a></li>\\n                    <li class=\"global-footer__item\"><a class=\"global-footer__link\"href=\"http://www.icc-cricket.com/awards/overview\" >\\n                    \\tAwards\\n                \\t</a></li>\\n                    <li class=\"global-footer__item\"><a class=\"global-footer__link\"href=\"http://www.icc-cricket.com/hall-of-fame\" >\\n                    \\tHall of Fame\\n                \\t</a></li>\\n                    <li class=\"global-footer__item\"><a class=\"global-footer__link\"href=\"http://www.icc-cricket.com/mobile\" >\\n                    \\tICC on Mobile\\n                \\t</a></li>\\n                    <li class=\"global-footer__item\"><a class=\"global-footer__link\"href=\"http://www.icc-cricket.com/about\" target=\"_blank\">\\n                    \\t\\t<svg class=\"icon\"><use xmlns:xlink=\"http://www.w3.org/1999/xlink\" xlink:href=\"/resources/prod/v8.15.0/i/svg-output/icons.svg#icn-link-external\"></use></svg>\\n                    \\tAbout ICC\\n                \\t</a></li>\\n                    <li class=\"global-footer__item\"><a class=\"global-footer__link\"href=\"http://www.icc-cricket.com/media-zone/\" target=\"_blank\">\\n                    \\t\\t<svg class=\"icon\"><use xmlns:xlink=\"http://www.w3.org/1999/xlink\" xlink:href=\"/resources/prod/v8.15.0/i/svg-output/icons.svg#icn-link-external\"></use></svg>\\n                    \\tMediaZone\\n                \\t</a></li>\\n                    <li class=\"global-footer__item\"><a class=\"global-footer__link\"href=\"https://www.t20worldcupshop.com/\" target=\"_blank\">\\n                    \\t\\t<svg class=\"icon\"><use xmlns:xlink=\"http://www.w3.org/1999/xlink\" xlink:href=\"/resources/prod/v8.15.0/i/svg-output/icons.svg#icn-link-external\"></use></svg>\\n                    \\tT20 Shop\\n                \\t</a></li>\\n\\t                </ul>\\n    </div>\\n</div>\\n\\n    </div>\\n    \\n<nav class=\"global-footer-corporate\" role=\"navigation\" aria-label=\"footer policy links\">\\n\\n        <ul class=\"global-footer-corporate__list\">\\n                <li class=\"global-footer-corporate__item\" role=\"menuitem\">\\n                    <a class=\"global-footer-corporate__link\" href=\"http://www.icc-cricket.com/about/the-icc/legal-notices/website-terms-of-use\" >\\n                        Legal Notice\\n                    </a>\\n                </li>\\n                <li class=\"global-footer-corporate__item\" role=\"menuitem\">\\n                    <a class=\"global-footer-corporate__link\" href=\"http://www.icc-cricket.com/about/the-icc/legal-notices/privacy-policy\" >\\n                        Privacy Policy\\n                    </a>\\n                </li>\\n            <li class=\"global-footer-corporate__item\">2021 &copy; International Cricket Council FZ LLC</li>\\n        </ul>\\n\\n</nav>\\n\\n</div>\\n</body>\\n</html>\\n\\n\\n</footer>\\n\\n    \\n\\n    <script src=\"/resources/prod/v8.15.0/scripts/vendors.min.js\"></script>\\n    <script src=\"/resources/prod/v8.15.0/scripts/client.min.js\"></script>\\n\\n    <!--[if IE]> -->\\n    <script type=\"text/javascript\">\\n        svg4everybody();\\n    </script>\\n    <!-- <![endif]-->\\n</body>\\n</html>\\n'"
      ]
     },
     "execution_count": 4,
     "metadata": {},
     "output_type": "execute_result"
    }
   ],
   "source": [
    "page.content"
   ]
  },
  {
   "cell_type": "code",
   "execution_count": 5,
   "metadata": {},
   "outputs": [],
   "source": [
    "soup=BeautifulSoup(page.content, 'html.parser')"
   ]
  },
  {
   "cell_type": "code",
   "execution_count": 6,
   "metadata": {},
   "outputs": [],
   "source": [
    "player=[]\n",
    "team=[]\n",
    "rating=[]"
   ]
  },
  {
   "cell_type": "code",
   "execution_count": 7,
   "metadata": {},
   "outputs": [
    {
     "data": {
      "text/plain": [
       "[<td class=\"table-body__cell rankings-table__name name\">\n",
       " <a href=\"/rankings/womens/player-rankings/573\">Stafanie Taylor</a>\n",
       " </td>,\n",
       " <td class=\"table-body__cell rankings-table__name name\">\n",
       " <a href=\"/rankings/womens/player-rankings/466\">Alyssa Healy</a>\n",
       " </td>,\n",
       " <td class=\"table-body__cell rankings-table__name name\">\n",
       " <a href=\"/rankings/womens/player-rankings/1809\">Smriti Mandhana</a>\n",
       " </td>,\n",
       " <td class=\"table-body__cell rankings-table__name name\">\n",
       " <a href=\"/rankings/womens/player-rankings/487\">Amy Satterthwaite</a>\n",
       " </td>]"
      ]
     },
     "execution_count": 7,
     "metadata": {},
     "output_type": "execute_result"
    }
   ],
   "source": [
    "players=soup.find_all('td',class_='table-body__cell rankings-table__name name')\n",
    "players[0:4]"
   ]
  },
  {
   "cell_type": "code",
   "execution_count": 8,
   "metadata": {},
   "outputs": [],
   "source": [
    "player1=soup.find_all('div',class_='rankings-block__banner--name-large')\n",
    "\n",
    "for i in player1:\n",
    "    player.append(i.get_text())"
   ]
  },
  {
   "cell_type": "code",
   "execution_count": 9,
   "metadata": {},
   "outputs": [
    {
     "data": {
      "text/plain": [
       "['Meg Lanning']"
      ]
     },
     "execution_count": 9,
     "metadata": {},
     "output_type": "execute_result"
    }
   ],
   "source": [
    "player"
   ]
  },
  {
   "cell_type": "code",
   "execution_count": 10,
   "metadata": {},
   "outputs": [],
   "source": [
    "player=pd.DataFrame(data=player)"
   ]
  },
  {
   "cell_type": "code",
   "execution_count": 11,
   "metadata": {},
   "outputs": [],
   "source": [
    "player2=[]\n",
    "\n",
    "for i in players:\n",
    "    player2.append(i.get_text().replace('\\n',''))"
   ]
  },
  {
   "cell_type": "code",
   "execution_count": 12,
   "metadata": {
    "scrolled": true
   },
   "outputs": [
    {
     "data": {
      "text/plain": [
       "['Stafanie Taylor',\n",
       " 'Alyssa Healy',\n",
       " 'Smriti Mandhana',\n",
       " 'Amy Satterthwaite',\n",
       " 'Tammy Beaumont',\n",
       " 'Laura Wolvaardt',\n",
       " 'Ellyse Perry',\n",
       " 'Mithali Raj',\n",
       " 'Lizelle Lee',\n",
       " 'Natalie Sciver',\n",
       " 'Chamari Athapaththu',\n",
       " 'Rachael Haynes',\n",
       " 'Suzie Bates',\n",
       " 'Sophie Devine',\n",
       " 'Heather Knight',\n",
       " 'Beth Mooney',\n",
       " 'Harmanpreet Kaur',\n",
       " 'Mignon du Preez',\n",
       " 'Deepti Sharma',\n",
       " 'Nahida Khan',\n",
       " 'Marizanne Kapp',\n",
       " 'Dane van Niekerk',\n",
       " 'Poonam Raut',\n",
       " 'Javeria Khan',\n",
       " 'Bismah Maroof',\n",
       " 'Amy Jones',\n",
       " 'Nicole Bolton',\n",
       " 'Chloe-Lesleigh Tryon',\n",
       " 'Katie Perkins',\n",
       " 'Hayley Matthews',\n",
       " 'Danielle Wyatt',\n",
       " 'Fargana Hoque',\n",
       " 'Rumana Ahmed',\n",
       " 'Sune Luus',\n",
       " 'Aliya Riaz',\n",
       " 'Jemimah Rodriques',\n",
       " 'Ashleigh Gardner',\n",
       " 'Katey Martin',\n",
       " 'Trisha Chetty',\n",
       " 'Jess Jonassen',\n",
       " 'Shikha Pandey',\n",
       " 'Katherine Brunt',\n",
       " 'Nida Dar',\n",
       " 'Harshitha Madavi',\n",
       " 'Fran Wilson',\n",
       " 'Jhulan Goswami',\n",
       " 'Rachel Priest',\n",
       " 'Maddie Green',\n",
       " 'Shemaine Campbelle',\n",
       " 'Dilani Manodara',\n",
       " 'Nigar Sultana',\n",
       " 'Umaima Sohail',\n",
       " 'Chedean Nation',\n",
       " 'Kyshona Knight',\n",
       " 'Kycia Knight',\n",
       " 'Priya Punia',\n",
       " 'Amelia Kerr',\n",
       " 'Taniya Bhatia',\n",
       " 'Sidra Ameen',\n",
       " 'Nilakshi Silva',\n",
       " 'Andrie Steyn',\n",
       " 'Sheneta Grimmond',\n",
       " 'Salma Khatun',\n",
       " 'Leigh Kasperek',\n",
       " 'Anya Shrubsole',\n",
       " 'Nicola Carey',\n",
       " 'Poonam Yadav',\n",
       " 'Avanthika Mendis',\n",
       " 'Natasha McLean',\n",
       " 'Sharmin Supta',\n",
       " 'Lara Goodall',\n",
       " 'Anushka Sanjeewani',\n",
       " 'Rajeshwari Gayakwad',\n",
       " 'Kate Cross',\n",
       " 'Inoka Ranaweera',\n",
       " 'Stacy-Ann King',\n",
       " 'Megan Schutt',\n",
       " 'Oshadi Ranasinghe',\n",
       " 'Nashra Sandhu',\n",
       " 'Hayley Jensen',\n",
       " 'Chinelle Henry',\n",
       " 'Shamilia Connell',\n",
       " 'Shabnim Ismail',\n",
       " 'Lea Tahuhu',\n",
       " 'Sanjida Islam',\n",
       " 'Sophie Ecclestone',\n",
       " 'Bernadine Bezuidenhout',\n",
       " 'Afy Fletcher',\n",
       " 'Diana Baig',\n",
       " 'Sidra Nawaz',\n",
       " 'Panna Ghosh',\n",
       " 'Holly Huddleston',\n",
       " 'Georgia Wareham',\n",
       " 'Hannah Rowe',\n",
       " 'Ekta Bisht',\n",
       " 'Ama Kanchana',\n",
       " 'Anisa Mohammed',\n",
       " 'Ayabonga Khaka',\n",
       " 'Britney Cooper']"
      ]
     },
     "execution_count": 12,
     "metadata": {},
     "output_type": "execute_result"
    }
   ],
   "source": [
    "player2"
   ]
  },
  {
   "cell_type": "code",
   "execution_count": 13,
   "metadata": {},
   "outputs": [],
   "source": [
    "player2=player2[0:9]"
   ]
  },
  {
   "cell_type": "code",
   "execution_count": 14,
   "metadata": {},
   "outputs": [],
   "source": [
    "player2=pd.DataFrame(data=player2)"
   ]
  },
  {
   "cell_type": "code",
   "execution_count": 15,
   "metadata": {},
   "outputs": [
    {
     "data": {
      "text/html": [
       "<div>\n",
       "<style scoped>\n",
       "    .dataframe tbody tr th:only-of-type {\n",
       "        vertical-align: middle;\n",
       "    }\n",
       "\n",
       "    .dataframe tbody tr th {\n",
       "        vertical-align: top;\n",
       "    }\n",
       "\n",
       "    .dataframe thead th {\n",
       "        text-align: right;\n",
       "    }\n",
       "</style>\n",
       "<table border=\"1\" class=\"dataframe\">\n",
       "  <thead>\n",
       "    <tr style=\"text-align: right;\">\n",
       "      <th></th>\n",
       "      <th>0</th>\n",
       "    </tr>\n",
       "  </thead>\n",
       "  <tbody>\n",
       "    <tr>\n",
       "      <th>0</th>\n",
       "      <td>Meg Lanning</td>\n",
       "    </tr>\n",
       "    <tr>\n",
       "      <th>0</th>\n",
       "      <td>Stafanie Taylor</td>\n",
       "    </tr>\n",
       "    <tr>\n",
       "      <th>1</th>\n",
       "      <td>Alyssa Healy</td>\n",
       "    </tr>\n",
       "    <tr>\n",
       "      <th>2</th>\n",
       "      <td>Smriti Mandhana</td>\n",
       "    </tr>\n",
       "    <tr>\n",
       "      <th>3</th>\n",
       "      <td>Amy Satterthwaite</td>\n",
       "    </tr>\n",
       "    <tr>\n",
       "      <th>4</th>\n",
       "      <td>Tammy Beaumont</td>\n",
       "    </tr>\n",
       "    <tr>\n",
       "      <th>5</th>\n",
       "      <td>Laura Wolvaardt</td>\n",
       "    </tr>\n",
       "    <tr>\n",
       "      <th>6</th>\n",
       "      <td>Ellyse Perry</td>\n",
       "    </tr>\n",
       "    <tr>\n",
       "      <th>7</th>\n",
       "      <td>Mithali Raj</td>\n",
       "    </tr>\n",
       "    <tr>\n",
       "      <th>8</th>\n",
       "      <td>Lizelle Lee</td>\n",
       "    </tr>\n",
       "  </tbody>\n",
       "</table>\n",
       "</div>"
      ],
      "text/plain": [
       "                   0\n",
       "0        Meg Lanning\n",
       "0    Stafanie Taylor\n",
       "1       Alyssa Healy\n",
       "2    Smriti Mandhana\n",
       "3  Amy Satterthwaite\n",
       "4     Tammy Beaumont\n",
       "5    Laura Wolvaardt\n",
       "6       Ellyse Perry\n",
       "7        Mithali Raj\n",
       "8        Lizelle Lee"
      ]
     },
     "execution_count": 15,
     "metadata": {},
     "output_type": "execute_result"
    }
   ],
   "source": [
    "player=player.append(player2)\n",
    "player"
   ]
  },
  {
   "cell_type": "code",
   "execution_count": 16,
   "metadata": {},
   "outputs": [],
   "source": [
    "player.reset_index(level=0, inplace=True)"
   ]
  },
  {
   "cell_type": "code",
   "execution_count": 17,
   "metadata": {},
   "outputs": [
    {
     "data": {
      "text/html": [
       "<div>\n",
       "<style scoped>\n",
       "    .dataframe tbody tr th:only-of-type {\n",
       "        vertical-align: middle;\n",
       "    }\n",
       "\n",
       "    .dataframe tbody tr th {\n",
       "        vertical-align: top;\n",
       "    }\n",
       "\n",
       "    .dataframe thead th {\n",
       "        text-align: right;\n",
       "    }\n",
       "</style>\n",
       "<table border=\"1\" class=\"dataframe\">\n",
       "  <thead>\n",
       "    <tr style=\"text-align: right;\">\n",
       "      <th></th>\n",
       "      <th>player</th>\n",
       "    </tr>\n",
       "  </thead>\n",
       "  <tbody>\n",
       "    <tr>\n",
       "      <th>0</th>\n",
       "      <td>Meg Lanning</td>\n",
       "    </tr>\n",
       "    <tr>\n",
       "      <th>1</th>\n",
       "      <td>Stafanie Taylor</td>\n",
       "    </tr>\n",
       "    <tr>\n",
       "      <th>2</th>\n",
       "      <td>Alyssa Healy</td>\n",
       "    </tr>\n",
       "    <tr>\n",
       "      <th>3</th>\n",
       "      <td>Smriti Mandhana</td>\n",
       "    </tr>\n",
       "    <tr>\n",
       "      <th>4</th>\n",
       "      <td>Amy Satterthwaite</td>\n",
       "    </tr>\n",
       "    <tr>\n",
       "      <th>5</th>\n",
       "      <td>Tammy Beaumont</td>\n",
       "    </tr>\n",
       "    <tr>\n",
       "      <th>6</th>\n",
       "      <td>Laura Wolvaardt</td>\n",
       "    </tr>\n",
       "    <tr>\n",
       "      <th>7</th>\n",
       "      <td>Ellyse Perry</td>\n",
       "    </tr>\n",
       "    <tr>\n",
       "      <th>8</th>\n",
       "      <td>Mithali Raj</td>\n",
       "    </tr>\n",
       "    <tr>\n",
       "      <th>9</th>\n",
       "      <td>Lizelle Lee</td>\n",
       "    </tr>\n",
       "  </tbody>\n",
       "</table>\n",
       "</div>"
      ],
      "text/plain": [
       "              player\n",
       "0        Meg Lanning\n",
       "1    Stafanie Taylor\n",
       "2       Alyssa Healy\n",
       "3    Smriti Mandhana\n",
       "4  Amy Satterthwaite\n",
       "5     Tammy Beaumont\n",
       "6    Laura Wolvaardt\n",
       "7       Ellyse Perry\n",
       "8        Mithali Raj\n",
       "9        Lizelle Lee"
      ]
     },
     "execution_count": 17,
     "metadata": {},
     "output_type": "execute_result"
    }
   ],
   "source": [
    "player=player.drop(columns='index')\n",
    "player.columns = ['player']\n",
    "player"
   ]
  },
  {
   "cell_type": "code",
   "execution_count": 18,
   "metadata": {},
   "outputs": [],
   "source": [
    "teams=soup.find_all('div',class_='rankings-block__banner--nationality')\n",
    "\n",
    "for i in teams:\n",
    "    team.append(i.get_text().replace('\\n',''))"
   ]
  },
  {
   "cell_type": "code",
   "execution_count": 19,
   "metadata": {},
   "outputs": [],
   "source": [
    "team=pd.DataFrame(data=team)"
   ]
  },
  {
   "cell_type": "code",
   "execution_count": 20,
   "metadata": {},
   "outputs": [
    {
     "data": {
      "text/html": [
       "<div>\n",
       "<style scoped>\n",
       "    .dataframe tbody tr th:only-of-type {\n",
       "        vertical-align: middle;\n",
       "    }\n",
       "\n",
       "    .dataframe tbody tr th {\n",
       "        vertical-align: top;\n",
       "    }\n",
       "\n",
       "    .dataframe thead th {\n",
       "        text-align: right;\n",
       "    }\n",
       "</style>\n",
       "<table border=\"1\" class=\"dataframe\">\n",
       "  <thead>\n",
       "    <tr style=\"text-align: right;\">\n",
       "      <th></th>\n",
       "      <th>0</th>\n",
       "    </tr>\n",
       "  </thead>\n",
       "  <tbody>\n",
       "    <tr>\n",
       "      <th>0</th>\n",
       "      <td>AUS</td>\n",
       "    </tr>\n",
       "  </tbody>\n",
       "</table>\n",
       "</div>"
      ],
      "text/plain": [
       "     0\n",
       "0  AUS"
      ]
     },
     "execution_count": 20,
     "metadata": {},
     "output_type": "execute_result"
    }
   ],
   "source": [
    "team"
   ]
  },
  {
   "cell_type": "code",
   "execution_count": 21,
   "metadata": {},
   "outputs": [],
   "source": [
    "team2=[]"
   ]
  },
  {
   "cell_type": "code",
   "execution_count": 22,
   "metadata": {},
   "outputs": [],
   "source": [
    "team1=soup.find_all('span',class_='table-body__logo-text')\n",
    "\n",
    "for i in team1:\n",
    "    team2.append(i.get_text())"
   ]
  },
  {
   "cell_type": "code",
   "execution_count": 23,
   "metadata": {
    "scrolled": true
   },
   "outputs": [
    {
     "data": {
      "text/plain": [
       "['WI',\n",
       " 'AUS',\n",
       " 'IND',\n",
       " 'NZ',\n",
       " 'ENG',\n",
       " 'SA',\n",
       " 'AUS',\n",
       " 'IND',\n",
       " 'SA',\n",
       " 'ENG',\n",
       " 'SL',\n",
       " 'AUS',\n",
       " 'NZ',\n",
       " 'NZ',\n",
       " 'ENG',\n",
       " 'AUS',\n",
       " 'IND',\n",
       " 'SA',\n",
       " 'IND',\n",
       " 'PAK',\n",
       " 'SA',\n",
       " 'SA',\n",
       " 'IND',\n",
       " 'PAK',\n",
       " 'PAK',\n",
       " 'ENG',\n",
       " 'AUS',\n",
       " 'SA',\n",
       " 'NZ',\n",
       " 'WI',\n",
       " 'ENG',\n",
       " 'BAN',\n",
       " 'BAN',\n",
       " 'SA',\n",
       " 'PAK',\n",
       " 'IND',\n",
       " 'AUS',\n",
       " 'NZ',\n",
       " 'SA',\n",
       " 'AUS',\n",
       " 'IND',\n",
       " 'ENG',\n",
       " 'PAK',\n",
       " 'SL',\n",
       " 'ENG',\n",
       " 'IND',\n",
       " 'NZ',\n",
       " 'NZ',\n",
       " 'WI',\n",
       " 'SL',\n",
       " 'BAN',\n",
       " 'PAK',\n",
       " 'WI',\n",
       " 'WI',\n",
       " 'WI',\n",
       " 'IND',\n",
       " 'NZ',\n",
       " 'IND',\n",
       " 'PAK',\n",
       " 'SL',\n",
       " 'SA',\n",
       " 'WI',\n",
       " 'BAN',\n",
       " 'NZ',\n",
       " 'ENG',\n",
       " 'AUS',\n",
       " 'IND',\n",
       " 'SL',\n",
       " 'WI',\n",
       " 'BAN',\n",
       " 'SA',\n",
       " 'SL',\n",
       " 'IND',\n",
       " 'ENG',\n",
       " 'SL',\n",
       " 'WI',\n",
       " 'AUS',\n",
       " 'SL',\n",
       " 'PAK',\n",
       " 'NZ',\n",
       " 'WI',\n",
       " 'WI',\n",
       " 'SA',\n",
       " 'NZ',\n",
       " 'BAN',\n",
       " 'ENG',\n",
       " 'NZ',\n",
       " 'WI',\n",
       " 'PAK',\n",
       " 'PAK',\n",
       " 'BAN',\n",
       " 'NZ',\n",
       " 'AUS',\n",
       " 'NZ',\n",
       " 'IND',\n",
       " 'SL',\n",
       " 'WI',\n",
       " 'SA',\n",
       " 'WI']"
      ]
     },
     "execution_count": 23,
     "metadata": {},
     "output_type": "execute_result"
    }
   ],
   "source": [
    "team2"
   ]
  },
  {
   "cell_type": "code",
   "execution_count": 24,
   "metadata": {},
   "outputs": [],
   "source": [
    "team2=team2[0:9]"
   ]
  },
  {
   "cell_type": "code",
   "execution_count": 25,
   "metadata": {},
   "outputs": [],
   "source": [
    "team2=pd.DataFrame(data=team2)"
   ]
  },
  {
   "cell_type": "code",
   "execution_count": 26,
   "metadata": {},
   "outputs": [
    {
     "data": {
      "text/html": [
       "<div>\n",
       "<style scoped>\n",
       "    .dataframe tbody tr th:only-of-type {\n",
       "        vertical-align: middle;\n",
       "    }\n",
       "\n",
       "    .dataframe tbody tr th {\n",
       "        vertical-align: top;\n",
       "    }\n",
       "\n",
       "    .dataframe thead th {\n",
       "        text-align: right;\n",
       "    }\n",
       "</style>\n",
       "<table border=\"1\" class=\"dataframe\">\n",
       "  <thead>\n",
       "    <tr style=\"text-align: right;\">\n",
       "      <th></th>\n",
       "      <th>0</th>\n",
       "    </tr>\n",
       "  </thead>\n",
       "  <tbody>\n",
       "    <tr>\n",
       "      <th>0</th>\n",
       "      <td>AUS</td>\n",
       "    </tr>\n",
       "    <tr>\n",
       "      <th>0</th>\n",
       "      <td>WI</td>\n",
       "    </tr>\n",
       "    <tr>\n",
       "      <th>1</th>\n",
       "      <td>AUS</td>\n",
       "    </tr>\n",
       "    <tr>\n",
       "      <th>2</th>\n",
       "      <td>IND</td>\n",
       "    </tr>\n",
       "    <tr>\n",
       "      <th>3</th>\n",
       "      <td>NZ</td>\n",
       "    </tr>\n",
       "    <tr>\n",
       "      <th>4</th>\n",
       "      <td>ENG</td>\n",
       "    </tr>\n",
       "    <tr>\n",
       "      <th>5</th>\n",
       "      <td>SA</td>\n",
       "    </tr>\n",
       "    <tr>\n",
       "      <th>6</th>\n",
       "      <td>AUS</td>\n",
       "    </tr>\n",
       "    <tr>\n",
       "      <th>7</th>\n",
       "      <td>IND</td>\n",
       "    </tr>\n",
       "    <tr>\n",
       "      <th>8</th>\n",
       "      <td>SA</td>\n",
       "    </tr>\n",
       "  </tbody>\n",
       "</table>\n",
       "</div>"
      ],
      "text/plain": [
       "     0\n",
       "0  AUS\n",
       "0   WI\n",
       "1  AUS\n",
       "2  IND\n",
       "3   NZ\n",
       "4  ENG\n",
       "5   SA\n",
       "6  AUS\n",
       "7  IND\n",
       "8   SA"
      ]
     },
     "execution_count": 26,
     "metadata": {},
     "output_type": "execute_result"
    }
   ],
   "source": [
    "team=team.append(team2)\n",
    "team"
   ]
  },
  {
   "cell_type": "code",
   "execution_count": 27,
   "metadata": {},
   "outputs": [],
   "source": [
    "team.reset_index(level=0, inplace=True)"
   ]
  },
  {
   "cell_type": "code",
   "execution_count": 28,
   "metadata": {},
   "outputs": [
    {
     "data": {
      "text/html": [
       "<div>\n",
       "<style scoped>\n",
       "    .dataframe tbody tr th:only-of-type {\n",
       "        vertical-align: middle;\n",
       "    }\n",
       "\n",
       "    .dataframe tbody tr th {\n",
       "        vertical-align: top;\n",
       "    }\n",
       "\n",
       "    .dataframe thead th {\n",
       "        text-align: right;\n",
       "    }\n",
       "</style>\n",
       "<table border=\"1\" class=\"dataframe\">\n",
       "  <thead>\n",
       "    <tr style=\"text-align: right;\">\n",
       "      <th></th>\n",
       "      <th>team</th>\n",
       "    </tr>\n",
       "  </thead>\n",
       "  <tbody>\n",
       "    <tr>\n",
       "      <th>0</th>\n",
       "      <td>AUS</td>\n",
       "    </tr>\n",
       "    <tr>\n",
       "      <th>1</th>\n",
       "      <td>WI</td>\n",
       "    </tr>\n",
       "    <tr>\n",
       "      <th>2</th>\n",
       "      <td>AUS</td>\n",
       "    </tr>\n",
       "    <tr>\n",
       "      <th>3</th>\n",
       "      <td>IND</td>\n",
       "    </tr>\n",
       "    <tr>\n",
       "      <th>4</th>\n",
       "      <td>NZ</td>\n",
       "    </tr>\n",
       "    <tr>\n",
       "      <th>5</th>\n",
       "      <td>ENG</td>\n",
       "    </tr>\n",
       "    <tr>\n",
       "      <th>6</th>\n",
       "      <td>SA</td>\n",
       "    </tr>\n",
       "    <tr>\n",
       "      <th>7</th>\n",
       "      <td>AUS</td>\n",
       "    </tr>\n",
       "    <tr>\n",
       "      <th>8</th>\n",
       "      <td>IND</td>\n",
       "    </tr>\n",
       "    <tr>\n",
       "      <th>9</th>\n",
       "      <td>SA</td>\n",
       "    </tr>\n",
       "  </tbody>\n",
       "</table>\n",
       "</div>"
      ],
      "text/plain": [
       "  team\n",
       "0  AUS\n",
       "1   WI\n",
       "2  AUS\n",
       "3  IND\n",
       "4   NZ\n",
       "5  ENG\n",
       "6   SA\n",
       "7  AUS\n",
       "8  IND\n",
       "9   SA"
      ]
     },
     "execution_count": 28,
     "metadata": {},
     "output_type": "execute_result"
    }
   ],
   "source": [
    "team=team.drop(columns='index')\n",
    "team.columns = ['team']\n",
    "team"
   ]
  },
  {
   "cell_type": "code",
   "execution_count": 29,
   "metadata": {},
   "outputs": [
    {
     "data": {
      "text/plain": [
       "[<div class=\"rankings-block__banner--rating\">749</div>]"
      ]
     },
     "execution_count": 29,
     "metadata": {},
     "output_type": "execute_result"
    }
   ],
   "source": [
    "ratings=soup.find_all('div',class_='rankings-block__banner--rating')\n",
    "ratings"
   ]
  },
  {
   "cell_type": "code",
   "execution_count": 30,
   "metadata": {},
   "outputs": [],
   "source": [
    "for i in ratings:\n",
    "    rating.append(i.get_text().replace('\\n','').replace(' ',''))"
   ]
  },
  {
   "cell_type": "code",
   "execution_count": 31,
   "metadata": {},
   "outputs": [
    {
     "data": {
      "text/html": [
       "<div>\n",
       "<style scoped>\n",
       "    .dataframe tbody tr th:only-of-type {\n",
       "        vertical-align: middle;\n",
       "    }\n",
       "\n",
       "    .dataframe tbody tr th {\n",
       "        vertical-align: top;\n",
       "    }\n",
       "\n",
       "    .dataframe thead th {\n",
       "        text-align: right;\n",
       "    }\n",
       "</style>\n",
       "<table border=\"1\" class=\"dataframe\">\n",
       "  <thead>\n",
       "    <tr style=\"text-align: right;\">\n",
       "      <th></th>\n",
       "      <th>0</th>\n",
       "    </tr>\n",
       "  </thead>\n",
       "  <tbody>\n",
       "    <tr>\n",
       "      <th>0</th>\n",
       "      <td>749</td>\n",
       "    </tr>\n",
       "  </tbody>\n",
       "</table>\n",
       "</div>"
      ],
      "text/plain": [
       "     0\n",
       "0  749"
      ]
     },
     "execution_count": 31,
     "metadata": {},
     "output_type": "execute_result"
    }
   ],
   "source": [
    "rating=pd.DataFrame(data=rating)\n",
    "rating"
   ]
  },
  {
   "cell_type": "code",
   "execution_count": 32,
   "metadata": {},
   "outputs": [],
   "source": [
    "rating2=[]"
   ]
  },
  {
   "cell_type": "code",
   "execution_count": 33,
   "metadata": {},
   "outputs": [],
   "source": [
    "ratings1=soup.find_all('td',class_='table-body__cell rating')\n",
    "\n",
    "for i in ratings1:\n",
    "    rating2.append(i.get_text())"
   ]
  },
  {
   "cell_type": "code",
   "execution_count": 34,
   "metadata": {},
   "outputs": [],
   "source": [
    "rating2=rating2[0:9]"
   ]
  },
  {
   "cell_type": "code",
   "execution_count": 35,
   "metadata": {},
   "outputs": [
    {
     "data": {
      "text/plain": [
       "['746', '741', '732', '723', '716', '691', '691', '687', '681']"
      ]
     },
     "execution_count": 35,
     "metadata": {},
     "output_type": "execute_result"
    }
   ],
   "source": [
    "rating2"
   ]
  },
  {
   "cell_type": "code",
   "execution_count": 36,
   "metadata": {},
   "outputs": [
    {
     "data": {
      "text/html": [
       "<div>\n",
       "<style scoped>\n",
       "    .dataframe tbody tr th:only-of-type {\n",
       "        vertical-align: middle;\n",
       "    }\n",
       "\n",
       "    .dataframe tbody tr th {\n",
       "        vertical-align: top;\n",
       "    }\n",
       "\n",
       "    .dataframe thead th {\n",
       "        text-align: right;\n",
       "    }\n",
       "</style>\n",
       "<table border=\"1\" class=\"dataframe\">\n",
       "  <thead>\n",
       "    <tr style=\"text-align: right;\">\n",
       "      <th></th>\n",
       "      <th>0</th>\n",
       "    </tr>\n",
       "  </thead>\n",
       "  <tbody>\n",
       "    <tr>\n",
       "      <th>0</th>\n",
       "      <td>746</td>\n",
       "    </tr>\n",
       "    <tr>\n",
       "      <th>1</th>\n",
       "      <td>741</td>\n",
       "    </tr>\n",
       "    <tr>\n",
       "      <th>2</th>\n",
       "      <td>732</td>\n",
       "    </tr>\n",
       "    <tr>\n",
       "      <th>3</th>\n",
       "      <td>723</td>\n",
       "    </tr>\n",
       "    <tr>\n",
       "      <th>4</th>\n",
       "      <td>716</td>\n",
       "    </tr>\n",
       "    <tr>\n",
       "      <th>5</th>\n",
       "      <td>691</td>\n",
       "    </tr>\n",
       "    <tr>\n",
       "      <th>6</th>\n",
       "      <td>691</td>\n",
       "    </tr>\n",
       "    <tr>\n",
       "      <th>7</th>\n",
       "      <td>687</td>\n",
       "    </tr>\n",
       "    <tr>\n",
       "      <th>8</th>\n",
       "      <td>681</td>\n",
       "    </tr>\n",
       "  </tbody>\n",
       "</table>\n",
       "</div>"
      ],
      "text/plain": [
       "     0\n",
       "0  746\n",
       "1  741\n",
       "2  732\n",
       "3  723\n",
       "4  716\n",
       "5  691\n",
       "6  691\n",
       "7  687\n",
       "8  681"
      ]
     },
     "execution_count": 36,
     "metadata": {},
     "output_type": "execute_result"
    }
   ],
   "source": [
    "rating2=pd.DataFrame(data=rating2, index=range(0,9))\n",
    "rating2"
   ]
  },
  {
   "cell_type": "code",
   "execution_count": 37,
   "metadata": {},
   "outputs": [
    {
     "data": {
      "text/html": [
       "<div>\n",
       "<style scoped>\n",
       "    .dataframe tbody tr th:only-of-type {\n",
       "        vertical-align: middle;\n",
       "    }\n",
       "\n",
       "    .dataframe tbody tr th {\n",
       "        vertical-align: top;\n",
       "    }\n",
       "\n",
       "    .dataframe thead th {\n",
       "        text-align: right;\n",
       "    }\n",
       "</style>\n",
       "<table border=\"1\" class=\"dataframe\">\n",
       "  <thead>\n",
       "    <tr style=\"text-align: right;\">\n",
       "      <th></th>\n",
       "      <th>0</th>\n",
       "    </tr>\n",
       "  </thead>\n",
       "  <tbody>\n",
       "    <tr>\n",
       "      <th>0</th>\n",
       "      <td>749</td>\n",
       "    </tr>\n",
       "    <tr>\n",
       "      <th>0</th>\n",
       "      <td>746</td>\n",
       "    </tr>\n",
       "    <tr>\n",
       "      <th>1</th>\n",
       "      <td>741</td>\n",
       "    </tr>\n",
       "    <tr>\n",
       "      <th>2</th>\n",
       "      <td>732</td>\n",
       "    </tr>\n",
       "    <tr>\n",
       "      <th>3</th>\n",
       "      <td>723</td>\n",
       "    </tr>\n",
       "    <tr>\n",
       "      <th>4</th>\n",
       "      <td>716</td>\n",
       "    </tr>\n",
       "    <tr>\n",
       "      <th>5</th>\n",
       "      <td>691</td>\n",
       "    </tr>\n",
       "    <tr>\n",
       "      <th>6</th>\n",
       "      <td>691</td>\n",
       "    </tr>\n",
       "    <tr>\n",
       "      <th>7</th>\n",
       "      <td>687</td>\n",
       "    </tr>\n",
       "    <tr>\n",
       "      <th>8</th>\n",
       "      <td>681</td>\n",
       "    </tr>\n",
       "  </tbody>\n",
       "</table>\n",
       "</div>"
      ],
      "text/plain": [
       "     0\n",
       "0  749\n",
       "0  746\n",
       "1  741\n",
       "2  732\n",
       "3  723\n",
       "4  716\n",
       "5  691\n",
       "6  691\n",
       "7  687\n",
       "8  681"
      ]
     },
     "execution_count": 37,
     "metadata": {},
     "output_type": "execute_result"
    }
   ],
   "source": [
    "rating=rating.append(rating2)\n",
    "rating"
   ]
  },
  {
   "cell_type": "code",
   "execution_count": 38,
   "metadata": {},
   "outputs": [],
   "source": [
    "rating.reset_index(level=0, inplace=True)"
   ]
  },
  {
   "cell_type": "code",
   "execution_count": 39,
   "metadata": {},
   "outputs": [
    {
     "data": {
      "text/html": [
       "<div>\n",
       "<style scoped>\n",
       "    .dataframe tbody tr th:only-of-type {\n",
       "        vertical-align: middle;\n",
       "    }\n",
       "\n",
       "    .dataframe tbody tr th {\n",
       "        vertical-align: top;\n",
       "    }\n",
       "\n",
       "    .dataframe thead th {\n",
       "        text-align: right;\n",
       "    }\n",
       "</style>\n",
       "<table border=\"1\" class=\"dataframe\">\n",
       "  <thead>\n",
       "    <tr style=\"text-align: right;\">\n",
       "      <th></th>\n",
       "      <th>rating</th>\n",
       "    </tr>\n",
       "  </thead>\n",
       "  <tbody>\n",
       "    <tr>\n",
       "      <th>0</th>\n",
       "      <td>749</td>\n",
       "    </tr>\n",
       "    <tr>\n",
       "      <th>1</th>\n",
       "      <td>746</td>\n",
       "    </tr>\n",
       "    <tr>\n",
       "      <th>2</th>\n",
       "      <td>741</td>\n",
       "    </tr>\n",
       "    <tr>\n",
       "      <th>3</th>\n",
       "      <td>732</td>\n",
       "    </tr>\n",
       "    <tr>\n",
       "      <th>4</th>\n",
       "      <td>723</td>\n",
       "    </tr>\n",
       "    <tr>\n",
       "      <th>5</th>\n",
       "      <td>716</td>\n",
       "    </tr>\n",
       "    <tr>\n",
       "      <th>6</th>\n",
       "      <td>691</td>\n",
       "    </tr>\n",
       "    <tr>\n",
       "      <th>7</th>\n",
       "      <td>691</td>\n",
       "    </tr>\n",
       "    <tr>\n",
       "      <th>8</th>\n",
       "      <td>687</td>\n",
       "    </tr>\n",
       "    <tr>\n",
       "      <th>9</th>\n",
       "      <td>681</td>\n",
       "    </tr>\n",
       "  </tbody>\n",
       "</table>\n",
       "</div>"
      ],
      "text/plain": [
       "  rating\n",
       "0    749\n",
       "1    746\n",
       "2    741\n",
       "3    732\n",
       "4    723\n",
       "5    716\n",
       "6    691\n",
       "7    691\n",
       "8    687\n",
       "9    681"
      ]
     },
     "execution_count": 39,
     "metadata": {},
     "output_type": "execute_result"
    }
   ],
   "source": [
    "rating=rating.drop(columns='index')\n",
    "rating.columns = ['rating']\n",
    "rating"
   ]
  },
  {
   "cell_type": "code",
   "execution_count": 40,
   "metadata": {},
   "outputs": [
    {
     "name": "stdout",
     "output_type": "stream",
     "text": [
      "10 10 10\n"
     ]
    }
   ],
   "source": [
    "print(len(rating),len(team),len(player))"
   ]
  },
  {
   "cell_type": "code",
   "execution_count": 41,
   "metadata": {},
   "outputs": [],
   "source": [
    "Top_10_ODI_player=pd.DataFrame({})"
   ]
  },
  {
   "cell_type": "code",
   "execution_count": 42,
   "metadata": {},
   "outputs": [],
   "source": [
    "Top_10_ODI_player=pd.DataFrame(data=player, index=range(0,10))"
   ]
  },
  {
   "cell_type": "code",
   "execution_count": 43,
   "metadata": {},
   "outputs": [
    {
     "data": {
      "text/html": [
       "<div>\n",
       "<style scoped>\n",
       "    .dataframe tbody tr th:only-of-type {\n",
       "        vertical-align: middle;\n",
       "    }\n",
       "\n",
       "    .dataframe tbody tr th {\n",
       "        vertical-align: top;\n",
       "    }\n",
       "\n",
       "    .dataframe thead th {\n",
       "        text-align: right;\n",
       "    }\n",
       "</style>\n",
       "<table border=\"1\" class=\"dataframe\">\n",
       "  <thead>\n",
       "    <tr style=\"text-align: right;\">\n",
       "      <th></th>\n",
       "      <th>player</th>\n",
       "    </tr>\n",
       "  </thead>\n",
       "  <tbody>\n",
       "    <tr>\n",
       "      <th>0</th>\n",
       "      <td>Meg Lanning</td>\n",
       "    </tr>\n",
       "    <tr>\n",
       "      <th>1</th>\n",
       "      <td>Stafanie Taylor</td>\n",
       "    </tr>\n",
       "    <tr>\n",
       "      <th>2</th>\n",
       "      <td>Alyssa Healy</td>\n",
       "    </tr>\n",
       "    <tr>\n",
       "      <th>3</th>\n",
       "      <td>Smriti Mandhana</td>\n",
       "    </tr>\n",
       "    <tr>\n",
       "      <th>4</th>\n",
       "      <td>Amy Satterthwaite</td>\n",
       "    </tr>\n",
       "    <tr>\n",
       "      <th>5</th>\n",
       "      <td>Tammy Beaumont</td>\n",
       "    </tr>\n",
       "    <tr>\n",
       "      <th>6</th>\n",
       "      <td>Laura Wolvaardt</td>\n",
       "    </tr>\n",
       "    <tr>\n",
       "      <th>7</th>\n",
       "      <td>Ellyse Perry</td>\n",
       "    </tr>\n",
       "    <tr>\n",
       "      <th>8</th>\n",
       "      <td>Mithali Raj</td>\n",
       "    </tr>\n",
       "    <tr>\n",
       "      <th>9</th>\n",
       "      <td>Lizelle Lee</td>\n",
       "    </tr>\n",
       "  </tbody>\n",
       "</table>\n",
       "</div>"
      ],
      "text/plain": [
       "              player\n",
       "0        Meg Lanning\n",
       "1    Stafanie Taylor\n",
       "2       Alyssa Healy\n",
       "3    Smriti Mandhana\n",
       "4  Amy Satterthwaite\n",
       "5     Tammy Beaumont\n",
       "6    Laura Wolvaardt\n",
       "7       Ellyse Perry\n",
       "8        Mithali Raj\n",
       "9        Lizelle Lee"
      ]
     },
     "execution_count": 43,
     "metadata": {},
     "output_type": "execute_result"
    }
   ],
   "source": [
    "Top_10_ODI_player"
   ]
  },
  {
   "cell_type": "code",
   "execution_count": 44,
   "metadata": {},
   "outputs": [],
   "source": [
    "Top_10_ODI_player['team']=team\n",
    "Top_10_ODI_player['rating']=rating"
   ]
  },
  {
   "cell_type": "code",
   "execution_count": 45,
   "metadata": {},
   "outputs": [
    {
     "data": {
      "text/html": [
       "<div>\n",
       "<style scoped>\n",
       "    .dataframe tbody tr th:only-of-type {\n",
       "        vertical-align: middle;\n",
       "    }\n",
       "\n",
       "    .dataframe tbody tr th {\n",
       "        vertical-align: top;\n",
       "    }\n",
       "\n",
       "    .dataframe thead th {\n",
       "        text-align: right;\n",
       "    }\n",
       "</style>\n",
       "<table border=\"1\" class=\"dataframe\">\n",
       "  <thead>\n",
       "    <tr style=\"text-align: right;\">\n",
       "      <th></th>\n",
       "      <th>player</th>\n",
       "      <th>team</th>\n",
       "      <th>rating</th>\n",
       "    </tr>\n",
       "  </thead>\n",
       "  <tbody>\n",
       "    <tr>\n",
       "      <th>0</th>\n",
       "      <td>Meg Lanning</td>\n",
       "      <td>AUS</td>\n",
       "      <td>749</td>\n",
       "    </tr>\n",
       "    <tr>\n",
       "      <th>1</th>\n",
       "      <td>Stafanie Taylor</td>\n",
       "      <td>WI</td>\n",
       "      <td>746</td>\n",
       "    </tr>\n",
       "    <tr>\n",
       "      <th>2</th>\n",
       "      <td>Alyssa Healy</td>\n",
       "      <td>AUS</td>\n",
       "      <td>741</td>\n",
       "    </tr>\n",
       "    <tr>\n",
       "      <th>3</th>\n",
       "      <td>Smriti Mandhana</td>\n",
       "      <td>IND</td>\n",
       "      <td>732</td>\n",
       "    </tr>\n",
       "    <tr>\n",
       "      <th>4</th>\n",
       "      <td>Amy Satterthwaite</td>\n",
       "      <td>NZ</td>\n",
       "      <td>723</td>\n",
       "    </tr>\n",
       "    <tr>\n",
       "      <th>5</th>\n",
       "      <td>Tammy Beaumont</td>\n",
       "      <td>ENG</td>\n",
       "      <td>716</td>\n",
       "    </tr>\n",
       "    <tr>\n",
       "      <th>6</th>\n",
       "      <td>Laura Wolvaardt</td>\n",
       "      <td>SA</td>\n",
       "      <td>691</td>\n",
       "    </tr>\n",
       "    <tr>\n",
       "      <th>7</th>\n",
       "      <td>Ellyse Perry</td>\n",
       "      <td>AUS</td>\n",
       "      <td>691</td>\n",
       "    </tr>\n",
       "    <tr>\n",
       "      <th>8</th>\n",
       "      <td>Mithali Raj</td>\n",
       "      <td>IND</td>\n",
       "      <td>687</td>\n",
       "    </tr>\n",
       "    <tr>\n",
       "      <th>9</th>\n",
       "      <td>Lizelle Lee</td>\n",
       "      <td>SA</td>\n",
       "      <td>681</td>\n",
       "    </tr>\n",
       "  </tbody>\n",
       "</table>\n",
       "</div>"
      ],
      "text/plain": [
       "              player team rating\n",
       "0        Meg Lanning  AUS    749\n",
       "1    Stafanie Taylor   WI    746\n",
       "2       Alyssa Healy  AUS    741\n",
       "3    Smriti Mandhana  IND    732\n",
       "4  Amy Satterthwaite   NZ    723\n",
       "5     Tammy Beaumont  ENG    716\n",
       "6    Laura Wolvaardt   SA    691\n",
       "7       Ellyse Perry  AUS    691\n",
       "8        Mithali Raj  IND    687\n",
       "9        Lizelle Lee   SA    681"
      ]
     },
     "execution_count": 45,
     "metadata": {},
     "output_type": "execute_result"
    }
   ],
   "source": [
    "Top_10_ODI_player"
   ]
  },
  {
   "cell_type": "code",
   "execution_count": null,
   "metadata": {},
   "outputs": [],
   "source": []
  }
 ],
 "metadata": {
  "kernelspec": {
   "display_name": "Python 3",
   "language": "python",
   "name": "python3"
  },
  "language_info": {
   "codemirror_mode": {
    "name": "ipython",
    "version": 3
   },
   "file_extension": ".py",
   "mimetype": "text/x-python",
   "name": "python",
   "nbconvert_exporter": "python",
   "pygments_lexer": "ipython3",
   "version": "3.8.3"
  }
 },
 "nbformat": 4,
 "nbformat_minor": 4
}
