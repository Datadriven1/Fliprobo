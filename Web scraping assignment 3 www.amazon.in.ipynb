{
 "cells": [
  {
   "cell_type": "code",
   "execution_count": 445,
   "metadata": {},
   "outputs": [
    {
     "name": "stdout",
     "output_type": "stream",
     "text": [
      "Requirement already satisfied: selenium in c:\\users\\bhupe\\anaconda3\\lib\\site-packages (3.141.0)\n",
      "Requirement already satisfied: urllib3 in c:\\users\\bhupe\\anaconda3\\lib\\site-packages (from selenium) (1.25.9)\n",
      "Requirement already satisfied: webdriver-manager in c:\\users\\bhupe\\anaconda3\\lib\\site-packages (3.3.0)\n",
      "Requirement already satisfied: requests in c:\\users\\bhupe\\anaconda3\\lib\\site-packages (from webdriver-manager) (2.24.0)\n",
      "Requirement already satisfied: crayons in c:\\users\\bhupe\\anaconda3\\lib\\site-packages (from webdriver-manager) (0.4.0)\n",
      "Requirement already satisfied: configparser in c:\\users\\bhupe\\anaconda3\\lib\\site-packages (from webdriver-manager) (5.0.1)\n",
      "Requirement already satisfied: urllib3!=1.25.0,!=1.25.1,<1.26,>=1.21.1 in c:\\users\\bhupe\\anaconda3\\lib\\site-packages (from requests->webdriver-manager) (1.25.9)\n",
      "Requirement already satisfied: idna<3,>=2.5 in c:\\users\\bhupe\\anaconda3\\lib\\site-packages (from requests->webdriver-manager) (2.10)\n",
      "Requirement already satisfied: chardet<4,>=3.0.2 in c:\\users\\bhupe\\anaconda3\\lib\\site-packages (from requests->webdriver-manager) (3.0.4)\n",
      "Requirement already satisfied: certifi>=2017.4.17 in c:\\users\\bhupe\\anaconda3\\lib\\site-packages (from requests->webdriver-manager) (2020.6.20)\n",
      "Requirement already satisfied: colorama in c:\\users\\bhupe\\anaconda3\\lib\\site-packages (from crayons->webdriver-manager) (0.4.3)\n",
      "Requirement already satisfied: bs4 in c:\\users\\bhupe\\anaconda3\\lib\\site-packages (0.0.1)\n",
      "Requirement already satisfied: beautifulsoup4 in c:\\users\\bhupe\\anaconda3\\lib\\site-packages (from bs4) (4.9.1)\n",
      "Requirement already satisfied: soupsieve>1.2 in c:\\users\\bhupe\\anaconda3\\lib\\site-packages (from beautifulsoup4->bs4) (2.0.1)\n",
      "Requirement already satisfied: requests in c:\\users\\bhupe\\anaconda3\\lib\\site-packages (2.24.0)\n",
      "Requirement already satisfied: certifi>=2017.4.17 in c:\\users\\bhupe\\anaconda3\\lib\\site-packages (from requests) (2020.6.20)\n",
      "Requirement already satisfied: urllib3!=1.25.0,!=1.25.1,<1.26,>=1.21.1 in c:\\users\\bhupe\\anaconda3\\lib\\site-packages (from requests) (1.25.9)\n",
      "Requirement already satisfied: idna<3,>=2.5 in c:\\users\\bhupe\\anaconda3\\lib\\site-packages (from requests) (2.10)\n",
      "Requirement already satisfied: chardet<4,>=3.0.2 in c:\\users\\bhupe\\anaconda3\\lib\\site-packages (from requests) (3.0.4)\n"
     ]
    }
   ],
   "source": [
    "! pip install selenium\n",
    "import selenium\n",
    "import pandas as pd\n",
    "import numpy as np\n",
    "!pip install webdriver-manager\n",
    "from selenium import webdriver\n",
    "from webdriver_manager.chrome import ChromeDriverManager\n",
    "from selenium.webdriver.common.keys import Keys \n",
    "from selenium.common.exceptions import ElementClickInterceptedException\n",
    "from selenium.common.exceptions import StaleElementReferenceException, NoSuchElementException\n",
    "import warnings\n",
    "warnings.filterwarnings('ignore')\n",
    "\n",
    "!pip install bs4\n",
    "!pip install requests\n",
    "\n",
    "from bs4 import BeautifulSoup\n",
    "import requests"
   ]
  },
  {
   "cell_type": "code",
   "execution_count": 446,
   "metadata": {},
   "outputs": [
    {
     "name": "stderr",
     "output_type": "stream",
     "text": [
      "[WDM] - ====== WebDriver manager ======\n",
      "[WDM] - Current google-chrome version is 88.0.4324\n",
      "[WDM] - Get LATEST driver version for 88.0.4324\n"
     ]
    },
    {
     "name": "stdout",
     "output_type": "stream",
     "text": [
      "\n",
      "\n"
     ]
    },
    {
     "name": "stderr",
     "output_type": "stream",
     "text": [
      "[WDM] - Driver [C:\\Users\\bhupe\\.wdm\\drivers\\chromedriver\\win32\\88.0.4324.96\\chromedriver.exe] found in cache\n"
     ]
    }
   ],
   "source": [
    "driver=webdriver.Chrome(ChromeDriverManager().install())"
   ]
  },
  {
   "cell_type": "code",
   "execution_count": 447,
   "metadata": {},
   "outputs": [],
   "source": [
    "driver.get('https://www.amazon.in/')"
   ]
  },
  {
   "cell_type": "code",
   "execution_count": 448,
   "metadata": {},
   "outputs": [],
   "source": [
    "button1=driver.find_element_by_id(\"nav-hamburger-menu\")"
   ]
  },
  {
   "cell_type": "code",
   "execution_count": 449,
   "metadata": {},
   "outputs": [],
   "source": [
    "button1.click()"
   ]
  },
  {
   "cell_type": "code",
   "execution_count": 450,
   "metadata": {},
   "outputs": [],
   "source": [
    "button2=driver.find_element_by_xpath('//*[@id=\"hmenu-content\"]/ul[1]/li[16]/a/div')"
   ]
  },
  {
   "cell_type": "code",
   "execution_count": 451,
   "metadata": {},
   "outputs": [],
   "source": [
    "button2.click()"
   ]
  },
  {
   "cell_type": "code",
   "execution_count": 453,
   "metadata": {},
   "outputs": [],
   "source": [
    "button3=driver.find_element_by_xpath('//*[@id=\"hmenu-content\"]/ul[9]/li[6]/a')"
   ]
  },
  {
   "cell_type": "code",
   "execution_count": 454,
   "metadata": {},
   "outputs": [],
   "source": [
    "button3.click()"
   ]
  },
  {
   "cell_type": "code",
   "execution_count": 455,
   "metadata": {},
   "outputs": [],
   "source": [
    "button4=driver.find_element_by_xpath('//*[@id=\"a-page\"]/div[2]/div[2]/div[1]/div[16]/div[2]/div/div/a/span')"
   ]
  },
  {
   "cell_type": "code",
   "execution_count": 456,
   "metadata": {},
   "outputs": [],
   "source": [
    "button4.click()"
   ]
  },
  {
   "cell_type": "code",
   "execution_count": 457,
   "metadata": {},
   "outputs": [],
   "source": [
    "urls=[]"
   ]
  },
  {
   "cell_type": "code",
   "execution_count": 458,
   "metadata": {},
   "outputs": [],
   "source": [
    "url='https://www.amazon.in/s?rh=n%3A1389365031&fs=true&ref=lp_1389365031_sar'"
   ]
  },
  {
   "cell_type": "code",
   "execution_count": 459,
   "metadata": {
    "scrolled": true
   },
   "outputs": [],
   "source": [
    "driver.get(url)"
   ]
  },
  {
   "cell_type": "code",
   "execution_count": 460,
   "metadata": {},
   "outputs": [
    {
     "data": {
      "text/plain": [
       "[<selenium.webdriver.remote.webelement.WebElement (session=\"de84410e2af7d03c88e4de0043cd3b68\", element=\"ec379756-b1f6-4f93-aace-8b7c037d628b\")>,\n",
       " <selenium.webdriver.remote.webelement.WebElement (session=\"de84410e2af7d03c88e4de0043cd3b68\", element=\"eff1ebb8-eb74-4720-b946-deca1d3649aa\")>,\n",
       " <selenium.webdriver.remote.webelement.WebElement (session=\"de84410e2af7d03c88e4de0043cd3b68\", element=\"5bbcd49b-dd18-438f-a552-3cda56944078\")>,\n",
       " <selenium.webdriver.remote.webelement.WebElement (session=\"de84410e2af7d03c88e4de0043cd3b68\", element=\"ca71ac33-b195-4430-bb4f-51ea854784e4\")>]"
      ]
     },
     "execution_count": 460,
     "metadata": {},
     "output_type": "execute_result"
    }
   ],
   "source": [
    "prod_urls=driver.find_elements_by_xpath(\"//a[@class='a-link-normal a-text-normal']\")\n",
    "prod_urls[:4]"
   ]
  },
  {
   "cell_type": "code",
   "execution_count": 461,
   "metadata": {},
   "outputs": [],
   "source": [
    "for prod in prod_urls:\n",
    "        urls.append(prod.get_attribute('href'))"
   ]
  },
  {
   "cell_type": "code",
   "execution_count": 462,
   "metadata": {
    "scrolled": true
   },
   "outputs": [
    {
     "data": {
      "text/plain": [
       "['https://www.amazon.in/gp/slredirect/picassoRedirect.html/ref=pa_sp_atf_browse_electronics_sr_pg1_1?ie=UTF8&adId=A01452932BH21ODCBC602&url=%2FBoat-Stone-1000-Bluetooth-Monstrous%2Fdp%2FB072PQRS12%2Fref%3Dsr_1_1_sspa%3Fdchild%3D1%26qid%3D1614035569%26s%3Delectronics%26sr%3D1-1-spons%26psc%3D1&qualifier=1614035569&id=2257915345515092&widgetName=sp_atf_browse',\n",
       " 'https://www.amazon.in/gp/slredirect/picassoRedirect.html/ref=pa_sp_atf_browse_electronics_sr_pg1_1?ie=UTF8&adId=A09684961LMU86CL8I7M7&url=%2FStone-650-Wireless-Bluetooth-Speaker%2Fdp%2FB07NC12T2R%2Fref%3Dsr_1_2_sspa%3Fdchild%3D1%26qid%3D1614035569%26s%3Delectronics%26sr%3D1-2-spons%26psc%3D1&qualifier=1614035569&id=2257915345515092&widgetName=sp_atf_browse',\n",
       " 'https://www.amazon.in/gp/slredirect/picassoRedirect.html/ref=pa_sp_atf_browse_electronics_sr_pg1_1?ie=UTF8&adId=A07327731D5Z4X3K5EOHN&url=%2FJB-Super-Portable-Wireless-Bluetooth%2Fdp%2FB08TRHGKRF%2Fref%3Dsr_1_3_sspa%3Fdchild%3D1%26qid%3D1614035569%26s%3Delectronics%26sr%3D1-3-spons%26psc%3D1&qualifier=1614035569&id=2257915345515092&widgetName=sp_atf_browse',\n",
       " 'https://www.amazon.in/Echo-Dot-4th-Gen-Blue/dp/B084KSRFXJ/ref=sr_1_4_mod_primary_lightning_deal?dchild=1&qid=1614035569&s=electronics&sbo=Tc8eqSFhUl4VwMzbE4fw%2Fw%3D%3D&smid=AT95IG9ONZD7S&sr=1-4',\n",
       " 'https://www.amazon.in/Mivi-Wireless-Bluetooth-Waterproof-Assistance/dp/B08PGYLCQB/ref=sr_1_5?dchild=1&qid=1614035569&s=electronics&sr=1-5',\n",
       " 'https://www.amazon.in/Infinity-Fuze-100-Waterproof-Portable/dp/B07W7Z6DVL/ref=sr_1_6?dchild=1&qid=1614035569&s=electronics&sr=1-6',\n",
       " 'https://www.amazon.in/All-new-Echo-Dot/dp/B084DWH53T/ref=sr_1_7_mod_primary_lightning_deal?dchild=1&qid=1614035569&s=electronics&sbo=Tc8eqSFhUl4VwMzbE4fw%2Fw%3D%3D&smid=AT95IG9ONZD7S&sr=1-7',\n",
       " 'https://www.amazon.in/Zebronics-Zeb-County-Bluetooth-Speaker-Function/dp/B07YNV41FT/ref=sr_1_8?dchild=1&qid=1614035569&s=electronics&sr=1-8',\n",
       " 'https://www.amazon.in/Zebronics-Zeb-County-Bluetooth-Speaker-Function/dp/B07YNTJ8ZM/ref=sr_1_9?dchild=1&qid=1614035569&s=electronics&sr=1-9',\n",
       " 'https://www.amazon.in/All-new-Echo-Dot-with-clock/dp/B085M5R82K/ref=sr_1_10_mod_primary_lightning_deal?dchild=1&qid=1614035569&s=electronics&sbo=Tc8eqSFhUl4VwMzbE4fw%2Fw%3D%3D&smid=AT95IG9ONZD7S&sr=1-10',\n",
       " 'https://www.amazon.in/Boat-1160-Bluetooth-Compatibility-Entertainment/dp/B086FCHZGZ/ref=sr_1_11?dchild=1&qid=1614035569&s=electronics&sr=1-11',\n",
       " 'https://www.amazon.in/Stone-200-Portable-Bluetooth-Speakers/dp/B01JIP44OU/ref=sr_1_12_mod_primary_lightning_deal?dchild=1&qid=1614035569&s=electronics&sbo=Tc8eqSFhUl4VwMzbE4fw%2Fw%3D%3D&smid=A14CZOWI0VEHLG&sr=1-12',\n",
       " 'https://www.amazon.in/gp/slredirect/picassoRedirect.html/ref=pa_sp_mtf_browse_electronics_sr_pg1_1?ie=UTF8&adId=A013963630VGEC8YW03XU&url=%2FPink-Peony-Portable-Bluetooth-Speaker%2Fdp%2FB08K3B5HLQ%2Fref%3Dsr_1_13_sspa%3Fdchild%3D1%26qid%3D1614035569%26s%3Delectronics%26sr%3D1-13-spons%26psc%3D1&qualifier=1614035569&id=2257915345515092&widgetName=sp_mtf_browse',\n",
       " 'https://www.amazon.in/gp/slredirect/picassoRedirect.html/ref=pa_sp_mtf_browse_electronics_sr_pg1_1?ie=UTF8&adId=A0199074GUFLQDDDFB87&url=%2FZebronics-Zeb-Space-Bluetooth-Supporting-Portable%2Fdp%2FB08D6GDPQZ%2Fref%3Dsr_1_14_sspa%3Fdchild%3D1%26qid%3D1614035569%26s%3Delectronics%26sr%3D1-14-spons%26psc%3D1&qualifier=1614035569&id=2257915345515092&widgetName=sp_mtf_browse',\n",
       " 'https://www.amazon.in/gp/slredirect/picassoRedirect.html/ref=pa_sp_mtf_browse_electronics_sr_pg1_1?ie=UTF8&adId=A0958513FTFXZCB9HM3D&url=%2FRSFuture-Bluetooth-Speaker-WS-887-Memory%2Fdp%2FB08KWHJMPC%2Fref%3Dsr_1_15_sspa%3Fdchild%3D1%26qid%3D1614035569%26s%3Delectronics%26sr%3D1-15-spons%26psc%3D1&qualifier=1614035569&id=2257915345515092&widgetName=sp_mtf_browse',\n",
       " 'https://www.amazon.in/Infinity-Fuze-Pint-Portable-Wireless/dp/B07W6VWZ8C/ref=sr_1_16?dchild=1&qid=1614035569&s=electronics&sr=1-16',\n",
       " 'https://www.amazon.in/Stone-650-Wireless-Bluetooth-Speaker/dp/B07NBWT3Z2/ref=sr_1_17?dchild=1&qid=1614035569&s=electronics&sr=1-17',\n",
       " 'https://www.amazon.in/Boat-Stone-1000-Bluetooth-Monstrous/dp/B072PQRS12/ref=sr_1_18?dchild=1&qid=1614035569&s=electronics&sr=1-18',\n",
       " 'https://www.amazon.in/Echo-Combo-Wipro-Smart-Color/dp/B08TNTYXVP/ref=sr_1_19?dchild=1&qid=1614035569&s=electronics&smid=AT95IG9ONZD7S&sr=1-19',\n",
       " 'https://www.amazon.in/Photron-P10-Wireless-Portable-Bluetooth/dp/B01EM2ZFJW/ref=sr_1_20_mod_primary_lightning_deal?dchild=1&qid=1614035569&s=electronics&sbo=Tc8eqSFhUl4VwMzbE4fw%2Fw%3D%3D&smid=A14CZOWI0VEHLG&sr=1-20',\n",
       " 'https://www.amazon.in/JBL-Portable-Wireless-Bluetooth-Speaker/dp/B00TFGWAA8/ref=sr_1_21?dchild=1&qid=1614035569&s=electronics&sr=1-21',\n",
       " 'https://www.amazon.in/Zebronics-Zeb-County-Bluetooth-Speaker-Function/dp/B07YNVQJZY/ref=sr_1_22?dchild=1&qid=1614035569&s=electronics&sr=1-22',\n",
       " 'https://www.amazon.in/Stone-170-Portable-Bluetooth-Resistant/dp/B084GQD49Q/ref=sr_1_23?dchild=1&qid=1614035569&s=electronics&sr=1-23',\n",
       " 'https://www.amazon.in/Zebronics-Zeb-County-Bluetooth-Speaker-Function/dp/B07YNV1L55/ref=sr_1_24?dchild=1&qid=1614035569&s=electronics&sr=1-24',\n",
       " 'https://www.amazon.in/Stone-200-Portable-Bluetooth-Speakers/dp/B01JIP4BPW/ref=sr_1_25?dchild=1&qid=1614035569&s=electronics&sr=1-25',\n",
       " 'https://www.amazon.in/Modernista-Wireless-Bluetooth-Speaker-Portable/dp/B0863L2Q3S/ref=sr_1_26_mod_primary_lightning_deal?dchild=1&qid=1614035569&s=electronics&sbo=Tc8eqSFhUl4VwMzbE4fw%2Fw%3D%3D&smid=A14CZOWI0VEHLG&sr=1-26',\n",
       " 'https://www.amazon.in/Devcool-Bluetooth-Wireless-Rechargeable-Portable/dp/B07PLB3WBB/ref=sr_1_27?dchild=1&qid=1614035569&s=electronics&sr=1-27',\n",
       " 'https://www.amazon.in/Carvaan-Saregama-Mini-Kids-Out/dp/B08K969L6V/ref=sr_1_28?dchild=1&qid=1614035569&s=electronics&sr=1-28',\n",
       " 'https://www.amazon.in/Stone-200-Portable-Bluetooth-Speakers/dp/B01JIP48IC/ref=sr_1_29_mod_primary_lightning_deal?dchild=1&qid=1614035569&s=electronics&sbo=Tc8eqSFhUl4VwMzbE4fw%2Fw%3D%3D&smid=A14CZOWI0VEHLG&sr=1-29',\n",
       " 'https://www.amazon.in/Sketchfab-Bluetooth-Splashproof-Waterproof-Compatible/dp/B08LPM453T/ref=sr_1_30?dchild=1&qid=1614035569&s=electronics&sr=1-30',\n",
       " 'https://www.amazon.in/gp/slredirect/picassoRedirect.html/ref=pa_sp_btf_browse_electronics_sr_pg1_1?ie=UTF8&adId=A0907843HF58WN5SF21D&url=%2FZebronics-Zeb-Music-Feast-100-Supporting%2Fdp%2FB08CK4DCM7%2Fref%3Dsr_1_31_sspa%3Fdchild%3D1%26qid%3D1614035569%26s%3Delectronics%26sr%3D1-31-spons%26psc%3D1&qualifier=1614035569&id=2257915345515092&widgetName=sp_btf_browse',\n",
       " 'https://www.amazon.in/gp/slredirect/picassoRedirect.html/ref=pa_sp_btf_browse_electronics_sr_pg1_1?ie=UTF8&adId=A0966093VI9KU9UX6277&url=%2FRSFuture-Wireless-Bluetooth-Powerful-Loudspeaker%2Fdp%2FB08HKG1SSG%2Fref%3Dsr_1_32_sspa%3Fdchild%3D1%26qid%3D1614035569%26s%3Delectronics%26sr%3D1-32-spons%26psc%3D1&qualifier=1614035569&id=2257915345515092&widgetName=sp_btf_browse',\n",
       " 'https://www.amazon.in/gp/slredirect/picassoRedirect.html/ref=pa_sp_btf_browse_electronics_sr_pg1_1?ie=UTF8&adId=A053595121M8ARYMD2N1F&url=%2FStarknic-Bluetooth-Music-Bulb-Multicolour%2Fdp%2FB07WSRN311%2Fref%3Dsr_1_33_sspa%3Fdchild%3D1%26qid%3D1614035569%26s%3Delectronics%26sr%3D1-33-spons%26psc%3D1&qualifier=1614035569&id=2257915345515092&widgetName=sp_btf_browse']"
      ]
     },
     "execution_count": 462,
     "metadata": {},
     "output_type": "execute_result"
    }
   ],
   "source": [
    "urls"
   ]
  },
  {
   "cell_type": "code",
   "execution_count": 463,
   "metadata": {},
   "outputs": [],
   "source": [
    "button5=driver.find_element_by_xpath('//*[@id=\"search\"]/div[1]/div[2]/div/span[3]/div[2]/div[34]/span/div/div/ul/li[3]/a')\n",
    "button5.click()"
   ]
  },
  {
   "cell_type": "code",
   "execution_count": 464,
   "metadata": {},
   "outputs": [
    {
     "data": {
      "text/plain": [
       "[<selenium.webdriver.remote.webelement.WebElement (session=\"de84410e2af7d03c88e4de0043cd3b68\", element=\"245742a7-f85a-41c7-9841-373ed53b01fc\")>,\n",
       " <selenium.webdriver.remote.webelement.WebElement (session=\"de84410e2af7d03c88e4de0043cd3b68\", element=\"d8e73f1c-833e-4b84-a432-80d32b0ec75c\")>,\n",
       " <selenium.webdriver.remote.webelement.WebElement (session=\"de84410e2af7d03c88e4de0043cd3b68\", element=\"bad19985-383b-45ba-b82b-426b4524d699\")>,\n",
       " <selenium.webdriver.remote.webelement.WebElement (session=\"de84410e2af7d03c88e4de0043cd3b68\", element=\"8a2a2dbb-20ca-47f4-a5aa-48db247bac79\")>]"
      ]
     },
     "execution_count": 464,
     "metadata": {},
     "output_type": "execute_result"
    }
   ],
   "source": [
    "prod_urls1=driver.find_elements_by_xpath(\"//a[@class='a-link-normal a-text-normal']\")\n",
    "prod_urls1[:4]"
   ]
  },
  {
   "cell_type": "code",
   "execution_count": 465,
   "metadata": {},
   "outputs": [],
   "source": [
    "for prod in prod_urls1:\n",
    "        urls.append(prod.get_attribute('href'))"
   ]
  },
  {
   "cell_type": "code",
   "execution_count": 466,
   "metadata": {},
   "outputs": [],
   "source": [
    "button6=driver.find_element_by_xpath('//*[@id=\"search\"]/div[1]/div[2]/div/span[3]/div[2]/div[34]/span/div/div/ul/li[4]/a')\n",
    "button6.click()"
   ]
  },
  {
   "cell_type": "code",
   "execution_count": 467,
   "metadata": {},
   "outputs": [
    {
     "data": {
      "text/plain": [
       "[]"
      ]
     },
     "execution_count": 467,
     "metadata": {},
     "output_type": "execute_result"
    }
   ],
   "source": [
    "prod_urls2=driver.find_elements_by_xpath(\"//a[@class='a-link-normal a-text-normal']\")\n",
    "prod_urls2[:4]"
   ]
  },
  {
   "cell_type": "code",
   "execution_count": 468,
   "metadata": {},
   "outputs": [
    {
     "data": {
      "text/plain": [
       "['https://www.amazon.in/gp/slredirect/picassoRedirect.html/ref=pa_sp_atf_browse_electronics_sr_pg1_1?ie=UTF8&adId=A01452932BH21ODCBC602&url=%2FBoat-Stone-1000-Bluetooth-Monstrous%2Fdp%2FB072PQRS12%2Fref%3Dsr_1_1_sspa%3Fdchild%3D1%26qid%3D1614035569%26s%3Delectronics%26sr%3D1-1-spons%26psc%3D1&qualifier=1614035569&id=2257915345515092&widgetName=sp_atf_browse',\n",
       " 'https://www.amazon.in/gp/slredirect/picassoRedirect.html/ref=pa_sp_atf_browse_electronics_sr_pg1_1?ie=UTF8&adId=A09684961LMU86CL8I7M7&url=%2FStone-650-Wireless-Bluetooth-Speaker%2Fdp%2FB07NC12T2R%2Fref%3Dsr_1_2_sspa%3Fdchild%3D1%26qid%3D1614035569%26s%3Delectronics%26sr%3D1-2-spons%26psc%3D1&qualifier=1614035569&id=2257915345515092&widgetName=sp_atf_browse',\n",
       " 'https://www.amazon.in/gp/slredirect/picassoRedirect.html/ref=pa_sp_atf_browse_electronics_sr_pg1_1?ie=UTF8&adId=A07327731D5Z4X3K5EOHN&url=%2FJB-Super-Portable-Wireless-Bluetooth%2Fdp%2FB08TRHGKRF%2Fref%3Dsr_1_3_sspa%3Fdchild%3D1%26qid%3D1614035569%26s%3Delectronics%26sr%3D1-3-spons%26psc%3D1&qualifier=1614035569&id=2257915345515092&widgetName=sp_atf_browse',\n",
       " 'https://www.amazon.in/Echo-Dot-4th-Gen-Blue/dp/B084KSRFXJ/ref=sr_1_4_mod_primary_lightning_deal?dchild=1&qid=1614035569&s=electronics&sbo=Tc8eqSFhUl4VwMzbE4fw%2Fw%3D%3D&smid=AT95IG9ONZD7S&sr=1-4',\n",
       " 'https://www.amazon.in/Mivi-Wireless-Bluetooth-Waterproof-Assistance/dp/B08PGYLCQB/ref=sr_1_5?dchild=1&qid=1614035569&s=electronics&sr=1-5',\n",
       " 'https://www.amazon.in/Infinity-Fuze-100-Waterproof-Portable/dp/B07W7Z6DVL/ref=sr_1_6?dchild=1&qid=1614035569&s=electronics&sr=1-6',\n",
       " 'https://www.amazon.in/All-new-Echo-Dot/dp/B084DWH53T/ref=sr_1_7_mod_primary_lightning_deal?dchild=1&qid=1614035569&s=electronics&sbo=Tc8eqSFhUl4VwMzbE4fw%2Fw%3D%3D&smid=AT95IG9ONZD7S&sr=1-7',\n",
       " 'https://www.amazon.in/Zebronics-Zeb-County-Bluetooth-Speaker-Function/dp/B07YNV41FT/ref=sr_1_8?dchild=1&qid=1614035569&s=electronics&sr=1-8',\n",
       " 'https://www.amazon.in/Zebronics-Zeb-County-Bluetooth-Speaker-Function/dp/B07YNTJ8ZM/ref=sr_1_9?dchild=1&qid=1614035569&s=electronics&sr=1-9',\n",
       " 'https://www.amazon.in/All-new-Echo-Dot-with-clock/dp/B085M5R82K/ref=sr_1_10_mod_primary_lightning_deal?dchild=1&qid=1614035569&s=electronics&sbo=Tc8eqSFhUl4VwMzbE4fw%2Fw%3D%3D&smid=AT95IG9ONZD7S&sr=1-10',\n",
       " 'https://www.amazon.in/Boat-1160-Bluetooth-Compatibility-Entertainment/dp/B086FCHZGZ/ref=sr_1_11?dchild=1&qid=1614035569&s=electronics&sr=1-11',\n",
       " 'https://www.amazon.in/Stone-200-Portable-Bluetooth-Speakers/dp/B01JIP44OU/ref=sr_1_12_mod_primary_lightning_deal?dchild=1&qid=1614035569&s=electronics&sbo=Tc8eqSFhUl4VwMzbE4fw%2Fw%3D%3D&smid=A14CZOWI0VEHLG&sr=1-12',\n",
       " 'https://www.amazon.in/gp/slredirect/picassoRedirect.html/ref=pa_sp_mtf_browse_electronics_sr_pg1_1?ie=UTF8&adId=A013963630VGEC8YW03XU&url=%2FPink-Peony-Portable-Bluetooth-Speaker%2Fdp%2FB08K3B5HLQ%2Fref%3Dsr_1_13_sspa%3Fdchild%3D1%26qid%3D1614035569%26s%3Delectronics%26sr%3D1-13-spons%26psc%3D1&qualifier=1614035569&id=2257915345515092&widgetName=sp_mtf_browse',\n",
       " 'https://www.amazon.in/gp/slredirect/picassoRedirect.html/ref=pa_sp_mtf_browse_electronics_sr_pg1_1?ie=UTF8&adId=A0199074GUFLQDDDFB87&url=%2FZebronics-Zeb-Space-Bluetooth-Supporting-Portable%2Fdp%2FB08D6GDPQZ%2Fref%3Dsr_1_14_sspa%3Fdchild%3D1%26qid%3D1614035569%26s%3Delectronics%26sr%3D1-14-spons%26psc%3D1&qualifier=1614035569&id=2257915345515092&widgetName=sp_mtf_browse',\n",
       " 'https://www.amazon.in/gp/slredirect/picassoRedirect.html/ref=pa_sp_mtf_browse_electronics_sr_pg1_1?ie=UTF8&adId=A0958513FTFXZCB9HM3D&url=%2FRSFuture-Bluetooth-Speaker-WS-887-Memory%2Fdp%2FB08KWHJMPC%2Fref%3Dsr_1_15_sspa%3Fdchild%3D1%26qid%3D1614035569%26s%3Delectronics%26sr%3D1-15-spons%26psc%3D1&qualifier=1614035569&id=2257915345515092&widgetName=sp_mtf_browse',\n",
       " 'https://www.amazon.in/Infinity-Fuze-Pint-Portable-Wireless/dp/B07W6VWZ8C/ref=sr_1_16?dchild=1&qid=1614035569&s=electronics&sr=1-16',\n",
       " 'https://www.amazon.in/Stone-650-Wireless-Bluetooth-Speaker/dp/B07NBWT3Z2/ref=sr_1_17?dchild=1&qid=1614035569&s=electronics&sr=1-17',\n",
       " 'https://www.amazon.in/Boat-Stone-1000-Bluetooth-Monstrous/dp/B072PQRS12/ref=sr_1_18?dchild=1&qid=1614035569&s=electronics&sr=1-18',\n",
       " 'https://www.amazon.in/Echo-Combo-Wipro-Smart-Color/dp/B08TNTYXVP/ref=sr_1_19?dchild=1&qid=1614035569&s=electronics&smid=AT95IG9ONZD7S&sr=1-19',\n",
       " 'https://www.amazon.in/Photron-P10-Wireless-Portable-Bluetooth/dp/B01EM2ZFJW/ref=sr_1_20_mod_primary_lightning_deal?dchild=1&qid=1614035569&s=electronics&sbo=Tc8eqSFhUl4VwMzbE4fw%2Fw%3D%3D&smid=A14CZOWI0VEHLG&sr=1-20',\n",
       " 'https://www.amazon.in/JBL-Portable-Wireless-Bluetooth-Speaker/dp/B00TFGWAA8/ref=sr_1_21?dchild=1&qid=1614035569&s=electronics&sr=1-21',\n",
       " 'https://www.amazon.in/Zebronics-Zeb-County-Bluetooth-Speaker-Function/dp/B07YNVQJZY/ref=sr_1_22?dchild=1&qid=1614035569&s=electronics&sr=1-22',\n",
       " 'https://www.amazon.in/Stone-170-Portable-Bluetooth-Resistant/dp/B084GQD49Q/ref=sr_1_23?dchild=1&qid=1614035569&s=electronics&sr=1-23',\n",
       " 'https://www.amazon.in/Zebronics-Zeb-County-Bluetooth-Speaker-Function/dp/B07YNV1L55/ref=sr_1_24?dchild=1&qid=1614035569&s=electronics&sr=1-24',\n",
       " 'https://www.amazon.in/Stone-200-Portable-Bluetooth-Speakers/dp/B01JIP4BPW/ref=sr_1_25?dchild=1&qid=1614035569&s=electronics&sr=1-25',\n",
       " 'https://www.amazon.in/Modernista-Wireless-Bluetooth-Speaker-Portable/dp/B0863L2Q3S/ref=sr_1_26_mod_primary_lightning_deal?dchild=1&qid=1614035569&s=electronics&sbo=Tc8eqSFhUl4VwMzbE4fw%2Fw%3D%3D&smid=A14CZOWI0VEHLG&sr=1-26',\n",
       " 'https://www.amazon.in/Devcool-Bluetooth-Wireless-Rechargeable-Portable/dp/B07PLB3WBB/ref=sr_1_27?dchild=1&qid=1614035569&s=electronics&sr=1-27',\n",
       " 'https://www.amazon.in/Carvaan-Saregama-Mini-Kids-Out/dp/B08K969L6V/ref=sr_1_28?dchild=1&qid=1614035569&s=electronics&sr=1-28',\n",
       " 'https://www.amazon.in/Stone-200-Portable-Bluetooth-Speakers/dp/B01JIP48IC/ref=sr_1_29_mod_primary_lightning_deal?dchild=1&qid=1614035569&s=electronics&sbo=Tc8eqSFhUl4VwMzbE4fw%2Fw%3D%3D&smid=A14CZOWI0VEHLG&sr=1-29',\n",
       " 'https://www.amazon.in/Sketchfab-Bluetooth-Splashproof-Waterproof-Compatible/dp/B08LPM453T/ref=sr_1_30?dchild=1&qid=1614035569&s=electronics&sr=1-30',\n",
       " 'https://www.amazon.in/gp/slredirect/picassoRedirect.html/ref=pa_sp_btf_browse_electronics_sr_pg1_1?ie=UTF8&adId=A0907843HF58WN5SF21D&url=%2FZebronics-Zeb-Music-Feast-100-Supporting%2Fdp%2FB08CK4DCM7%2Fref%3Dsr_1_31_sspa%3Fdchild%3D1%26qid%3D1614035569%26s%3Delectronics%26sr%3D1-31-spons%26psc%3D1&qualifier=1614035569&id=2257915345515092&widgetName=sp_btf_browse',\n",
       " 'https://www.amazon.in/gp/slredirect/picassoRedirect.html/ref=pa_sp_btf_browse_electronics_sr_pg1_1?ie=UTF8&adId=A0966093VI9KU9UX6277&url=%2FRSFuture-Wireless-Bluetooth-Powerful-Loudspeaker%2Fdp%2FB08HKG1SSG%2Fref%3Dsr_1_32_sspa%3Fdchild%3D1%26qid%3D1614035569%26s%3Delectronics%26sr%3D1-32-spons%26psc%3D1&qualifier=1614035569&id=2257915345515092&widgetName=sp_btf_browse',\n",
       " 'https://www.amazon.in/gp/slredirect/picassoRedirect.html/ref=pa_sp_btf_browse_electronics_sr_pg1_1?ie=UTF8&adId=A053595121M8ARYMD2N1F&url=%2FStarknic-Bluetooth-Music-Bulb-Multicolour%2Fdp%2FB07WSRN311%2Fref%3Dsr_1_33_sspa%3Fdchild%3D1%26qid%3D1614035569%26s%3Delectronics%26sr%3D1-33-spons%26psc%3D1&qualifier=1614035569&id=2257915345515092&widgetName=sp_btf_browse',\n",
       " 'https://www.amazon.in/gp/slredirect/picassoRedirect.html/ref=pa_sp_atf_browse_electronics_sr_pg2_1?ie=UTF8&adId=A01452932BH21ODCBC602&url=%2FBoat-Stone-1000-Bluetooth-Monstrous%2Fdp%2FB072PQRS12%2Fref%3Dsr_1_25_sspa%3Fdchild%3D1%26qid%3D1614035569%26s%3Delectronics%26sr%3D1-25-spons%26psc%3D1&qualifier=1614035572&id=460608318597910&widgetName=sp_atf_browse',\n",
       " 'https://www.amazon.in/gp/slredirect/picassoRedirect.html/ref=pa_sp_atf_browse_electronics_sr_pg2_1?ie=UTF8&adId=A09684961LMU86CL8I7M7&url=%2FStone-650-Wireless-Bluetooth-Speaker%2Fdp%2FB07NC12T2R%2Fref%3Dsr_1_26_sspa%3Fdchild%3D1%26qid%3D1614035569%26s%3Delectronics%26sr%3D1-26-spons%26psc%3D1&qualifier=1614035572&id=460608318597910&widgetName=sp_atf_browse',\n",
       " 'https://www.amazon.in/gp/slredirect/picassoRedirect.html/ref=pa_sp_atf_browse_electronics_sr_pg2_1?ie=UTF8&adId=A07327731D5Z4X3K5EOHN&url=%2FJB-Super-Portable-Wireless-Bluetooth%2Fdp%2FB08TRHGKRF%2Fref%3Dsr_1_27_sspa%3Fdchild%3D1%26qid%3D1614035569%26s%3Delectronics%26sr%3D1-27-spons%26psc%3D1&qualifier=1614035572&id=460608318597910&widgetName=sp_atf_browse',\n",
       " 'https://www.amazon.in/Black-Combo-Wipro-Smart-Color/dp/B08TNN6TM3/ref=sr_1_28?dchild=1&qid=1614035569&s=electronics&smid=AT95IG9ONZD7S&sr=1-28',\n",
       " 'https://www.amazon.in/Sony-SRS-XB12-Portable-Waterproof-Wireless/dp/B07QD1FSWD/ref=sr_1_29?dchild=1&qid=1614035569&s=electronics&sr=1-29',\n",
       " 'https://www.amazon.in/JBL-Stealth-Waterproof-Portable-Bluetooth/dp/B07HHHMWQG/ref=sr_1_30?dchild=1&qid=1614035569&s=electronics&sr=1-30',\n",
       " 'https://www.amazon.in/Stone-Grenade-Portable-Bluetooth-Speakers/dp/B07NBZ8711/ref=sr_1_31?dchild=1&qid=1614035569&s=electronics&sr=1-31',\n",
       " 'https://www.amazon.in/Artis-Wireless-Portable-Bluetooth-Black/dp/B079S2X8MS/ref=sr_1_32?dchild=1&qid=1614035569&s=electronics&sr=1-32',\n",
       " 'https://www.amazon.in/iBall-Soundwave-Channel-Multimedia-Speakers/dp/B00DH8MF4Q/ref=sr_1_33?dchild=1&qid=1614035569&s=electronics&sr=1-33',\n",
       " 'https://www.amazon.in/JB-Super-Portable-Wireless-Bluetooth/dp/B08TRHGKRF/ref=sr_1_34?dchild=1&qid=1614035569&s=electronics&sr=1-34',\n",
       " 'https://www.amazon.in/Portronics-POR-871-SoundDrum-Bluetooth-Speaker/dp/B07B2XRFRV/ref=sr_1_35_mod_primary_lightning_deal?dchild=1&qid=1614035569&s=electronics&sbo=Tc8eqSFhUl4VwMzbE4fw%2Fw%3D%3D&smid=A14CZOWI0VEHLG&sr=1-35',\n",
       " 'https://www.amazon.in/boAt-Stone-Bluetooth-Speaker-Black/dp/B08PDGRR32/ref=sr_1_36?dchild=1&qid=1614035569&s=electronics&sr=1-36',\n",
       " 'https://www.amazon.in/INNO-MAX-Waterproof-Portable-Bluetooth/dp/B07YNPJFZ3/ref=sr_1_37?dchild=1&qid=1614035569&s=electronics&sr=1-37',\n",
       " 'https://www.amazon.in/Stone-SpinX-2-0-Portable-Wireless/dp/B07QGJF2ZL/ref=sr_1_38_mod_primary_lightning_deal?dchild=1&qid=1614035569&s=electronics&sbo=Tc8eqSFhUl4VwMzbE4fw%2Fw%3D%3D&smid=A14CZOWI0VEHLG&sr=1-38',\n",
       " 'https://www.amazon.in/Clavier-Portable-Bluetooth-Wireless-Speakers/dp/B07YQZN5SS/ref=sr_1_39?dchild=1&qid=1614035569&s=electronics&sr=1-39',\n",
       " 'https://www.amazon.in/gp/slredirect/picassoRedirect.html/ref=pa_sp_mtf_browse_electronics_sr_pg2_1?ie=UTF8&adId=A013963630VGEC8YW03XU&url=%2FPink-Peony-Portable-Bluetooth-Speaker%2Fdp%2FB08K3B5HLQ%2Fref%3Dsr_1_40_sspa%3Fdchild%3D1%26qid%3D1614035569%26s%3Delectronics%26sr%3D1-40-spons%26psc%3D1&qualifier=1614035572&id=460608318597910&widgetName=sp_mtf_browse',\n",
       " 'https://www.amazon.in/gp/slredirect/picassoRedirect.html/ref=pa_sp_mtf_browse_electronics_sr_pg2_1?ie=UTF8&adId=A0199074GUFLQDDDFB87&url=%2FZebronics-Zeb-Space-Bluetooth-Supporting-Portable%2Fdp%2FB08D6GDPQZ%2Fref%3Dsr_1_41_sspa%3Fdchild%3D1%26qid%3D1614035569%26s%3Delectronics%26sr%3D1-41-spons%26psc%3D1&qualifier=1614035572&id=460608318597910&widgetName=sp_mtf_browse',\n",
       " 'https://www.amazon.in/gp/slredirect/picassoRedirect.html/ref=pa_sp_mtf_browse_electronics_sr_pg2_1?ie=UTF8&adId=A0907843HF58WN5SF21D&url=%2FZebronics-Zeb-Music-Feast-100-Supporting%2Fdp%2FB08CK4DCM7%2Fref%3Dsr_1_42_sspa%3Fdchild%3D1%26qid%3D1614035569%26s%3Delectronics%26sr%3D1-42-spons%26psc%3D1&qualifier=1614035572&id=460608318597910&widgetName=sp_mtf_browse',\n",
       " 'https://www.amazon.in/Stone-1400-Wireless-Bluetooth-Resistance/dp/B07QGJF2ZM/ref=sr_1_43_mod_primary_lightning_deal?dchild=1&qid=1614035569&s=electronics&sbo=Tc8eqSFhUl4VwMzbE4fw%2Fw%3D%3D&smid=A14CZOWI0VEHLG&sr=1-43',\n",
       " 'https://www.amazon.in/Echo-Dot-3rd-Gen/dp/B07W95FDFT/ref=sr_1_44_mod_primary_lightning_deal?dchild=1&qid=1614035569&s=electronics&sbo=Tc8eqSFhUl4VwMzbE4fw%2Fw%3D%3D&smid=AT95IG9ONZD7S&sr=1-44',\n",
       " 'https://www.amazon.in/Saregama-Carvaan-SCM02-Bluetooth-Speaker/dp/B07GZHQFYR/ref=sr_1_45?dchild=1&qid=1614035569&s=electronics&sr=1-45',\n",
       " 'https://www.amazon.in/Sony-SRS-XB12-Portable-Waterproof-Wireless/dp/B07QD1G5B6/ref=sr_1_46?dchild=1&qid=1614035569&s=electronics&sr=1-46',\n",
       " 'https://www.amazon.in/Echo-Dot-3rd-Gen/dp/B07PFFMP9P/ref=sr_1_47_mod_primary_lightning_deal?dchild=1&qid=1614035569&s=electronics&sbo=Tc8eqSFhUl4VwMzbE4fw%2Fw%3D%3D&smid=AT95IG9ONZD7S&sr=1-47',\n",
       " 'https://www.amazon.in/Infinity-Fuze-100-Waterproof-Portable/dp/B07W5VGCV2/ref=sr_1_48?dchild=1&qid=1614035569&s=electronics&sr=1-48',\n",
       " 'https://www.amazon.in/E200-Soundbar-Speaker-System-Black/dp/B008ZXS7PY/ref=sr_1_49?dchild=1&qid=1614035569&s=electronics&sr=1-49',\n",
       " 'https://www.amazon.in/Echo-Combo-Wipro-Smart-Color/dp/B08K46MN2G/ref=sr_1_50?dchild=1&qid=1614035569&s=electronics&smid=AT95IG9ONZD7S&sr=1-50',\n",
       " 'https://www.amazon.in/Techgadget-Wireless-Portable-Bluetooth-Distortion/dp/B07XJQJXCX/ref=sr_1_51?dchild=1&qid=1614035569&s=electronics&sr=1-51',\n",
       " 'https://www.amazon.in/Echo-Dot-3rd-Gen/dp/B07PKXJN7J/ref=sr_1_52_mod_primary_lightning_deal?dchild=1&qid=1614035569&s=electronics&sbo=Tc8eqSFhUl4VwMzbE4fw%2Fw%3D%3D&smid=AT95IG9ONZD7S&sr=1-52',\n",
       " 'https://www.amazon.in/Outdoor-Bluetooth-Speaker-Supports-Assistant/dp/B085YCQRYM/ref=sr_1_53?dchild=1&qid=1614035569&s=electronics&sr=1-53',\n",
       " 'https://www.amazon.in/Infinity-Fuze-Pint-Portable-Wireless/dp/B07W6VWZ8B/ref=sr_1_54?dchild=1&qid=1614035569&s=electronics&sr=1-54',\n",
       " 'https://www.amazon.in/gp/slredirect/picassoRedirect.html/ref=pa_sp_btf_browse_electronics_sr_pg2_1?ie=UTF8&adId=A053595121M8ARYMD2N1F&url=%2FStarknic-Bluetooth-Music-Bulb-Multicolour%2Fdp%2FB07WSRN311%2Fref%3Dsr_1_55_sspa%3Fdchild%3D1%26qid%3D1614035569%26s%3Delectronics%26sr%3D1-55-spons%26psc%3D1&qualifier=1614035572&id=460608318597910&widgetName=sp_btf_browse',\n",
       " 'https://www.amazon.in/gp/slredirect/picassoRedirect.html/ref=pa_sp_btf_browse_electronics_sr_pg2_1?ie=UTF8&adId=A01438203D92J8K5DDH7N&url=%2FSony-GTK-PG10-Wireless-Speaker-Battery%2Fdp%2FB07RDZV9YV%2Fref%3Dsr_1_56_sspa%3Fdchild%3D1%26qid%3D1614035569%26s%3Delectronics%26sr%3D1-56-spons%26psc%3D1&qualifier=1614035572&id=460608318597910&widgetName=sp_btf_browse',\n",
       " 'https://www.amazon.in/gp/slredirect/picassoRedirect.html/ref=pa_sp_btf_browse_electronics_sr_pg2_1?ie=UTF8&adId=A0194086356EHFB3FPI5R&url=%2FZebronics-Buddy-Portable-Speaker-Blutooth%2Fdp%2FB07GB94CZ4%2Fref%3Dsr_1_57_sspa%3Fdchild%3D1%26qid%3D1614035569%26s%3Delectronics%26sr%3D1-57-spons%26psc%3D1&qualifier=1614035572&id=460608318597910&widgetName=sp_btf_browse']"
      ]
     },
     "execution_count": 468,
     "metadata": {},
     "output_type": "execute_result"
    }
   ],
   "source": [
    "for prod in prod_urls2:\n",
    "        urls.append(prod.get_attribute('href'))\n",
    "        \n",
    "urls        "
   ]
  },
  {
   "cell_type": "code",
   "execution_count": 469,
   "metadata": {},
   "outputs": [],
   "source": [
    "brand_name=[]\n",
    "name_of_product=[]\n",
    "rating=[]\n",
    "number_of_rating=[]\n",
    "price=[]\n",
    "raturn_exchange=[]\n",
    "expected_delivery=[]\n",
    "availability=[]\n",
    "other_details=[]\n",
    "product_urls=urls"
   ]
  },
  {
   "cell_type": "code",
   "execution_count": 470,
   "metadata": {},
   "outputs": [],
   "source": [
    "for i in urls:\n",
    "        driver.get(i)\n",
    "        try:                 \n",
    "            brand=driver.find_element_by_xpath(\"//td[@class='a-size-base prodDetAttrValue']\")\n",
    "            brand_name.append(brand.text)\n",
    "        \n",
    "        except NoSuchElementException   as e:\n",
    "            brand_name.append(\"-\")\n",
    "                \n",
    "        for n in driver.find_elements_by_id('productTitle'):\n",
    "            if n is not None:\n",
    "                name_of_product.append(n.text)\n",
    "            else:\n",
    "                name_of_product.append('-')\n",
    "                \n",
    "        try:                 \n",
    "            rate=driver.find_element_by_xpath(\"//span[@id='acrCustomerReviewText']\")\n",
    "            rate.click()                                                      \n",
    "            rating1=driver.find_element_by_xpath(\"//span[@class='a-size-medium a-color-base']\")\n",
    "            rating.append(rating1.text)\n",
    "        \n",
    "        except NoSuchElementException   as e:\n",
    "            rating.append(\"-\")  \n",
    "            \n",
    "        try:    \n",
    "            ar=driver.find_element_by_xpath(\"//a[@id='acrCustomerReviewLink']/span[1]\")\n",
    "            number_of_rating.append(ar.text)\n",
    "        \n",
    "        except NoSuchElementException   as e:\n",
    "            number_of_rating.append(\"-\")    \n",
    "                \n",
    "        try:\n",
    "            p=driver.find_element_by_xpath(\"//span[@id='priceblock_ourprice']|//span[@id='priceblock_dealprice']\")      \n",
    "            price.append(p.text)\n",
    "        \n",
    "        except NoSuchElementException   as e:\n",
    "            price.append(\"-\")\n",
    "                \n",
    "        try:                 \n",
    "            return1=driver.find_elements_by_xpath(\"//a[@class='a-size-small a-link-normal a-text-normal']\")\n",
    "            for z in return1:\n",
    "                if z.text=='7 Days Replacement':\n",
    "                    z.click()\n",
    "                    break\n",
    "            \n",
    "            return2=driver.find_element_by_xpath(\"//h5[@class='secondary-header a-text-normal']\")\n",
    "            raturn_exchange.append(return2.text)\n",
    "        \n",
    "        except NoSuchElementException as e:\n",
    "            raturn_exchange.append(\"-\")\n",
    "            \n",
    "        except StaleElementReferenceException as e:   \n",
    "            raturn_exchange.append(\"-\")    \n",
    "            \n",
    "        for d in driver.find_elements_by_id(\"ddmDeliveryMessage\"):       \n",
    "            if d is not None:\n",
    "                expected_delivery.append(d.text)\n",
    "            else:\n",
    "                expected_delivery.append('-')      \n",
    "                \n",
    "        try:                 \n",
    "            av=driver.find_element_by_xpath(\"//span[@class='a-size-medium a-color-success']\")\n",
    "            availability.append(av.text)\n",
    "            \n",
    "        except NoSuchElementException as e:\n",
    "            availability.append(\"-\")\n",
    "            \n",
    "        for o in driver.find_elements_by_xpath(\"//ul[@class='a-unordered-list a-vertical a-spacing-mini']\"):       \n",
    "            if o is not None:\n",
    "                other_details.append(o.text)\n",
    "            else:\n",
    "                other_details.append('-')\n",
    "        "
   ]
  },
  {
   "cell_type": "code",
   "execution_count": 471,
   "metadata": {},
   "outputs": [
    {
     "name": "stdout",
     "output_type": "stream",
     "text": [
      "66 66 66 66 66 66 66 66 66 66\n"
     ]
    }
   ],
   "source": [
    "print(len(brand_name),len(name_of_product),len(rating),len(number_of_rating),len(price),len(expected_delivery),len(availability),len(other_details),len(product_urls),len(raturn_exchange))"
   ]
  },
  {
   "cell_type": "code",
   "execution_count": 473,
   "metadata": {},
   "outputs": [],
   "source": [
    "speakers=pd.DataFrame({})\n",
    "speakers['brand_name']=brand_name\n",
    "speakers['name_of_product']=name_of_product\n",
    "speakers['rating']=rating\n",
    "speakers['number_of_rating']=number_of_rating\n",
    "speakers['price']=price\n",
    "speakers['expected_delivery']=expected_delivery\n",
    "speakers['availability']=availability\n",
    "speakers['product_urls']=product_urls\n",
    "speakers['raturn_exchange']=raturn_exchange\n",
    "speakers['other_details']=other_details"
   ]
  },
  {
   "cell_type": "code",
   "execution_count": 474,
   "metadata": {},
   "outputs": [
    {
     "data": {
      "text/html": [
       "<div>\n",
       "<style scoped>\n",
       "    .dataframe tbody tr th:only-of-type {\n",
       "        vertical-align: middle;\n",
       "    }\n",
       "\n",
       "    .dataframe tbody tr th {\n",
       "        vertical-align: top;\n",
       "    }\n",
       "\n",
       "    .dataframe thead th {\n",
       "        text-align: right;\n",
       "    }\n",
       "</style>\n",
       "<table border=\"1\" class=\"dataframe\">\n",
       "  <thead>\n",
       "    <tr style=\"text-align: right;\">\n",
       "      <th></th>\n",
       "      <th>brand_name</th>\n",
       "      <th>name_of_product</th>\n",
       "      <th>rating</th>\n",
       "      <th>number_of_rating</th>\n",
       "      <th>price</th>\n",
       "      <th>expected_delivery</th>\n",
       "      <th>availability</th>\n",
       "      <th>product_urls</th>\n",
       "      <th>raturn_exchange</th>\n",
       "      <th>other_details</th>\n",
       "    </tr>\n",
       "  </thead>\n",
       "  <tbody>\n",
       "    <tr>\n",
       "      <th>0</th>\n",
       "      <td>Boat</td>\n",
       "      <td>boAt Stone 1000 14W Bluetooth Speaker(Black)</td>\n",
       "      <td>4.4 out of 5</td>\n",
       "      <td>15,788 ratings</td>\n",
       "      <td>₹ 2,799.00</td>\n",
       "      <td>FREE delivery: Thursday, Feb 25 Details\\nFaste...</td>\n",
       "      <td>In stock.</td>\n",
       "      <td>https://www.amazon.in/gp/slredirect/picassoRed...</td>\n",
       "      <td>7 Days Replacement</td>\n",
       "      <td>14W RMS Stereo Output\\nBluetooth v2.1 with 10m...</td>\n",
       "    </tr>\n",
       "    <tr>\n",
       "      <th>1</th>\n",
       "      <td>Boat</td>\n",
       "      <td>boAt Stone 650 10W Bluetooth Speaker(Navy Blue)</td>\n",
       "      <td>4.3 out of 5</td>\n",
       "      <td>7,475 ratings</td>\n",
       "      <td>₹ 1,967.00</td>\n",
       "      <td>FREE delivery: Thursday, Feb 25 Details\\nFaste...</td>\n",
       "      <td>In stock.</td>\n",
       "      <td>https://www.amazon.in/gp/slredirect/picassoRed...</td>\n",
       "      <td>7 Days Replacement</td>\n",
       "      <td>10W RMS Stereo Output\\nBluetooth v4.2 with 10m...</td>\n",
       "    </tr>\n",
       "    <tr>\n",
       "      <th>2</th>\n",
       "      <td>JB Super</td>\n",
       "      <td>JB Super Bass Portable Wireless Bluetooth Spea...</td>\n",
       "      <td>5 out of 5</td>\n",
       "      <td>4 ratings</td>\n",
       "      <td>₹ 429.00</td>\n",
       "      <td>₹ 69.00 delivery: Feb 27 - 28 Details</td>\n",
       "      <td>In stock.</td>\n",
       "      <td>https://www.amazon.in/gp/slredirect/picassoRed...</td>\n",
       "      <td>7 Days Replacement</td>\n",
       "      <td>JB Super Compact &amp; Powerful High Quality Certi...</td>\n",
       "    </tr>\n",
       "    <tr>\n",
       "      <th>3</th>\n",
       "      <td>-</td>\n",
       "      <td>All-new Echo Dot (4th Gen) | Next generation s...</td>\n",
       "      <td>4.2 out of 5</td>\n",
       "      <td>2,162 ratings</td>\n",
       "      <td>₹ 3,499.00</td>\n",
       "      <td>FREE delivery: Thursday, Feb 25 Details\\nFaste...</td>\n",
       "      <td>In stock.</td>\n",
       "      <td>https://www.amazon.in/Echo-Dot-4th-Gen-Blue/dp...</td>\n",
       "      <td></td>\n",
       "      <td>Our most popular smart speaker now comes in a ...</td>\n",
       "    </tr>\n",
       "    <tr>\n",
       "      <th>4</th>\n",
       "      <td>Mivi</td>\n",
       "      <td>Mivi Roam 2 Wireless Bluetooth Speaker 5W, Por...</td>\n",
       "      <td>4.5 out of 5</td>\n",
       "      <td>701 ratings</td>\n",
       "      <td>₹ 1,199.00</td>\n",
       "      <td>FREE delivery: Thursday, Feb 25 Details</td>\n",
       "      <td>In stock.</td>\n",
       "      <td>https://www.amazon.in/Mivi-Wireless-Bluetooth-...</td>\n",
       "      <td>7 Days Replacement</td>\n",
       "      <td>Small Frame. Big Sound- Roam 2 wireless speake...</td>\n",
       "    </tr>\n",
       "    <tr>\n",
       "      <th>...</th>\n",
       "      <td>...</td>\n",
       "      <td>...</td>\n",
       "      <td>...</td>\n",
       "      <td>...</td>\n",
       "      <td>...</td>\n",
       "      <td>...</td>\n",
       "      <td>...</td>\n",
       "      <td>...</td>\n",
       "      <td>...</td>\n",
       "      <td>...</td>\n",
       "    </tr>\n",
       "    <tr>\n",
       "      <th>61</th>\n",
       "      <td>MI</td>\n",
       "      <td>Mi Outdoor Bluetooth Speaker (5W) Upto 20 Hour...</td>\n",
       "      <td>4 out of 5</td>\n",
       "      <td>925 ratings</td>\n",
       "      <td>₹ 1,399.00</td>\n",
       "      <td>FREE delivery: Thursday, Feb 25 Details\\nFaste...</td>\n",
       "      <td>In stock.</td>\n",
       "      <td>https://www.amazon.in/Outdoor-Bluetooth-Speake...</td>\n",
       "      <td>7 Days Replacement</td>\n",
       "      <td>Mini &amp; Light : Compact design &amp; extremely ligh...</td>\n",
       "    </tr>\n",
       "    <tr>\n",
       "      <th>62</th>\n",
       "      <td>Infinity</td>\n",
       "      <td>Infinity (JBL) Fuze Pint Deep Bass Dual EQ Blu...</td>\n",
       "      <td>4.1 out of 5</td>\n",
       "      <td>9,814 ratings</td>\n",
       "      <td>₹ 899.00</td>\n",
       "      <td>FREE delivery: Thursday, Feb 25 Details</td>\n",
       "      <td>In stock.</td>\n",
       "      <td>https://www.amazon.in/Infinity-Fuze-Pint-Porta...</td>\n",
       "      <td>7 Days Replacement</td>\n",
       "      <td>Pocket Size Portable Bluetooth Speakers\\n5 hou...</td>\n",
       "    </tr>\n",
       "    <tr>\n",
       "      <th>63</th>\n",
       "      <td>Starknic</td>\n",
       "      <td>Starknic Bluetooth Music LED Bulb (Multicolour)</td>\n",
       "      <td>3.9 out of 5</td>\n",
       "      <td>33 ratings</td>\n",
       "      <td>-</td>\n",
       "      <td>FREE delivery: Saturday, Feb 27 Details\\nFaste...</td>\n",
       "      <td>In stock.</td>\n",
       "      <td>https://www.amazon.in/gp/slredirect/picassoRed...</td>\n",
       "      <td>7 Days Replacement</td>\n",
       "      <td>Power : 8W\\nSupported Smartphone : Android/IOS...</td>\n",
       "    </tr>\n",
       "    <tr>\n",
       "      <th>64</th>\n",
       "      <td>Sony</td>\n",
       "      <td>Sony GTK-PG10 Wireless Party Speaker with Buil...</td>\n",
       "      <td>4.1 out of 5</td>\n",
       "      <td>76 ratings</td>\n",
       "      <td>₹ 14,990.00</td>\n",
       "      <td>FREE delivery: Thursday, Feb 25 Details\\nFaste...</td>\n",
       "      <td>In stock.</td>\n",
       "      <td>https://www.amazon.in/gp/slredirect/picassoRed...</td>\n",
       "      <td>7 Days Replacement</td>\n",
       "      <td>Outdoor party mode spreads sound further\\nRech...</td>\n",
       "    </tr>\n",
       "    <tr>\n",
       "      <th>65</th>\n",
       "      <td>ZEBRONICS</td>\n",
       "      <td>Zebronics Buddy Wireless Portable BT Speaker w...</td>\n",
       "      <td>3.8 out of 5</td>\n",
       "      <td>882 ratings</td>\n",
       "      <td>₹ 999.00</td>\n",
       "      <td>FREE delivery: Thursday, Feb 25 Details\\nFaste...</td>\n",
       "      <td>In stock.</td>\n",
       "      <td>https://www.amazon.in/gp/slredirect/picassoRed...</td>\n",
       "      <td>7 Days Replacement</td>\n",
       "      <td>BT function\\nLED Display\\nTF card support\\nUSB...</td>\n",
       "    </tr>\n",
       "  </tbody>\n",
       "</table>\n",
       "<p>66 rows × 10 columns</p>\n",
       "</div>"
      ],
      "text/plain": [
       "   brand_name                                    name_of_product  \\\n",
       "0        Boat       boAt Stone 1000 14W Bluetooth Speaker(Black)   \n",
       "1        Boat    boAt Stone 650 10W Bluetooth Speaker(Navy Blue)   \n",
       "2    JB Super  JB Super Bass Portable Wireless Bluetooth Spea...   \n",
       "3           -  All-new Echo Dot (4th Gen) | Next generation s...   \n",
       "4        Mivi  Mivi Roam 2 Wireless Bluetooth Speaker 5W, Por...   \n",
       "..        ...                                                ...   \n",
       "61         MI  Mi Outdoor Bluetooth Speaker (5W) Upto 20 Hour...   \n",
       "62   Infinity  Infinity (JBL) Fuze Pint Deep Bass Dual EQ Blu...   \n",
       "63   Starknic    Starknic Bluetooth Music LED Bulb (Multicolour)   \n",
       "64       Sony  Sony GTK-PG10 Wireless Party Speaker with Buil...   \n",
       "65  ZEBRONICS  Zebronics Buddy Wireless Portable BT Speaker w...   \n",
       "\n",
       "          rating number_of_rating        price  \\\n",
       "0   4.4 out of 5   15,788 ratings   ₹ 2,799.00   \n",
       "1   4.3 out of 5    7,475 ratings   ₹ 1,967.00   \n",
       "2     5 out of 5        4 ratings     ₹ 429.00   \n",
       "3   4.2 out of 5    2,162 ratings   ₹ 3,499.00   \n",
       "4   4.5 out of 5      701 ratings   ₹ 1,199.00   \n",
       "..           ...              ...          ...   \n",
       "61    4 out of 5      925 ratings   ₹ 1,399.00   \n",
       "62  4.1 out of 5    9,814 ratings     ₹ 899.00   \n",
       "63  3.9 out of 5       33 ratings            -   \n",
       "64  4.1 out of 5       76 ratings  ₹ 14,990.00   \n",
       "65  3.8 out of 5      882 ratings     ₹ 999.00   \n",
       "\n",
       "                                    expected_delivery availability  \\\n",
       "0   FREE delivery: Thursday, Feb 25 Details\\nFaste...    In stock.   \n",
       "1   FREE delivery: Thursday, Feb 25 Details\\nFaste...    In stock.   \n",
       "2               ₹ 69.00 delivery: Feb 27 - 28 Details    In stock.   \n",
       "3   FREE delivery: Thursday, Feb 25 Details\\nFaste...    In stock.   \n",
       "4             FREE delivery: Thursday, Feb 25 Details    In stock.   \n",
       "..                                                ...          ...   \n",
       "61  FREE delivery: Thursday, Feb 25 Details\\nFaste...    In stock.   \n",
       "62            FREE delivery: Thursday, Feb 25 Details    In stock.   \n",
       "63  FREE delivery: Saturday, Feb 27 Details\\nFaste...    In stock.   \n",
       "64  FREE delivery: Thursday, Feb 25 Details\\nFaste...    In stock.   \n",
       "65  FREE delivery: Thursday, Feb 25 Details\\nFaste...    In stock.   \n",
       "\n",
       "                                         product_urls     raturn_exchange  \\\n",
       "0   https://www.amazon.in/gp/slredirect/picassoRed...  7 Days Replacement   \n",
       "1   https://www.amazon.in/gp/slredirect/picassoRed...  7 Days Replacement   \n",
       "2   https://www.amazon.in/gp/slredirect/picassoRed...  7 Days Replacement   \n",
       "3   https://www.amazon.in/Echo-Dot-4th-Gen-Blue/dp...                       \n",
       "4   https://www.amazon.in/Mivi-Wireless-Bluetooth-...  7 Days Replacement   \n",
       "..                                                ...                 ...   \n",
       "61  https://www.amazon.in/Outdoor-Bluetooth-Speake...  7 Days Replacement   \n",
       "62  https://www.amazon.in/Infinity-Fuze-Pint-Porta...  7 Days Replacement   \n",
       "63  https://www.amazon.in/gp/slredirect/picassoRed...  7 Days Replacement   \n",
       "64  https://www.amazon.in/gp/slredirect/picassoRed...  7 Days Replacement   \n",
       "65  https://www.amazon.in/gp/slredirect/picassoRed...  7 Days Replacement   \n",
       "\n",
       "                                        other_details  \n",
       "0   14W RMS Stereo Output\\nBluetooth v2.1 with 10m...  \n",
       "1   10W RMS Stereo Output\\nBluetooth v4.2 with 10m...  \n",
       "2   JB Super Compact & Powerful High Quality Certi...  \n",
       "3   Our most popular smart speaker now comes in a ...  \n",
       "4   Small Frame. Big Sound- Roam 2 wireless speake...  \n",
       "..                                                ...  \n",
       "61  Mini & Light : Compact design & extremely ligh...  \n",
       "62  Pocket Size Portable Bluetooth Speakers\\n5 hou...  \n",
       "63  Power : 8W\\nSupported Smartphone : Android/IOS...  \n",
       "64  Outdoor party mode spreads sound further\\nRech...  \n",
       "65  BT function\\nLED Display\\nTF card support\\nUSB...  \n",
       "\n",
       "[66 rows x 10 columns]"
      ]
     },
     "execution_count": 474,
     "metadata": {},
     "output_type": "execute_result"
    }
   ],
   "source": [
    "speakers"
   ]
  },
  {
   "cell_type": "code",
   "execution_count": null,
   "metadata": {},
   "outputs": [],
   "source": []
  }
 ],
 "metadata": {
  "kernelspec": {
   "display_name": "Python 3",
   "language": "python",
   "name": "python3"
  },
  "language_info": {
   "codemirror_mode": {
    "name": "ipython",
    "version": 3
   },
   "file_extension": ".py",
   "mimetype": "text/x-python",
   "name": "python",
   "nbconvert_exporter": "python",
   "pygments_lexer": "ipython3",
   "version": "3.8.3"
  }
 },
 "nbformat": 4,
 "nbformat_minor": 4
}
