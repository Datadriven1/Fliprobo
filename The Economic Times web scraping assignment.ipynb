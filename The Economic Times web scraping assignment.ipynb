{
 "cells": [
  {
   "cell_type": "code",
   "execution_count": 110,
   "metadata": {},
   "outputs": [
    {
     "name": "stdout",
     "output_type": "stream",
     "text": [
      "Requirement already satisfied: selenium in c:\\users\\bhupe\\anaconda3\\lib\\site-packages (3.141.0)\n",
      "Requirement already satisfied: urllib3 in c:\\users\\bhupe\\anaconda3\\lib\\site-packages (from selenium) (1.25.9)\n",
      "Requirement already satisfied: webdriver-manager in c:\\users\\bhupe\\anaconda3\\lib\\site-packages (3.3.0)\n",
      "Requirement already satisfied: configparser in c:\\users\\bhupe\\anaconda3\\lib\\site-packages (from webdriver-manager) (5.0.1)\n",
      "Requirement already satisfied: crayons in c:\\users\\bhupe\\anaconda3\\lib\\site-packages (from webdriver-manager) (0.4.0)\n",
      "Requirement already satisfied: requests in c:\\users\\bhupe\\anaconda3\\lib\\site-packages (from webdriver-manager) (2.24.0)\n",
      "Requirement already satisfied: colorama in c:\\users\\bhupe\\anaconda3\\lib\\site-packages (from crayons->webdriver-manager) (0.4.3)\n",
      "Requirement already satisfied: chardet<4,>=3.0.2 in c:\\users\\bhupe\\anaconda3\\lib\\site-packages (from requests->webdriver-manager) (3.0.4)\n",
      "Requirement already satisfied: urllib3!=1.25.0,!=1.25.1,<1.26,>=1.21.1 in c:\\users\\bhupe\\anaconda3\\lib\\site-packages (from requests->webdriver-manager) (1.25.9)\n",
      "Requirement already satisfied: certifi>=2017.4.17 in c:\\users\\bhupe\\anaconda3\\lib\\site-packages (from requests->webdriver-manager) (2020.6.20)\n",
      "Requirement already satisfied: idna<3,>=2.5 in c:\\users\\bhupe\\anaconda3\\lib\\site-packages (from requests->webdriver-manager) (2.10)\n"
     ]
    }
   ],
   "source": [
    "! pip install selenium\n",
    "import selenium\n",
    "import pandas as pd\n",
    "import numpy as np\n",
    "!pip install webdriver-manager\n",
    "from selenium import webdriver\n",
    "from webdriver_manager.chrome import ChromeDriverManager\n",
    "from selenium.common.exceptions import StaleElementReferenceException, NoSuchElementException"
   ]
  },
  {
   "cell_type": "code",
   "execution_count": 111,
   "metadata": {},
   "outputs": [
    {
     "name": "stderr",
     "output_type": "stream",
     "text": [
      "[WDM] - ====== WebDriver manager ======\n",
      "[WDM] - Current google-chrome version is 89.0.4389\n",
      "[WDM] - Get LATEST driver version for 89.0.4389\n"
     ]
    },
    {
     "name": "stdout",
     "output_type": "stream",
     "text": [
      "\n",
      "\n"
     ]
    },
    {
     "name": "stderr",
     "output_type": "stream",
     "text": [
      "[WDM] - Driver [C:\\Users\\bhupe\\.wdm\\drivers\\chromedriver\\win32\\89.0.4389.23\\chromedriver.exe] found in cache\n"
     ]
    }
   ],
   "source": [
    "driver=webdriver.Chrome(ChromeDriverManager().install())"
   ]
  },
  {
   "cell_type": "code",
   "execution_count": 112,
   "metadata": {},
   "outputs": [],
   "source": [
    "driver.get('https://economictimes.indiatimes.com/archive.cms')"
   ]
  },
  {
   "cell_type": "code",
   "execution_count": 113,
   "metadata": {},
   "outputs": [],
   "source": [
    "month=driver.find_element_by_xpath('//*[@id=\"pageContent\"]/div[2]/table/tbody/tr[1]/td/span/div/strong/a[201]')\n",
    "month.click()"
   ]
  },
  {
   "cell_type": "code",
   "execution_count": 114,
   "metadata": {},
   "outputs": [],
   "source": [
    "page_url=driver.find_elements_by_xpath('//table[@id=\"calender\"]/tbody/tr/td/a')"
   ]
  },
  {
   "cell_type": "code",
   "execution_count": 115,
   "metadata": {},
   "outputs": [
    {
     "data": {
      "text/plain": [
       "[<selenium.webdriver.remote.webelement.WebElement (session=\"f569e62200cad642053ef63d414ba70f\", element=\"a11d89a1-11e1-4da0-b335-349655b83f53\")>,\n",
       " <selenium.webdriver.remote.webelement.WebElement (session=\"f569e62200cad642053ef63d414ba70f\", element=\"dc3f7949-2dc1-4e2b-bea4-5c95f1f1758f\")>,\n",
       " <selenium.webdriver.remote.webelement.WebElement (session=\"f569e62200cad642053ef63d414ba70f\", element=\"9b1ab0d1-0c3e-4a46-b3ca-b91b104f0cd0\")>,\n",
       " <selenium.webdriver.remote.webelement.WebElement (session=\"f569e62200cad642053ef63d414ba70f\", element=\"c9493532-a7fa-44bc-adf6-63fce2042886\")>]"
      ]
     },
     "execution_count": 115,
     "metadata": {},
     "output_type": "execute_result"
    }
   ],
   "source": [
    "page_url[:4]"
   ]
  },
  {
   "cell_type": "code",
   "execution_count": 116,
   "metadata": {
    "scrolled": true
   },
   "outputs": [
    {
     "name": "stdout",
     "output_type": "stream",
     "text": [
      "No date\n",
      "No date\n",
      "No date\n"
     ]
    },
    {
     "data": {
      "text/plain": [
       "['https://economictimes.indiatimes.com/archivelist/year-2016,month-6,starttime-42522.cms',\n",
       " 'https://economictimes.indiatimes.com/archivelist/year-2016,month-6,starttime-42523.cms',\n",
       " 'https://economictimes.indiatimes.com/archivelist/year-2016,month-6,starttime-42524.cms',\n",
       " 'https://economictimes.indiatimes.com/archivelist/year-2016,month-6,starttime-42525.cms']"
      ]
     },
     "execution_count": 116,
     "metadata": {},
     "output_type": "execute_result"
    }
   ],
   "source": [
    "page_url1=[]\n",
    "\n",
    "for i in page_url:\n",
    "    url=i.get_attribute('href')\n",
    "    if i.text == '':\n",
    "        print('No date')\n",
    "                    \n",
    "    else:\n",
    "        page_url1.append(url)\n",
    "        \n",
    "page_url1[:4]"
   ]
  },
  {
   "cell_type": "code",
   "execution_count": 117,
   "metadata": {
    "scrolled": true
   },
   "outputs": [],
   "source": [
    "final_url=[]\n",
    "\n",
    "for i in page_url1:\n",
    "    driver.get(i)\n",
    "    try:                 \n",
    "        url1=driver.find_elements_by_xpath('//*[@id=\"pageContent\"]/span/table[2]/tbody/tr/td/ul/li/a')\n",
    "        for j in url1:\n",
    "            url2=j.get_attribute('href')\n",
    "            final_url.append(url2)\n",
    "        \n",
    "    except NoSuchElementException   as e:\n",
    "        print('no url')"
   ]
  },
  {
   "cell_type": "code",
   "execution_count": 118,
   "metadata": {},
   "outputs": [
    {
     "data": {
      "text/plain": [
       "['https://economictimes.indiatimes.com/news/politics-and-nation/over-2-lakh-goansenjoying-dual-citizenship-will-have-to-make-a-choice-between-india-and-portugal/articleshow/52527821.cms',\n",
       " 'https://economictimes.indiatimes.com/news/politics-and-nation/subhash-chandra-r-k-anand-file-nomination-for-rajya-sabha-seat/articleshow/52521424.cms',\n",
       " 'https://economictimes.indiatimes.com/news/economy/policy/krishi-cess4-month-window-to-disclose-black-money-from-tomorrow/articleshow/52522378.cms',\n",
       " 'https://economictimes.indiatimes.com/small-biz/startups/investors-from-japan-russia-china-us-and-eu-in-talks-with-venture-funds-for-co-investing-in-india/articleshow/52528282.cms']"
      ]
     },
     "execution_count": 118,
     "metadata": {},
     "output_type": "execute_result"
    }
   ],
   "source": [
    "final_url[:4]"
   ]
  },
  {
   "cell_type": "code",
   "execution_count": 119,
   "metadata": {},
   "outputs": [],
   "source": [
    "final_url1=pd.DataFrame(final_url)"
   ]
  },
  {
   "cell_type": "code",
   "execution_count": 120,
   "metadata": {},
   "outputs": [
    {
     "data": {
      "text/plain": [
       "(9909, 1)"
      ]
     },
     "execution_count": 120,
     "metadata": {},
     "output_type": "execute_result"
    }
   ],
   "source": [
    "final_url1.shape"
   ]
  },
  {
   "cell_type": "code",
   "execution_count": 121,
   "metadata": {},
   "outputs": [],
   "source": [
    "Date_and_time_of_upload=[]\n",
    "Author_name=[]\n",
    "Topic_or_Vertical=[]\n",
    "Headlines=[]\n",
    "Description=[]\n",
    "\n",
    "\n",
    "\n",
    "for i in final_url[:5000]:\n",
    "    driver.get(i)\n",
    "    try:\n",
    "        dt=driver.find_element_by_xpath(\"/html/body/main/div[10]/div/div[1]/div[2]/div/div[1]/time\")\n",
    "        Date_and_time_of_upload.append(dt.text.replace('Last Updated: ', ''))\n",
    "    \n",
    "    except NoSuchElementException   as e:\n",
    "        Date_and_time_of_upload.append(\"-\")\n",
    "            \n",
    "    try:\n",
    "        an=driver.find_element_by_xpath(\"/html/body/main/div[10]/div/div[1]/div[2]/div/div[1]/span[1]\")\n",
    "        Author_name.append(an.text)\n",
    "    \n",
    "    except NoSuchElementException   as e:\n",
    "        Author_name.append(\"-\")\n",
    "    \n",
    "    try:\n",
    "        tv=driver.find_element_by_xpath(\"/html/body/main/div[7]/div/span[3]/a\")   \n",
    "        Topic_or_Vertical.append(tv.text)\n",
    "            \n",
    "    except NoSuchElementException   as e:\n",
    "        Topic_or_Vertical.append(\"-\")\n",
    "     \n",
    "    try:\n",
    "        h=driver.find_element_by_xpath(\"//h1[@class='artTitle font_faus']\")\n",
    "        Headlines.append(h.text)\n",
    "    \n",
    "    except NoSuchElementException   as e:\n",
    "        Headlines.append(\"-\")\n",
    "    \n",
    "    try:\n",
    "        ds=driver.find_element_by_xpath(\"//div[@class='artText medium']\")\n",
    "        Description.append(ds.text.replace('\\n\\n', ''))\n",
    "    \n",
    "    except NoSuchElementException   as e:\n",
    "        Description.append(\"-\")"
   ]
  },
  {
   "cell_type": "code",
   "execution_count": 124,
   "metadata": {},
   "outputs": [],
   "source": [
    "for i in final_url[5000:]:\n",
    "    driver.get(i)\n",
    "    try:\n",
    "        dt=driver.find_element_by_xpath(\"/html/body/main/div[10]/div/div[1]/div[2]/div/div[1]/time\")\n",
    "        Date_and_time_of_upload.append(dt.text.replace('Last Updated: ', ''))\n",
    "    \n",
    "    except NoSuchElementException   as e:\n",
    "        Date_and_time_of_upload.append(\"-\")\n",
    "            \n",
    "    try:\n",
    "        an=driver.find_element_by_xpath(\"/html/body/main/div[10]/div/div[1]/div[2]/div/div[1]/span[1]\")\n",
    "        Author_name.append(an.text)\n",
    "    \n",
    "    except NoSuchElementException   as e:\n",
    "        Author_name.append(\"-\")\n",
    "    \n",
    "    try:\n",
    "        tv=driver.find_element_by_xpath(\"/html/body/main/div[7]/div/span[3]/a\")   \n",
    "        Topic_or_Vertical.append(tv.text)\n",
    "            \n",
    "    except NoSuchElementException   as e:\n",
    "        Topic_or_Vertical.append(\"-\")\n",
    "     \n",
    "    try:\n",
    "        h=driver.find_element_by_xpath(\"//h1[@class='artTitle font_faus']\")\n",
    "        Headlines.append(h.text)\n",
    "    \n",
    "    except NoSuchElementException   as e:\n",
    "        Headlines.append(\"-\")\n",
    "    \n",
    "    try:\n",
    "        ds=driver.find_element_by_xpath(\"//div[@class='artText medium']\")\n",
    "        Description.append(ds.text.replace('\\n\\n', ''))\n",
    "    \n",
    "    except NoSuchElementException   as e:\n",
    "        Description.append(\"-\")"
   ]
  },
  {
   "cell_type": "code",
   "execution_count": 125,
   "metadata": {},
   "outputs": [
    {
     "name": "stdout",
     "output_type": "stream",
     "text": [
      "9909 9909 9909 9909 9909\n"
     ]
    }
   ],
   "source": [
    "print(len(Date_and_time_of_upload),len(Author_name),len(Topic_or_Vertical),len(Headlines),len(Description))"
   ]
  },
  {
   "cell_type": "code",
   "execution_count": 126,
   "metadata": {},
   "outputs": [],
   "source": [
    "economictimes=pd.DataFrame({})\n",
    "economictimes['Date_and_time_of_upload']=Date_and_time_of_upload\n",
    "economictimes['Author_name']=Author_name\n",
    "economictimes['Topic_or_Vertical']=Topic_or_Vertical\n",
    "economictimes['Headlines']=Headlines\n",
    "economictimes['Description']=Description"
   ]
  },
  {
   "cell_type": "code",
   "execution_count": 127,
   "metadata": {},
   "outputs": [
    {
     "data": {
      "text/html": [
       "<div>\n",
       "<style scoped>\n",
       "    .dataframe tbody tr th:only-of-type {\n",
       "        vertical-align: middle;\n",
       "    }\n",
       "\n",
       "    .dataframe tbody tr th {\n",
       "        vertical-align: top;\n",
       "    }\n",
       "\n",
       "    .dataframe thead th {\n",
       "        text-align: right;\n",
       "    }\n",
       "</style>\n",
       "<table border=\"1\" class=\"dataframe\">\n",
       "  <thead>\n",
       "    <tr style=\"text-align: right;\">\n",
       "      <th></th>\n",
       "      <th>Date_and_time_of_upload</th>\n",
       "      <th>Author_name</th>\n",
       "      <th>Topic_or_Vertical</th>\n",
       "      <th>Headlines</th>\n",
       "      <th>Description</th>\n",
       "    </tr>\n",
       "  </thead>\n",
       "  <tbody>\n",
       "    <tr>\n",
       "      <th>0</th>\n",
       "      <td>Jun 01, 2016, 11:43 AM IST</td>\n",
       "      <td>ET Bureau</td>\n",
       "      <td>Politics and Nation</td>\n",
       "      <td>Over 2 lakh Goans,enjoying dual citizenship, w...</td>\n",
       "      <td>NEW DELHI: Goans enjoying dual citizenship in ...</td>\n",
       "    </tr>\n",
       "    <tr>\n",
       "      <th>1</th>\n",
       "      <td>Jun 01, 2016, 01:00 AM IST</td>\n",
       "      <td>PTI</td>\n",
       "      <td>Politics and Nation</td>\n",
       "      <td>Subhash Chandra, R K Anand file nomination for...</td>\n",
       "      <td>CHANDIGARH: Media baron Subhash Chandra and la...</td>\n",
       "    </tr>\n",
       "    <tr>\n",
       "      <th>2</th>\n",
       "      <td>Jun 01, 2016, 01:00 AM IST</td>\n",
       "      <td>PTI</td>\n",
       "      <td>Economy</td>\n",
       "      <td>Krishi Cess,4 month window to disclose black m...</td>\n",
       "      <td>NEW DELHI: A slew of budgetary proposals, incl...</td>\n",
       "    </tr>\n",
       "    <tr>\n",
       "      <th>3</th>\n",
       "      <td>Jun 01, 2016, 11:28 AM IST</td>\n",
       "      <td>ET Bureau</td>\n",
       "      <td>Startups</td>\n",
       "      <td>Investors from Japan, Russia, China, US and EU...</td>\n",
       "      <td>NEW DELHI: Inflated valuations, precarious bus...</td>\n",
       "    </tr>\n",
       "    <tr>\n",
       "      <th>4</th>\n",
       "      <td>Jun 01, 2016, 01:16 AM IST</td>\n",
       "      <td>ET Bureau</td>\n",
       "      <td>Energy</td>\n",
       "      <td>Reliance Industries to drop arbitration over s...</td>\n",
       "      <td>NEW DELHI: Reliance Industries NSE -0.94 % (RI...</td>\n",
       "    </tr>\n",
       "    <tr>\n",
       "      <th>...</th>\n",
       "      <td>...</td>\n",
       "      <td>...</td>\n",
       "      <td>...</td>\n",
       "      <td>...</td>\n",
       "      <td>...</td>\n",
       "    </tr>\n",
       "    <tr>\n",
       "      <th>9904</th>\n",
       "      <td>Jun 30, 2016, 11:44 PM IST</td>\n",
       "      <td>PTI</td>\n",
       "      <td>Politics and Nation</td>\n",
       "      <td>Millions believed to be victims of sex traffic...</td>\n",
       "      <td>WASHINGTON: Millions of women and children are...</td>\n",
       "    </tr>\n",
       "    <tr>\n",
       "      <th>9905</th>\n",
       "      <td>Jun 30, 2016, 11:51 PM IST</td>\n",
       "      <td>PTI</td>\n",
       "      <td>Defence</td>\n",
       "      <td>US ties not to be seen through the prism of F-...</td>\n",
       "      <td>ISLAMABAD: Putting up a brave face after the F...</td>\n",
       "    </tr>\n",
       "    <tr>\n",
       "      <th>9906</th>\n",
       "      <td>Jul 12, 2018, 07:33 PM IST</td>\n",
       "      <td>PTI</td>\n",
       "      <td>Defence</td>\n",
       "      <td>India-born AQIS chief designated as 'global te...</td>\n",
       "      <td>WASHINGTON: India-born Asim Umar, the chief of...</td>\n",
       "    </tr>\n",
       "    <tr>\n",
       "      <th>9907</th>\n",
       "      <td>Jul 01, 2016, 12:02 AM IST</td>\n",
       "      <td>PTI</td>\n",
       "      <td>Politics and Nation</td>\n",
       "      <td>Selfie with rape victim: Somya Gurjar resigns,...</td>\n",
       "      <td>JAIPUR: A member of Rajasthan State Commission...</td>\n",
       "    </tr>\n",
       "    <tr>\n",
       "      <th>9908</th>\n",
       "      <td>Jul 14, 2018, 10:45 AM IST</td>\n",
       "      <td>PTI</td>\n",
       "      <td>Defence</td>\n",
       "      <td>Militants striking on soft targets due to pres...</td>\n",
       "      <td>SRINAGAR: The Jammu and Kashmir government tod...</td>\n",
       "    </tr>\n",
       "  </tbody>\n",
       "</table>\n",
       "<p>9909 rows × 5 columns</p>\n",
       "</div>"
      ],
      "text/plain": [
       "         Date_and_time_of_upload Author_name    Topic_or_Vertical  \\\n",
       "0     Jun 01, 2016, 11:43 AM IST   ET Bureau  Politics and Nation   \n",
       "1     Jun 01, 2016, 01:00 AM IST         PTI  Politics and Nation   \n",
       "2     Jun 01, 2016, 01:00 AM IST         PTI              Economy   \n",
       "3     Jun 01, 2016, 11:28 AM IST   ET Bureau             Startups   \n",
       "4     Jun 01, 2016, 01:16 AM IST   ET Bureau               Energy   \n",
       "...                          ...         ...                  ...   \n",
       "9904  Jun 30, 2016, 11:44 PM IST         PTI  Politics and Nation   \n",
       "9905  Jun 30, 2016, 11:51 PM IST         PTI              Defence   \n",
       "9906  Jul 12, 2018, 07:33 PM IST         PTI              Defence   \n",
       "9907  Jul 01, 2016, 12:02 AM IST         PTI  Politics and Nation   \n",
       "9908  Jul 14, 2018, 10:45 AM IST         PTI              Defence   \n",
       "\n",
       "                                              Headlines  \\\n",
       "0     Over 2 lakh Goans,enjoying dual citizenship, w...   \n",
       "1     Subhash Chandra, R K Anand file nomination for...   \n",
       "2     Krishi Cess,4 month window to disclose black m...   \n",
       "3     Investors from Japan, Russia, China, US and EU...   \n",
       "4     Reliance Industries to drop arbitration over s...   \n",
       "...                                                 ...   \n",
       "9904  Millions believed to be victims of sex traffic...   \n",
       "9905  US ties not to be seen through the prism of F-...   \n",
       "9906  India-born AQIS chief designated as 'global te...   \n",
       "9907  Selfie with rape victim: Somya Gurjar resigns,...   \n",
       "9908  Militants striking on soft targets due to pres...   \n",
       "\n",
       "                                            Description  \n",
       "0     NEW DELHI: Goans enjoying dual citizenship in ...  \n",
       "1     CHANDIGARH: Media baron Subhash Chandra and la...  \n",
       "2     NEW DELHI: A slew of budgetary proposals, incl...  \n",
       "3     NEW DELHI: Inflated valuations, precarious bus...  \n",
       "4     NEW DELHI: Reliance Industries NSE -0.94 % (RI...  \n",
       "...                                                 ...  \n",
       "9904  WASHINGTON: Millions of women and children are...  \n",
       "9905  ISLAMABAD: Putting up a brave face after the F...  \n",
       "9906  WASHINGTON: India-born Asim Umar, the chief of...  \n",
       "9907  JAIPUR: A member of Rajasthan State Commission...  \n",
       "9908  SRINAGAR: The Jammu and Kashmir government tod...  \n",
       "\n",
       "[9909 rows x 5 columns]"
      ]
     },
     "execution_count": 127,
     "metadata": {},
     "output_type": "execute_result"
    }
   ],
   "source": [
    "economictimes"
   ]
  },
  {
   "cell_type": "code",
   "execution_count": 128,
   "metadata": {},
   "outputs": [],
   "source": [
    "economictimes.to_csv('economictimes_news_articles_june.csv')"
   ]
  },
  {
   "cell_type": "code",
   "execution_count": 130,
   "metadata": {},
   "outputs": [],
   "source": [
    "import json\n",
    "\n",
    "economictimes1=economictimes.to_json()\n",
    "\n",
    "with open('economictimes_news_articles_june_2016.txt', 'w') as outfile:\n",
    "    json.dump(economictimes1, outfile)"
   ]
  },
  {
   "cell_type": "code",
   "execution_count": 132,
   "metadata": {},
   "outputs": [],
   "source": [
    "xml_data = ['<root>']\n",
    "for column in economictimes.columns:\n",
    "    xml_data.append('<{}>'.format(column))  # Opening element tag\n",
    "    for field in economictimes.index:\n",
    "        # writing sub-elements\n",
    "        xml_data.append('<{0}>{1}</{0}>'.format(field, economictimes[column][field]))\n",
    "    xml_data.append('</{}>'.format(column))  # Closing element tag\n",
    "xml_data.append('</root>')\n",
    "\n",
    "with open('economictimes2.xml', 'w', encoding='utf-8') as f:  # Writing in XML file\n",
    "    for line in xml_data:\n",
    "        f.write(line)"
   ]
  },
  {
   "cell_type": "code",
   "execution_count": null,
   "metadata": {},
   "outputs": [],
   "source": []
  }
 ],
 "metadata": {
  "kernelspec": {
   "display_name": "Python 3",
   "language": "python",
   "name": "python3"
  },
  "language_info": {
   "codemirror_mode": {
    "name": "ipython",
    "version": 3
   },
   "file_extension": ".py",
   "mimetype": "text/x-python",
   "name": "python",
   "nbconvert_exporter": "python",
   "pygments_lexer": "ipython3",
   "version": "3.8.3"
  }
 },
 "nbformat": 4,
 "nbformat_minor": 4
}
