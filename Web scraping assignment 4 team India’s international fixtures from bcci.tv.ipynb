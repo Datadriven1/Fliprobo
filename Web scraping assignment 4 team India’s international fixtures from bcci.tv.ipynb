{
 "cells": [
  {
   "cell_type": "code",
   "execution_count": 88,
   "metadata": {},
   "outputs": [
    {
     "name": "stdout",
     "output_type": "stream",
     "text": [
      "Requirement already satisfied: selenium in c:\\users\\bhupe\\anaconda3\\lib\\site-packages (3.141.0)\n",
      "Requirement already satisfied: urllib3 in c:\\users\\bhupe\\anaconda3\\lib\\site-packages (from selenium) (1.25.9)\n",
      "Requirement already satisfied: webdriver-manager in c:\\users\\bhupe\\anaconda3\\lib\\site-packages (3.3.0)\n",
      "Requirement already satisfied: configparser in c:\\users\\bhupe\\anaconda3\\lib\\site-packages (from webdriver-manager) (5.0.1)\n",
      "Requirement already satisfied: requests in c:\\users\\bhupe\\anaconda3\\lib\\site-packages (from webdriver-manager) (2.24.0)\n",
      "Requirement already satisfied: crayons in c:\\users\\bhupe\\anaconda3\\lib\\site-packages (from webdriver-manager) (0.4.0)\n",
      "Requirement already satisfied: idna<3,>=2.5 in c:\\users\\bhupe\\anaconda3\\lib\\site-packages (from requests->webdriver-manager) (2.10)\n",
      "Requirement already satisfied: urllib3!=1.25.0,!=1.25.1,<1.26,>=1.21.1 in c:\\users\\bhupe\\anaconda3\\lib\\site-packages (from requests->webdriver-manager) (1.25.9)\n",
      "Requirement already satisfied: certifi>=2017.4.17 in c:\\users\\bhupe\\anaconda3\\lib\\site-packages (from requests->webdriver-manager) (2020.6.20)\n",
      "Requirement already satisfied: chardet<4,>=3.0.2 in c:\\users\\bhupe\\anaconda3\\lib\\site-packages (from requests->webdriver-manager) (3.0.4)\n",
      "Requirement already satisfied: colorama in c:\\users\\bhupe\\anaconda3\\lib\\site-packages (from crayons->webdriver-manager) (0.4.3)\n",
      "Requirement already satisfied: bs4 in c:\\users\\bhupe\\anaconda3\\lib\\site-packages (0.0.1)\n",
      "Requirement already satisfied: beautifulsoup4 in c:\\users\\bhupe\\anaconda3\\lib\\site-packages (from bs4) (4.9.1)\n",
      "Requirement already satisfied: soupsieve>1.2 in c:\\users\\bhupe\\anaconda3\\lib\\site-packages (from beautifulsoup4->bs4) (2.0.1)\n",
      "Requirement already satisfied: requests in c:\\users\\bhupe\\anaconda3\\lib\\site-packages (2.24.0)\n",
      "Requirement already satisfied: idna<3,>=2.5 in c:\\users\\bhupe\\anaconda3\\lib\\site-packages (from requests) (2.10)\n",
      "Requirement already satisfied: chardet<4,>=3.0.2 in c:\\users\\bhupe\\anaconda3\\lib\\site-packages (from requests) (3.0.4)\n",
      "Requirement already satisfied: certifi>=2017.4.17 in c:\\users\\bhupe\\anaconda3\\lib\\site-packages (from requests) (2020.6.20)\n",
      "Requirement already satisfied: urllib3!=1.25.0,!=1.25.1,<1.26,>=1.21.1 in c:\\users\\bhupe\\anaconda3\\lib\\site-packages (from requests) (1.25.9)\n"
     ]
    }
   ],
   "source": [
    "! pip install selenium\n",
    "import selenium\n",
    "import pandas as pd\n",
    "import numpy as np\n",
    "!pip install webdriver-manager\n",
    "from selenium import webdriver\n",
    "from webdriver_manager.chrome import ChromeDriverManager\n",
    "from selenium.webdriver.common.keys import Keys \n",
    "from selenium.common.exceptions import ElementClickInterceptedException\n",
    "from selenium.common.exceptions import StaleElementReferenceException, NoSuchElementException\n",
    "import warnings\n",
    "warnings.filterwarnings('ignore')\n",
    "import time\n",
    "\n",
    "!pip install bs4\n",
    "!pip install requests\n",
    "\n",
    "from bs4 import BeautifulSoup\n",
    "import requests"
   ]
  },
  {
   "cell_type": "code",
   "execution_count": 89,
   "metadata": {},
   "outputs": [
    {
     "name": "stderr",
     "output_type": "stream",
     "text": [
      "[WDM] - ====== WebDriver manager ======\n",
      "[WDM] - Current google-chrome version is 88.0.4324\n",
      "[WDM] - Get LATEST driver version for 88.0.4324\n",
      "[WDM] - Driver [C:\\Users\\bhupe\\.wdm\\drivers\\chromedriver\\win32\\88.0.4324.96\\chromedriver.exe] found in cache\n"
     ]
    },
    {
     "name": "stdout",
     "output_type": "stream",
     "text": [
      "\n",
      "\n"
     ]
    }
   ],
   "source": [
    "driver=webdriver.Chrome(ChromeDriverManager().install())"
   ]
  },
  {
   "cell_type": "code",
   "execution_count": 90,
   "metadata": {},
   "outputs": [],
   "source": [
    "driver.get('https://www.bcci.tv/')"
   ]
  },
  {
   "cell_type": "code",
   "execution_count": 91,
   "metadata": {},
   "outputs": [],
   "source": [
    "button=driver.find_element_by_xpath('/html/body/div[3]/div/div[2]/div[2]/nav/ul/li[1]/div[2]')\n",
    "button.click()"
   ]
  },
  {
   "cell_type": "code",
   "execution_count": 92,
   "metadata": {},
   "outputs": [],
   "source": [
    "button1=driver.find_element_by_xpath('/html/body/div[3]/div/div[2]/div[2]/nav/ul/li[1]/div[2]/div/ul/li[1]')\n",
    "button1.click()"
   ]
  },
  {
   "cell_type": "code",
   "execution_count": 93,
   "metadata": {},
   "outputs": [],
   "source": [
    "Match_title=[]\n",
    "Series=[]\n",
    "Place=[]\n",
    "Date=[]\n",
    "Time=[]"
   ]
  },
  {
   "cell_type": "code",
   "execution_count": 94,
   "metadata": {},
   "outputs": [
    {
     "data": {
      "text/plain": [
       "[<selenium.webdriver.remote.webelement.WebElement (session=\"d8b443a519a9d1dbc68973acfebe3af5\", element=\"c314bdf2-e404-4db8-b9cd-3b82e3cd52a7\")>,\n",
       " <selenium.webdriver.remote.webelement.WebElement (session=\"d8b443a519a9d1dbc68973acfebe3af5\", element=\"eecbd530-de0c-4976-812c-e615442551ca\")>,\n",
       " <selenium.webdriver.remote.webelement.WebElement (session=\"d8b443a519a9d1dbc68973acfebe3af5\", element=\"f96a5fe7-890b-4542-a25d-fbca52d0f357\")>,\n",
       " <selenium.webdriver.remote.webelement.WebElement (session=\"d8b443a519a9d1dbc68973acfebe3af5\", element=\"3aa100f2-e67c-4265-bcc9-76af5b33f67a\")>]"
      ]
     },
     "execution_count": 94,
     "metadata": {},
     "output_type": "execute_result"
    }
   ],
   "source": [
    "match_tag=driver.find_elements_by_xpath('//p[@class=\"fixture__additional-info\"]/strong')\n",
    "match_tag[:4]"
   ]
  },
  {
   "cell_type": "code",
   "execution_count": 95,
   "metadata": {},
   "outputs": [],
   "source": [
    "try:\n",
    "    for i in match_tag:\n",
    "        match=i.text\n",
    "        Match_title.append(match)\n",
    "            \n",
    "except StaleElementReferenceException as e:\n",
    "    Match_title.append('-')"
   ]
  },
  {
   "cell_type": "code",
   "execution_count": 96,
   "metadata": {},
   "outputs": [
    {
     "data": {
      "text/plain": [
       "[<selenium.webdriver.remote.webelement.WebElement (session=\"d8b443a519a9d1dbc68973acfebe3af5\", element=\"898def02-8325-445c-96cc-44654bc68b46\")>,\n",
       " <selenium.webdriver.remote.webelement.WebElement (session=\"d8b443a519a9d1dbc68973acfebe3af5\", element=\"9305543b-a4e2-49b9-a893-4fab7caea331\")>,\n",
       " <selenium.webdriver.remote.webelement.WebElement (session=\"d8b443a519a9d1dbc68973acfebe3af5\", element=\"91d80b9f-6d4c-4017-ba83-2eed2980def0\")>,\n",
       " <selenium.webdriver.remote.webelement.WebElement (session=\"d8b443a519a9d1dbc68973acfebe3af5\", element=\"8e247ad8-ad67-4be8-a48b-83ea063f993b\")>]"
      ]
     },
     "execution_count": 96,
     "metadata": {},
     "output_type": "execute_result"
    }
   ],
   "source": [
    "series_tag=driver.find_elements_by_xpath('//span[@class=\"u-unskewed-text fixture__tournament-label u-truncated\"]')\n",
    "series_tag[:4]"
   ]
  },
  {
   "cell_type": "code",
   "execution_count": 97,
   "metadata": {},
   "outputs": [
    {
     "data": {
      "text/plain": [
       "['INDIA V ENGLAND 2021',\n",
       " 'INDIA V ENGLAND 2021',\n",
       " 'INDIA V ENGLAND 2021',\n",
       " 'INDIA V ENGLAND 2021']"
      ]
     },
     "execution_count": 97,
     "metadata": {},
     "output_type": "execute_result"
    }
   ],
   "source": [
    "for i in series_tag:\n",
    "    series=i.text\n",
    "    Series.append(series)\n",
    "    \n",
    "Series[:4] "
   ]
  },
  {
   "cell_type": "code",
   "execution_count": 98,
   "metadata": {},
   "outputs": [
    {
     "data": {
      "text/plain": [
       "[<selenium.webdriver.remote.webelement.WebElement (session=\"d8b443a519a9d1dbc68973acfebe3af5\", element=\"2953de60-ede0-4de4-8a25-6583b5564e00\")>,\n",
       " <selenium.webdriver.remote.webelement.WebElement (session=\"d8b443a519a9d1dbc68973acfebe3af5\", element=\"f297ec37-dbbc-48cd-b0c7-4313f16d50ca\")>,\n",
       " <selenium.webdriver.remote.webelement.WebElement (session=\"d8b443a519a9d1dbc68973acfebe3af5\", element=\"0629c18e-1e2a-4f12-8ff3-9840fdefe9d4\")>,\n",
       " <selenium.webdriver.remote.webelement.WebElement (session=\"d8b443a519a9d1dbc68973acfebe3af5\", element=\"41faf8b5-afb9-4c8d-b11f-bf427090e7c7\")>]"
      ]
     },
     "execution_count": 98,
     "metadata": {},
     "output_type": "execute_result"
    }
   ],
   "source": [
    "place_tag=driver.find_elements_by_xpath('//p[@class=\"fixture__additional-info\"]/span')\n",
    "place_tag[:4]"
   ]
  },
  {
   "cell_type": "code",
   "execution_count": 99,
   "metadata": {},
   "outputs": [
    {
     "data": {
      "text/plain": [
       "['Narendra Modi Stadium, Ahmedabad',\n",
       " 'Narendra Modi Stadium, Ahmedabad',\n",
       " 'Narendra Modi Stadium, Ahmedabad',\n",
       " 'Narendra Modi Stadium, Ahmedabad']"
      ]
     },
     "execution_count": 99,
     "metadata": {},
     "output_type": "execute_result"
    }
   ],
   "source": [
    "for i in place_tag:\n",
    "    place=i.text\n",
    "    Place.append(place)\n",
    "    \n",
    "Place[:4] "
   ]
  },
  {
   "cell_type": "code",
   "execution_count": 100,
   "metadata": {},
   "outputs": [
    {
     "data": {
      "text/plain": [
       "[<selenium.webdriver.remote.webelement.WebElement (session=\"d8b443a519a9d1dbc68973acfebe3af5\", element=\"cde1ad45-995d-4cfe-9201-ea3e7f5d3465\")>,\n",
       " <selenium.webdriver.remote.webelement.WebElement (session=\"d8b443a519a9d1dbc68973acfebe3af5\", element=\"5d525c5a-b653-429f-947c-236ca8d792d5\")>,\n",
       " <selenium.webdriver.remote.webelement.WebElement (session=\"d8b443a519a9d1dbc68973acfebe3af5\", element=\"8a66bc00-65e6-4bc3-908f-4566bbe2250f\")>,\n",
       " <selenium.webdriver.remote.webelement.WebElement (session=\"d8b443a519a9d1dbc68973acfebe3af5\", element=\"137cd710-8054-4519-8e01-5e04c2c5cb10\")>]"
      ]
     },
     "execution_count": 100,
     "metadata": {},
     "output_type": "execute_result"
    }
   ],
   "source": [
    "date_tag=driver.find_elements_by_xpath('//div[@class=\"fixture__full-date\"]/span')\n",
    "date_tag[:4]"
   ]
  },
  {
   "cell_type": "code",
   "execution_count": 101,
   "metadata": {},
   "outputs": [
    {
     "data": {
      "text/plain": [
       "['04', '12', '14', '16']"
      ]
     },
     "execution_count": 101,
     "metadata": {},
     "output_type": "execute_result"
    }
   ],
   "source": [
    "for i in date_tag:\n",
    "    date=i.text\n",
    "    Date.append(date)\n",
    "    \n",
    "Date[:4]"
   ]
  },
  {
   "cell_type": "code",
   "execution_count": 102,
   "metadata": {},
   "outputs": [
    {
     "data": {
      "text/plain": [
       "[<selenium.webdriver.remote.webelement.WebElement (session=\"d8b443a519a9d1dbc68973acfebe3af5\", element=\"bfdfbeb1-d85a-4af0-aad6-9a0f336f24fc\")>,\n",
       " <selenium.webdriver.remote.webelement.WebElement (session=\"d8b443a519a9d1dbc68973acfebe3af5\", element=\"01f32169-375f-406b-86d6-4ec754781552\")>,\n",
       " <selenium.webdriver.remote.webelement.WebElement (session=\"d8b443a519a9d1dbc68973acfebe3af5\", element=\"67d2ed7a-1653-4bec-a2c9-a639516bbf88\")>,\n",
       " <selenium.webdriver.remote.webelement.WebElement (session=\"d8b443a519a9d1dbc68973acfebe3af5\", element=\"1248f627-dc0b-491c-896b-81672acfb6e5\")>]"
      ]
     },
     "execution_count": 102,
     "metadata": {},
     "output_type": "execute_result"
    }
   ],
   "source": [
    "time_tag=driver.find_elements_by_xpath('//div[@class=\"fixture__date-details\"]/span[2]')\n",
    "time_tag[:4]"
   ]
  },
  {
   "cell_type": "code",
   "execution_count": 103,
   "metadata": {},
   "outputs": [
    {
     "data": {
      "text/plain": [
       "['09:30 IST', '19:00 IST', '19:00 IST', '19:00 IST']"
      ]
     },
     "execution_count": 103,
     "metadata": {},
     "output_type": "execute_result"
    }
   ],
   "source": [
    "for i in time_tag:\n",
    "    time=i.text\n",
    "    Time.append(time)\n",
    "    \n",
    "Time[:4]"
   ]
  },
  {
   "cell_type": "code",
   "execution_count": 104,
   "metadata": {},
   "outputs": [
    {
     "name": "stdout",
     "output_type": "stream",
     "text": [
      "14 14 14 14 14\n"
     ]
    }
   ],
   "source": [
    "print(len(Match_title),len(Series),len(Place),len(Date),len(Time))"
   ]
  },
  {
   "cell_type": "code",
   "execution_count": 105,
   "metadata": {},
   "outputs": [],
   "source": [
    "international_fixture=pd.DataFrame({})\n",
    "international_fixture['Match_title']=Match_title\n",
    "international_fixture['Series']=Series\n",
    "international_fixture['Place']=Place\n",
    "international_fixture['Date']=Date\n",
    "international_fixture['Time']=Time"
   ]
  },
  {
   "cell_type": "code",
   "execution_count": 106,
   "metadata": {},
   "outputs": [
    {
     "data": {
      "text/html": [
       "<div>\n",
       "<style scoped>\n",
       "    .dataframe tbody tr th:only-of-type {\n",
       "        vertical-align: middle;\n",
       "    }\n",
       "\n",
       "    .dataframe tbody tr th {\n",
       "        vertical-align: top;\n",
       "    }\n",
       "\n",
       "    .dataframe thead th {\n",
       "        text-align: right;\n",
       "    }\n",
       "</style>\n",
       "<table border=\"1\" class=\"dataframe\">\n",
       "  <thead>\n",
       "    <tr style=\"text-align: right;\">\n",
       "      <th></th>\n",
       "      <th>Match_title</th>\n",
       "      <th>Series</th>\n",
       "      <th>Place</th>\n",
       "      <th>Date</th>\n",
       "      <th>Time</th>\n",
       "    </tr>\n",
       "  </thead>\n",
       "  <tbody>\n",
       "    <tr>\n",
       "      <th>0</th>\n",
       "      <td>4th Test</td>\n",
       "      <td>INDIA V ENGLAND 2021</td>\n",
       "      <td>Narendra Modi Stadium, Ahmedabad</td>\n",
       "      <td>04</td>\n",
       "      <td>09:30 IST</td>\n",
       "    </tr>\n",
       "    <tr>\n",
       "      <th>1</th>\n",
       "      <td>1st T20I</td>\n",
       "      <td>INDIA V ENGLAND 2021</td>\n",
       "      <td>Narendra Modi Stadium, Ahmedabad</td>\n",
       "      <td>12</td>\n",
       "      <td>19:00 IST</td>\n",
       "    </tr>\n",
       "    <tr>\n",
       "      <th>2</th>\n",
       "      <td>2nd T20I</td>\n",
       "      <td>INDIA V ENGLAND 2021</td>\n",
       "      <td>Narendra Modi Stadium, Ahmedabad</td>\n",
       "      <td>14</td>\n",
       "      <td>19:00 IST</td>\n",
       "    </tr>\n",
       "    <tr>\n",
       "      <th>3</th>\n",
       "      <td>3rd T20I</td>\n",
       "      <td>INDIA V ENGLAND 2021</td>\n",
       "      <td>Narendra Modi Stadium, Ahmedabad</td>\n",
       "      <td>16</td>\n",
       "      <td>19:00 IST</td>\n",
       "    </tr>\n",
       "    <tr>\n",
       "      <th>4</th>\n",
       "      <td>4th T20I</td>\n",
       "      <td>INDIA V ENGLAND 2021</td>\n",
       "      <td>Narendra Modi Stadium, Ahmedabad</td>\n",
       "      <td>18</td>\n",
       "      <td>19:00 IST</td>\n",
       "    </tr>\n",
       "    <tr>\n",
       "      <th>5</th>\n",
       "      <td>5th T20I</td>\n",
       "      <td>INDIA V ENGLAND 2021</td>\n",
       "      <td>Narendra Modi Stadium, Ahmedabad</td>\n",
       "      <td>20</td>\n",
       "      <td>19:00 IST</td>\n",
       "    </tr>\n",
       "    <tr>\n",
       "      <th>6</th>\n",
       "      <td>1st ODI</td>\n",
       "      <td>INDIA V ENGLAND 2021</td>\n",
       "      <td>Maharashtra Cricket Association Stadium, Pune</td>\n",
       "      <td>23</td>\n",
       "      <td>13:30 IST</td>\n",
       "    </tr>\n",
       "    <tr>\n",
       "      <th>7</th>\n",
       "      <td>2nd ODI</td>\n",
       "      <td>INDIA V ENGLAND 2021</td>\n",
       "      <td>Maharashtra Cricket Association Stadium, Pune</td>\n",
       "      <td>26</td>\n",
       "      <td>13:30 IST</td>\n",
       "    </tr>\n",
       "    <tr>\n",
       "      <th>8</th>\n",
       "      <td>3rd ODI</td>\n",
       "      <td>INDIA V ENGLAND 2021</td>\n",
       "      <td>Maharashtra Cricket Association Stadium, Pune</td>\n",
       "      <td>28</td>\n",
       "      <td>13:30 IST</td>\n",
       "    </tr>\n",
       "    <tr>\n",
       "      <th>9</th>\n",
       "      <td>1st Test</td>\n",
       "      <td>ENGLAND V INDIA 2021</td>\n",
       "      <td>Trent Bridge, Nottingham</td>\n",
       "      <td>04</td>\n",
       "      <td>15:30 IST</td>\n",
       "    </tr>\n",
       "    <tr>\n",
       "      <th>10</th>\n",
       "      <td>2nd Test</td>\n",
       "      <td>ENGLAND V INDIA 2021</td>\n",
       "      <td>Lord's, London</td>\n",
       "      <td>12</td>\n",
       "      <td>15:30 IST</td>\n",
       "    </tr>\n",
       "    <tr>\n",
       "      <th>11</th>\n",
       "      <td>3rd Test</td>\n",
       "      <td>ENGLAND V INDIA 2021</td>\n",
       "      <td>Headingley, Leeds</td>\n",
       "      <td>25</td>\n",
       "      <td>15:30 IST</td>\n",
       "    </tr>\n",
       "    <tr>\n",
       "      <th>12</th>\n",
       "      <td>4th Test</td>\n",
       "      <td>ENGLAND V INDIA 2021</td>\n",
       "      <td>The Oval, London</td>\n",
       "      <td>02</td>\n",
       "      <td>15:30 IST</td>\n",
       "    </tr>\n",
       "    <tr>\n",
       "      <th>13</th>\n",
       "      <td>5th Test</td>\n",
       "      <td>ENGLAND V INDIA 2021</td>\n",
       "      <td>Old Trafford, Manchester</td>\n",
       "      <td>10</td>\n",
       "      <td>15:30 IST</td>\n",
       "    </tr>\n",
       "  </tbody>\n",
       "</table>\n",
       "</div>"
      ],
      "text/plain": [
       "   Match_title                Series  \\\n",
       "0     4th Test  INDIA V ENGLAND 2021   \n",
       "1     1st T20I  INDIA V ENGLAND 2021   \n",
       "2     2nd T20I  INDIA V ENGLAND 2021   \n",
       "3     3rd T20I  INDIA V ENGLAND 2021   \n",
       "4     4th T20I  INDIA V ENGLAND 2021   \n",
       "5     5th T20I  INDIA V ENGLAND 2021   \n",
       "6      1st ODI  INDIA V ENGLAND 2021   \n",
       "7      2nd ODI  INDIA V ENGLAND 2021   \n",
       "8      3rd ODI  INDIA V ENGLAND 2021   \n",
       "9     1st Test  ENGLAND V INDIA 2021   \n",
       "10    2nd Test  ENGLAND V INDIA 2021   \n",
       "11    3rd Test  ENGLAND V INDIA 2021   \n",
       "12    4th Test  ENGLAND V INDIA 2021   \n",
       "13    5th Test  ENGLAND V INDIA 2021   \n",
       "\n",
       "                                            Place Date       Time  \n",
       "0                Narendra Modi Stadium, Ahmedabad   04  09:30 IST  \n",
       "1                Narendra Modi Stadium, Ahmedabad   12  19:00 IST  \n",
       "2                Narendra Modi Stadium, Ahmedabad   14  19:00 IST  \n",
       "3                Narendra Modi Stadium, Ahmedabad   16  19:00 IST  \n",
       "4                Narendra Modi Stadium, Ahmedabad   18  19:00 IST  \n",
       "5                Narendra Modi Stadium, Ahmedabad   20  19:00 IST  \n",
       "6   Maharashtra Cricket Association Stadium, Pune   23  13:30 IST  \n",
       "7   Maharashtra Cricket Association Stadium, Pune   26  13:30 IST  \n",
       "8   Maharashtra Cricket Association Stadium, Pune   28  13:30 IST  \n",
       "9                        Trent Bridge, Nottingham   04  15:30 IST  \n",
       "10                                 Lord's, London   12  15:30 IST  \n",
       "11                              Headingley, Leeds   25  15:30 IST  \n",
       "12                               The Oval, London   02  15:30 IST  \n",
       "13                       Old Trafford, Manchester   10  15:30 IST  "
      ]
     },
     "execution_count": 106,
     "metadata": {},
     "output_type": "execute_result"
    }
   ],
   "source": [
    "international_fixture"
   ]
  },
  {
   "cell_type": "code",
   "execution_count": null,
   "metadata": {},
   "outputs": [],
   "source": []
  }
 ],
 "metadata": {
  "kernelspec": {
   "display_name": "Python 3",
   "language": "python",
   "name": "python3"
  },
  "language_info": {
   "codemirror_mode": {
    "name": "ipython",
    "version": 3
   },
   "file_extension": ".py",
   "mimetype": "text/x-python",
   "name": "python",
   "nbconvert_exporter": "python",
   "pygments_lexer": "ipython3",
   "version": "3.8.3"
  }
 },
 "nbformat": 4,
 "nbformat_minor": 4
}
